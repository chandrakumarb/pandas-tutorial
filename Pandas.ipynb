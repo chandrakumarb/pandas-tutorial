{
 "cells": [
  {
   "cell_type": "code",
   "execution_count": 1,
   "metadata": {},
   "outputs": [
    {
     "name": "stderr",
     "output_type": "stream",
     "text": [
      "/anaconda/envs/py35/lib/python3.5/importlib/_bootstrap.py:222: RuntimeWarning: numpy.dtype size changed, may indicate binary incompatibility. Expected 96, got 88\n",
      "  return f(*args, **kwds)\n",
      "/anaconda/envs/py35/lib/python3.5/importlib/_bootstrap.py:222: RuntimeWarning: numpy.dtype size changed, may indicate binary incompatibility. Expected 96, got 88\n",
      "  return f(*args, **kwds)\n"
     ]
    }
   ],
   "source": [
    "import pandas as pd\n",
    "import numpy as np"
   ]
  },
  {
   "cell_type": "markdown",
   "metadata": {},
   "source": [
    "# Read Data"
   ]
  },
  {
   "cell_type": "code",
   "execution_count": 2,
   "metadata": {},
   "outputs": [],
   "source": [
    "df = pd.DataFrame(np.arange(0,20).reshape(5,4), index=['Row1','Row2','Row3','Row4','Row5'], columns=['Col1','Col2','Col3','Col4'])"
   ]
  },
  {
   "cell_type": "code",
   "execution_count": 3,
   "metadata": {},
   "outputs": [
    {
     "data": {
      "text/html": [
       "<div>\n",
       "<style scoped>\n",
       "    .dataframe tbody tr th:only-of-type {\n",
       "        vertical-align: middle;\n",
       "    }\n",
       "\n",
       "    .dataframe tbody tr th {\n",
       "        vertical-align: top;\n",
       "    }\n",
       "\n",
       "    .dataframe thead th {\n",
       "        text-align: right;\n",
       "    }\n",
       "</style>\n",
       "<table border=\"1\" class=\"dataframe\">\n",
       "  <thead>\n",
       "    <tr style=\"text-align: right;\">\n",
       "      <th></th>\n",
       "      <th>Col1</th>\n",
       "      <th>Col2</th>\n",
       "      <th>Col3</th>\n",
       "      <th>Col4</th>\n",
       "    </tr>\n",
       "  </thead>\n",
       "  <tbody>\n",
       "    <tr>\n",
       "      <th>Row1</th>\n",
       "      <td>0</td>\n",
       "      <td>1</td>\n",
       "      <td>2</td>\n",
       "      <td>3</td>\n",
       "    </tr>\n",
       "    <tr>\n",
       "      <th>Row2</th>\n",
       "      <td>4</td>\n",
       "      <td>5</td>\n",
       "      <td>6</td>\n",
       "      <td>7</td>\n",
       "    </tr>\n",
       "    <tr>\n",
       "      <th>Row3</th>\n",
       "      <td>8</td>\n",
       "      <td>9</td>\n",
       "      <td>10</td>\n",
       "      <td>11</td>\n",
       "    </tr>\n",
       "    <tr>\n",
       "      <th>Row4</th>\n",
       "      <td>12</td>\n",
       "      <td>13</td>\n",
       "      <td>14</td>\n",
       "      <td>15</td>\n",
       "    </tr>\n",
       "    <tr>\n",
       "      <th>Row5</th>\n",
       "      <td>16</td>\n",
       "      <td>17</td>\n",
       "      <td>18</td>\n",
       "      <td>19</td>\n",
       "    </tr>\n",
       "  </tbody>\n",
       "</table>\n",
       "</div>"
      ],
      "text/plain": [
       "      Col1  Col2  Col3  Col4\n",
       "Row1     0     1     2     3\n",
       "Row2     4     5     6     7\n",
       "Row3     8     9    10    11\n",
       "Row4    12    13    14    15\n",
       "Row5    16    17    18    19"
      ]
     },
     "execution_count": 3,
     "metadata": {},
     "output_type": "execute_result"
    }
   ],
   "source": [
    "df.head()"
   ]
  },
  {
   "cell_type": "markdown",
   "metadata": {},
   "source": [
    "# Dataframe elements"
   ]
  },
  {
   "cell_type": "code",
   "execution_count": 6,
   "metadata": {},
   "outputs": [
    {
     "data": {
      "text/html": [
       "<div>\n",
       "<style scoped>\n",
       "    .dataframe tbody tr th:only-of-type {\n",
       "        vertical-align: middle;\n",
       "    }\n",
       "\n",
       "    .dataframe tbody tr th {\n",
       "        vertical-align: top;\n",
       "    }\n",
       "\n",
       "    .dataframe thead th {\n",
       "        text-align: right;\n",
       "    }\n",
       "</style>\n",
       "<table border=\"1\" class=\"dataframe\">\n",
       "  <thead>\n",
       "    <tr style=\"text-align: right;\">\n",
       "      <th></th>\n",
       "      <th>Col1</th>\n",
       "      <th>Col2</th>\n",
       "      <th>Col3</th>\n",
       "      <th>Col4</th>\n",
       "    </tr>\n",
       "  </thead>\n",
       "  <tbody>\n",
       "    <tr>\n",
       "      <th>count</th>\n",
       "      <td>5.000000</td>\n",
       "      <td>5.000000</td>\n",
       "      <td>5.000000</td>\n",
       "      <td>5.000000</td>\n",
       "    </tr>\n",
       "    <tr>\n",
       "      <th>mean</th>\n",
       "      <td>8.000000</td>\n",
       "      <td>9.000000</td>\n",
       "      <td>10.000000</td>\n",
       "      <td>11.000000</td>\n",
       "    </tr>\n",
       "    <tr>\n",
       "      <th>std</th>\n",
       "      <td>6.324555</td>\n",
       "      <td>6.324555</td>\n",
       "      <td>6.324555</td>\n",
       "      <td>6.324555</td>\n",
       "    </tr>\n",
       "    <tr>\n",
       "      <th>min</th>\n",
       "      <td>0.000000</td>\n",
       "      <td>1.000000</td>\n",
       "      <td>2.000000</td>\n",
       "      <td>3.000000</td>\n",
       "    </tr>\n",
       "    <tr>\n",
       "      <th>25%</th>\n",
       "      <td>4.000000</td>\n",
       "      <td>5.000000</td>\n",
       "      <td>6.000000</td>\n",
       "      <td>7.000000</td>\n",
       "    </tr>\n",
       "    <tr>\n",
       "      <th>50%</th>\n",
       "      <td>8.000000</td>\n",
       "      <td>9.000000</td>\n",
       "      <td>10.000000</td>\n",
       "      <td>11.000000</td>\n",
       "    </tr>\n",
       "    <tr>\n",
       "      <th>75%</th>\n",
       "      <td>12.000000</td>\n",
       "      <td>13.000000</td>\n",
       "      <td>14.000000</td>\n",
       "      <td>15.000000</td>\n",
       "    </tr>\n",
       "    <tr>\n",
       "      <th>max</th>\n",
       "      <td>16.000000</td>\n",
       "      <td>17.000000</td>\n",
       "      <td>18.000000</td>\n",
       "      <td>19.000000</td>\n",
       "    </tr>\n",
       "  </tbody>\n",
       "</table>\n",
       "</div>"
      ],
      "text/plain": [
       "            Col1       Col2       Col3       Col4\n",
       "count   5.000000   5.000000   5.000000   5.000000\n",
       "mean    8.000000   9.000000  10.000000  11.000000\n",
       "std     6.324555   6.324555   6.324555   6.324555\n",
       "min     0.000000   1.000000   2.000000   3.000000\n",
       "25%     4.000000   5.000000   6.000000   7.000000\n",
       "50%     8.000000   9.000000  10.000000  11.000000\n",
       "75%    12.000000  13.000000  14.000000  15.000000\n",
       "max    16.000000  17.000000  18.000000  19.000000"
      ]
     },
     "execution_count": 6,
     "metadata": {},
     "output_type": "execute_result"
    }
   ],
   "source": [
    "df.describe() "
   ]
  },
  {
   "cell_type": "code",
   "execution_count": 7,
   "metadata": {},
   "outputs": [
    {
     "name": "stdout",
     "output_type": "stream",
     "text": [
      "<class 'pandas.core.frame.DataFrame'>\n",
      "Index: 5 entries, Row1 to Row5\n",
      "Data columns (total 4 columns):\n",
      "Col1    5 non-null int64\n",
      "Col2    5 non-null int64\n",
      "Col3    5 non-null int64\n",
      "Col4    5 non-null int64\n",
      "dtypes: int64(4)\n",
      "memory usage: 200.0+ bytes\n"
     ]
    }
   ],
   "source": [
    "df.info()"
   ]
  },
  {
   "cell_type": "code",
   "execution_count": 122,
   "metadata": {},
   "outputs": [
    {
     "name": "stdout",
     "output_type": "stream",
     "text": [
      "<class 'pandas.core.frame.DataFrame'>\n",
      "RangeIndex: 5 entries, 0 to 4\n",
      "Data columns (total 3 columns):\n",
      "A    5 non-null object\n",
      "B    5 non-null int64\n",
      "C    5 non-null object\n",
      "dtypes: int64(1), object(2)\n",
      "memory usage: 200.0+ bytes\n"
     ]
    }
   ],
   "source": [
    "df = pd.DataFrame({\"A\":[\"sofia\", 5, 8, 11, 100], \n",
    "                   \"B\":[2, 8, 77, 4, 11], \n",
    "                   \"C\":[\"amy\", 11, 4, 6, 9]}) \n",
    "df.info()"
   ]
  },
  {
   "cell_type": "code",
   "execution_count": 124,
   "metadata": {},
   "outputs": [
    {
     "data": {
      "text/html": [
       "<div>\n",
       "<style scoped>\n",
       "    .dataframe tbody tr th:only-of-type {\n",
       "        vertical-align: middle;\n",
       "    }\n",
       "\n",
       "    .dataframe tbody tr th {\n",
       "        vertical-align: top;\n",
       "    }\n",
       "\n",
       "    .dataframe thead th {\n",
       "        text-align: right;\n",
       "    }\n",
       "</style>\n",
       "<table border=\"1\" class=\"dataframe\">\n",
       "  <thead>\n",
       "    <tr style=\"text-align: right;\">\n",
       "      <th></th>\n",
       "      <th>A</th>\n",
       "      <th>B</th>\n",
       "      <th>C</th>\n",
       "    </tr>\n",
       "  </thead>\n",
       "  <tbody>\n",
       "    <tr>\n",
       "      <th>0</th>\n",
       "      <td>sofia</td>\n",
       "      <td>2</td>\n",
       "      <td>amy</td>\n",
       "    </tr>\n",
       "    <tr>\n",
       "      <th>1</th>\n",
       "      <td>5</td>\n",
       "      <td>8</td>\n",
       "      <td>11</td>\n",
       "    </tr>\n",
       "    <tr>\n",
       "      <th>2</th>\n",
       "      <td>8</td>\n",
       "      <td>77</td>\n",
       "      <td>4</td>\n",
       "    </tr>\n",
       "    <tr>\n",
       "      <th>3</th>\n",
       "      <td>11</td>\n",
       "      <td>4</td>\n",
       "      <td>6</td>\n",
       "    </tr>\n",
       "    <tr>\n",
       "      <th>4</th>\n",
       "      <td>100</td>\n",
       "      <td>11</td>\n",
       "      <td>9</td>\n",
       "    </tr>\n",
       "  </tbody>\n",
       "</table>\n",
       "</div>"
      ],
      "text/plain": [
       "       A   B    C\n",
       "0  sofia   2  amy\n",
       "1      5   8   11\n",
       "2      8  77    4\n",
       "3     11   4    6\n",
       "4    100  11    9"
      ]
     },
     "execution_count": 124,
     "metadata": {},
     "output_type": "execute_result"
    }
   ],
   "source": [
    "df"
   ]
  },
  {
   "cell_type": "code",
   "execution_count": 125,
   "metadata": {},
   "outputs": [],
   "source": [
    "df_new = df[1:] "
   ]
  },
  {
   "cell_type": "code",
   "execution_count": 126,
   "metadata": {},
   "outputs": [
    {
     "name": "stdout",
     "output_type": "stream",
     "text": [
      "<class 'pandas.core.frame.DataFrame'>\n",
      "RangeIndex: 4 entries, 1 to 4\n",
      "Data columns (total 3 columns):\n",
      "A    4 non-null object\n",
      "B    4 non-null int64\n",
      "C    4 non-null object\n",
      "dtypes: int64(1), object(2)\n",
      "memory usage: 180.0+ bytes\n"
     ]
    }
   ],
   "source": [
    "df_new.info()"
   ]
  },
  {
   "cell_type": "code",
   "execution_count": 127,
   "metadata": {},
   "outputs": [
    {
     "name": "stdout",
     "output_type": "stream",
     "text": [
      "<class 'pandas.core.frame.DataFrame'>\n",
      "RangeIndex: 4 entries, 1 to 4\n",
      "Data columns (total 3 columns):\n",
      "A    4 non-null int64\n",
      "B    4 non-null int64\n",
      "C    4 non-null int64\n",
      "dtypes: int64(3)\n",
      "memory usage: 180.0 bytes\n"
     ]
    }
   ],
   "source": [
    "df_new.infer_objects().info()"
   ]
  },
  {
   "cell_type": "markdown",
   "metadata": {},
   "source": [
    "# Write to csv"
   ]
  },
  {
   "cell_type": "code",
   "execution_count": 5,
   "metadata": {},
   "outputs": [],
   "source": [
    "df.to_csv('Test1.csv')"
   ]
  },
  {
   "cell_type": "markdown",
   "metadata": {},
   "source": [
    "# Check Nulls"
   ]
  },
  {
   "cell_type": "code",
   "execution_count": 8,
   "metadata": {},
   "outputs": [
    {
     "data": {
      "text/plain": [
       "Col1    0\n",
       "Col2    0\n",
       "Col3    0\n",
       "Col4    0\n",
       "dtype: int64"
      ]
     },
     "execution_count": 8,
     "metadata": {},
     "output_type": "execute_result"
    }
   ],
   "source": [
    "df.isnull().sum()"
   ]
  },
  {
   "cell_type": "code",
   "execution_count": 128,
   "metadata": {},
   "outputs": [
    {
     "data": {
      "text/html": [
       "<div>\n",
       "<style scoped>\n",
       "    .dataframe tbody tr th:only-of-type {\n",
       "        vertical-align: middle;\n",
       "    }\n",
       "\n",
       "    .dataframe tbody tr th {\n",
       "        vertical-align: top;\n",
       "    }\n",
       "\n",
       "    .dataframe thead th {\n",
       "        text-align: right;\n",
       "    }\n",
       "</style>\n",
       "<table border=\"1\" class=\"dataframe\">\n",
       "  <thead>\n",
       "    <tr style=\"text-align: right;\">\n",
       "      <th></th>\n",
       "      <th>First Score</th>\n",
       "      <th>Second Score</th>\n",
       "      <th>Third Score</th>\n",
       "    </tr>\n",
       "  </thead>\n",
       "  <tbody>\n",
       "    <tr>\n",
       "      <th>0</th>\n",
       "      <td>True</td>\n",
       "      <td>True</td>\n",
       "      <td>False</td>\n",
       "    </tr>\n",
       "    <tr>\n",
       "      <th>1</th>\n",
       "      <td>True</td>\n",
       "      <td>True</td>\n",
       "      <td>True</td>\n",
       "    </tr>\n",
       "    <tr>\n",
       "      <th>2</th>\n",
       "      <td>False</td>\n",
       "      <td>True</td>\n",
       "      <td>True</td>\n",
       "    </tr>\n",
       "    <tr>\n",
       "      <th>3</th>\n",
       "      <td>True</td>\n",
       "      <td>False</td>\n",
       "      <td>True</td>\n",
       "    </tr>\n",
       "  </tbody>\n",
       "</table>\n",
       "</div>"
      ],
      "text/plain": [
       "   First Score  Second Score  Third Score\n",
       "0         True          True        False\n",
       "1         True          True         True\n",
       "2        False          True         True\n",
       "3         True         False         True"
      ]
     },
     "execution_count": 128,
     "metadata": {},
     "output_type": "execute_result"
    }
   ],
   "source": [
    "dict = {'First Score':[100, 90, np.nan, 95], \n",
    "        'Second Score': [30, 45, 56, np.nan], \n",
    "        'Third Score':[np.nan, 40, 80, 98]} \n",
    "df = pd.DataFrame(dict) \n",
    "df.notnull() "
   ]
  },
  {
   "cell_type": "code",
   "execution_count": 129,
   "metadata": {},
   "outputs": [
    {
     "data": {
      "text/html": [
       "<div>\n",
       "<style scoped>\n",
       "    .dataframe tbody tr th:only-of-type {\n",
       "        vertical-align: middle;\n",
       "    }\n",
       "\n",
       "    .dataframe tbody tr th {\n",
       "        vertical-align: top;\n",
       "    }\n",
       "\n",
       "    .dataframe thead th {\n",
       "        text-align: right;\n",
       "    }\n",
       "</style>\n",
       "<table border=\"1\" class=\"dataframe\">\n",
       "  <thead>\n",
       "    <tr style=\"text-align: right;\">\n",
       "      <th></th>\n",
       "      <th>First Score</th>\n",
       "      <th>Second Score</th>\n",
       "      <th>Third Score</th>\n",
       "    </tr>\n",
       "  </thead>\n",
       "  <tbody>\n",
       "    <tr>\n",
       "      <th>0</th>\n",
       "      <td>100.0</td>\n",
       "      <td>30.0</td>\n",
       "      <td>NaN</td>\n",
       "    </tr>\n",
       "    <tr>\n",
       "      <th>1</th>\n",
       "      <td>90.0</td>\n",
       "      <td>45.0</td>\n",
       "      <td>40.0</td>\n",
       "    </tr>\n",
       "    <tr>\n",
       "      <th>3</th>\n",
       "      <td>95.0</td>\n",
       "      <td>NaN</td>\n",
       "      <td>98.0</td>\n",
       "    </tr>\n",
       "  </tbody>\n",
       "</table>\n",
       "</div>"
      ],
      "text/plain": [
       "   First Score  Second Score  Third Score\n",
       "0        100.0          30.0          NaN\n",
       "1         90.0          45.0         40.0\n",
       "3         95.0           NaN         98.0"
      ]
     },
     "execution_count": 129,
     "metadata": {},
     "output_type": "execute_result"
    }
   ],
   "source": [
    "# Access not nulls\n",
    "bool_series = pd.notnull(df[\"First Score\"])\n",
    "df[bool_series]"
   ]
  },
  {
   "cell_type": "code",
   "execution_count": 130,
   "metadata": {},
   "outputs": [
    {
     "data": {
      "text/html": [
       "<div>\n",
       "<style scoped>\n",
       "    .dataframe tbody tr th:only-of-type {\n",
       "        vertical-align: middle;\n",
       "    }\n",
       "\n",
       "    .dataframe tbody tr th {\n",
       "        vertical-align: top;\n",
       "    }\n",
       "\n",
       "    .dataframe thead th {\n",
       "        text-align: right;\n",
       "    }\n",
       "</style>\n",
       "<table border=\"1\" class=\"dataframe\">\n",
       "  <thead>\n",
       "    <tr style=\"text-align: right;\">\n",
       "      <th></th>\n",
       "      <th>First Score</th>\n",
       "      <th>Second Score</th>\n",
       "      <th>Third Score</th>\n",
       "    </tr>\n",
       "  </thead>\n",
       "  <tbody>\n",
       "    <tr>\n",
       "      <th>0</th>\n",
       "      <td>100.0</td>\n",
       "      <td>30.0</td>\n",
       "      <td>NaN</td>\n",
       "    </tr>\n",
       "    <tr>\n",
       "      <th>1</th>\n",
       "      <td>90.0</td>\n",
       "      <td>45.0</td>\n",
       "      <td>40.0</td>\n",
       "    </tr>\n",
       "    <tr>\n",
       "      <th>2</th>\n",
       "      <td>90.0</td>\n",
       "      <td>56.0</td>\n",
       "      <td>80.0</td>\n",
       "    </tr>\n",
       "    <tr>\n",
       "      <th>3</th>\n",
       "      <td>95.0</td>\n",
       "      <td>56.0</td>\n",
       "      <td>98.0</td>\n",
       "    </tr>\n",
       "  </tbody>\n",
       "</table>\n",
       "</div>"
      ],
      "text/plain": [
       "   First Score  Second Score  Third Score\n",
       "0        100.0          30.0          NaN\n",
       "1         90.0          45.0         40.0\n",
       "2         90.0          56.0         80.0\n",
       "3         95.0          56.0         98.0"
      ]
     },
     "execution_count": 130,
     "metadata": {},
     "output_type": "execute_result"
    }
   ],
   "source": [
    "# filling null value with previous ones   \n",
    "df.fillna(method ='pad') \n",
    "#add attribute inplace=True if want to change the dataframe,like -\n",
    "# df.fillna(method ='pad', inplace=True)"
   ]
  },
  {
   "cell_type": "code",
   "execution_count": 131,
   "metadata": {},
   "outputs": [
    {
     "data": {
      "text/html": [
       "<div>\n",
       "<style scoped>\n",
       "    .dataframe tbody tr th:only-of-type {\n",
       "        vertical-align: middle;\n",
       "    }\n",
       "\n",
       "    .dataframe tbody tr th {\n",
       "        vertical-align: top;\n",
       "    }\n",
       "\n",
       "    .dataframe thead th {\n",
       "        text-align: right;\n",
       "    }\n",
       "</style>\n",
       "<table border=\"1\" class=\"dataframe\">\n",
       "  <thead>\n",
       "    <tr style=\"text-align: right;\">\n",
       "      <th></th>\n",
       "      <th>First Score</th>\n",
       "      <th>Second Score</th>\n",
       "      <th>Third Score</th>\n",
       "    </tr>\n",
       "  </thead>\n",
       "  <tbody>\n",
       "    <tr>\n",
       "      <th>0</th>\n",
       "      <td>100.0</td>\n",
       "      <td>30.0</td>\n",
       "      <td>40.0</td>\n",
       "    </tr>\n",
       "    <tr>\n",
       "      <th>1</th>\n",
       "      <td>90.0</td>\n",
       "      <td>45.0</td>\n",
       "      <td>40.0</td>\n",
       "    </tr>\n",
       "    <tr>\n",
       "      <th>2</th>\n",
       "      <td>95.0</td>\n",
       "      <td>56.0</td>\n",
       "      <td>80.0</td>\n",
       "    </tr>\n",
       "    <tr>\n",
       "      <th>3</th>\n",
       "      <td>95.0</td>\n",
       "      <td>NaN</td>\n",
       "      <td>98.0</td>\n",
       "    </tr>\n",
       "  </tbody>\n",
       "</table>\n",
       "</div>"
      ],
      "text/plain": [
       "   First Score  Second Score  Third Score\n",
       "0        100.0          30.0         40.0\n",
       "1         90.0          45.0         40.0\n",
       "2         95.0          56.0         80.0\n",
       "3         95.0           NaN         98.0"
      ]
     },
     "execution_count": 131,
     "metadata": {},
     "output_type": "execute_result"
    }
   ],
   "source": [
    "# filling null value with the next ones   \n",
    "df.fillna(method ='bfill') "
   ]
  },
  {
   "cell_type": "code",
   "execution_count": 132,
   "metadata": {},
   "outputs": [
    {
     "data": {
      "text/html": [
       "<div>\n",
       "<style scoped>\n",
       "    .dataframe tbody tr th:only-of-type {\n",
       "        vertical-align: middle;\n",
       "    }\n",
       "\n",
       "    .dataframe tbody tr th {\n",
       "        vertical-align: top;\n",
       "    }\n",
       "\n",
       "    .dataframe thead th {\n",
       "        text-align: right;\n",
       "    }\n",
       "</style>\n",
       "<table border=\"1\" class=\"dataframe\">\n",
       "  <thead>\n",
       "    <tr style=\"text-align: right;\">\n",
       "      <th></th>\n",
       "      <th>First Score</th>\n",
       "      <th>Second Score</th>\n",
       "      <th>Third Score</th>\n",
       "    </tr>\n",
       "  </thead>\n",
       "  <tbody>\n",
       "    <tr>\n",
       "      <th>0</th>\n",
       "      <td>100.0</td>\n",
       "      <td>30.0</td>\n",
       "      <td>99.0</td>\n",
       "    </tr>\n",
       "    <tr>\n",
       "      <th>1</th>\n",
       "      <td>90.0</td>\n",
       "      <td>45.0</td>\n",
       "      <td>40.0</td>\n",
       "    </tr>\n",
       "    <tr>\n",
       "      <th>2</th>\n",
       "      <td>99.0</td>\n",
       "      <td>56.0</td>\n",
       "      <td>80.0</td>\n",
       "    </tr>\n",
       "    <tr>\n",
       "      <th>3</th>\n",
       "      <td>95.0</td>\n",
       "      <td>99.0</td>\n",
       "      <td>98.0</td>\n",
       "    </tr>\n",
       "  </tbody>\n",
       "</table>\n",
       "</div>"
      ],
      "text/plain": [
       "   First Score  Second Score  Third Score\n",
       "0        100.0          30.0         99.0\n",
       "1         90.0          45.0         40.0\n",
       "2         99.0          56.0         80.0\n",
       "3         95.0          99.0         98.0"
      ]
     },
     "execution_count": 132,
     "metadata": {},
     "output_type": "execute_result"
    }
   ],
   "source": [
    "# replcae null values\n",
    "df.replace(to_replace = np.nan, value = 99)"
   ]
  },
  {
   "cell_type": "code",
   "execution_count": 133,
   "metadata": {},
   "outputs": [
    {
     "data": {
      "text/html": [
       "<div>\n",
       "<style scoped>\n",
       "    .dataframe tbody tr th:only-of-type {\n",
       "        vertical-align: middle;\n",
       "    }\n",
       "\n",
       "    .dataframe tbody tr th {\n",
       "        vertical-align: top;\n",
       "    }\n",
       "\n",
       "    .dataframe thead th {\n",
       "        text-align: right;\n",
       "    }\n",
       "</style>\n",
       "<table border=\"1\" class=\"dataframe\">\n",
       "  <thead>\n",
       "    <tr style=\"text-align: right;\">\n",
       "      <th></th>\n",
       "      <th>First Score</th>\n",
       "      <th>Second Score</th>\n",
       "      <th>Third Score</th>\n",
       "    </tr>\n",
       "  </thead>\n",
       "  <tbody>\n",
       "    <tr>\n",
       "      <th>0</th>\n",
       "      <td>False</td>\n",
       "      <td>False</td>\n",
       "      <td>True</td>\n",
       "    </tr>\n",
       "    <tr>\n",
       "      <th>1</th>\n",
       "      <td>False</td>\n",
       "      <td>False</td>\n",
       "      <td>False</td>\n",
       "    </tr>\n",
       "    <tr>\n",
       "      <th>2</th>\n",
       "      <td>True</td>\n",
       "      <td>False</td>\n",
       "      <td>False</td>\n",
       "    </tr>\n",
       "    <tr>\n",
       "      <th>3</th>\n",
       "      <td>False</td>\n",
       "      <td>True</td>\n",
       "      <td>False</td>\n",
       "    </tr>\n",
       "  </tbody>\n",
       "</table>\n",
       "</div>"
      ],
      "text/plain": [
       "   First Score  Second Score  Third Score\n",
       "0        False         False         True\n",
       "1        False         False        False\n",
       "2         True         False        False\n",
       "3        False          True        False"
      ]
     },
     "execution_count": 133,
     "metadata": {},
     "output_type": "execute_result"
    }
   ],
   "source": [
    "dict = {'First Score':[100, 90, np.nan, 95], \n",
    "        'Second Score': [30, 45, 56, np.nan], \n",
    "        'Third Score':[np.nan, 40, 80, 98]} \n",
    "df = pd.DataFrame(dict) \n",
    "df.isna() "
   ]
  },
  {
   "cell_type": "code",
   "execution_count": 134,
   "metadata": {},
   "outputs": [
    {
     "data": {
      "text/html": [
       "<div>\n",
       "<style scoped>\n",
       "    .dataframe tbody tr th:only-of-type {\n",
       "        vertical-align: middle;\n",
       "    }\n",
       "\n",
       "    .dataframe tbody tr th {\n",
       "        vertical-align: top;\n",
       "    }\n",
       "\n",
       "    .dataframe thead th {\n",
       "        text-align: right;\n",
       "    }\n",
       "</style>\n",
       "<table border=\"1\" class=\"dataframe\">\n",
       "  <thead>\n",
       "    <tr style=\"text-align: right;\">\n",
       "      <th></th>\n",
       "      <th>First Score</th>\n",
       "      <th>Second Score</th>\n",
       "      <th>Third Score</th>\n",
       "    </tr>\n",
       "  </thead>\n",
       "  <tbody>\n",
       "    <tr>\n",
       "      <th>0</th>\n",
       "      <td>True</td>\n",
       "      <td>True</td>\n",
       "      <td>False</td>\n",
       "    </tr>\n",
       "    <tr>\n",
       "      <th>1</th>\n",
       "      <td>True</td>\n",
       "      <td>True</td>\n",
       "      <td>True</td>\n",
       "    </tr>\n",
       "    <tr>\n",
       "      <th>2</th>\n",
       "      <td>False</td>\n",
       "      <td>True</td>\n",
       "      <td>True</td>\n",
       "    </tr>\n",
       "    <tr>\n",
       "      <th>3</th>\n",
       "      <td>True</td>\n",
       "      <td>False</td>\n",
       "      <td>True</td>\n",
       "    </tr>\n",
       "  </tbody>\n",
       "</table>\n",
       "</div>"
      ],
      "text/plain": [
       "   First Score  Second Score  Third Score\n",
       "0         True          True        False\n",
       "1         True          True         True\n",
       "2        False          True         True\n",
       "3         True         False         True"
      ]
     },
     "execution_count": 134,
     "metadata": {},
     "output_type": "execute_result"
    }
   ],
   "source": [
    "df.notna()"
   ]
  },
  {
   "cell_type": "markdown",
   "metadata": {},
   "source": [
    "# Drop nulls"
   ]
  },
  {
   "cell_type": "code",
   "execution_count": 14,
   "metadata": {},
   "outputs": [
    {
     "data": {
      "text/html": [
       "<div>\n",
       "<style scoped>\n",
       "    .dataframe tbody tr th:only-of-type {\n",
       "        vertical-align: middle;\n",
       "    }\n",
       "\n",
       "    .dataframe tbody tr th {\n",
       "        vertical-align: top;\n",
       "    }\n",
       "\n",
       "    .dataframe thead th {\n",
       "        text-align: right;\n",
       "    }\n",
       "</style>\n",
       "<table border=\"1\" class=\"dataframe\">\n",
       "  <thead>\n",
       "    <tr style=\"text-align: right;\">\n",
       "      <th></th>\n",
       "      <th>First Score</th>\n",
       "      <th>Fourth Score</th>\n",
       "      <th>Second Score</th>\n",
       "      <th>Third Score</th>\n",
       "    </tr>\n",
       "  </thead>\n",
       "  <tbody>\n",
       "    <tr>\n",
       "      <th>0</th>\n",
       "      <td>100.0</td>\n",
       "      <td>NaN</td>\n",
       "      <td>30.0</td>\n",
       "      <td>52.0</td>\n",
       "    </tr>\n",
       "    <tr>\n",
       "      <th>1</th>\n",
       "      <td>NaN</td>\n",
       "      <td>NaN</td>\n",
       "      <td>NaN</td>\n",
       "      <td>NaN</td>\n",
       "    </tr>\n",
       "    <tr>\n",
       "      <th>2</th>\n",
       "      <td>NaN</td>\n",
       "      <td>NaN</td>\n",
       "      <td>45.0</td>\n",
       "      <td>80.0</td>\n",
       "    </tr>\n",
       "    <tr>\n",
       "      <th>3</th>\n",
       "      <td>95.0</td>\n",
       "      <td>65.0</td>\n",
       "      <td>56.0</td>\n",
       "      <td>98.0</td>\n",
       "    </tr>\n",
       "  </tbody>\n",
       "</table>\n",
       "</div>"
      ],
      "text/plain": [
       "   First Score  Fourth Score  Second Score  Third Score\n",
       "0        100.0           NaN          30.0         52.0\n",
       "1          NaN           NaN           NaN          NaN\n",
       "2          NaN           NaN          45.0         80.0\n",
       "3         95.0          65.0          56.0         98.0"
      ]
     },
     "execution_count": 14,
     "metadata": {},
     "output_type": "execute_result"
    }
   ],
   "source": [
    "dict = {'First Score':[100, np.nan, np.nan, 95], \n",
    "        'Second Score': [30, np.nan, 45, 56], \n",
    "        'Third Score':[52, np.nan, 80, 98], \n",
    "        'Fourth Score':[np.nan, np.nan, np.nan, 65]} \n",
    "df = pd.DataFrame(dict) \n",
    "df"
   ]
  },
  {
   "cell_type": "code",
   "execution_count": 15,
   "metadata": {},
   "outputs": [
    {
     "data": {
      "text/html": [
       "<div>\n",
       "<style scoped>\n",
       "    .dataframe tbody tr th:only-of-type {\n",
       "        vertical-align: middle;\n",
       "    }\n",
       "\n",
       "    .dataframe tbody tr th {\n",
       "        vertical-align: top;\n",
       "    }\n",
       "\n",
       "    .dataframe thead th {\n",
       "        text-align: right;\n",
       "    }\n",
       "</style>\n",
       "<table border=\"1\" class=\"dataframe\">\n",
       "  <thead>\n",
       "    <tr style=\"text-align: right;\">\n",
       "      <th></th>\n",
       "      <th>First Score</th>\n",
       "      <th>Fourth Score</th>\n",
       "      <th>Second Score</th>\n",
       "      <th>Third Score</th>\n",
       "    </tr>\n",
       "  </thead>\n",
       "  <tbody>\n",
       "    <tr>\n",
       "      <th>0</th>\n",
       "      <td>100.0</td>\n",
       "      <td>NaN</td>\n",
       "      <td>30.0</td>\n",
       "      <td>52.0</td>\n",
       "    </tr>\n",
       "    <tr>\n",
       "      <th>2</th>\n",
       "      <td>NaN</td>\n",
       "      <td>NaN</td>\n",
       "      <td>45.0</td>\n",
       "      <td>80.0</td>\n",
       "    </tr>\n",
       "    <tr>\n",
       "      <th>3</th>\n",
       "      <td>95.0</td>\n",
       "      <td>65.0</td>\n",
       "      <td>56.0</td>\n",
       "      <td>98.0</td>\n",
       "    </tr>\n",
       "  </tbody>\n",
       "</table>\n",
       "</div>"
      ],
      "text/plain": [
       "   First Score  Fourth Score  Second Score  Third Score\n",
       "0        100.0           NaN          30.0         52.0\n",
       "2          NaN           NaN          45.0         80.0\n",
       "3         95.0          65.0          56.0         98.0"
      ]
     },
     "execution_count": 15,
     "metadata": {},
     "output_type": "execute_result"
    }
   ],
   "source": [
    "# Drop row with all nulls\n",
    "df.dropna(how = 'all') "
   ]
  },
  {
   "cell_type": "code",
   "execution_count": 16,
   "metadata": {},
   "outputs": [
    {
     "data": {
      "text/html": [
       "<div>\n",
       "<style scoped>\n",
       "    .dataframe tbody tr th:only-of-type {\n",
       "        vertical-align: middle;\n",
       "    }\n",
       "\n",
       "    .dataframe tbody tr th {\n",
       "        vertical-align: top;\n",
       "    }\n",
       "\n",
       "    .dataframe thead th {\n",
       "        text-align: right;\n",
       "    }\n",
       "</style>\n",
       "<table border=\"1\" class=\"dataframe\">\n",
       "  <thead>\n",
       "    <tr style=\"text-align: right;\">\n",
       "      <th></th>\n",
       "      <th>First Score</th>\n",
       "      <th>Fourth Score</th>\n",
       "      <th>Second Score</th>\n",
       "      <th>Third Score</th>\n",
       "    </tr>\n",
       "  </thead>\n",
       "  <tbody>\n",
       "    <tr>\n",
       "      <th>0</th>\n",
       "      <td>100</td>\n",
       "      <td>NaN</td>\n",
       "      <td>30.0</td>\n",
       "      <td>52.0</td>\n",
       "    </tr>\n",
       "    <tr>\n",
       "      <th>1</th>\n",
       "      <td>10</td>\n",
       "      <td>NaN</td>\n",
       "      <td>NaN</td>\n",
       "      <td>NaN</td>\n",
       "    </tr>\n",
       "    <tr>\n",
       "      <th>2</th>\n",
       "      <td>40</td>\n",
       "      <td>NaN</td>\n",
       "      <td>45.0</td>\n",
       "      <td>80.0</td>\n",
       "    </tr>\n",
       "    <tr>\n",
       "      <th>3</th>\n",
       "      <td>95</td>\n",
       "      <td>65.0</td>\n",
       "      <td>56.0</td>\n",
       "      <td>98.0</td>\n",
       "    </tr>\n",
       "  </tbody>\n",
       "</table>\n",
       "</div>"
      ],
      "text/plain": [
       "   First Score  Fourth Score  Second Score  Third Score\n",
       "0          100           NaN          30.0         52.0\n",
       "1           10           NaN           NaN          NaN\n",
       "2           40           NaN          45.0         80.0\n",
       "3           95          65.0          56.0         98.0"
      ]
     },
     "execution_count": 16,
     "metadata": {},
     "output_type": "execute_result"
    }
   ],
   "source": [
    "dict = {'First Score':[100, 10, 40, 95], \n",
    "        'Second Score': [30, np.nan, 45, 56], \n",
    "        'Third Score':[52, np.nan, 80, 98], \n",
    "        'Fourth Score':[np.nan, np.nan, np.nan, 65]} \n",
    "df = pd.DataFrame(dict)    \n",
    "df "
   ]
  },
  {
   "cell_type": "code",
   "execution_count": 17,
   "metadata": {},
   "outputs": [
    {
     "data": {
      "text/html": [
       "<div>\n",
       "<style scoped>\n",
       "    .dataframe tbody tr th:only-of-type {\n",
       "        vertical-align: middle;\n",
       "    }\n",
       "\n",
       "    .dataframe tbody tr th {\n",
       "        vertical-align: top;\n",
       "    }\n",
       "\n",
       "    .dataframe thead th {\n",
       "        text-align: right;\n",
       "    }\n",
       "</style>\n",
       "<table border=\"1\" class=\"dataframe\">\n",
       "  <thead>\n",
       "    <tr style=\"text-align: right;\">\n",
       "      <th></th>\n",
       "      <th>First Score</th>\n",
       "    </tr>\n",
       "  </thead>\n",
       "  <tbody>\n",
       "    <tr>\n",
       "      <th>0</th>\n",
       "      <td>100</td>\n",
       "    </tr>\n",
       "    <tr>\n",
       "      <th>1</th>\n",
       "      <td>10</td>\n",
       "    </tr>\n",
       "    <tr>\n",
       "      <th>2</th>\n",
       "      <td>40</td>\n",
       "    </tr>\n",
       "    <tr>\n",
       "      <th>3</th>\n",
       "      <td>95</td>\n",
       "    </tr>\n",
       "  </tbody>\n",
       "</table>\n",
       "</div>"
      ],
      "text/plain": [
       "   First Score\n",
       "0          100\n",
       "1           10\n",
       "2           40\n",
       "3           95"
      ]
     },
     "execution_count": 17,
     "metadata": {},
     "output_type": "execute_result"
    }
   ],
   "source": [
    "# Drop all null columns\n",
    "df.dropna(axis = 1) "
   ]
  },
  {
   "cell_type": "code",
   "execution_count": 18,
   "metadata": {},
   "outputs": [
    {
     "data": {
      "text/html": [
       "<div>\n",
       "<style scoped>\n",
       "    .dataframe tbody tr th:only-of-type {\n",
       "        vertical-align: middle;\n",
       "    }\n",
       "\n",
       "    .dataframe tbody tr th {\n",
       "        vertical-align: top;\n",
       "    }\n",
       "\n",
       "    .dataframe thead th {\n",
       "        text-align: right;\n",
       "    }\n",
       "</style>\n",
       "<table border=\"1\" class=\"dataframe\">\n",
       "  <thead>\n",
       "    <tr style=\"text-align: right;\">\n",
       "      <th></th>\n",
       "      <th>First Score</th>\n",
       "      <th>Fourth Score</th>\n",
       "      <th>Second Score</th>\n",
       "      <th>Third Score</th>\n",
       "    </tr>\n",
       "  </thead>\n",
       "  <tbody>\n",
       "    <tr>\n",
       "      <th>3</th>\n",
       "      <td>95</td>\n",
       "      <td>65.0</td>\n",
       "      <td>56.0</td>\n",
       "      <td>98.0</td>\n",
       "    </tr>\n",
       "  </tbody>\n",
       "</table>\n",
       "</div>"
      ],
      "text/plain": [
       "   First Score  Fourth Score  Second Score  Third Score\n",
       "3           95          65.0          56.0         98.0"
      ]
     },
     "execution_count": 18,
     "metadata": {},
     "output_type": "execute_result"
    }
   ],
   "source": [
    "# Drop rows with any nulls\n",
    "df.dropna(axis = 0, how ='any') "
   ]
  },
  {
   "cell_type": "code",
   "execution_count": 19,
   "metadata": {},
   "outputs": [
    {
     "data": {
      "text/html": [
       "<div>\n",
       "<style scoped>\n",
       "    .dataframe tbody tr th:only-of-type {\n",
       "        vertical-align: middle;\n",
       "    }\n",
       "\n",
       "    .dataframe tbody tr th {\n",
       "        vertical-align: top;\n",
       "    }\n",
       "\n",
       "    .dataframe thead th {\n",
       "        text-align: right;\n",
       "    }\n",
       "</style>\n",
       "<table border=\"1\" class=\"dataframe\">\n",
       "  <thead>\n",
       "    <tr style=\"text-align: right;\">\n",
       "      <th></th>\n",
       "      <th>A</th>\n",
       "      <th>B</th>\n",
       "      <th>C</th>\n",
       "      <th>D</th>\n",
       "    </tr>\n",
       "  </thead>\n",
       "  <tbody>\n",
       "    <tr>\n",
       "      <th>0</th>\n",
       "      <td>12.0</td>\n",
       "      <td>NaN</td>\n",
       "      <td>20.0</td>\n",
       "      <td>14.0</td>\n",
       "    </tr>\n",
       "    <tr>\n",
       "      <th>1</th>\n",
       "      <td>4.0</td>\n",
       "      <td>2.0</td>\n",
       "      <td>16.0</td>\n",
       "      <td>3.0</td>\n",
       "    </tr>\n",
       "    <tr>\n",
       "      <th>2</th>\n",
       "      <td>5.0</td>\n",
       "      <td>54.0</td>\n",
       "      <td>NaN</td>\n",
       "      <td>NaN</td>\n",
       "    </tr>\n",
       "    <tr>\n",
       "      <th>3</th>\n",
       "      <td>NaN</td>\n",
       "      <td>3.0</td>\n",
       "      <td>3.0</td>\n",
       "      <td>NaN</td>\n",
       "    </tr>\n",
       "    <tr>\n",
       "      <th>4</th>\n",
       "      <td>1.0</td>\n",
       "      <td>NaN</td>\n",
       "      <td>8.0</td>\n",
       "      <td>6.0</td>\n",
       "    </tr>\n",
       "  </tbody>\n",
       "</table>\n",
       "</div>"
      ],
      "text/plain": [
       "      A     B     C     D\n",
       "0  12.0   NaN  20.0  14.0\n",
       "1   4.0   2.0  16.0   3.0\n",
       "2   5.0  54.0   NaN   NaN\n",
       "3   NaN   3.0   3.0   NaN\n",
       "4   1.0   NaN   8.0   6.0"
      ]
     },
     "execution_count": 19,
     "metadata": {},
     "output_type": "execute_result"
    }
   ],
   "source": [
    "# Interpolate\n",
    "\n",
    "df = pd.DataFrame({\"A\":[12, 4, 5, None, 1],  \n",
    "                   \"B\":[None, 2, 54, 3, None],  \n",
    "                   \"C\":[20, 16, None, 3, 8],  \n",
    "                   \"D\":[14, 3, None, None, 6]})  \n",
    "df  "
   ]
  },
  {
   "cell_type": "code",
   "execution_count": 20,
   "metadata": {},
   "outputs": [
    {
     "data": {
      "text/html": [
       "<div>\n",
       "<style scoped>\n",
       "    .dataframe tbody tr th:only-of-type {\n",
       "        vertical-align: middle;\n",
       "    }\n",
       "\n",
       "    .dataframe tbody tr th {\n",
       "        vertical-align: top;\n",
       "    }\n",
       "\n",
       "    .dataframe thead th {\n",
       "        text-align: right;\n",
       "    }\n",
       "</style>\n",
       "<table border=\"1\" class=\"dataframe\">\n",
       "  <thead>\n",
       "    <tr style=\"text-align: right;\">\n",
       "      <th></th>\n",
       "      <th>A</th>\n",
       "      <th>B</th>\n",
       "      <th>C</th>\n",
       "      <th>D</th>\n",
       "    </tr>\n",
       "  </thead>\n",
       "  <tbody>\n",
       "    <tr>\n",
       "      <th>0</th>\n",
       "      <td>12.0</td>\n",
       "      <td>NaN</td>\n",
       "      <td>20.0</td>\n",
       "      <td>14.0</td>\n",
       "    </tr>\n",
       "    <tr>\n",
       "      <th>1</th>\n",
       "      <td>4.0</td>\n",
       "      <td>2.0</td>\n",
       "      <td>16.0</td>\n",
       "      <td>3.0</td>\n",
       "    </tr>\n",
       "    <tr>\n",
       "      <th>2</th>\n",
       "      <td>5.0</td>\n",
       "      <td>54.0</td>\n",
       "      <td>9.5</td>\n",
       "      <td>4.0</td>\n",
       "    </tr>\n",
       "    <tr>\n",
       "      <th>3</th>\n",
       "      <td>3.0</td>\n",
       "      <td>3.0</td>\n",
       "      <td>3.0</td>\n",
       "      <td>5.0</td>\n",
       "    </tr>\n",
       "    <tr>\n",
       "      <th>4</th>\n",
       "      <td>1.0</td>\n",
       "      <td>3.0</td>\n",
       "      <td>8.0</td>\n",
       "      <td>6.0</td>\n",
       "    </tr>\n",
       "  </tbody>\n",
       "</table>\n",
       "</div>"
      ],
      "text/plain": [
       "      A     B     C     D\n",
       "0  12.0   NaN  20.0  14.0\n",
       "1   4.0   2.0  16.0   3.0\n",
       "2   5.0  54.0   9.5   4.0\n",
       "3   3.0   3.0   3.0   5.0\n",
       "4   1.0   3.0   8.0   6.0"
      ]
     },
     "execution_count": 20,
     "metadata": {},
     "output_type": "execute_result"
    }
   ],
   "source": [
    "df.interpolate(method ='linear', limit_direction ='forward') \n",
    "# As we can see the output, values in the first row could not get filled as the direction of filling of values is forward and there is no previous value which could have been used in interpolation."
   ]
  },
  {
   "cell_type": "markdown",
   "metadata": {},
   "source": [
    "# Deal with rows columns - Series, DataFrames"
   ]
  },
  {
   "cell_type": "code",
   "execution_count": 21,
   "metadata": {},
   "outputs": [
    {
     "data": {
      "text/html": [
       "<div>\n",
       "<style scoped>\n",
       "    .dataframe tbody tr th:only-of-type {\n",
       "        vertical-align: middle;\n",
       "    }\n",
       "\n",
       "    .dataframe tbody tr th {\n",
       "        vertical-align: top;\n",
       "    }\n",
       "\n",
       "    .dataframe thead th {\n",
       "        text-align: right;\n",
       "    }\n",
       "</style>\n",
       "<table border=\"1\" class=\"dataframe\">\n",
       "  <thead>\n",
       "    <tr style=\"text-align: right;\">\n",
       "      <th></th>\n",
       "      <th>Unnamed: 0</th>\n",
       "      <th>Col1</th>\n",
       "      <th>Col2</th>\n",
       "      <th>Col3</th>\n",
       "      <th>Col4</th>\n",
       "    </tr>\n",
       "  </thead>\n",
       "  <tbody>\n",
       "    <tr>\n",
       "      <th>0</th>\n",
       "      <td>Row1</td>\n",
       "      <td>0</td>\n",
       "      <td>1</td>\n",
       "      <td>2</td>\n",
       "      <td>3</td>\n",
       "    </tr>\n",
       "    <tr>\n",
       "      <th>1</th>\n",
       "      <td>Row2</td>\n",
       "      <td>4</td>\n",
       "      <td>5</td>\n",
       "      <td>6</td>\n",
       "      <td>7</td>\n",
       "    </tr>\n",
       "    <tr>\n",
       "      <th>2</th>\n",
       "      <td>Row3</td>\n",
       "      <td>8</td>\n",
       "      <td>9</td>\n",
       "      <td>10</td>\n",
       "      <td>11</td>\n",
       "    </tr>\n",
       "    <tr>\n",
       "      <th>3</th>\n",
       "      <td>Row4</td>\n",
       "      <td>12</td>\n",
       "      <td>13</td>\n",
       "      <td>14</td>\n",
       "      <td>15</td>\n",
       "    </tr>\n",
       "    <tr>\n",
       "      <th>4</th>\n",
       "      <td>Row5</td>\n",
       "      <td>16</td>\n",
       "      <td>17</td>\n",
       "      <td>18</td>\n",
       "      <td>19</td>\n",
       "    </tr>\n",
       "  </tbody>\n",
       "</table>\n",
       "</div>"
      ],
      "text/plain": [
       "  Unnamed: 0  Col1  Col2  Col3  Col4\n",
       "0       Row1     0     1     2     3\n",
       "1       Row2     4     5     6     7\n",
       "2       Row3     8     9    10    11\n",
       "3       Row4    12    13    14    15\n",
       "4       Row5    16    17    18    19"
      ]
     },
     "execution_count": 21,
     "metadata": {},
     "output_type": "execute_result"
    }
   ],
   "source": [
    "df = pd.read_csv('Test1.csv') # sep is attrubute to provide separator if there is anything else than comma(,) like sep=';'\n",
    "df.head()"
   ]
  },
  {
   "cell_type": "code",
   "execution_count": 22,
   "metadata": {},
   "outputs": [
    {
     "data": {
      "text/html": [
       "<div>\n",
       "<style scoped>\n",
       "    .dataframe tbody tr th:only-of-type {\n",
       "        vertical-align: middle;\n",
       "    }\n",
       "\n",
       "    .dataframe tbody tr th {\n",
       "        vertical-align: top;\n",
       "    }\n",
       "\n",
       "    .dataframe thead th {\n",
       "        text-align: right;\n",
       "    }\n",
       "</style>\n",
       "<table border=\"1\" class=\"dataframe\">\n",
       "  <thead>\n",
       "    <tr style=\"text-align: right;\">\n",
       "      <th></th>\n",
       "      <th>Col1</th>\n",
       "    </tr>\n",
       "  </thead>\n",
       "  <tbody>\n",
       "    <tr>\n",
       "      <th>0</th>\n",
       "      <td>0</td>\n",
       "    </tr>\n",
       "    <tr>\n",
       "      <th>1</th>\n",
       "      <td>4</td>\n",
       "    </tr>\n",
       "    <tr>\n",
       "      <th>2</th>\n",
       "      <td>8</td>\n",
       "    </tr>\n",
       "    <tr>\n",
       "      <th>3</th>\n",
       "      <td>12</td>\n",
       "    </tr>\n",
       "    <tr>\n",
       "      <th>4</th>\n",
       "      <td>16</td>\n",
       "    </tr>\n",
       "  </tbody>\n",
       "</table>\n",
       "</div>"
      ],
      "text/plain": [
       "   Col1\n",
       "0     0\n",
       "1     4\n",
       "2     8\n",
       "3    12\n",
       "4    16"
      ]
     },
     "execution_count": 22,
     "metadata": {},
     "output_type": "execute_result"
    }
   ],
   "source": [
    "# Returns Dataframe\n",
    "df[['Col1']]"
   ]
  },
  {
   "cell_type": "code",
   "execution_count": 23,
   "metadata": {},
   "outputs": [
    {
     "data": {
      "text/html": [
       "<div>\n",
       "<style scoped>\n",
       "    .dataframe tbody tr th:only-of-type {\n",
       "        vertical-align: middle;\n",
       "    }\n",
       "\n",
       "    .dataframe tbody tr th {\n",
       "        vertical-align: top;\n",
       "    }\n",
       "\n",
       "    .dataframe thead th {\n",
       "        text-align: right;\n",
       "    }\n",
       "</style>\n",
       "<table border=\"1\" class=\"dataframe\">\n",
       "  <thead>\n",
       "    <tr style=\"text-align: right;\">\n",
       "      <th></th>\n",
       "      <th>Col1</th>\n",
       "      <th>Col2</th>\n",
       "    </tr>\n",
       "  </thead>\n",
       "  <tbody>\n",
       "    <tr>\n",
       "      <th>0</th>\n",
       "      <td>0</td>\n",
       "      <td>1</td>\n",
       "    </tr>\n",
       "    <tr>\n",
       "      <th>1</th>\n",
       "      <td>4</td>\n",
       "      <td>5</td>\n",
       "    </tr>\n",
       "    <tr>\n",
       "      <th>2</th>\n",
       "      <td>8</td>\n",
       "      <td>9</td>\n",
       "    </tr>\n",
       "    <tr>\n",
       "      <th>3</th>\n",
       "      <td>12</td>\n",
       "      <td>13</td>\n",
       "    </tr>\n",
       "    <tr>\n",
       "      <th>4</th>\n",
       "      <td>16</td>\n",
       "      <td>17</td>\n",
       "    </tr>\n",
       "  </tbody>\n",
       "</table>\n",
       "</div>"
      ],
      "text/plain": [
       "   Col1  Col2\n",
       "0     0     1\n",
       "1     4     5\n",
       "2     8     9\n",
       "3    12    13\n",
       "4    16    17"
      ]
     },
     "execution_count": 23,
     "metadata": {},
     "output_type": "execute_result"
    }
   ],
   "source": [
    "# Returns Dataframe\n",
    "df[['Col1','Col2']]"
   ]
  },
  {
   "cell_type": "code",
   "execution_count": 24,
   "metadata": {},
   "outputs": [
    {
     "data": {
      "text/plain": [
       "0     0\n",
       "1     4\n",
       "2     8\n",
       "3    12\n",
       "4    16\n",
       "Name: Col1, dtype: int64"
      ]
     },
     "execution_count": 24,
     "metadata": {},
     "output_type": "execute_result"
    }
   ],
   "source": [
    "# Returns Series\n",
    "df['Col1']"
   ]
  },
  {
   "cell_type": "code",
   "execution_count": 28,
   "metadata": {},
   "outputs": [
    {
     "name": "stdout",
     "output_type": "stream",
     "text": [
      "<class 'pandas.core.series.Series'>\n",
      "<class 'pandas.core.frame.DataFrame'>\n"
     ]
    }
   ],
   "source": [
    "print(type(df['Col1']))\n",
    "print(type(df[['Col1']]))"
   ]
  },
  {
   "cell_type": "code",
   "execution_count": 29,
   "metadata": {},
   "outputs": [
    {
     "data": {
      "text/plain": [
       "array([ 0,  4,  8, 12, 16])"
      ]
     },
     "execution_count": 29,
     "metadata": {},
     "output_type": "execute_result"
    }
   ],
   "source": [
    "df['Col1'].unique()"
   ]
  },
  {
   "cell_type": "code",
   "execution_count": 30,
   "metadata": {},
   "outputs": [
    {
     "data": {
      "text/html": [
       "<div>\n",
       "<style scoped>\n",
       "    .dataframe tbody tr th:only-of-type {\n",
       "        vertical-align: middle;\n",
       "    }\n",
       "\n",
       "    .dataframe tbody tr th {\n",
       "        vertical-align: top;\n",
       "    }\n",
       "\n",
       "    .dataframe thead th {\n",
       "        text-align: right;\n",
       "    }\n",
       "</style>\n",
       "<table border=\"1\" class=\"dataframe\">\n",
       "  <thead>\n",
       "    <tr style=\"text-align: right;\">\n",
       "      <th></th>\n",
       "      <th>Unnamed: 0</th>\n",
       "      <th>Col1</th>\n",
       "      <th>Col2</th>\n",
       "      <th>Col3</th>\n",
       "      <th>Col4</th>\n",
       "    </tr>\n",
       "  </thead>\n",
       "  <tbody>\n",
       "    <tr>\n",
       "      <th>2</th>\n",
       "      <td>Row3</td>\n",
       "      <td>8</td>\n",
       "      <td>9</td>\n",
       "      <td>10</td>\n",
       "      <td>11</td>\n",
       "    </tr>\n",
       "    <tr>\n",
       "      <th>3</th>\n",
       "      <td>Row4</td>\n",
       "      <td>12</td>\n",
       "      <td>13</td>\n",
       "      <td>14</td>\n",
       "      <td>15</td>\n",
       "    </tr>\n",
       "    <tr>\n",
       "      <th>4</th>\n",
       "      <td>Row5</td>\n",
       "      <td>16</td>\n",
       "      <td>17</td>\n",
       "      <td>18</td>\n",
       "      <td>19</td>\n",
       "    </tr>\n",
       "  </tbody>\n",
       "</table>\n",
       "</div>"
      ],
      "text/plain": [
       "  Unnamed: 0  Col1  Col2  Col3  Col4\n",
       "2       Row3     8     9    10    11\n",
       "3       Row4    12    13    14    15\n",
       "4       Row5    16    17    18    19"
      ]
     },
     "execution_count": 30,
     "metadata": {},
     "output_type": "execute_result"
    }
   ],
   "source": [
    "df[df['Col1']>4]"
   ]
  },
  {
   "cell_type": "markdown",
   "metadata": {},
   "source": [
    "### Add Column"
   ]
  },
  {
   "cell_type": "code",
   "execution_count": 207,
   "metadata": {},
   "outputs": [
    {
     "data": {
      "text/html": [
       "<div>\n",
       "<style scoped>\n",
       "    .dataframe tbody tr th:only-of-type {\n",
       "        vertical-align: middle;\n",
       "    }\n",
       "\n",
       "    .dataframe tbody tr th {\n",
       "        vertical-align: top;\n",
       "    }\n",
       "\n",
       "    .dataframe thead th {\n",
       "        text-align: right;\n",
       "    }\n",
       "</style>\n",
       "<table border=\"1\" class=\"dataframe\">\n",
       "  <thead>\n",
       "    <tr style=\"text-align: right;\">\n",
       "      <th></th>\n",
       "      <th>Height</th>\n",
       "      <th>Name</th>\n",
       "      <th>Qualification</th>\n",
       "    </tr>\n",
       "  </thead>\n",
       "  <tbody>\n",
       "    <tr>\n",
       "      <th>0</th>\n",
       "      <td>5.1</td>\n",
       "      <td>Jai</td>\n",
       "      <td>Msc</td>\n",
       "    </tr>\n",
       "    <tr>\n",
       "      <th>1</th>\n",
       "      <td>6.2</td>\n",
       "      <td>Princi</td>\n",
       "      <td>MA</td>\n",
       "    </tr>\n",
       "    <tr>\n",
       "      <th>2</th>\n",
       "      <td>5.1</td>\n",
       "      <td>Gaurav</td>\n",
       "      <td>Msc</td>\n",
       "    </tr>\n",
       "    <tr>\n",
       "      <th>3</th>\n",
       "      <td>5.2</td>\n",
       "      <td>Anuj</td>\n",
       "      <td>Msc</td>\n",
       "    </tr>\n",
       "  </tbody>\n",
       "</table>\n",
       "</div>"
      ],
      "text/plain": [
       "   Height    Name Qualification\n",
       "0     5.1     Jai           Msc\n",
       "1     6.2  Princi            MA\n",
       "2     5.1  Gaurav           Msc\n",
       "3     5.2    Anuj           Msc"
      ]
     },
     "execution_count": 207,
     "metadata": {},
     "output_type": "execute_result"
    }
   ],
   "source": [
    "data = {'Name': ['Jai', 'Princi', 'Gaurav', 'Anuj'], \n",
    "        'Height': [5.1, 6.2, 5.1, 5.2], \n",
    "        'Qualification': ['Msc', 'MA', 'Msc', 'Msc']} \n",
    "df = pd.DataFrame(data) \n",
    "df"
   ]
  },
  {
   "cell_type": "code",
   "execution_count": 208,
   "metadata": {},
   "outputs": [
    {
     "data": {
      "text/html": [
       "<div>\n",
       "<style scoped>\n",
       "    .dataframe tbody tr th:only-of-type {\n",
       "        vertical-align: middle;\n",
       "    }\n",
       "\n",
       "    .dataframe tbody tr th {\n",
       "        vertical-align: top;\n",
       "    }\n",
       "\n",
       "    .dataframe thead th {\n",
       "        text-align: right;\n",
       "    }\n",
       "</style>\n",
       "<table border=\"1\" class=\"dataframe\">\n",
       "  <thead>\n",
       "    <tr style=\"text-align: right;\">\n",
       "      <th></th>\n",
       "      <th>Height</th>\n",
       "      <th>Name</th>\n",
       "      <th>Qualification</th>\n",
       "      <th>Address</th>\n",
       "    </tr>\n",
       "  </thead>\n",
       "  <tbody>\n",
       "    <tr>\n",
       "      <th>0</th>\n",
       "      <td>5.1</td>\n",
       "      <td>Jai</td>\n",
       "      <td>Msc</td>\n",
       "      <td>Delhi</td>\n",
       "    </tr>\n",
       "    <tr>\n",
       "      <th>1</th>\n",
       "      <td>6.2</td>\n",
       "      <td>Princi</td>\n",
       "      <td>MA</td>\n",
       "      <td>Bangalore</td>\n",
       "    </tr>\n",
       "    <tr>\n",
       "      <th>2</th>\n",
       "      <td>5.1</td>\n",
       "      <td>Gaurav</td>\n",
       "      <td>Msc</td>\n",
       "      <td>Chennai</td>\n",
       "    </tr>\n",
       "    <tr>\n",
       "      <th>3</th>\n",
       "      <td>5.2</td>\n",
       "      <td>Anuj</td>\n",
       "      <td>Msc</td>\n",
       "      <td>Patna</td>\n",
       "    </tr>\n",
       "  </tbody>\n",
       "</table>\n",
       "</div>"
      ],
      "text/plain": [
       "   Height    Name Qualification    Address\n",
       "0     5.1     Jai           Msc      Delhi\n",
       "1     6.2  Princi            MA  Bangalore\n",
       "2     5.1  Gaurav           Msc    Chennai\n",
       "3     5.2    Anuj           Msc      Patna"
      ]
     },
     "execution_count": 208,
     "metadata": {},
     "output_type": "execute_result"
    }
   ],
   "source": [
    "address = ['Delhi', 'Bangalore', 'Chennai', 'Patna'] \n",
    "df['Address'] = address \n",
    "df"
   ]
  },
  {
   "cell_type": "markdown",
   "metadata": {},
   "source": [
    "### Delete Column"
   ]
  },
  {
   "cell_type": "code",
   "execution_count": 209,
   "metadata": {},
   "outputs": [],
   "source": [
    "df.drop([\"Qualification\"], axis = 1, inplace = True) "
   ]
  },
  {
   "cell_type": "code",
   "execution_count": 210,
   "metadata": {},
   "outputs": [
    {
     "data": {
      "text/html": [
       "<div>\n",
       "<style scoped>\n",
       "    .dataframe tbody tr th:only-of-type {\n",
       "        vertical-align: middle;\n",
       "    }\n",
       "\n",
       "    .dataframe tbody tr th {\n",
       "        vertical-align: top;\n",
       "    }\n",
       "\n",
       "    .dataframe thead th {\n",
       "        text-align: right;\n",
       "    }\n",
       "</style>\n",
       "<table border=\"1\" class=\"dataframe\">\n",
       "  <thead>\n",
       "    <tr style=\"text-align: right;\">\n",
       "      <th></th>\n",
       "      <th>Height</th>\n",
       "      <th>Name</th>\n",
       "      <th>Address</th>\n",
       "    </tr>\n",
       "  </thead>\n",
       "  <tbody>\n",
       "    <tr>\n",
       "      <th>0</th>\n",
       "      <td>5.1</td>\n",
       "      <td>Jai</td>\n",
       "      <td>Delhi</td>\n",
       "    </tr>\n",
       "    <tr>\n",
       "      <th>1</th>\n",
       "      <td>6.2</td>\n",
       "      <td>Princi</td>\n",
       "      <td>Bangalore</td>\n",
       "    </tr>\n",
       "    <tr>\n",
       "      <th>2</th>\n",
       "      <td>5.1</td>\n",
       "      <td>Gaurav</td>\n",
       "      <td>Chennai</td>\n",
       "    </tr>\n",
       "    <tr>\n",
       "      <th>3</th>\n",
       "      <td>5.2</td>\n",
       "      <td>Anuj</td>\n",
       "      <td>Patna</td>\n",
       "    </tr>\n",
       "  </tbody>\n",
       "</table>\n",
       "</div>"
      ],
      "text/plain": [
       "   Height    Name    Address\n",
       "0     5.1     Jai      Delhi\n",
       "1     6.2  Princi  Bangalore\n",
       "2     5.1  Gaurav    Chennai\n",
       "3     5.2    Anuj      Patna"
      ]
     },
     "execution_count": 210,
     "metadata": {},
     "output_type": "execute_result"
    }
   ],
   "source": [
    "df"
   ]
  },
  {
   "cell_type": "markdown",
   "metadata": {},
   "source": [
    "### Delete Rows"
   ]
  },
  {
   "cell_type": "code",
   "execution_count": 212,
   "metadata": {},
   "outputs": [
    {
     "data": {
      "text/html": [
       "<div>\n",
       "<style scoped>\n",
       "    .dataframe tbody tr th:only-of-type {\n",
       "        vertical-align: middle;\n",
       "    }\n",
       "\n",
       "    .dataframe tbody tr th {\n",
       "        vertical-align: top;\n",
       "    }\n",
       "\n",
       "    .dataframe thead th {\n",
       "        text-align: right;\n",
       "    }\n",
       "</style>\n",
       "<table border=\"1\" class=\"dataframe\">\n",
       "  <thead>\n",
       "    <tr style=\"text-align: right;\">\n",
       "      <th></th>\n",
       "      <th>Height</th>\n",
       "      <th>Name</th>\n",
       "      <th>Address</th>\n",
       "    </tr>\n",
       "  </thead>\n",
       "  <tbody>\n",
       "    <tr>\n",
       "      <th>1</th>\n",
       "      <td>6.2</td>\n",
       "      <td>Princi</td>\n",
       "      <td>Bangalore</td>\n",
       "    </tr>\n",
       "    <tr>\n",
       "      <th>2</th>\n",
       "      <td>5.1</td>\n",
       "      <td>Gaurav</td>\n",
       "      <td>Chennai</td>\n",
       "    </tr>\n",
       "    <tr>\n",
       "      <th>3</th>\n",
       "      <td>5.2</td>\n",
       "      <td>Anuj</td>\n",
       "      <td>Patna</td>\n",
       "    </tr>\n",
       "  </tbody>\n",
       "</table>\n",
       "</div>"
      ],
      "text/plain": [
       "   Height    Name    Address\n",
       "1     6.2  Princi  Bangalore\n",
       "2     5.1  Gaurav    Chennai\n",
       "3     5.2    Anuj      Patna"
      ]
     },
     "execution_count": 212,
     "metadata": {},
     "output_type": "execute_result"
    }
   ],
   "source": [
    "df.drop([0])"
   ]
  },
  {
   "cell_type": "markdown",
   "metadata": {},
   "source": [
    "# Indexing elements\n",
    "#### 1. df.[]\n",
    "#### 2. df.loc[]\n",
    "#### 3. df.iloc[]\n",
    "#### 4. df.ix[]"
   ]
  },
  {
   "cell_type": "code",
   "execution_count": 74,
   "metadata": {},
   "outputs": [
    {
     "data": {
      "text/html": [
       "<div>\n",
       "<style scoped>\n",
       "    .dataframe tbody tr th:only-of-type {\n",
       "        vertical-align: middle;\n",
       "    }\n",
       "\n",
       "    .dataframe tbody tr th {\n",
       "        vertical-align: top;\n",
       "    }\n",
       "\n",
       "    .dataframe thead th {\n",
       "        text-align: right;\n",
       "    }\n",
       "</style>\n",
       "<table border=\"1\" class=\"dataframe\">\n",
       "  <thead>\n",
       "    <tr style=\"text-align: right;\">\n",
       "      <th></th>\n",
       "      <th>Address</th>\n",
       "      <th>Height</th>\n",
       "      <th>Name</th>\n",
       "      <th>Qualification</th>\n",
       "    </tr>\n",
       "  </thead>\n",
       "  <tbody>\n",
       "    <tr>\n",
       "      <th>0</th>\n",
       "      <td>Delhi</td>\n",
       "      <td>5.1</td>\n",
       "      <td>Jai</td>\n",
       "      <td>Msc</td>\n",
       "    </tr>\n",
       "    <tr>\n",
       "      <th>1</th>\n",
       "      <td>Bangalore</td>\n",
       "      <td>6.2</td>\n",
       "      <td>Princi</td>\n",
       "      <td>MA</td>\n",
       "    </tr>\n",
       "    <tr>\n",
       "      <th>2</th>\n",
       "      <td>Chennai</td>\n",
       "      <td>5.1</td>\n",
       "      <td>Gaurav</td>\n",
       "      <td>Msc</td>\n",
       "    </tr>\n",
       "    <tr>\n",
       "      <th>3</th>\n",
       "      <td>Patna</td>\n",
       "      <td>5.2</td>\n",
       "      <td>Anuj</td>\n",
       "      <td>Msc</td>\n",
       "    </tr>\n",
       "  </tbody>\n",
       "</table>\n",
       "</div>"
      ],
      "text/plain": [
       "     Address  Height    Name Qualification\n",
       "0      Delhi     5.1     Jai           Msc\n",
       "1  Bangalore     6.2  Princi            MA\n",
       "2    Chennai     5.1  Gaurav           Msc\n",
       "3      Patna     5.2    Anuj           Msc"
      ]
     },
     "execution_count": 74,
     "metadata": {},
     "output_type": "execute_result"
    }
   ],
   "source": [
    "data = {'Name': ['Jai', 'Princi', 'Gaurav', 'Anuj'], \n",
    "        'Height': [5.1, 6.2, 5.1, 5.2], \n",
    "        'Qualification': ['Msc', 'MA', 'Msc', 'Msc'],\n",
    "        'Address': ['Delhi', 'Bangalore', 'Chennai', 'Patna']} \n",
    "df = pd.DataFrame(data) \n",
    "df"
   ]
  },
  {
   "cell_type": "code",
   "execution_count": 76,
   "metadata": {},
   "outputs": [
    {
     "data": {
      "text/plain": [
       "0       Jai\n",
       "1    Princi\n",
       "2    Gaurav\n",
       "3      Anuj\n",
       "Name: Name, dtype: object"
      ]
     },
     "execution_count": 76,
     "metadata": {},
     "output_type": "execute_result"
    }
   ],
   "source": [
    "first = df[\"Name\"] \n",
    "first #Series"
   ]
  },
  {
   "cell_type": "code",
   "execution_count": 78,
   "metadata": {},
   "outputs": [
    {
     "data": {
      "text/html": [
       "<div>\n",
       "<style scoped>\n",
       "    .dataframe tbody tr th:only-of-type {\n",
       "        vertical-align: middle;\n",
       "    }\n",
       "\n",
       "    .dataframe tbody tr th {\n",
       "        vertical-align: top;\n",
       "    }\n",
       "\n",
       "    .dataframe thead th {\n",
       "        text-align: right;\n",
       "    }\n",
       "</style>\n",
       "<table border=\"1\" class=\"dataframe\">\n",
       "  <thead>\n",
       "    <tr style=\"text-align: right;\">\n",
       "      <th></th>\n",
       "      <th>Name</th>\n",
       "      <th>Address</th>\n",
       "    </tr>\n",
       "  </thead>\n",
       "  <tbody>\n",
       "    <tr>\n",
       "      <th>0</th>\n",
       "      <td>Jai</td>\n",
       "      <td>Delhi</td>\n",
       "    </tr>\n",
       "    <tr>\n",
       "      <th>1</th>\n",
       "      <td>Princi</td>\n",
       "      <td>Bangalore</td>\n",
       "    </tr>\n",
       "    <tr>\n",
       "      <th>2</th>\n",
       "      <td>Gaurav</td>\n",
       "      <td>Chennai</td>\n",
       "    </tr>\n",
       "    <tr>\n",
       "      <th>3</th>\n",
       "      <td>Anuj</td>\n",
       "      <td>Patna</td>\n",
       "    </tr>\n",
       "  </tbody>\n",
       "</table>\n",
       "</div>"
      ],
      "text/plain": [
       "     Name    Address\n",
       "0     Jai      Delhi\n",
       "1  Princi  Bangalore\n",
       "2  Gaurav    Chennai\n",
       "3    Anuj      Patna"
      ]
     },
     "execution_count": 78,
     "metadata": {},
     "output_type": "execute_result"
    }
   ],
   "source": [
    "first = df[[\"Name\",\"Address\"]]\n",
    "first #Dataframe"
   ]
  },
  {
   "cell_type": "markdown",
   "metadata": {},
   "source": [
    "### loc : This function selects data by the label of the rows and columns. The df.loc indexer selects data in a different way than just the indexing operator. It can select subsets of rows or columns. It can also simultaneously select subsets of rows and columns."
   ]
  },
  {
   "cell_type": "code",
   "execution_count": 84,
   "metadata": {},
   "outputs": [
    {
     "data": {
      "text/plain": [
       "Address          Delhi\n",
       "Height             5.1\n",
       "Name               Jai\n",
       "Qualification      Msc\n",
       "Name: 0, dtype: object"
      ]
     },
     "execution_count": 84,
     "metadata": {},
     "output_type": "execute_result"
    }
   ],
   "source": [
    "second = df.loc[0]\n",
    "second"
   ]
  },
  {
   "cell_type": "code",
   "execution_count": 85,
   "metadata": {},
   "outputs": [
    {
     "data": {
      "text/html": [
       "<div>\n",
       "<style scoped>\n",
       "    .dataframe tbody tr th:only-of-type {\n",
       "        vertical-align: middle;\n",
       "    }\n",
       "\n",
       "    .dataframe tbody tr th {\n",
       "        vertical-align: top;\n",
       "    }\n",
       "\n",
       "    .dataframe thead th {\n",
       "        text-align: right;\n",
       "    }\n",
       "</style>\n",
       "<table border=\"1\" class=\"dataframe\">\n",
       "  <thead>\n",
       "    <tr style=\"text-align: right;\">\n",
       "      <th></th>\n",
       "      <th>Address</th>\n",
       "      <th>Height</th>\n",
       "      <th>Name</th>\n",
       "      <th>Qualification</th>\n",
       "    </tr>\n",
       "  </thead>\n",
       "  <tbody>\n",
       "    <tr>\n",
       "      <th>0</th>\n",
       "      <td>Delhi</td>\n",
       "      <td>5.1</td>\n",
       "      <td>Jai</td>\n",
       "      <td>Msc</td>\n",
       "    </tr>\n",
       "    <tr>\n",
       "      <th>1</th>\n",
       "      <td>Bangalore</td>\n",
       "      <td>6.2</td>\n",
       "      <td>Princi</td>\n",
       "      <td>MA</td>\n",
       "    </tr>\n",
       "  </tbody>\n",
       "</table>\n",
       "</div>"
      ],
      "text/plain": [
       "     Address  Height    Name Qualification\n",
       "0      Delhi     5.1     Jai           Msc\n",
       "1  Bangalore     6.2  Princi            MA"
      ]
     },
     "execution_count": 85,
     "metadata": {},
     "output_type": "execute_result"
    }
   ],
   "source": [
    "second = df.loc[[0,1]]\n",
    "second"
   ]
  },
  {
   "cell_type": "code",
   "execution_count": 86,
   "metadata": {},
   "outputs": [
    {
     "data": {
      "text/html": [
       "<div>\n",
       "<style scoped>\n",
       "    .dataframe tbody tr th:only-of-type {\n",
       "        vertical-align: middle;\n",
       "    }\n",
       "\n",
       "    .dataframe tbody tr th {\n",
       "        vertical-align: top;\n",
       "    }\n",
       "\n",
       "    .dataframe thead th {\n",
       "        text-align: right;\n",
       "    }\n",
       "</style>\n",
       "<table border=\"1\" class=\"dataframe\">\n",
       "  <thead>\n",
       "    <tr style=\"text-align: right;\">\n",
       "      <th></th>\n",
       "      <th>Name</th>\n",
       "      <th>Address</th>\n",
       "    </tr>\n",
       "  </thead>\n",
       "  <tbody>\n",
       "    <tr>\n",
       "      <th>0</th>\n",
       "      <td>Jai</td>\n",
       "      <td>Delhi</td>\n",
       "    </tr>\n",
       "    <tr>\n",
       "      <th>1</th>\n",
       "      <td>Princi</td>\n",
       "      <td>Bangalore</td>\n",
       "    </tr>\n",
       "  </tbody>\n",
       "</table>\n",
       "</div>"
      ],
      "text/plain": [
       "     Name    Address\n",
       "0     Jai      Delhi\n",
       "1  Princi  Bangalore"
      ]
     },
     "execution_count": 86,
     "metadata": {},
     "output_type": "execute_result"
    }
   ],
   "source": [
    "second = df.loc[[0,1],['Name','Address']]\n",
    "second"
   ]
  },
  {
   "cell_type": "code",
   "execution_count": 88,
   "metadata": {},
   "outputs": [
    {
     "data": {
      "text/html": [
       "<div>\n",
       "<style scoped>\n",
       "    .dataframe tbody tr th:only-of-type {\n",
       "        vertical-align: middle;\n",
       "    }\n",
       "\n",
       "    .dataframe tbody tr th {\n",
       "        vertical-align: top;\n",
       "    }\n",
       "\n",
       "    .dataframe thead th {\n",
       "        text-align: right;\n",
       "    }\n",
       "</style>\n",
       "<table border=\"1\" class=\"dataframe\">\n",
       "  <thead>\n",
       "    <tr style=\"text-align: right;\">\n",
       "      <th></th>\n",
       "      <th>Name</th>\n",
       "      <th>Address</th>\n",
       "    </tr>\n",
       "  </thead>\n",
       "  <tbody>\n",
       "    <tr>\n",
       "      <th>0</th>\n",
       "      <td>Jai</td>\n",
       "      <td>Delhi</td>\n",
       "    </tr>\n",
       "    <tr>\n",
       "      <th>1</th>\n",
       "      <td>Princi</td>\n",
       "      <td>Bangalore</td>\n",
       "    </tr>\n",
       "    <tr>\n",
       "      <th>2</th>\n",
       "      <td>Gaurav</td>\n",
       "      <td>Chennai</td>\n",
       "    </tr>\n",
       "    <tr>\n",
       "      <th>3</th>\n",
       "      <td>Anuj</td>\n",
       "      <td>Patna</td>\n",
       "    </tr>\n",
       "  </tbody>\n",
       "</table>\n",
       "</div>"
      ],
      "text/plain": [
       "     Name    Address\n",
       "0     Jai      Delhi\n",
       "1  Princi  Bangalore\n",
       "2  Gaurav    Chennai\n",
       "3    Anuj      Patna"
      ]
     },
     "execution_count": 88,
     "metadata": {},
     "output_type": "execute_result"
    }
   ],
   "source": [
    "second = df.loc[:,['Name','Address']]\n",
    "second"
   ]
  },
  {
   "cell_type": "markdown",
   "metadata": {},
   "source": [
    "### iloc: This function allows us to retrieve rows and columns by position. In order to do that, we’ll need to specify the positions of the rows that we want, and the positions of the columns that we want as well. The df.iloc indexer is very similar to df.loc but only uses integer locations to make its selections."
   ]
  },
  {
   "cell_type": "code",
   "execution_count": 89,
   "metadata": {},
   "outputs": [
    {
     "data": {
      "text/plain": [
       "Address          Patna\n",
       "Height             5.2\n",
       "Name              Anuj\n",
       "Qualification      Msc\n",
       "Name: 3, dtype: object"
      ]
     },
     "execution_count": 89,
     "metadata": {},
     "output_type": "execute_result"
    }
   ],
   "source": [
    "third = df.iloc[3]  \n",
    "third"
   ]
  },
  {
   "cell_type": "code",
   "execution_count": 91,
   "metadata": {},
   "outputs": [
    {
     "data": {
      "text/html": [
       "<div>\n",
       "<style scoped>\n",
       "    .dataframe tbody tr th:only-of-type {\n",
       "        vertical-align: middle;\n",
       "    }\n",
       "\n",
       "    .dataframe tbody tr th {\n",
       "        vertical-align: top;\n",
       "    }\n",
       "\n",
       "    .dataframe thead th {\n",
       "        text-align: right;\n",
       "    }\n",
       "</style>\n",
       "<table border=\"1\" class=\"dataframe\">\n",
       "  <thead>\n",
       "    <tr style=\"text-align: right;\">\n",
       "      <th></th>\n",
       "      <th>Address</th>\n",
       "      <th>Height</th>\n",
       "      <th>Name</th>\n",
       "      <th>Qualification</th>\n",
       "    </tr>\n",
       "  </thead>\n",
       "  <tbody>\n",
       "    <tr>\n",
       "      <th>2</th>\n",
       "      <td>Chennai</td>\n",
       "      <td>5.1</td>\n",
       "      <td>Gaurav</td>\n",
       "      <td>Msc</td>\n",
       "    </tr>\n",
       "    <tr>\n",
       "      <th>3</th>\n",
       "      <td>Patna</td>\n",
       "      <td>5.2</td>\n",
       "      <td>Anuj</td>\n",
       "      <td>Msc</td>\n",
       "    </tr>\n",
       "  </tbody>\n",
       "</table>\n",
       "</div>"
      ],
      "text/plain": [
       "   Address  Height    Name Qualification\n",
       "2  Chennai     5.1  Gaurav           Msc\n",
       "3    Patna     5.2    Anuj           Msc"
      ]
     },
     "execution_count": 91,
     "metadata": {},
     "output_type": "execute_result"
    }
   ],
   "source": [
    "third = df.iloc [[2, 3]]\n",
    "third"
   ]
  },
  {
   "cell_type": "code",
   "execution_count": 93,
   "metadata": {},
   "outputs": [
    {
     "data": {
      "text/html": [
       "<div>\n",
       "<style scoped>\n",
       "    .dataframe tbody tr th:only-of-type {\n",
       "        vertical-align: middle;\n",
       "    }\n",
       "\n",
       "    .dataframe tbody tr th {\n",
       "        vertical-align: top;\n",
       "    }\n",
       "\n",
       "    .dataframe thead th {\n",
       "        text-align: right;\n",
       "    }\n",
       "</style>\n",
       "<table border=\"1\" class=\"dataframe\">\n",
       "  <thead>\n",
       "    <tr style=\"text-align: right;\">\n",
       "      <th></th>\n",
       "      <th>Name</th>\n",
       "      <th>Address</th>\n",
       "    </tr>\n",
       "  </thead>\n",
       "  <tbody>\n",
       "    <tr>\n",
       "      <th>2</th>\n",
       "      <td>Gaurav</td>\n",
       "      <td>Chennai</td>\n",
       "    </tr>\n",
       "    <tr>\n",
       "      <th>3</th>\n",
       "      <td>Anuj</td>\n",
       "      <td>Patna</td>\n",
       "    </tr>\n",
       "  </tbody>\n",
       "</table>\n",
       "</div>"
      ],
      "text/plain": [
       "     Name  Address\n",
       "2  Gaurav  Chennai\n",
       "3    Anuj    Patna"
      ]
     },
     "execution_count": 93,
     "metadata": {},
     "output_type": "execute_result"
    }
   ],
   "source": [
    "third = df.iloc[[2,3],[2,0]]\n",
    "third"
   ]
  },
  {
   "cell_type": "code",
   "execution_count": 94,
   "metadata": {},
   "outputs": [
    {
     "data": {
      "text/html": [
       "<div>\n",
       "<style scoped>\n",
       "    .dataframe tbody tr th:only-of-type {\n",
       "        vertical-align: middle;\n",
       "    }\n",
       "\n",
       "    .dataframe tbody tr th {\n",
       "        vertical-align: top;\n",
       "    }\n",
       "\n",
       "    .dataframe thead th {\n",
       "        text-align: right;\n",
       "    }\n",
       "</style>\n",
       "<table border=\"1\" class=\"dataframe\">\n",
       "  <thead>\n",
       "    <tr style=\"text-align: right;\">\n",
       "      <th></th>\n",
       "      <th>Name</th>\n",
       "      <th>Address</th>\n",
       "    </tr>\n",
       "  </thead>\n",
       "  <tbody>\n",
       "    <tr>\n",
       "      <th>0</th>\n",
       "      <td>Jai</td>\n",
       "      <td>Delhi</td>\n",
       "    </tr>\n",
       "    <tr>\n",
       "      <th>1</th>\n",
       "      <td>Princi</td>\n",
       "      <td>Bangalore</td>\n",
       "    </tr>\n",
       "    <tr>\n",
       "      <th>2</th>\n",
       "      <td>Gaurav</td>\n",
       "      <td>Chennai</td>\n",
       "    </tr>\n",
       "    <tr>\n",
       "      <th>3</th>\n",
       "      <td>Anuj</td>\n",
       "      <td>Patna</td>\n",
       "    </tr>\n",
       "  </tbody>\n",
       "</table>\n",
       "</div>"
      ],
      "text/plain": [
       "     Name    Address\n",
       "0     Jai      Delhi\n",
       "1  Princi  Bangalore\n",
       "2  Gaurav    Chennai\n",
       "3    Anuj      Patna"
      ]
     },
     "execution_count": 94,
     "metadata": {},
     "output_type": "execute_result"
    }
   ],
   "source": [
    "third = df.iloc[:,[2,0]]\n",
    "third"
   ]
  },
  {
   "cell_type": "markdown",
   "metadata": {},
   "source": [
    "### ix: Early in the development of pandas, there existed another indexer, ix. This indexer was capable of selecting both by label and by integer location. While it was versatile, it caused lots of confusion because it’s not explicit. Sometimes integers can also be labels for rows or columns. Thus there were instances where it was ambiguous. Generally, ix is label based and acts just as the .loc indexer. However, .ix also supports integer type selections (as in .iloc) where passed an integer. This only works where the index of the DataFrame is not integer based .ix will accept any of the inputs of .loc and .iloc.\n",
    "### Note: The .ix indexer has been deprecated in recent versions of Pandas."
   ]
  },
  {
   "cell_type": "code",
   "execution_count": 96,
   "metadata": {},
   "outputs": [
    {
     "name": "stderr",
     "output_type": "stream",
     "text": [
      "/anaconda/envs/py35/lib/python3.5/site-packages/ipykernel/__main__.py:1: DeprecationWarning: \n",
      ".ix is deprecated. Please use\n",
      ".loc for label based indexing or\n",
      ".iloc for positional indexing\n",
      "\n",
      "See the documentation here:\n",
      "http://pandas.pydata.org/pandas-docs/stable/indexing.html#ix-indexer-is-deprecated\n",
      "  if __name__ == '__main__':\n"
     ]
    },
    {
     "data": {
      "text/plain": [
       "Address          Delhi\n",
       "Height             5.1\n",
       "Name               Jai\n",
       "Qualification      Msc\n",
       "Name: 0, dtype: object"
      ]
     },
     "execution_count": 96,
     "metadata": {},
     "output_type": "execute_result"
    }
   ],
   "source": [
    "forth = df.ix[0] \n",
    "forth"
   ]
  },
  {
   "cell_type": "markdown",
   "metadata": {},
   "source": [
    "# Boolean Indexing"
   ]
  },
  {
   "cell_type": "code",
   "execution_count": 98,
   "metadata": {},
   "outputs": [
    {
     "data": {
      "text/html": [
       "<div>\n",
       "<style scoped>\n",
       "    .dataframe tbody tr th:only-of-type {\n",
       "        vertical-align: middle;\n",
       "    }\n",
       "\n",
       "    .dataframe tbody tr th {\n",
       "        vertical-align: top;\n",
       "    }\n",
       "\n",
       "    .dataframe thead th {\n",
       "        text-align: right;\n",
       "    }\n",
       "</style>\n",
       "<table border=\"1\" class=\"dataframe\">\n",
       "  <thead>\n",
       "    <tr style=\"text-align: right;\">\n",
       "      <th></th>\n",
       "      <th>Address</th>\n",
       "      <th>Height</th>\n",
       "      <th>Name</th>\n",
       "      <th>Qualification</th>\n",
       "    </tr>\n",
       "  </thead>\n",
       "  <tbody>\n",
       "    <tr>\n",
       "      <th>0</th>\n",
       "      <td>Delhi</td>\n",
       "      <td>5.1</td>\n",
       "      <td>Jai</td>\n",
       "      <td>Msc</td>\n",
       "    </tr>\n",
       "    <tr>\n",
       "      <th>1</th>\n",
       "      <td>Bangalore</td>\n",
       "      <td>6.2</td>\n",
       "      <td>Princi</td>\n",
       "      <td>MA</td>\n",
       "    </tr>\n",
       "    <tr>\n",
       "      <th>2</th>\n",
       "      <td>Chennai</td>\n",
       "      <td>5.1</td>\n",
       "      <td>Gaurav</td>\n",
       "      <td>Msc</td>\n",
       "    </tr>\n",
       "    <tr>\n",
       "      <th>3</th>\n",
       "      <td>Patna</td>\n",
       "      <td>5.2</td>\n",
       "      <td>Anuj</td>\n",
       "      <td>Msc</td>\n",
       "    </tr>\n",
       "  </tbody>\n",
       "</table>\n",
       "</div>"
      ],
      "text/plain": [
       "     Address  Height    Name Qualification\n",
       "0      Delhi     5.1     Jai           Msc\n",
       "1  Bangalore     6.2  Princi            MA\n",
       "2    Chennai     5.1  Gaurav           Msc\n",
       "3      Patna     5.2    Anuj           Msc"
      ]
     },
     "execution_count": 98,
     "metadata": {},
     "output_type": "execute_result"
    }
   ],
   "source": [
    "df"
   ]
  },
  {
   "cell_type": "code",
   "execution_count": 99,
   "metadata": {},
   "outputs": [
    {
     "data": {
      "text/html": [
       "<div>\n",
       "<style scoped>\n",
       "    .dataframe tbody tr th:only-of-type {\n",
       "        vertical-align: middle;\n",
       "    }\n",
       "\n",
       "    .dataframe tbody tr th {\n",
       "        vertical-align: top;\n",
       "    }\n",
       "\n",
       "    .dataframe thead th {\n",
       "        text-align: right;\n",
       "    }\n",
       "</style>\n",
       "<table border=\"1\" class=\"dataframe\">\n",
       "  <thead>\n",
       "    <tr style=\"text-align: right;\">\n",
       "      <th></th>\n",
       "      <th>Address</th>\n",
       "      <th>Height</th>\n",
       "      <th>Name</th>\n",
       "      <th>Qualification</th>\n",
       "    </tr>\n",
       "  </thead>\n",
       "  <tbody>\n",
       "    <tr>\n",
       "      <th>0</th>\n",
       "      <td>Delhi</td>\n",
       "      <td>5.1</td>\n",
       "      <td>Jai</td>\n",
       "      <td>Msc</td>\n",
       "    </tr>\n",
       "    <tr>\n",
       "      <th>1</th>\n",
       "      <td>Bangalore</td>\n",
       "      <td>6.2</td>\n",
       "      <td>Princi</td>\n",
       "      <td>MA</td>\n",
       "    </tr>\n",
       "  </tbody>\n",
       "</table>\n",
       "</div>"
      ],
      "text/plain": [
       "     Address  Height    Name Qualification\n",
       "0      Delhi     5.1     Jai           Msc\n",
       "1  Bangalore     6.2  Princi            MA"
      ]
     },
     "execution_count": 99,
     "metadata": {},
     "output_type": "execute_result"
    }
   ],
   "source": [
    "df[[True,True,False,False]]"
   ]
  },
  {
   "cell_type": "code",
   "execution_count": 101,
   "metadata": {},
   "outputs": [
    {
     "name": "stdout",
     "output_type": "stream",
     "text": [
      "      degree    name  score\n",
      "True     MBA  aparna     90\n",
      "True  M.Tech  sudhir     80\n"
     ]
    }
   ],
   "source": [
    "dict = {'name':[\"aparna\", \"pankaj\", \"sudhir\", \"Geeku\"], \n",
    "        'degree': [\"MBA\", \"BCA\", \"M.Tech\", \"MBA\"], \n",
    "        'score':[90, 40, 80, 98]} \n",
    "df = pd.DataFrame(dict, index = [True, False, True, False]) \n",
    "print(df.loc[True]) "
   ]
  },
  {
   "cell_type": "code",
   "execution_count": 103,
   "metadata": {},
   "outputs": [],
   "source": [
    "# print(df.iloc[True])\n",
    "# Won't work, In order to access a dataframe using .iloc[], we have to pass a boolean value (True or False) in a iloc[] function but iloc[] function accept only integer as argument so it will throw an error so we can only access a dataframe when we pass a integer in iloc[] function"
   ]
  },
  {
   "cell_type": "code",
   "execution_count": 104,
   "metadata": {},
   "outputs": [
    {
     "data": {
      "text/plain": [
       "degree       BCA\n",
       "name      pankaj\n",
       "score         40\n",
       "dtype: object"
      ]
     },
     "execution_count": 104,
     "metadata": {},
     "output_type": "execute_result"
    }
   ],
   "source": [
    "df.iloc[1]"
   ]
  },
  {
   "cell_type": "code",
   "execution_count": 105,
   "metadata": {},
   "outputs": [
    {
     "name": "stderr",
     "output_type": "stream",
     "text": [
      "/anaconda/envs/py35/lib/python3.5/site-packages/ipykernel/__main__.py:1: DeprecationWarning: \n",
      ".ix is deprecated. Please use\n",
      ".loc for label based indexing or\n",
      ".iloc for positional indexing\n",
      "\n",
      "See the documentation here:\n",
      "http://pandas.pydata.org/pandas-docs/stable/indexing.html#ix-indexer-is-deprecated\n",
      "  if __name__ == '__main__':\n"
     ]
    },
    {
     "data": {
      "text/html": [
       "<div>\n",
       "<style scoped>\n",
       "    .dataframe tbody tr th:only-of-type {\n",
       "        vertical-align: middle;\n",
       "    }\n",
       "\n",
       "    .dataframe tbody tr th {\n",
       "        vertical-align: top;\n",
       "    }\n",
       "\n",
       "    .dataframe thead th {\n",
       "        text-align: right;\n",
       "    }\n",
       "</style>\n",
       "<table border=\"1\" class=\"dataframe\">\n",
       "  <thead>\n",
       "    <tr style=\"text-align: right;\">\n",
       "      <th></th>\n",
       "      <th>degree</th>\n",
       "      <th>name</th>\n",
       "      <th>score</th>\n",
       "    </tr>\n",
       "  </thead>\n",
       "  <tbody>\n",
       "    <tr>\n",
       "      <th>True</th>\n",
       "      <td>MBA</td>\n",
       "      <td>aparna</td>\n",
       "      <td>90</td>\n",
       "    </tr>\n",
       "    <tr>\n",
       "      <th>True</th>\n",
       "      <td>M.Tech</td>\n",
       "      <td>sudhir</td>\n",
       "      <td>80</td>\n",
       "    </tr>\n",
       "  </tbody>\n",
       "</table>\n",
       "</div>"
      ],
      "text/plain": [
       "      degree    name  score\n",
       "True     MBA  aparna     90\n",
       "True  M.Tech  sudhir     80"
      ]
     },
     "execution_count": 105,
     "metadata": {},
     "output_type": "execute_result"
    }
   ],
   "source": [
    "df.ix[True]"
   ]
  },
  {
   "cell_type": "code",
   "execution_count": 106,
   "metadata": {},
   "outputs": [
    {
     "name": "stderr",
     "output_type": "stream",
     "text": [
      "/anaconda/envs/py35/lib/python3.5/site-packages/ipykernel/__main__.py:1: DeprecationWarning: \n",
      ".ix is deprecated. Please use\n",
      ".loc for label based indexing or\n",
      ".iloc for positional indexing\n",
      "\n",
      "See the documentation here:\n",
      "http://pandas.pydata.org/pandas-docs/stable/indexing.html#ix-indexer-is-deprecated\n",
      "  if __name__ == '__main__':\n"
     ]
    },
    {
     "data": {
      "text/plain": [
       "degree       BCA\n",
       "name      pankaj\n",
       "score         40\n",
       "dtype: object"
      ]
     },
     "execution_count": 106,
     "metadata": {},
     "output_type": "execute_result"
    }
   ],
   "source": [
    "df.ix[1]"
   ]
  },
  {
   "cell_type": "code",
   "execution_count": 107,
   "metadata": {},
   "outputs": [
    {
     "data": {
      "text/html": [
       "<div>\n",
       "<style scoped>\n",
       "    .dataframe tbody tr th:only-of-type {\n",
       "        vertical-align: middle;\n",
       "    }\n",
       "\n",
       "    .dataframe tbody tr th {\n",
       "        vertical-align: top;\n",
       "    }\n",
       "\n",
       "    .dataframe thead th {\n",
       "        text-align: right;\n",
       "    }\n",
       "</style>\n",
       "<table border=\"1\" class=\"dataframe\">\n",
       "  <thead>\n",
       "    <tr style=\"text-align: right;\">\n",
       "      <th></th>\n",
       "      <th>degree</th>\n",
       "      <th>name</th>\n",
       "      <th>score</th>\n",
       "    </tr>\n",
       "  </thead>\n",
       "  <tbody>\n",
       "    <tr>\n",
       "      <th>True</th>\n",
       "      <td>MBA</td>\n",
       "      <td>aparna</td>\n",
       "      <td>90</td>\n",
       "    </tr>\n",
       "    <tr>\n",
       "      <th>False</th>\n",
       "      <td>MBA</td>\n",
       "      <td>Geeku</td>\n",
       "      <td>98</td>\n",
       "    </tr>\n",
       "  </tbody>\n",
       "</table>\n",
       "</div>"
      ],
      "text/plain": [
       "      degree    name  score\n",
       "True     MBA  aparna     90\n",
       "False    MBA   Geeku     98"
      ]
     },
     "execution_count": 107,
     "metadata": {},
     "output_type": "execute_result"
    }
   ],
   "source": [
    "df[df['degree'] == 'MBA']"
   ]
  },
  {
   "cell_type": "code",
   "execution_count": 119,
   "metadata": {},
   "outputs": [],
   "source": [
    "df.reset_index(inplace=True, drop=True)"
   ]
  },
  {
   "cell_type": "code",
   "execution_count": 120,
   "metadata": {},
   "outputs": [
    {
     "data": {
      "text/html": [
       "<div>\n",
       "<style scoped>\n",
       "    .dataframe tbody tr th:only-of-type {\n",
       "        vertical-align: middle;\n",
       "    }\n",
       "\n",
       "    .dataframe tbody tr th {\n",
       "        vertical-align: top;\n",
       "    }\n",
       "\n",
       "    .dataframe thead th {\n",
       "        text-align: right;\n",
       "    }\n",
       "</style>\n",
       "<table border=\"1\" class=\"dataframe\">\n",
       "  <thead>\n",
       "    <tr style=\"text-align: right;\">\n",
       "      <th></th>\n",
       "      <th>index</th>\n",
       "      <th>degree</th>\n",
       "      <th>name</th>\n",
       "      <th>score</th>\n",
       "    </tr>\n",
       "  </thead>\n",
       "  <tbody>\n",
       "    <tr>\n",
       "      <th>0</th>\n",
       "      <td>True</td>\n",
       "      <td>MBA</td>\n",
       "      <td>aparna</td>\n",
       "      <td>90</td>\n",
       "    </tr>\n",
       "    <tr>\n",
       "      <th>1</th>\n",
       "      <td>False</td>\n",
       "      <td>BCA</td>\n",
       "      <td>pankaj</td>\n",
       "      <td>40</td>\n",
       "    </tr>\n",
       "    <tr>\n",
       "      <th>2</th>\n",
       "      <td>True</td>\n",
       "      <td>M.Tech</td>\n",
       "      <td>sudhir</td>\n",
       "      <td>80</td>\n",
       "    </tr>\n",
       "    <tr>\n",
       "      <th>3</th>\n",
       "      <td>False</td>\n",
       "      <td>MBA</td>\n",
       "      <td>Geeku</td>\n",
       "      <td>98</td>\n",
       "    </tr>\n",
       "  </tbody>\n",
       "</table>\n",
       "</div>"
      ],
      "text/plain": [
       "   index  degree    name  score\n",
       "0   True     MBA  aparna     90\n",
       "1  False     BCA  pankaj     40\n",
       "2   True  M.Tech  sudhir     80\n",
       "3  False     MBA   Geeku     98"
      ]
     },
     "execution_count": 120,
     "metadata": {},
     "output_type": "execute_result"
    }
   ],
   "source": [
    "df"
   ]
  },
  {
   "cell_type": "code",
   "execution_count": 121,
   "metadata": {},
   "outputs": [
    {
     "data": {
      "text/html": [
       "<div>\n",
       "<style scoped>\n",
       "    .dataframe tbody tr th:only-of-type {\n",
       "        vertical-align: middle;\n",
       "    }\n",
       "\n",
       "    .dataframe tbody tr th {\n",
       "        vertical-align: top;\n",
       "    }\n",
       "\n",
       "    .dataframe thead th {\n",
       "        text-align: right;\n",
       "    }\n",
       "</style>\n",
       "<table border=\"1\" class=\"dataframe\">\n",
       "  <thead>\n",
       "    <tr style=\"text-align: right;\">\n",
       "      <th></th>\n",
       "      <th>index</th>\n",
       "      <th>degree</th>\n",
       "      <th>name</th>\n",
       "      <th>score</th>\n",
       "    </tr>\n",
       "  </thead>\n",
       "  <tbody>\n",
       "    <tr>\n",
       "      <th>2</th>\n",
       "      <td>True</td>\n",
       "      <td>M.Tech</td>\n",
       "      <td>sudhir</td>\n",
       "      <td>80</td>\n",
       "    </tr>\n",
       "    <tr>\n",
       "      <th>3</th>\n",
       "      <td>False</td>\n",
       "      <td>MBA</td>\n",
       "      <td>Geeku</td>\n",
       "      <td>98</td>\n",
       "    </tr>\n",
       "  </tbody>\n",
       "</table>\n",
       "</div>"
      ],
      "text/plain": [
       "   index  degree    name  score\n",
       "2   True  M.Tech  sudhir     80\n",
       "3  False     MBA   Geeku     98"
      ]
     },
     "execution_count": 121,
     "metadata": {},
     "output_type": "execute_result"
    }
   ],
   "source": [
    "df[df.index >1]"
   ]
  },
  {
   "cell_type": "markdown",
   "metadata": {},
   "source": [
    "# Filtering"
   ]
  },
  {
   "cell_type": "code",
   "execution_count": 260,
   "metadata": {},
   "outputs": [],
   "source": [
    "df_excel = pd.read_excel(\"Excel_Sample.xlsx\")"
   ]
  },
  {
   "cell_type": "code",
   "execution_count": 261,
   "metadata": {},
   "outputs": [
    {
     "data": {
      "text/html": [
       "<div>\n",
       "<style scoped>\n",
       "    .dataframe tbody tr th:only-of-type {\n",
       "        vertical-align: middle;\n",
       "    }\n",
       "\n",
       "    .dataframe tbody tr th {\n",
       "        vertical-align: top;\n",
       "    }\n",
       "\n",
       "    .dataframe thead th {\n",
       "        text-align: right;\n",
       "    }\n",
       "</style>\n",
       "<table border=\"1\" class=\"dataframe\">\n",
       "  <thead>\n",
       "    <tr style=\"text-align: right;\">\n",
       "      <th></th>\n",
       "      <th>a</th>\n",
       "      <th>b</th>\n",
       "      <th>c</th>\n",
       "      <th>d</th>\n",
       "    </tr>\n",
       "  </thead>\n",
       "  <tbody>\n",
       "    <tr>\n",
       "      <th>0</th>\n",
       "      <td>0</td>\n",
       "      <td>1</td>\n",
       "      <td>2</td>\n",
       "      <td>3</td>\n",
       "    </tr>\n",
       "    <tr>\n",
       "      <th>1</th>\n",
       "      <td>4</td>\n",
       "      <td>5</td>\n",
       "      <td>6</td>\n",
       "      <td>7</td>\n",
       "    </tr>\n",
       "    <tr>\n",
       "      <th>2</th>\n",
       "      <td>8</td>\n",
       "      <td>9</td>\n",
       "      <td>10</td>\n",
       "      <td>11</td>\n",
       "    </tr>\n",
       "    <tr>\n",
       "      <th>3</th>\n",
       "      <td>12</td>\n",
       "      <td>13</td>\n",
       "      <td>14</td>\n",
       "      <td>15</td>\n",
       "    </tr>\n",
       "  </tbody>\n",
       "</table>\n",
       "</div>"
      ],
      "text/plain": [
       "    a   b   c   d\n",
       "0   0   1   2   3\n",
       "1   4   5   6   7\n",
       "2   8   9  10  11\n",
       "3  12  13  14  15"
      ]
     },
     "execution_count": 261,
     "metadata": {},
     "output_type": "execute_result"
    }
   ],
   "source": [
    "df_excel"
   ]
  },
  {
   "cell_type": "code",
   "execution_count": 262,
   "metadata": {},
   "outputs": [
    {
     "data": {
      "text/html": [
       "<div>\n",
       "<style scoped>\n",
       "    .dataframe tbody tr th:only-of-type {\n",
       "        vertical-align: middle;\n",
       "    }\n",
       "\n",
       "    .dataframe tbody tr th {\n",
       "        vertical-align: top;\n",
       "    }\n",
       "\n",
       "    .dataframe thead th {\n",
       "        text-align: right;\n",
       "    }\n",
       "</style>\n",
       "<table border=\"1\" class=\"dataframe\">\n",
       "  <thead>\n",
       "    <tr style=\"text-align: right;\">\n",
       "      <th></th>\n",
       "      <th>a</th>\n",
       "      <th>b</th>\n",
       "      <th>c</th>\n",
       "      <th>d</th>\n",
       "    </tr>\n",
       "  </thead>\n",
       "  <tbody>\n",
       "    <tr>\n",
       "      <th>1</th>\n",
       "      <td>4</td>\n",
       "      <td>5</td>\n",
       "      <td>6</td>\n",
       "      <td>7</td>\n",
       "    </tr>\n",
       "    <tr>\n",
       "      <th>2</th>\n",
       "      <td>8</td>\n",
       "      <td>9</td>\n",
       "      <td>10</td>\n",
       "      <td>11</td>\n",
       "    </tr>\n",
       "    <tr>\n",
       "      <th>3</th>\n",
       "      <td>12</td>\n",
       "      <td>13</td>\n",
       "      <td>14</td>\n",
       "      <td>15</td>\n",
       "    </tr>\n",
       "  </tbody>\n",
       "</table>\n",
       "</div>"
      ],
      "text/plain": [
       "    a   b   c   d\n",
       "1   4   5   6   7\n",
       "2   8   9  10  11\n",
       "3  12  13  14  15"
      ]
     },
     "execution_count": 262,
     "metadata": {},
     "output_type": "execute_result"
    }
   ],
   "source": [
    "df_excel[df_excel['a'] >0]"
   ]
  },
  {
   "cell_type": "code",
   "execution_count": 263,
   "metadata": {},
   "outputs": [
    {
     "data": {
      "text/html": [
       "<div>\n",
       "<style scoped>\n",
       "    .dataframe tbody tr th:only-of-type {\n",
       "        vertical-align: middle;\n",
       "    }\n",
       "\n",
       "    .dataframe tbody tr th {\n",
       "        vertical-align: top;\n",
       "    }\n",
       "\n",
       "    .dataframe thead th {\n",
       "        text-align: right;\n",
       "    }\n",
       "</style>\n",
       "<table border=\"1\" class=\"dataframe\">\n",
       "  <thead>\n",
       "    <tr style=\"text-align: right;\">\n",
       "      <th></th>\n",
       "      <th>a</th>\n",
       "      <th>b</th>\n",
       "      <th>c</th>\n",
       "      <th>d</th>\n",
       "    </tr>\n",
       "  </thead>\n",
       "  <tbody>\n",
       "    <tr>\n",
       "      <th>2</th>\n",
       "      <td>8</td>\n",
       "      <td>9</td>\n",
       "      <td>10</td>\n",
       "      <td>11</td>\n",
       "    </tr>\n",
       "    <tr>\n",
       "      <th>3</th>\n",
       "      <td>12</td>\n",
       "      <td>13</td>\n",
       "      <td>14</td>\n",
       "      <td>15</td>\n",
       "    </tr>\n",
       "  </tbody>\n",
       "</table>\n",
       "</div>"
      ],
      "text/plain": [
       "    a   b   c   d\n",
       "2   8   9  10  11\n",
       "3  12  13  14  15"
      ]
     },
     "execution_count": 263,
     "metadata": {},
     "output_type": "execute_result"
    }
   ],
   "source": [
    "df_excel[(df_excel['a'] > 0) & (df_excel['c'] >= 10)]"
   ]
  },
  {
   "cell_type": "code",
   "execution_count": 264,
   "metadata": {},
   "outputs": [
    {
     "data": {
      "text/html": [
       "<div>\n",
       "<style scoped>\n",
       "    .dataframe tbody tr th:only-of-type {\n",
       "        vertical-align: middle;\n",
       "    }\n",
       "\n",
       "    .dataframe tbody tr th {\n",
       "        vertical-align: top;\n",
       "    }\n",
       "\n",
       "    .dataframe thead th {\n",
       "        text-align: right;\n",
       "    }\n",
       "</style>\n",
       "<table border=\"1\" class=\"dataframe\">\n",
       "  <thead>\n",
       "    <tr style=\"text-align: right;\">\n",
       "      <th></th>\n",
       "      <th>a</th>\n",
       "      <th>b</th>\n",
       "      <th>c</th>\n",
       "      <th>d</th>\n",
       "    </tr>\n",
       "  </thead>\n",
       "  <tbody>\n",
       "    <tr>\n",
       "      <th>2</th>\n",
       "      <td>8</td>\n",
       "      <td>9</td>\n",
       "      <td>10</td>\n",
       "      <td>11</td>\n",
       "    </tr>\n",
       "    <tr>\n",
       "      <th>3</th>\n",
       "      <td>12</td>\n",
       "      <td>13</td>\n",
       "      <td>14</td>\n",
       "      <td>15</td>\n",
       "    </tr>\n",
       "  </tbody>\n",
       "</table>\n",
       "</div>"
      ],
      "text/plain": [
       "    a   b   c   d\n",
       "2   8   9  10  11\n",
       "3  12  13  14  15"
      ]
     },
     "execution_count": 264,
     "metadata": {},
     "output_type": "execute_result"
    }
   ],
   "source": [
    "df_excel[(df_excel.a > 0) & (df_excel.c >= 10)]"
   ]
  },
  {
   "cell_type": "code",
   "execution_count": 265,
   "metadata": {},
   "outputs": [
    {
     "data": {
      "text/html": [
       "<div>\n",
       "<style scoped>\n",
       "    .dataframe tbody tr th:only-of-type {\n",
       "        vertical-align: middle;\n",
       "    }\n",
       "\n",
       "    .dataframe tbody tr th {\n",
       "        vertical-align: top;\n",
       "    }\n",
       "\n",
       "    .dataframe thead th {\n",
       "        text-align: right;\n",
       "    }\n",
       "</style>\n",
       "<table border=\"1\" class=\"dataframe\">\n",
       "  <thead>\n",
       "    <tr style=\"text-align: right;\">\n",
       "      <th></th>\n",
       "      <th>c</th>\n",
       "      <th>d</th>\n",
       "    </tr>\n",
       "  </thead>\n",
       "  <tbody>\n",
       "    <tr>\n",
       "      <th>2</th>\n",
       "      <td>10</td>\n",
       "      <td>11</td>\n",
       "    </tr>\n",
       "    <tr>\n",
       "      <th>3</th>\n",
       "      <td>14</td>\n",
       "      <td>15</td>\n",
       "    </tr>\n",
       "  </tbody>\n",
       "</table>\n",
       "</div>"
      ],
      "text/plain": [
       "    c   d\n",
       "2  10  11\n",
       "3  14  15"
      ]
     },
     "execution_count": 265,
     "metadata": {},
     "output_type": "execute_result"
    }
   ],
   "source": [
    "df_excel[(df_excel['a'] > 0) & (df_excel['c'] >= 10)][['c','d']]"
   ]
  },
  {
   "cell_type": "markdown",
   "metadata": {},
   "source": [
    "# Groupby"
   ]
  },
  {
   "cell_type": "code",
   "execution_count": 266,
   "metadata": {},
   "outputs": [],
   "source": [
    "df = pd.DataFrame([['A',10,3,5],['B',1,4,6],['A',9,4,1],['C',1,6,9],['C',4,2,1]], index=['Row1','Row2','Row3','Row4','Row5'], columns=['Col1','Col2','Col3','Col4'])"
   ]
  },
  {
   "cell_type": "code",
   "execution_count": 267,
   "metadata": {},
   "outputs": [
    {
     "data": {
      "text/html": [
       "<div>\n",
       "<style scoped>\n",
       "    .dataframe tbody tr th:only-of-type {\n",
       "        vertical-align: middle;\n",
       "    }\n",
       "\n",
       "    .dataframe tbody tr th {\n",
       "        vertical-align: top;\n",
       "    }\n",
       "\n",
       "    .dataframe thead th {\n",
       "        text-align: right;\n",
       "    }\n",
       "</style>\n",
       "<table border=\"1\" class=\"dataframe\">\n",
       "  <thead>\n",
       "    <tr style=\"text-align: right;\">\n",
       "      <th></th>\n",
       "      <th>Col1</th>\n",
       "      <th>Col2</th>\n",
       "      <th>Col3</th>\n",
       "      <th>Col4</th>\n",
       "    </tr>\n",
       "  </thead>\n",
       "  <tbody>\n",
       "    <tr>\n",
       "      <th>Row1</th>\n",
       "      <td>A</td>\n",
       "      <td>10</td>\n",
       "      <td>3</td>\n",
       "      <td>5</td>\n",
       "    </tr>\n",
       "    <tr>\n",
       "      <th>Row2</th>\n",
       "      <td>B</td>\n",
       "      <td>1</td>\n",
       "      <td>4</td>\n",
       "      <td>6</td>\n",
       "    </tr>\n",
       "    <tr>\n",
       "      <th>Row3</th>\n",
       "      <td>A</td>\n",
       "      <td>9</td>\n",
       "      <td>4</td>\n",
       "      <td>1</td>\n",
       "    </tr>\n",
       "    <tr>\n",
       "      <th>Row4</th>\n",
       "      <td>C</td>\n",
       "      <td>1</td>\n",
       "      <td>6</td>\n",
       "      <td>9</td>\n",
       "    </tr>\n",
       "    <tr>\n",
       "      <th>Row5</th>\n",
       "      <td>C</td>\n",
       "      <td>4</td>\n",
       "      <td>2</td>\n",
       "      <td>1</td>\n",
       "    </tr>\n",
       "  </tbody>\n",
       "</table>\n",
       "</div>"
      ],
      "text/plain": [
       "     Col1  Col2  Col3  Col4\n",
       "Row1    A    10     3     5\n",
       "Row2    B     1     4     6\n",
       "Row3    A     9     4     1\n",
       "Row4    C     1     6     9\n",
       "Row5    C     4     2     1"
      ]
     },
     "execution_count": 267,
     "metadata": {},
     "output_type": "execute_result"
    }
   ],
   "source": [
    "df"
   ]
  },
  {
   "cell_type": "code",
   "execution_count": 268,
   "metadata": {},
   "outputs": [
    {
     "data": {
      "text/html": [
       "<div>\n",
       "<style scoped>\n",
       "    .dataframe tbody tr th:only-of-type {\n",
       "        vertical-align: middle;\n",
       "    }\n",
       "\n",
       "    .dataframe tbody tr th {\n",
       "        vertical-align: top;\n",
       "    }\n",
       "\n",
       "    .dataframe thead th {\n",
       "        text-align: right;\n",
       "    }\n",
       "</style>\n",
       "<table border=\"1\" class=\"dataframe\">\n",
       "  <thead>\n",
       "    <tr style=\"text-align: right;\">\n",
       "      <th></th>\n",
       "      <th>Col2</th>\n",
       "      <th>Col3</th>\n",
       "      <th>Col4</th>\n",
       "    </tr>\n",
       "    <tr>\n",
       "      <th>Col1</th>\n",
       "      <th></th>\n",
       "      <th></th>\n",
       "      <th></th>\n",
       "    </tr>\n",
       "  </thead>\n",
       "  <tbody>\n",
       "    <tr>\n",
       "      <th>A</th>\n",
       "      <td>19</td>\n",
       "      <td>7</td>\n",
       "      <td>6</td>\n",
       "    </tr>\n",
       "    <tr>\n",
       "      <th>B</th>\n",
       "      <td>1</td>\n",
       "      <td>4</td>\n",
       "      <td>6</td>\n",
       "    </tr>\n",
       "    <tr>\n",
       "      <th>C</th>\n",
       "      <td>5</td>\n",
       "      <td>8</td>\n",
       "      <td>10</td>\n",
       "    </tr>\n",
       "  </tbody>\n",
       "</table>\n",
       "</div>"
      ],
      "text/plain": [
       "      Col2  Col3  Col4\n",
       "Col1                  \n",
       "A       19     7     6\n",
       "B        1     4     6\n",
       "C        5     8    10"
      ]
     },
     "execution_count": 268,
     "metadata": {},
     "output_type": "execute_result"
    }
   ],
   "source": [
    "df.groupby(['Col1']).agg(sum)"
   ]
  },
  {
   "cell_type": "code",
   "execution_count": 269,
   "metadata": {},
   "outputs": [
    {
     "data": {
      "text/html": [
       "<div>\n",
       "<style scoped>\n",
       "    .dataframe tbody tr th:only-of-type {\n",
       "        vertical-align: middle;\n",
       "    }\n",
       "\n",
       "    .dataframe tbody tr th {\n",
       "        vertical-align: top;\n",
       "    }\n",
       "\n",
       "    .dataframe thead th {\n",
       "        text-align: right;\n",
       "    }\n",
       "</style>\n",
       "<table border=\"1\" class=\"dataframe\">\n",
       "  <thead>\n",
       "    <tr style=\"text-align: right;\">\n",
       "      <th></th>\n",
       "      <th>Col2</th>\n",
       "      <th>Col3</th>\n",
       "      <th>Col4</th>\n",
       "    </tr>\n",
       "    <tr>\n",
       "      <th>Col1</th>\n",
       "      <th></th>\n",
       "      <th></th>\n",
       "      <th></th>\n",
       "    </tr>\n",
       "  </thead>\n",
       "  <tbody>\n",
       "    <tr>\n",
       "      <th>A</th>\n",
       "      <td>9.5</td>\n",
       "      <td>3.5</td>\n",
       "      <td>3.0</td>\n",
       "    </tr>\n",
       "    <tr>\n",
       "      <th>B</th>\n",
       "      <td>1.0</td>\n",
       "      <td>4.0</td>\n",
       "      <td>6.0</td>\n",
       "    </tr>\n",
       "    <tr>\n",
       "      <th>C</th>\n",
       "      <td>2.5</td>\n",
       "      <td>4.0</td>\n",
       "      <td>5.0</td>\n",
       "    </tr>\n",
       "  </tbody>\n",
       "</table>\n",
       "</div>"
      ],
      "text/plain": [
       "      Col2  Col3  Col4\n",
       "Col1                  \n",
       "A      9.5   3.5   3.0\n",
       "B      1.0   4.0   6.0\n",
       "C      2.5   4.0   5.0"
      ]
     },
     "execution_count": 269,
     "metadata": {},
     "output_type": "execute_result"
    }
   ],
   "source": [
    "df.groupby(['Col1']).mean()"
   ]
  },
  {
   "cell_type": "code",
   "execution_count": 270,
   "metadata": {},
   "outputs": [
    {
     "data": {
      "text/html": [
       "<div>\n",
       "<style scoped>\n",
       "    .dataframe tbody tr th:only-of-type {\n",
       "        vertical-align: middle;\n",
       "    }\n",
       "\n",
       "    .dataframe tbody tr th {\n",
       "        vertical-align: top;\n",
       "    }\n",
       "\n",
       "    .dataframe thead th {\n",
       "        text-align: right;\n",
       "    }\n",
       "</style>\n",
       "<table border=\"1\" class=\"dataframe\">\n",
       "  <thead>\n",
       "    <tr style=\"text-align: right;\">\n",
       "      <th></th>\n",
       "      <th>Col2</th>\n",
       "      <th>Col3</th>\n",
       "      <th>Col4</th>\n",
       "    </tr>\n",
       "    <tr>\n",
       "      <th>Col1</th>\n",
       "      <th></th>\n",
       "      <th></th>\n",
       "      <th></th>\n",
       "    </tr>\n",
       "  </thead>\n",
       "  <tbody>\n",
       "    <tr>\n",
       "      <th>A</th>\n",
       "      <td>9.5</td>\n",
       "      <td>3.5</td>\n",
       "      <td>3.0</td>\n",
       "    </tr>\n",
       "    <tr>\n",
       "      <th>B</th>\n",
       "      <td>1.0</td>\n",
       "      <td>4.0</td>\n",
       "      <td>6.0</td>\n",
       "    </tr>\n",
       "    <tr>\n",
       "      <th>C</th>\n",
       "      <td>2.5</td>\n",
       "      <td>4.0</td>\n",
       "      <td>5.0</td>\n",
       "    </tr>\n",
       "  </tbody>\n",
       "</table>\n",
       "</div>"
      ],
      "text/plain": [
       "      Col2  Col3  Col4\n",
       "Col1                  \n",
       "A      9.5   3.5   3.0\n",
       "B      1.0   4.0   6.0\n",
       "C      2.5   4.0   5.0"
      ]
     },
     "execution_count": 270,
     "metadata": {},
     "output_type": "execute_result"
    }
   ],
   "source": [
    "df.groupby(['Col1']).median()"
   ]
  },
  {
   "cell_type": "code",
   "execution_count": 271,
   "metadata": {},
   "outputs": [
    {
     "data": {
      "text/html": [
       "<div>\n",
       "<style scoped>\n",
       "    .dataframe tbody tr th:only-of-type {\n",
       "        vertical-align: middle;\n",
       "    }\n",
       "\n",
       "    .dataframe tbody tr th {\n",
       "        vertical-align: top;\n",
       "    }\n",
       "\n",
       "    .dataframe thead th {\n",
       "        text-align: right;\n",
       "    }\n",
       "</style>\n",
       "<table border=\"1\" class=\"dataframe\">\n",
       "  <thead>\n",
       "    <tr style=\"text-align: right;\">\n",
       "      <th></th>\n",
       "      <th>Col2</th>\n",
       "      <th>Col3</th>\n",
       "      <th>Col4</th>\n",
       "    </tr>\n",
       "    <tr>\n",
       "      <th>Col1</th>\n",
       "      <th></th>\n",
       "      <th></th>\n",
       "      <th></th>\n",
       "    </tr>\n",
       "  </thead>\n",
       "  <tbody>\n",
       "    <tr>\n",
       "      <th>A</th>\n",
       "      <td>9</td>\n",
       "      <td>3</td>\n",
       "      <td>1</td>\n",
       "    </tr>\n",
       "    <tr>\n",
       "      <th>B</th>\n",
       "      <td>1</td>\n",
       "      <td>4</td>\n",
       "      <td>6</td>\n",
       "    </tr>\n",
       "    <tr>\n",
       "      <th>C</th>\n",
       "      <td>1</td>\n",
       "      <td>2</td>\n",
       "      <td>1</td>\n",
       "    </tr>\n",
       "  </tbody>\n",
       "</table>\n",
       "</div>"
      ],
      "text/plain": [
       "      Col2  Col3  Col4\n",
       "Col1                  \n",
       "A        9     3     1\n",
       "B        1     4     6\n",
       "C        1     2     1"
      ]
     },
     "execution_count": 271,
     "metadata": {},
     "output_type": "execute_result"
    }
   ],
   "source": [
    "df.groupby(['Col1']).min()"
   ]
  },
  {
   "cell_type": "code",
   "execution_count": 272,
   "metadata": {},
   "outputs": [
    {
     "data": {
      "text/html": [
       "<div>\n",
       "<style scoped>\n",
       "    .dataframe tbody tr th:only-of-type {\n",
       "        vertical-align: middle;\n",
       "    }\n",
       "\n",
       "    .dataframe tbody tr th {\n",
       "        vertical-align: top;\n",
       "    }\n",
       "\n",
       "    .dataframe thead th {\n",
       "        text-align: right;\n",
       "    }\n",
       "</style>\n",
       "<table border=\"1\" class=\"dataframe\">\n",
       "  <thead>\n",
       "    <tr style=\"text-align: right;\">\n",
       "      <th></th>\n",
       "      <th>Col2</th>\n",
       "      <th>Col3</th>\n",
       "      <th>Col4</th>\n",
       "    </tr>\n",
       "    <tr>\n",
       "      <th>Col1</th>\n",
       "      <th></th>\n",
       "      <th></th>\n",
       "      <th></th>\n",
       "    </tr>\n",
       "  </thead>\n",
       "  <tbody>\n",
       "    <tr>\n",
       "      <th>A</th>\n",
       "      <td>10</td>\n",
       "      <td>4</td>\n",
       "      <td>5</td>\n",
       "    </tr>\n",
       "    <tr>\n",
       "      <th>B</th>\n",
       "      <td>1</td>\n",
       "      <td>4</td>\n",
       "      <td>6</td>\n",
       "    </tr>\n",
       "    <tr>\n",
       "      <th>C</th>\n",
       "      <td>4</td>\n",
       "      <td>6</td>\n",
       "      <td>9</td>\n",
       "    </tr>\n",
       "  </tbody>\n",
       "</table>\n",
       "</div>"
      ],
      "text/plain": [
       "      Col2  Col3  Col4\n",
       "Col1                  \n",
       "A       10     4     5\n",
       "B        1     4     6\n",
       "C        4     6     9"
      ]
     },
     "execution_count": 272,
     "metadata": {},
     "output_type": "execute_result"
    }
   ],
   "source": [
    "df.groupby(['Col1']).max()"
   ]
  },
  {
   "cell_type": "code",
   "execution_count": 273,
   "metadata": {},
   "outputs": [
    {
     "data": {
      "text/html": [
       "<div>\n",
       "<style scoped>\n",
       "    .dataframe tbody tr th:only-of-type {\n",
       "        vertical-align: middle;\n",
       "    }\n",
       "\n",
       "    .dataframe tbody tr th {\n",
       "        vertical-align: top;\n",
       "    }\n",
       "\n",
       "    .dataframe thead th {\n",
       "        text-align: right;\n",
       "    }\n",
       "</style>\n",
       "<table border=\"1\" class=\"dataframe\">\n",
       "  <thead>\n",
       "    <tr style=\"text-align: right;\">\n",
       "      <th></th>\n",
       "      <th>Col2</th>\n",
       "      <th>Col3</th>\n",
       "      <th>Col4</th>\n",
       "    </tr>\n",
       "    <tr>\n",
       "      <th>Col1</th>\n",
       "      <th></th>\n",
       "      <th></th>\n",
       "      <th></th>\n",
       "    </tr>\n",
       "  </thead>\n",
       "  <tbody>\n",
       "    <tr>\n",
       "      <th>A</th>\n",
       "      <td>2</td>\n",
       "      <td>2</td>\n",
       "      <td>2</td>\n",
       "    </tr>\n",
       "    <tr>\n",
       "      <th>B</th>\n",
       "      <td>1</td>\n",
       "      <td>1</td>\n",
       "      <td>1</td>\n",
       "    </tr>\n",
       "    <tr>\n",
       "      <th>C</th>\n",
       "      <td>2</td>\n",
       "      <td>2</td>\n",
       "      <td>2</td>\n",
       "    </tr>\n",
       "  </tbody>\n",
       "</table>\n",
       "</div>"
      ],
      "text/plain": [
       "      Col2  Col3  Col4\n",
       "Col1                  \n",
       "A        2     2     2\n",
       "B        1     1     1\n",
       "C        2     2     2"
      ]
     },
     "execution_count": 273,
     "metadata": {},
     "output_type": "execute_result"
    }
   ],
   "source": [
    "df.groupby(['Col1']).count() # returns DataFrame"
   ]
  },
  {
   "cell_type": "code",
   "execution_count": 274,
   "metadata": {},
   "outputs": [
    {
     "data": {
      "text/plain": [
       "Col1\n",
       "A    2\n",
       "B    1\n",
       "C    2\n",
       "Name: Col2, dtype: int64"
      ]
     },
     "execution_count": 274,
     "metadata": {},
     "output_type": "execute_result"
    }
   ],
   "source": [
    "df.groupby(['Col1']).count()['Col2'] # returns Series"
   ]
  },
  {
   "cell_type": "code",
   "execution_count": 275,
   "metadata": {},
   "outputs": [
    {
     "data": {
      "text/html": [
       "<div>\n",
       "<style scoped>\n",
       "    .dataframe tbody tr th:only-of-type {\n",
       "        vertical-align: middle;\n",
       "    }\n",
       "\n",
       "    .dataframe tbody tr th {\n",
       "        vertical-align: top;\n",
       "    }\n",
       "\n",
       "    .dataframe thead th {\n",
       "        text-align: right;\n",
       "    }\n",
       "</style>\n",
       "<table border=\"1\" class=\"dataframe\">\n",
       "  <thead>\n",
       "    <tr style=\"text-align: right;\">\n",
       "      <th></th>\n",
       "      <th>Col2</th>\n",
       "    </tr>\n",
       "    <tr>\n",
       "      <th>Col1</th>\n",
       "      <th></th>\n",
       "    </tr>\n",
       "  </thead>\n",
       "  <tbody>\n",
       "    <tr>\n",
       "      <th>A</th>\n",
       "      <td>2</td>\n",
       "    </tr>\n",
       "    <tr>\n",
       "      <th>B</th>\n",
       "      <td>1</td>\n",
       "    </tr>\n",
       "    <tr>\n",
       "      <th>C</th>\n",
       "      <td>2</td>\n",
       "    </tr>\n",
       "  </tbody>\n",
       "</table>\n",
       "</div>"
      ],
      "text/plain": [
       "      Col2\n",
       "Col1      \n",
       "A        2\n",
       "B        1\n",
       "C        2"
      ]
     },
     "execution_count": 275,
     "metadata": {},
     "output_type": "execute_result"
    }
   ],
   "source": [
    "df.groupby(['Col1']).count()[['Col2']] # returns DataFrame"
   ]
  },
  {
   "cell_type": "markdown",
   "metadata": {},
   "source": [
    "# Series"
   ]
  },
  {
   "cell_type": "code",
   "execution_count": 198,
   "metadata": {},
   "outputs": [
    {
     "name": "stdout",
     "output_type": "stream",
     "text": [
      "Series([], dtype: float64)\n"
     ]
    }
   ],
   "source": [
    "ser = pd.Series() \n",
    "print(ser)"
   ]
  },
  {
   "cell_type": "code",
   "execution_count": 171,
   "metadata": {},
   "outputs": [
    {
     "name": "stdout",
     "output_type": "stream",
     "text": [
      "0    g\n",
      "1    e\n",
      "2    e\n",
      "3    k\n",
      "4    s\n",
      "dtype: object\n"
     ]
    }
   ],
   "source": [
    "# Create series from array\n",
    "data = np.array(['g','e','e','k','s'])\n",
    "ser = pd.Series(data)\n",
    "print(ser)"
   ]
  },
  {
   "cell_type": "code",
   "execution_count": 199,
   "metadata": {},
   "outputs": [
    {
     "name": "stdout",
     "output_type": "stream",
     "text": [
      "10    g\n",
      "11    e\n",
      "12    e\n",
      "13    k\n",
      "14    s\n",
      "dtype: object\n"
     ]
    }
   ],
   "source": [
    "data = np.array(['g', 'e', 'e', 'k', 's']) \n",
    "\n",
    "# providing an index \n",
    "ser = pd.Series(data, index =[10, 11, 12, 13, 14]) \n",
    "print(ser) "
   ]
  },
  {
   "cell_type": "code",
   "execution_count": 172,
   "metadata": {},
   "outputs": [
    {
     "name": "stdout",
     "output_type": "stream",
     "text": [
      "0    g\n",
      "1    e\n",
      "2    e\n",
      "3    k\n",
      "4    s\n",
      "dtype: object\n"
     ]
    }
   ],
   "source": [
    "# Create series from list\n",
    "list = ['g', 'e', 'e', 'k', 's']\n",
    "ser = pd.Series(list)\n",
    "print(ser)"
   ]
  },
  {
   "cell_type": "code",
   "execution_count": 200,
   "metadata": {},
   "outputs": [
    {
     "name": "stdout",
     "output_type": "stream",
     "text": [
      "Geeks    10\n",
      "for      20\n",
      "geeks    30\n",
      "dtype: int64\n"
     ]
    }
   ],
   "source": [
    "# Create series from dict\n",
    "dict = {'Geeks' : 10, \n",
    "        'for' : 20, \n",
    "        'geeks' : 30}\n",
    "ser = pd.Series(dict) \n",
    "print(ser) "
   ]
  },
  {
   "cell_type": "code",
   "execution_count": 201,
   "metadata": {},
   "outputs": [
    {
     "name": "stdout",
     "output_type": "stream",
     "text": [
      "0    10\n",
      "1    10\n",
      "2    10\n",
      "3    10\n",
      "4    10\n",
      "5    10\n",
      "dtype: int64\n"
     ]
    }
   ],
   "source": [
    "# Create series from scalar value\n",
    "ser = pd.Series(10, index =[0, 1, 2, 3, 4, 5]) \n",
    "  \n",
    "print(ser)"
   ]
  },
  {
   "cell_type": "code",
   "execution_count": 204,
   "metadata": {},
   "outputs": [
    {
     "name": "stdout",
     "output_type": "stream",
     "text": [
      "0     3.0\n",
      "1    18.0\n",
      "2    33.0\n",
      "dtype: float64\n",
      "\n",
      " 0      1.0\n",
      "1     12.0\n",
      "2     23.0\n",
      "3     34.0\n",
      "4     45.0\n",
      "5     56.0\n",
      "6     67.0\n",
      "7     78.0\n",
      "8     89.0\n",
      "9    100.0\n",
      "dtype: float64\n"
     ]
    }
   ],
   "source": [
    "# Create series using numpy function\n",
    "ser1 = pd.Series(np.linspace(3, 33, 3))  \n",
    "print(ser1)  \n",
    "\n",
    "ser2 = pd.Series(np.linspace(1, 100, 10))  \n",
    "print(\"\\n\", ser2)  "
   ]
  },
  {
   "cell_type": "markdown",
   "metadata": {},
   "source": [
    "### Creating dataframe using series"
   ]
  },
  {
   "cell_type": "code",
   "execution_count": 206,
   "metadata": {},
   "outputs": [
    {
     "data": {
      "text/html": [
       "<div>\n",
       "<style scoped>\n",
       "    .dataframe tbody tr th:only-of-type {\n",
       "        vertical-align: middle;\n",
       "    }\n",
       "\n",
       "    .dataframe tbody tr th {\n",
       "        vertical-align: top;\n",
       "    }\n",
       "\n",
       "    .dataframe thead th {\n",
       "        text-align: right;\n",
       "    }\n",
       "</style>\n",
       "<table border=\"1\" class=\"dataframe\">\n",
       "  <thead>\n",
       "    <tr style=\"text-align: right;\">\n",
       "      <th></th>\n",
       "      <th>first</th>\n",
       "      <th>second</th>\n",
       "      <th>third</th>\n",
       "    </tr>\n",
       "  </thead>\n",
       "  <tbody>\n",
       "    <tr>\n",
       "      <th>0</th>\n",
       "      <td>1</td>\n",
       "      <td>1.1</td>\n",
       "      <td>a</td>\n",
       "    </tr>\n",
       "    <tr>\n",
       "      <th>1</th>\n",
       "      <td>3</td>\n",
       "      <td>3.5</td>\n",
       "      <td>b</td>\n",
       "    </tr>\n",
       "    <tr>\n",
       "      <th>2</th>\n",
       "      <td>4</td>\n",
       "      <td>4.7</td>\n",
       "      <td>c</td>\n",
       "    </tr>\n",
       "    <tr>\n",
       "      <th>3</th>\n",
       "      <td>5</td>\n",
       "      <td>5.8</td>\n",
       "      <td>d</td>\n",
       "    </tr>\n",
       "    <tr>\n",
       "      <th>4</th>\n",
       "      <td>6</td>\n",
       "      <td>2.9</td>\n",
       "      <td>e</td>\n",
       "    </tr>\n",
       "    <tr>\n",
       "      <th>5</th>\n",
       "      <td>2</td>\n",
       "      <td>9.3</td>\n",
       "      <td>NaN</td>\n",
       "    </tr>\n",
       "    <tr>\n",
       "      <th>6</th>\n",
       "      <td>9</td>\n",
       "      <td>NaN</td>\n",
       "      <td>NaN</td>\n",
       "    </tr>\n",
       "  </tbody>\n",
       "</table>\n",
       "</div>"
      ],
      "text/plain": [
       "   first  second third\n",
       "0      1     1.1     a\n",
       "1      3     3.5     b\n",
       "2      4     4.7     c\n",
       "3      5     5.8     d\n",
       "4      6     2.9     e\n",
       "5      2     9.3   NaN\n",
       "6      9     NaN   NaN"
      ]
     },
     "execution_count": 206,
     "metadata": {},
     "output_type": "execute_result"
    }
   ],
   "source": [
    "s1 = pd.Series([1, 3, 4, 5, 6, 2, 9])           # Define series 1 \n",
    "s2 = pd.Series([1.1, 3.5, 4.7, 5.8, 2.9, 9.3]) # Define series 2 \n",
    "s3 = pd.Series(['a', 'b', 'c', 'd', 'e'])     # Define series 3 \n",
    "  \n",
    "Data ={'first':s1, 'second':s2, 'third':s3} # Define Data \n",
    "dfseries = pd.DataFrame(Data) \n",
    "dfseries"
   ]
  },
  {
   "cell_type": "markdown",
   "metadata": {},
   "source": [
    "### Access elements of series\n",
    "### There are two ways through which we can access element of series, they are :\n",
    "\n",
    "##### Accessing Element from Series with Position\n",
    "##### Accessing Element Using Label (index)"
   ]
  },
  {
   "cell_type": "code",
   "execution_count": 173,
   "metadata": {},
   "outputs": [
    {
     "name": "stdout",
     "output_type": "stream",
     "text": [
      "0    g\n",
      "1    e\n",
      "2    e\n",
      "3    k\n",
      "4    s\n",
      "dtype: object\n"
     ]
    }
   ],
   "source": [
    "data = np.array(['g','e','e','k','s','f', 'o','r','g','e','e','k','s'])\n",
    "ser = pd.Series(data)  \n",
    "#retrieve the first element\n",
    "print(ser[:5])"
   ]
  },
  {
   "cell_type": "code",
   "execution_count": 174,
   "metadata": {},
   "outputs": [
    {
     "name": "stdout",
     "output_type": "stream",
     "text": [
      "o\n"
     ]
    }
   ],
   "source": [
    "data = np.array(['g','e','e','k','s','f', 'o','r','g','e','e','k','s'])\n",
    "ser = pd.Series(data,index=[10,11,12,13,14,15,16,17,18,19,20,21,22])\n",
    "# accessing a element using index element\n",
    "print(ser[16])"
   ]
  },
  {
   "cell_type": "markdown",
   "metadata": {},
   "source": [
    "### Indexing and Selecting Data in Series"
   ]
  },
  {
   "cell_type": "code",
   "execution_count": 177,
   "metadata": {},
   "outputs": [
    {
     "data": {
      "text/html": [
       "<div>\n",
       "<style scoped>\n",
       "    .dataframe tbody tr th:only-of-type {\n",
       "        vertical-align: middle;\n",
       "    }\n",
       "\n",
       "    .dataframe tbody tr th {\n",
       "        vertical-align: top;\n",
       "    }\n",
       "\n",
       "    .dataframe thead th {\n",
       "        text-align: right;\n",
       "    }\n",
       "</style>\n",
       "<table border=\"1\" class=\"dataframe\">\n",
       "  <thead>\n",
       "    <tr style=\"text-align: right;\">\n",
       "      <th></th>\n",
       "      <th>degree</th>\n",
       "      <th>name</th>\n",
       "      <th>score</th>\n",
       "    </tr>\n",
       "  </thead>\n",
       "  <tbody>\n",
       "    <tr>\n",
       "      <th>0</th>\n",
       "      <td>MBA</td>\n",
       "      <td>aparna</td>\n",
       "      <td>90</td>\n",
       "    </tr>\n",
       "    <tr>\n",
       "      <th>1</th>\n",
       "      <td>BCA</td>\n",
       "      <td>pankaj</td>\n",
       "      <td>40</td>\n",
       "    </tr>\n",
       "    <tr>\n",
       "      <th>2</th>\n",
       "      <td>M.Tech</td>\n",
       "      <td>sudhir</td>\n",
       "      <td>80</td>\n",
       "    </tr>\n",
       "    <tr>\n",
       "      <th>3</th>\n",
       "      <td>MBA</td>\n",
       "      <td>Geeku</td>\n",
       "      <td>98</td>\n",
       "    </tr>\n",
       "  </tbody>\n",
       "</table>\n",
       "</div>"
      ],
      "text/plain": [
       "   degree    name  score\n",
       "0     MBA  aparna     90\n",
       "1     BCA  pankaj     40\n",
       "2  M.Tech  sudhir     80\n",
       "3     MBA   Geeku     98"
      ]
     },
     "execution_count": 177,
     "metadata": {},
     "output_type": "execute_result"
    }
   ],
   "source": [
    "dict = {'name':[\"aparna\", \"pankaj\", \"sudhir\", \"Geeku\"], \n",
    "        'degree': [\"MBA\", \"BCA\", \"M.Tech\", \"MBA\"], \n",
    "        'score':[90, 40, 80, 98]} \n",
    "df = pd.DataFrame(dict)\n",
    "df"
   ]
  },
  {
   "cell_type": "code",
   "execution_count": 180,
   "metadata": {},
   "outputs": [
    {
     "data": {
      "text/plain": [
       "0    aparna\n",
       "1    pankaj\n",
       "2    sudhir\n",
       "3     Geeku\n",
       "Name: name, dtype: object"
      ]
     },
     "execution_count": 180,
     "metadata": {},
     "output_type": "execute_result"
    }
   ],
   "source": [
    "ser = pd.Series(df['name']) \n",
    "data = ser.head(4)\n",
    "data"
   ]
  },
  {
   "cell_type": "code",
   "execution_count": 181,
   "metadata": {},
   "outputs": [
    {
     "data": {
      "text/plain": [
       "1    pankaj\n",
       "2    sudhir\n",
       "Name: name, dtype: object"
      ]
     },
     "execution_count": 181,
     "metadata": {},
     "output_type": "execute_result"
    }
   ],
   "source": [
    "# using indexing operator\n",
    "data[1:3] "
   ]
  },
  {
   "cell_type": "code",
   "execution_count": 183,
   "metadata": {},
   "outputs": [
    {
     "data": {
      "text/plain": [
       "1    pankaj\n",
       "2    sudhir\n",
       "3     Geeku\n",
       "Name: name, dtype: object"
      ]
     },
     "execution_count": 183,
     "metadata": {},
     "output_type": "execute_result"
    }
   ],
   "source": [
    "# using .loc[] function\n",
    "data.loc[1:3]"
   ]
  },
  {
   "cell_type": "code",
   "execution_count": 184,
   "metadata": {},
   "outputs": [
    {
     "data": {
      "text/plain": [
       "1    pankaj\n",
       "2    sudhir\n",
       "Name: name, dtype: object"
      ]
     },
     "execution_count": 184,
     "metadata": {},
     "output_type": "execute_result"
    }
   ],
   "source": [
    "# using .iloc[] function\n",
    "data.iloc[1:3]"
   ]
  },
  {
   "cell_type": "markdown",
   "metadata": {},
   "source": [
    "### Binary Operation on Series"
   ]
  },
  {
   "cell_type": "code",
   "execution_count": 187,
   "metadata": {},
   "outputs": [
    {
     "name": "stdout",
     "output_type": "stream",
     "text": [
      "a    5\n",
      "b    2\n",
      "c    3\n",
      "d    7\n",
      "dtype: int64 \n",
      "\n",
      " a    1\n",
      "b    6\n",
      "d    4\n",
      "e    9\n",
      "dtype: int64\n"
     ]
    },
    {
     "data": {
      "text/plain": [
       "a     6.0\n",
       "b     8.0\n",
       "c     3.0\n",
       "d    11.0\n",
       "e     9.0\n",
       "dtype: float64"
      ]
     },
     "execution_count": 187,
     "metadata": {},
     "output_type": "execute_result"
    }
   ],
   "source": [
    "data = pd.Series([5, 2, 3,7], index=['a', 'b', 'c', 'd'])\n",
    "data1 = pd.Series([1, 6, 4, 9], index=['a', 'b', 'd', 'e'])\n",
    "print(data, \"\\n\\n\", data1)\n",
    "\n",
    "# adding two series using\n",
    "# .add\n",
    "data.add(data1, fill_value=0)"
   ]
  },
  {
   "cell_type": "code",
   "execution_count": 188,
   "metadata": {},
   "outputs": [
    {
     "name": "stdout",
     "output_type": "stream",
     "text": [
      "a    5\n",
      "b    2\n",
      "c    3\n",
      "d    7\n",
      "dtype: int64 \n",
      "\n",
      " a    1\n",
      "b    6\n",
      "d    4\n",
      "e    9\n",
      "dtype: int64\n"
     ]
    },
    {
     "data": {
      "text/plain": [
       "a    4.0\n",
       "b   -4.0\n",
       "c    3.0\n",
       "d    3.0\n",
       "e   -9.0\n",
       "dtype: float64"
      ]
     },
     "execution_count": 188,
     "metadata": {},
     "output_type": "execute_result"
    }
   ],
   "source": [
    "data = pd.Series([5, 2, 3,7], index=['a', 'b', 'c', 'd'])\n",
    "data1 = pd.Series([1, 6, 4, 9], index=['a', 'b', 'd', 'e']) \n",
    "print(data, \"\\n\\n\", data1)\n",
    "\n",
    "# subtracting two series using\n",
    "# .sub\n",
    "data.sub(data1, fill_value=0)"
   ]
  },
  {
   "cell_type": "markdown",
   "metadata": {},
   "source": [
    "### Conversion Operation on Series"
   ]
  },
  {
   "cell_type": "code",
   "execution_count": 194,
   "metadata": {},
   "outputs": [
    {
     "name": "stdout",
     "output_type": "stream",
     "text": [
      "BEFORE CONVERSION\n",
      " degree    object\n",
      "name      object\n",
      "score      int64\n",
      "dtype: object \n",
      "\n",
      "AFTER CONVERSION\n",
      " degree     object\n",
      "name       object\n",
      "score     float64\n",
      "dtype: object \n",
      "\n"
     ]
    }
   ],
   "source": [
    "dict = {'name':[\"aparna\", \"pankaj\", \"sudhir\", \"Geeku\"], \n",
    "        'degree': [\"MBA\", \"BCA\", \"M.Tech\", \"MBA\"], \n",
    "        'score':[90, 40, 80, 98]} \n",
    "data = pd.DataFrame(dict)\n",
    "data\n",
    "\n",
    "before = data.dtypes \n",
    "\n",
    "# converting dtypes using astype \n",
    "data[\"score\"]= data[\"score\"].astype(float) \n",
    "# storing dtype after converting \n",
    "after = data.dtypes\n",
    "# printing to compare \n",
    "print(\"BEFORE CONVERSION\\n\", before, \"\\n\") \n",
    "print(\"AFTER CONVERSION\\n\", after, \"\\n\") "
   ]
  },
  {
   "cell_type": "code",
   "execution_count": 196,
   "metadata": {},
   "outputs": [
    {
     "name": "stdout",
     "output_type": "stream",
     "text": [
      "Data type before converting = <class 'pandas.core.series.Series'>\n",
      "Data type after converting = <class 'list'>\n"
     ]
    },
    {
     "data": {
      "text/plain": [
       "['MBA', 'BCA', 'M.Tech', 'MBA']"
      ]
     },
     "execution_count": 196,
     "metadata": {},
     "output_type": "execute_result"
    }
   ],
   "source": [
    "# storing dtype before operation \n",
    "dtype_before = type(data[\"degree\"]) \n",
    "\n",
    "# converting to list \n",
    "salary_list = data[\"degree\"].tolist() \n",
    "   \n",
    "# storing dtype after operation \n",
    "dtype_after = type(salary_list) \n",
    "   \n",
    "# printing dtype \n",
    "print(\"Data type before converting = {}\\nData type after converting = {}\"\n",
    "      .format(dtype_before, dtype_after)) \n",
    "# displaying list \n",
    "salary_list "
   ]
  },
  {
   "cell_type": "markdown",
   "metadata": {},
   "source": [
    "# Concat\n",
    "\n",
    "#### In order to concat dataframe, we use concat() function which helps in concatenating a dataframe. We can concat a dataframe in many different ways, they are:\n",
    "\n",
    "###### Concatenating DataFrame using .concat()\n",
    "###### Concatenating DataFrame by setting logic on axes\n",
    "###### Concatenating DataFrame using .append()\n",
    "###### Concatenating DataFrame by ignoring indexes\n",
    "###### Concatenating DataFrame with group keys\n",
    "###### Concatenating with mixed ndims"
   ]
  },
  {
   "cell_type": "code",
   "execution_count": 154,
   "metadata": {},
   "outputs": [
    {
     "name": "stdout",
     "output_type": "stream",
     "text": [
      "     Address  Age    Name Qualification\n",
      "0     Nagpur   27     Jai           Msc\n",
      "1     Kanpur   24  Princi            MA\n",
      "2  Allahabad   22  Gaurav           MCA\n",
      "3    Kannuaj   32    Anuj           Phd \n",
      "\n",
      "      Address  Age    Name Qualification\n",
      "4     Nagpur   17    Abhi         Btech\n",
      "5     Kanpur   14  Ayushi           B.A\n",
      "6  Allahabad   12  Dhiraj          Bcom\n",
      "7    Kannuaj   52  Hitesh        B.hons\n"
     ]
    },
    {
     "data": {
      "text/html": [
       "<div>\n",
       "<style scoped>\n",
       "    .dataframe tbody tr th:only-of-type {\n",
       "        vertical-align: middle;\n",
       "    }\n",
       "\n",
       "    .dataframe tbody tr th {\n",
       "        vertical-align: top;\n",
       "    }\n",
       "\n",
       "    .dataframe thead th {\n",
       "        text-align: right;\n",
       "    }\n",
       "</style>\n",
       "<table border=\"1\" class=\"dataframe\">\n",
       "  <thead>\n",
       "    <tr style=\"text-align: right;\">\n",
       "      <th></th>\n",
       "      <th>Address</th>\n",
       "      <th>Age</th>\n",
       "      <th>Name</th>\n",
       "      <th>Qualification</th>\n",
       "    </tr>\n",
       "  </thead>\n",
       "  <tbody>\n",
       "    <tr>\n",
       "      <th>0</th>\n",
       "      <td>Nagpur</td>\n",
       "      <td>27</td>\n",
       "      <td>Jai</td>\n",
       "      <td>Msc</td>\n",
       "    </tr>\n",
       "    <tr>\n",
       "      <th>1</th>\n",
       "      <td>Kanpur</td>\n",
       "      <td>24</td>\n",
       "      <td>Princi</td>\n",
       "      <td>MA</td>\n",
       "    </tr>\n",
       "    <tr>\n",
       "      <th>2</th>\n",
       "      <td>Allahabad</td>\n",
       "      <td>22</td>\n",
       "      <td>Gaurav</td>\n",
       "      <td>MCA</td>\n",
       "    </tr>\n",
       "    <tr>\n",
       "      <th>3</th>\n",
       "      <td>Kannuaj</td>\n",
       "      <td>32</td>\n",
       "      <td>Anuj</td>\n",
       "      <td>Phd</td>\n",
       "    </tr>\n",
       "    <tr>\n",
       "      <th>4</th>\n",
       "      <td>Nagpur</td>\n",
       "      <td>17</td>\n",
       "      <td>Abhi</td>\n",
       "      <td>Btech</td>\n",
       "    </tr>\n",
       "    <tr>\n",
       "      <th>5</th>\n",
       "      <td>Kanpur</td>\n",
       "      <td>14</td>\n",
       "      <td>Ayushi</td>\n",
       "      <td>B.A</td>\n",
       "    </tr>\n",
       "    <tr>\n",
       "      <th>6</th>\n",
       "      <td>Allahabad</td>\n",
       "      <td>12</td>\n",
       "      <td>Dhiraj</td>\n",
       "      <td>Bcom</td>\n",
       "    </tr>\n",
       "    <tr>\n",
       "      <th>7</th>\n",
       "      <td>Kannuaj</td>\n",
       "      <td>52</td>\n",
       "      <td>Hitesh</td>\n",
       "      <td>B.hons</td>\n",
       "    </tr>\n",
       "  </tbody>\n",
       "</table>\n",
       "</div>"
      ],
      "text/plain": [
       "     Address  Age    Name Qualification\n",
       "0     Nagpur   27     Jai           Msc\n",
       "1     Kanpur   24  Princi            MA\n",
       "2  Allahabad   22  Gaurav           MCA\n",
       "3    Kannuaj   32    Anuj           Phd\n",
       "4     Nagpur   17    Abhi         Btech\n",
       "5     Kanpur   14  Ayushi           B.A\n",
       "6  Allahabad   12  Dhiraj          Bcom\n",
       "7    Kannuaj   52  Hitesh        B.hons"
      ]
     },
     "execution_count": 154,
     "metadata": {},
     "output_type": "execute_result"
    }
   ],
   "source": [
    "# Define a dictionary containing employee data \n",
    "data1 = {'Name':['Jai', 'Princi', 'Gaurav', 'Anuj'], \n",
    "        'Age':[27, 24, 22, 32], \n",
    "        'Address':['Nagpur', 'Kanpur', 'Allahabad', 'Kannuaj'], \n",
    "        'Qualification':['Msc', 'MA', 'MCA', 'Phd']} \n",
    "   \n",
    "# Define a dictionary containing employee data \n",
    "data2 = {'Name':['Abhi', 'Ayushi', 'Dhiraj', 'Hitesh'], \n",
    "        'Age':[17, 14, 12, 52], \n",
    "        'Address':['Nagpur', 'Kanpur', 'Allahabad', 'Kannuaj'], \n",
    "        'Qualification':['Btech', 'B.A', 'Bcom', 'B.hons']} \n",
    " \n",
    "# Convert the dictionary into DataFrame  \n",
    "df = pd.DataFrame(data1,index=[0, 1, 2, 3])\n",
    " \n",
    "# Convert the dictionary into DataFrame  \n",
    "df1 = pd.DataFrame(data2, index=[4, 5, 6, 7])\n",
    " \n",
    "print(df, \"\\n\\n\", df1) \n",
    "\n",
    "# using a .concat() method\n",
    "frames = [df, df1]\n",
    " \n",
    "res1 = pd.concat(frames)\n",
    "res1"
   ]
  },
  {
   "cell_type": "code",
   "execution_count": 156,
   "metadata": {},
   "outputs": [
    {
     "name": "stdout",
     "output_type": "stream",
     "text": [
      "     Address  Age  Mobile No    Name Qualification\n",
      "0     Nagpur   27         97     Jai           Msc\n",
      "1     Kanpur   24         91  Princi            MA\n",
      "2  Allahabad   22         58  Gaurav           MCA\n",
      "3    Kannuaj   32         76    Anuj           Phd \n",
      "\n",
      "      Address  Age    Name Qualification  Salary\n",
      "2  Allahabad   22  Gaurav           MCA    1000\n",
      "3    Kannuaj   32    Anuj           Phd    2000\n",
      "6  Allahabad   12  Dhiraj          Bcom    3000\n",
      "7    Kannuaj   52  Hitesh        B.hons    4000\n"
     ]
    },
    {
     "data": {
      "text/html": [
       "<div>\n",
       "<style scoped>\n",
       "    .dataframe tbody tr th:only-of-type {\n",
       "        vertical-align: middle;\n",
       "    }\n",
       "\n",
       "    .dataframe tbody tr th {\n",
       "        vertical-align: top;\n",
       "    }\n",
       "\n",
       "    .dataframe thead th {\n",
       "        text-align: right;\n",
       "    }\n",
       "</style>\n",
       "<table border=\"1\" class=\"dataframe\">\n",
       "  <thead>\n",
       "    <tr style=\"text-align: right;\">\n",
       "      <th></th>\n",
       "      <th>Address</th>\n",
       "      <th>Age</th>\n",
       "      <th>Mobile No</th>\n",
       "      <th>Name</th>\n",
       "      <th>Qualification</th>\n",
       "      <th>Address</th>\n",
       "      <th>Age</th>\n",
       "      <th>Name</th>\n",
       "      <th>Qualification</th>\n",
       "      <th>Salary</th>\n",
       "    </tr>\n",
       "  </thead>\n",
       "  <tbody>\n",
       "    <tr>\n",
       "      <th>2</th>\n",
       "      <td>Allahabad</td>\n",
       "      <td>22</td>\n",
       "      <td>58</td>\n",
       "      <td>Gaurav</td>\n",
       "      <td>MCA</td>\n",
       "      <td>Allahabad</td>\n",
       "      <td>22</td>\n",
       "      <td>Gaurav</td>\n",
       "      <td>MCA</td>\n",
       "      <td>1000</td>\n",
       "    </tr>\n",
       "    <tr>\n",
       "      <th>3</th>\n",
       "      <td>Kannuaj</td>\n",
       "      <td>32</td>\n",
       "      <td>76</td>\n",
       "      <td>Anuj</td>\n",
       "      <td>Phd</td>\n",
       "      <td>Kannuaj</td>\n",
       "      <td>32</td>\n",
       "      <td>Anuj</td>\n",
       "      <td>Phd</td>\n",
       "      <td>2000</td>\n",
       "    </tr>\n",
       "  </tbody>\n",
       "</table>\n",
       "</div>"
      ],
      "text/plain": [
       "     Address  Age  Mobile No    Name Qualification    Address  Age    Name  \\\n",
       "2  Allahabad   22         58  Gaurav           MCA  Allahabad   22  Gaurav   \n",
       "3    Kannuaj   32         76    Anuj           Phd    Kannuaj   32    Anuj   \n",
       "\n",
       "  Qualification  Salary  \n",
       "2           MCA    1000  \n",
       "3           Phd    2000  "
      ]
     },
     "execution_count": 156,
     "metadata": {},
     "output_type": "execute_result"
    }
   ],
   "source": [
    "# Define a dictionary containing employee data \n",
    "data1 = {'Name':['Jai', 'Princi', 'Gaurav', 'Anuj'], \n",
    "        'Age':[27, 24, 22, 32], \n",
    "        'Address':['Nagpur', 'Kanpur', 'Allahabad', 'Kannuaj'], \n",
    "        'Qualification':['Msc', 'MA', 'MCA', 'Phd'],\n",
    "        'Mobile No': [97, 91, 58, 76]} \n",
    "   \n",
    "# Define a dictionary containing employee data \n",
    "data2 = {'Name':['Gaurav', 'Anuj', 'Dhiraj', 'Hitesh'], \n",
    "        'Age':[22, 32, 12, 52], \n",
    "        'Address':['Allahabad', 'Kannuaj', 'Allahabad', 'Kannuaj'], \n",
    "        'Qualification':['MCA', 'Phd', 'Bcom', 'B.hons'],\n",
    "        'Salary':[1000, 2000, 3000, 4000]} \n",
    " \n",
    "# Convert the dictionary into DataFrame  \n",
    "df = pd.DataFrame(data1,index=[0, 1, 2, 3])\n",
    " \n",
    "# Convert the dictionary into DataFrame  \n",
    "df1 = pd.DataFrame(data2, index=[2, 3, 6, 7]) \n",
    " \n",
    "print(df, \"\\n\\n\", df1) \n",
    "\n",
    "res2 = pd.concat([df, df1], axis=1, join='inner')\n",
    "res2"
   ]
  },
  {
   "cell_type": "code",
   "execution_count": 157,
   "metadata": {},
   "outputs": [
    {
     "data": {
      "text/html": [
       "<div>\n",
       "<style scoped>\n",
       "    .dataframe tbody tr th:only-of-type {\n",
       "        vertical-align: middle;\n",
       "    }\n",
       "\n",
       "    .dataframe tbody tr th {\n",
       "        vertical-align: top;\n",
       "    }\n",
       "\n",
       "    .dataframe thead th {\n",
       "        text-align: right;\n",
       "    }\n",
       "</style>\n",
       "<table border=\"1\" class=\"dataframe\">\n",
       "  <thead>\n",
       "    <tr style=\"text-align: right;\">\n",
       "      <th></th>\n",
       "      <th>Address</th>\n",
       "      <th>Age</th>\n",
       "      <th>Mobile No</th>\n",
       "      <th>Name</th>\n",
       "      <th>Qualification</th>\n",
       "      <th>Address</th>\n",
       "      <th>Age</th>\n",
       "      <th>Name</th>\n",
       "      <th>Qualification</th>\n",
       "      <th>Salary</th>\n",
       "    </tr>\n",
       "  </thead>\n",
       "  <tbody>\n",
       "    <tr>\n",
       "      <th>0</th>\n",
       "      <td>Nagpur</td>\n",
       "      <td>27.0</td>\n",
       "      <td>97.0</td>\n",
       "      <td>Jai</td>\n",
       "      <td>Msc</td>\n",
       "      <td>NaN</td>\n",
       "      <td>NaN</td>\n",
       "      <td>NaN</td>\n",
       "      <td>NaN</td>\n",
       "      <td>NaN</td>\n",
       "    </tr>\n",
       "    <tr>\n",
       "      <th>1</th>\n",
       "      <td>Kanpur</td>\n",
       "      <td>24.0</td>\n",
       "      <td>91.0</td>\n",
       "      <td>Princi</td>\n",
       "      <td>MA</td>\n",
       "      <td>NaN</td>\n",
       "      <td>NaN</td>\n",
       "      <td>NaN</td>\n",
       "      <td>NaN</td>\n",
       "      <td>NaN</td>\n",
       "    </tr>\n",
       "    <tr>\n",
       "      <th>2</th>\n",
       "      <td>Allahabad</td>\n",
       "      <td>22.0</td>\n",
       "      <td>58.0</td>\n",
       "      <td>Gaurav</td>\n",
       "      <td>MCA</td>\n",
       "      <td>Allahabad</td>\n",
       "      <td>22.0</td>\n",
       "      <td>Gaurav</td>\n",
       "      <td>MCA</td>\n",
       "      <td>1000.0</td>\n",
       "    </tr>\n",
       "    <tr>\n",
       "      <th>3</th>\n",
       "      <td>Kannuaj</td>\n",
       "      <td>32.0</td>\n",
       "      <td>76.0</td>\n",
       "      <td>Anuj</td>\n",
       "      <td>Phd</td>\n",
       "      <td>Kannuaj</td>\n",
       "      <td>32.0</td>\n",
       "      <td>Anuj</td>\n",
       "      <td>Phd</td>\n",
       "      <td>2000.0</td>\n",
       "    </tr>\n",
       "    <tr>\n",
       "      <th>6</th>\n",
       "      <td>NaN</td>\n",
       "      <td>NaN</td>\n",
       "      <td>NaN</td>\n",
       "      <td>NaN</td>\n",
       "      <td>NaN</td>\n",
       "      <td>Allahabad</td>\n",
       "      <td>12.0</td>\n",
       "      <td>Dhiraj</td>\n",
       "      <td>Bcom</td>\n",
       "      <td>3000.0</td>\n",
       "    </tr>\n",
       "    <tr>\n",
       "      <th>7</th>\n",
       "      <td>NaN</td>\n",
       "      <td>NaN</td>\n",
       "      <td>NaN</td>\n",
       "      <td>NaN</td>\n",
       "      <td>NaN</td>\n",
       "      <td>Kannuaj</td>\n",
       "      <td>52.0</td>\n",
       "      <td>Hitesh</td>\n",
       "      <td>B.hons</td>\n",
       "      <td>4000.0</td>\n",
       "    </tr>\n",
       "  </tbody>\n",
       "</table>\n",
       "</div>"
      ],
      "text/plain": [
       "     Address   Age  Mobile No    Name Qualification    Address   Age    Name  \\\n",
       "0     Nagpur  27.0       97.0     Jai           Msc        NaN   NaN     NaN   \n",
       "1     Kanpur  24.0       91.0  Princi            MA        NaN   NaN     NaN   \n",
       "2  Allahabad  22.0       58.0  Gaurav           MCA  Allahabad  22.0  Gaurav   \n",
       "3    Kannuaj  32.0       76.0    Anuj           Phd    Kannuaj  32.0    Anuj   \n",
       "6        NaN   NaN        NaN     NaN           NaN  Allahabad  12.0  Dhiraj   \n",
       "7        NaN   NaN        NaN     NaN           NaN    Kannuaj  52.0  Hitesh   \n",
       "\n",
       "  Qualification  Salary  \n",
       "0           NaN     NaN  \n",
       "1           NaN     NaN  \n",
       "2           MCA  1000.0  \n",
       "3           Phd  2000.0  \n",
       "6          Bcom  3000.0  \n",
       "7        B.hons  4000.0  "
      ]
     },
     "execution_count": 157,
     "metadata": {},
     "output_type": "execute_result"
    }
   ],
   "source": [
    "res2 = pd.concat([df, df1], axis=1, sort=False)\n",
    "res2"
   ]
  },
  {
   "cell_type": "code",
   "execution_count": 159,
   "metadata": {},
   "outputs": [
    {
     "data": {
      "text/html": [
       "<div>\n",
       "<style scoped>\n",
       "    .dataframe tbody tr th:only-of-type {\n",
       "        vertical-align: middle;\n",
       "    }\n",
       "\n",
       "    .dataframe tbody tr th {\n",
       "        vertical-align: top;\n",
       "    }\n",
       "\n",
       "    .dataframe thead th {\n",
       "        text-align: right;\n",
       "    }\n",
       "</style>\n",
       "<table border=\"1\" class=\"dataframe\">\n",
       "  <thead>\n",
       "    <tr style=\"text-align: right;\">\n",
       "      <th></th>\n",
       "      <th>Address</th>\n",
       "      <th>Age</th>\n",
       "      <th>Mobile No</th>\n",
       "      <th>Name</th>\n",
       "      <th>Qualification</th>\n",
       "      <th>Address</th>\n",
       "      <th>Age</th>\n",
       "      <th>Name</th>\n",
       "      <th>Qualification</th>\n",
       "      <th>Salary</th>\n",
       "    </tr>\n",
       "  </thead>\n",
       "  <tbody>\n",
       "    <tr>\n",
       "      <th>0</th>\n",
       "      <td>Nagpur</td>\n",
       "      <td>27</td>\n",
       "      <td>97</td>\n",
       "      <td>Jai</td>\n",
       "      <td>Msc</td>\n",
       "      <td>NaN</td>\n",
       "      <td>NaN</td>\n",
       "      <td>NaN</td>\n",
       "      <td>NaN</td>\n",
       "      <td>NaN</td>\n",
       "    </tr>\n",
       "    <tr>\n",
       "      <th>1</th>\n",
       "      <td>Kanpur</td>\n",
       "      <td>24</td>\n",
       "      <td>91</td>\n",
       "      <td>Princi</td>\n",
       "      <td>MA</td>\n",
       "      <td>NaN</td>\n",
       "      <td>NaN</td>\n",
       "      <td>NaN</td>\n",
       "      <td>NaN</td>\n",
       "      <td>NaN</td>\n",
       "    </tr>\n",
       "    <tr>\n",
       "      <th>2</th>\n",
       "      <td>Allahabad</td>\n",
       "      <td>22</td>\n",
       "      <td>58</td>\n",
       "      <td>Gaurav</td>\n",
       "      <td>MCA</td>\n",
       "      <td>Allahabad</td>\n",
       "      <td>22.0</td>\n",
       "      <td>Gaurav</td>\n",
       "      <td>MCA</td>\n",
       "      <td>1000.0</td>\n",
       "    </tr>\n",
       "    <tr>\n",
       "      <th>3</th>\n",
       "      <td>Kannuaj</td>\n",
       "      <td>32</td>\n",
       "      <td>76</td>\n",
       "      <td>Anuj</td>\n",
       "      <td>Phd</td>\n",
       "      <td>Kannuaj</td>\n",
       "      <td>32.0</td>\n",
       "      <td>Anuj</td>\n",
       "      <td>Phd</td>\n",
       "      <td>2000.0</td>\n",
       "    </tr>\n",
       "  </tbody>\n",
       "</table>\n",
       "</div>"
      ],
      "text/plain": [
       "     Address  Age  Mobile No    Name Qualification    Address   Age    Name  \\\n",
       "0     Nagpur   27         97     Jai           Msc        NaN   NaN     NaN   \n",
       "1     Kanpur   24         91  Princi            MA        NaN   NaN     NaN   \n",
       "2  Allahabad   22         58  Gaurav           MCA  Allahabad  22.0  Gaurav   \n",
       "3    Kannuaj   32         76    Anuj           Phd    Kannuaj  32.0    Anuj   \n",
       "\n",
       "  Qualification  Salary  \n",
       "0           NaN     NaN  \n",
       "1           NaN     NaN  \n",
       "2           MCA  1000.0  \n",
       "3           Phd  2000.0  "
      ]
     },
     "execution_count": 159,
     "metadata": {},
     "output_type": "execute_result"
    }
   ],
   "source": [
    "res3 = pd.concat([df, df1], axis=1, join_axes=[df.index])\n",
    "res3"
   ]
  },
  {
   "cell_type": "code",
   "execution_count": 161,
   "metadata": {},
   "outputs": [
    {
     "name": "stdout",
     "output_type": "stream",
     "text": [
      "     Address  Age    Name Qualification\n",
      "0     Nagpur   27     Jai           Msc\n",
      "1     Kanpur   24  Princi            MA\n",
      "2  Allahabad   22  Gaurav           MCA\n",
      "3    Kannuaj   32    Anuj           Phd \n",
      "\n",
      "      Address  Age    Name Qualification\n",
      "4     Nagpur   17    Abhi         Btech\n",
      "5     Kanpur   14  Ayushi           B.A\n",
      "6  Allahabad   12  Dhiraj          Bcom\n",
      "7    Kannuaj   52  Hitesh        B.hons\n"
     ]
    },
    {
     "data": {
      "text/html": [
       "<div>\n",
       "<style scoped>\n",
       "    .dataframe tbody tr th:only-of-type {\n",
       "        vertical-align: middle;\n",
       "    }\n",
       "\n",
       "    .dataframe tbody tr th {\n",
       "        vertical-align: top;\n",
       "    }\n",
       "\n",
       "    .dataframe thead th {\n",
       "        text-align: right;\n",
       "    }\n",
       "</style>\n",
       "<table border=\"1\" class=\"dataframe\">\n",
       "  <thead>\n",
       "    <tr style=\"text-align: right;\">\n",
       "      <th></th>\n",
       "      <th>Address</th>\n",
       "      <th>Age</th>\n",
       "      <th>Name</th>\n",
       "      <th>Qualification</th>\n",
       "    </tr>\n",
       "  </thead>\n",
       "  <tbody>\n",
       "    <tr>\n",
       "      <th>0</th>\n",
       "      <td>Nagpur</td>\n",
       "      <td>27</td>\n",
       "      <td>Jai</td>\n",
       "      <td>Msc</td>\n",
       "    </tr>\n",
       "    <tr>\n",
       "      <th>1</th>\n",
       "      <td>Kanpur</td>\n",
       "      <td>24</td>\n",
       "      <td>Princi</td>\n",
       "      <td>MA</td>\n",
       "    </tr>\n",
       "    <tr>\n",
       "      <th>2</th>\n",
       "      <td>Allahabad</td>\n",
       "      <td>22</td>\n",
       "      <td>Gaurav</td>\n",
       "      <td>MCA</td>\n",
       "    </tr>\n",
       "    <tr>\n",
       "      <th>3</th>\n",
       "      <td>Kannuaj</td>\n",
       "      <td>32</td>\n",
       "      <td>Anuj</td>\n",
       "      <td>Phd</td>\n",
       "    </tr>\n",
       "    <tr>\n",
       "      <th>4</th>\n",
       "      <td>Nagpur</td>\n",
       "      <td>17</td>\n",
       "      <td>Abhi</td>\n",
       "      <td>Btech</td>\n",
       "    </tr>\n",
       "    <tr>\n",
       "      <th>5</th>\n",
       "      <td>Kanpur</td>\n",
       "      <td>14</td>\n",
       "      <td>Ayushi</td>\n",
       "      <td>B.A</td>\n",
       "    </tr>\n",
       "    <tr>\n",
       "      <th>6</th>\n",
       "      <td>Allahabad</td>\n",
       "      <td>12</td>\n",
       "      <td>Dhiraj</td>\n",
       "      <td>Bcom</td>\n",
       "    </tr>\n",
       "    <tr>\n",
       "      <th>7</th>\n",
       "      <td>Kannuaj</td>\n",
       "      <td>52</td>\n",
       "      <td>Hitesh</td>\n",
       "      <td>B.hons</td>\n",
       "    </tr>\n",
       "  </tbody>\n",
       "</table>\n",
       "</div>"
      ],
      "text/plain": [
       "     Address  Age    Name Qualification\n",
       "0     Nagpur   27     Jai           Msc\n",
       "1     Kanpur   24  Princi            MA\n",
       "2  Allahabad   22  Gaurav           MCA\n",
       "3    Kannuaj   32    Anuj           Phd\n",
       "4     Nagpur   17    Abhi         Btech\n",
       "5     Kanpur   14  Ayushi           B.A\n",
       "6  Allahabad   12  Dhiraj          Bcom\n",
       "7    Kannuaj   52  Hitesh        B.hons"
      ]
     },
     "execution_count": 161,
     "metadata": {},
     "output_type": "execute_result"
    }
   ],
   "source": [
    "# Define a dictionary containing employee data \n",
    "data1 = {'Name':['Jai', 'Princi', 'Gaurav', 'Anuj'], \n",
    "        'Age':[27, 24, 22, 32], \n",
    "        'Address':['Nagpur', 'Kanpur', 'Allahabad', 'Kannuaj'], \n",
    "        'Qualification':['Msc', 'MA', 'MCA', 'Phd']} \n",
    "   \n",
    "# Define a dictionary containing employee data \n",
    "data2 = {'Name':['Abhi', 'Ayushi', 'Dhiraj', 'Hitesh'], \n",
    "        'Age':[17, 14, 12, 52], \n",
    "        'Address':['Nagpur', 'Kanpur', 'Allahabad', 'Kannuaj'], \n",
    "        'Qualification':['Btech', 'B.A', 'Bcom', 'B.hons']} \n",
    " \n",
    "# Convert the dictionary into DataFrame  \n",
    "df = pd.DataFrame(data1,index=[0, 1, 2, 3])\n",
    " \n",
    "# Convert the dictionary into DataFrame  \n",
    "df1 = pd.DataFrame(data2, index=[4, 5, 6, 7])\n",
    " \n",
    "print(df, \"\\n\\n\", df1) \n",
    "\n",
    "# using append function \n",
    "res = df.append(df1)\n",
    "res"
   ]
  },
  {
   "cell_type": "code",
   "execution_count": 162,
   "metadata": {},
   "outputs": [
    {
     "name": "stdout",
     "output_type": "stream",
     "text": [
      "     Address  Age  Mobile No    Name Qualification\n",
      "0     Nagpur   27         97     Jai           Msc\n",
      "1     Kanpur   24         91  Princi            MA\n",
      "2  Allahabad   22         58  Gaurav           MCA\n",
      "3    Kannuaj   32         76    Anuj           Phd \n",
      "\n",
      "      Address  Age    Name Qualification  Salary\n",
      "2  Allahabad   22  Gaurav           MCA    1000\n",
      "3    Kannuaj   32    Anuj           Phd    2000\n",
      "6  Allahabad   12  Dhiraj          Bcom    3000\n",
      "7    Kannuaj   52  Hitesh        B.hons    4000\n"
     ]
    },
    {
     "name": "stderr",
     "output_type": "stream",
     "text": [
      "/anaconda/envs/py35/lib/python3.5/site-packages/ipykernel/__main__.py:23: FutureWarning: Sorting because non-concatenation axis is not aligned. A future version\n",
      "of pandas will change to not sort by default.\n",
      "\n",
      "To accept the future behavior, pass 'sort=True'.\n",
      "\n",
      "To retain the current behavior and silence the warning, pass sort=False\n",
      "\n"
     ]
    },
    {
     "data": {
      "text/html": [
       "<div>\n",
       "<style scoped>\n",
       "    .dataframe tbody tr th:only-of-type {\n",
       "        vertical-align: middle;\n",
       "    }\n",
       "\n",
       "    .dataframe tbody tr th {\n",
       "        vertical-align: top;\n",
       "    }\n",
       "\n",
       "    .dataframe thead th {\n",
       "        text-align: right;\n",
       "    }\n",
       "</style>\n",
       "<table border=\"1\" class=\"dataframe\">\n",
       "  <thead>\n",
       "    <tr style=\"text-align: right;\">\n",
       "      <th></th>\n",
       "      <th>Address</th>\n",
       "      <th>Age</th>\n",
       "      <th>Mobile No</th>\n",
       "      <th>Name</th>\n",
       "      <th>Qualification</th>\n",
       "      <th>Salary</th>\n",
       "    </tr>\n",
       "  </thead>\n",
       "  <tbody>\n",
       "    <tr>\n",
       "      <th>0</th>\n",
       "      <td>Nagpur</td>\n",
       "      <td>27</td>\n",
       "      <td>97.0</td>\n",
       "      <td>Jai</td>\n",
       "      <td>Msc</td>\n",
       "      <td>NaN</td>\n",
       "    </tr>\n",
       "    <tr>\n",
       "      <th>1</th>\n",
       "      <td>Kanpur</td>\n",
       "      <td>24</td>\n",
       "      <td>91.0</td>\n",
       "      <td>Princi</td>\n",
       "      <td>MA</td>\n",
       "      <td>NaN</td>\n",
       "    </tr>\n",
       "    <tr>\n",
       "      <th>2</th>\n",
       "      <td>Allahabad</td>\n",
       "      <td>22</td>\n",
       "      <td>58.0</td>\n",
       "      <td>Gaurav</td>\n",
       "      <td>MCA</td>\n",
       "      <td>NaN</td>\n",
       "    </tr>\n",
       "    <tr>\n",
       "      <th>3</th>\n",
       "      <td>Kannuaj</td>\n",
       "      <td>32</td>\n",
       "      <td>76.0</td>\n",
       "      <td>Anuj</td>\n",
       "      <td>Phd</td>\n",
       "      <td>NaN</td>\n",
       "    </tr>\n",
       "    <tr>\n",
       "      <th>4</th>\n",
       "      <td>Allahabad</td>\n",
       "      <td>22</td>\n",
       "      <td>NaN</td>\n",
       "      <td>Gaurav</td>\n",
       "      <td>MCA</td>\n",
       "      <td>1000.0</td>\n",
       "    </tr>\n",
       "    <tr>\n",
       "      <th>5</th>\n",
       "      <td>Kannuaj</td>\n",
       "      <td>32</td>\n",
       "      <td>NaN</td>\n",
       "      <td>Anuj</td>\n",
       "      <td>Phd</td>\n",
       "      <td>2000.0</td>\n",
       "    </tr>\n",
       "    <tr>\n",
       "      <th>6</th>\n",
       "      <td>Allahabad</td>\n",
       "      <td>12</td>\n",
       "      <td>NaN</td>\n",
       "      <td>Dhiraj</td>\n",
       "      <td>Bcom</td>\n",
       "      <td>3000.0</td>\n",
       "    </tr>\n",
       "    <tr>\n",
       "      <th>7</th>\n",
       "      <td>Kannuaj</td>\n",
       "      <td>52</td>\n",
       "      <td>NaN</td>\n",
       "      <td>Hitesh</td>\n",
       "      <td>B.hons</td>\n",
       "      <td>4000.0</td>\n",
       "    </tr>\n",
       "  </tbody>\n",
       "</table>\n",
       "</div>"
      ],
      "text/plain": [
       "     Address  Age  Mobile No    Name Qualification  Salary\n",
       "0     Nagpur   27       97.0     Jai           Msc     NaN\n",
       "1     Kanpur   24       91.0  Princi            MA     NaN\n",
       "2  Allahabad   22       58.0  Gaurav           MCA     NaN\n",
       "3    Kannuaj   32       76.0    Anuj           Phd     NaN\n",
       "4  Allahabad   22        NaN  Gaurav           MCA  1000.0\n",
       "5    Kannuaj   32        NaN    Anuj           Phd  2000.0\n",
       "6  Allahabad   12        NaN  Dhiraj          Bcom  3000.0\n",
       "7    Kannuaj   52        NaN  Hitesh        B.hons  4000.0"
      ]
     },
     "execution_count": 162,
     "metadata": {},
     "output_type": "execute_result"
    }
   ],
   "source": [
    "data1 = {'Name':['Jai', 'Princi', 'Gaurav', 'Anuj'], \n",
    "        'Age':[27, 24, 22, 32], \n",
    "        'Address':['Nagpur', 'Kanpur', 'Allahabad', 'Kannuaj'], \n",
    "        'Qualification':['Msc', 'MA', 'MCA', 'Phd'],\n",
    "        'Mobile No': [97, 91, 58, 76]} \n",
    "    \n",
    "# Define a dictionary containing employee data \n",
    "data2 = {'Name':['Gaurav', 'Anuj', 'Dhiraj', 'Hitesh'], \n",
    "        'Age':[22, 32, 12, 52], \n",
    "        'Address':['Allahabad', 'Kannuaj', 'Allahabad', 'Kannuaj'], \n",
    "        'Qualification':['MCA', 'Phd', 'Bcom', 'B.hons'],\n",
    "        'Salary':[1000, 2000, 3000, 4000]} \n",
    "  \n",
    "# Convert the dictionary into DataFrame  \n",
    "df = pd.DataFrame(data1,index=[0, 1, 2, 3])\n",
    "  \n",
    "# Convert the dictionary into DataFrame  \n",
    "df1 = pd.DataFrame(data2, index=[2, 3, 6, 7]) \n",
    "\n",
    "print(df, \"\\n\\n\", df1)\n",
    "\n",
    "# using ignore_index\n",
    "res = pd.concat([df, df1], ignore_index=True)\n",
    "res"
   ]
  },
  {
   "cell_type": "code",
   "execution_count": 164,
   "metadata": {},
   "outputs": [
    {
     "name": "stdout",
     "output_type": "stream",
     "text": [
      "     Address  Age    Name Qualification\n",
      "0     Nagpur   27     Jai           Msc\n",
      "1     Kanpur   24  Princi            MA\n",
      "2  Allahabad   22  Gaurav           MCA\n",
      "3    Kannuaj   32    Anuj           Phd \n",
      "\n",
      "      Address  Age    Name Qualification\n",
      "4     Nagpur   17    Abhi         Btech\n",
      "5     Kanpur   14  Ayushi           B.A\n",
      "6  Allahabad   12  Dhiraj          Bcom\n",
      "7    Kannuaj   52  Hitesh        B.hons\n"
     ]
    },
    {
     "data": {
      "text/html": [
       "<div>\n",
       "<style scoped>\n",
       "    .dataframe tbody tr th:only-of-type {\n",
       "        vertical-align: middle;\n",
       "    }\n",
       "\n",
       "    .dataframe tbody tr th {\n",
       "        vertical-align: top;\n",
       "    }\n",
       "\n",
       "    .dataframe thead th {\n",
       "        text-align: right;\n",
       "    }\n",
       "</style>\n",
       "<table border=\"1\" class=\"dataframe\">\n",
       "  <thead>\n",
       "    <tr style=\"text-align: right;\">\n",
       "      <th></th>\n",
       "      <th></th>\n",
       "      <th>Address</th>\n",
       "      <th>Age</th>\n",
       "      <th>Name</th>\n",
       "      <th>Qualification</th>\n",
       "    </tr>\n",
       "  </thead>\n",
       "  <tbody>\n",
       "    <tr>\n",
       "      <th rowspan=\"4\" valign=\"top\">x</th>\n",
       "      <th>0</th>\n",
       "      <td>Nagpur</td>\n",
       "      <td>27</td>\n",
       "      <td>Jai</td>\n",
       "      <td>Msc</td>\n",
       "    </tr>\n",
       "    <tr>\n",
       "      <th>1</th>\n",
       "      <td>Kanpur</td>\n",
       "      <td>24</td>\n",
       "      <td>Princi</td>\n",
       "      <td>MA</td>\n",
       "    </tr>\n",
       "    <tr>\n",
       "      <th>2</th>\n",
       "      <td>Allahabad</td>\n",
       "      <td>22</td>\n",
       "      <td>Gaurav</td>\n",
       "      <td>MCA</td>\n",
       "    </tr>\n",
       "    <tr>\n",
       "      <th>3</th>\n",
       "      <td>Kannuaj</td>\n",
       "      <td>32</td>\n",
       "      <td>Anuj</td>\n",
       "      <td>Phd</td>\n",
       "    </tr>\n",
       "    <tr>\n",
       "      <th rowspan=\"4\" valign=\"top\">y</th>\n",
       "      <th>4</th>\n",
       "      <td>Nagpur</td>\n",
       "      <td>17</td>\n",
       "      <td>Abhi</td>\n",
       "      <td>Btech</td>\n",
       "    </tr>\n",
       "    <tr>\n",
       "      <th>5</th>\n",
       "      <td>Kanpur</td>\n",
       "      <td>14</td>\n",
       "      <td>Ayushi</td>\n",
       "      <td>B.A</td>\n",
       "    </tr>\n",
       "    <tr>\n",
       "      <th>6</th>\n",
       "      <td>Allahabad</td>\n",
       "      <td>12</td>\n",
       "      <td>Dhiraj</td>\n",
       "      <td>Bcom</td>\n",
       "    </tr>\n",
       "    <tr>\n",
       "      <th>7</th>\n",
       "      <td>Kannuaj</td>\n",
       "      <td>52</td>\n",
       "      <td>Hitesh</td>\n",
       "      <td>B.hons</td>\n",
       "    </tr>\n",
       "  </tbody>\n",
       "</table>\n",
       "</div>"
      ],
      "text/plain": [
       "       Address  Age    Name Qualification\n",
       "x 0     Nagpur   27     Jai           Msc\n",
       "  1     Kanpur   24  Princi            MA\n",
       "  2  Allahabad   22  Gaurav           MCA\n",
       "  3    Kannuaj   32    Anuj           Phd\n",
       "y 4     Nagpur   17    Abhi         Btech\n",
       "  5     Kanpur   14  Ayushi           B.A\n",
       "  6  Allahabad   12  Dhiraj          Bcom\n",
       "  7    Kannuaj   52  Hitesh        B.hons"
      ]
     },
     "execution_count": 164,
     "metadata": {},
     "output_type": "execute_result"
    }
   ],
   "source": [
    "# Define a dictionary containing employee data \n",
    "data1 = {'Name':['Jai', 'Princi', 'Gaurav', 'Anuj'], \n",
    "        'Age':[27, 24, 22, 32], \n",
    "        'Address':['Nagpur', 'Kanpur', 'Allahabad', 'Kannuaj'], \n",
    "        'Qualification':['Msc', 'MA', 'MCA', 'Phd']} \n",
    "   \n",
    "# Define a dictionary containing employee data \n",
    "data2 = {'Name':['Abhi', 'Ayushi', 'Dhiraj', 'Hitesh'], \n",
    "        'Age':[17, 14, 12, 52], \n",
    "        'Address':['Nagpur', 'Kanpur', 'Allahabad', 'Kannuaj'], \n",
    "        'Qualification':['Btech', 'B.A', 'Bcom', 'B.hons']} \n",
    " \n",
    "# Convert the dictionary into DataFrame  \n",
    "df = pd.DataFrame(data1,index=[0, 1, 2, 3])\n",
    " \n",
    "# Convert the dictionary into DataFrame  \n",
    "df1 = pd.DataFrame(data2, index=[4, 5, 6, 7])\n",
    " \n",
    "print(df, \"\\n\\n\", df1)  \n",
    "\n",
    "# using keys \n",
    "frames = [df, df1 ]\n",
    " \n",
    "res = pd.concat(frames, keys=['x', 'y'])\n",
    "res"
   ]
  },
  {
   "cell_type": "code",
   "execution_count": 165,
   "metadata": {},
   "outputs": [
    {
     "name": "stdout",
     "output_type": "stream",
     "text": [
      "     Address  Age    Name Qualification\n",
      "0     Nagpur   27     Jai           Msc\n",
      "1     Kanpur   24  Princi            MA\n",
      "2  Allahabad   22  Gaurav           MCA\n",
      "3    Kannuaj   32    Anuj           Phd \n",
      "\n",
      " 0    1000\n",
      "1    2000\n",
      "2    3000\n",
      "3    4000\n",
      "Name: Salary, dtype: int64\n"
     ]
    },
    {
     "data": {
      "text/html": [
       "<div>\n",
       "<style scoped>\n",
       "    .dataframe tbody tr th:only-of-type {\n",
       "        vertical-align: middle;\n",
       "    }\n",
       "\n",
       "    .dataframe tbody tr th {\n",
       "        vertical-align: top;\n",
       "    }\n",
       "\n",
       "    .dataframe thead th {\n",
       "        text-align: right;\n",
       "    }\n",
       "</style>\n",
       "<table border=\"1\" class=\"dataframe\">\n",
       "  <thead>\n",
       "    <tr style=\"text-align: right;\">\n",
       "      <th></th>\n",
       "      <th>Address</th>\n",
       "      <th>Age</th>\n",
       "      <th>Name</th>\n",
       "      <th>Qualification</th>\n",
       "      <th>Salary</th>\n",
       "    </tr>\n",
       "  </thead>\n",
       "  <tbody>\n",
       "    <tr>\n",
       "      <th>0</th>\n",
       "      <td>Nagpur</td>\n",
       "      <td>27</td>\n",
       "      <td>Jai</td>\n",
       "      <td>Msc</td>\n",
       "      <td>1000</td>\n",
       "    </tr>\n",
       "    <tr>\n",
       "      <th>1</th>\n",
       "      <td>Kanpur</td>\n",
       "      <td>24</td>\n",
       "      <td>Princi</td>\n",
       "      <td>MA</td>\n",
       "      <td>2000</td>\n",
       "    </tr>\n",
       "    <tr>\n",
       "      <th>2</th>\n",
       "      <td>Allahabad</td>\n",
       "      <td>22</td>\n",
       "      <td>Gaurav</td>\n",
       "      <td>MCA</td>\n",
       "      <td>3000</td>\n",
       "    </tr>\n",
       "    <tr>\n",
       "      <th>3</th>\n",
       "      <td>Kannuaj</td>\n",
       "      <td>32</td>\n",
       "      <td>Anuj</td>\n",
       "      <td>Phd</td>\n",
       "      <td>4000</td>\n",
       "    </tr>\n",
       "  </tbody>\n",
       "</table>\n",
       "</div>"
      ],
      "text/plain": [
       "     Address  Age    Name Qualification  Salary\n",
       "0     Nagpur   27     Jai           Msc    1000\n",
       "1     Kanpur   24  Princi            MA    2000\n",
       "2  Allahabad   22  Gaurav           MCA    3000\n",
       "3    Kannuaj   32    Anuj           Phd    4000"
      ]
     },
     "execution_count": 165,
     "metadata": {},
     "output_type": "execute_result"
    }
   ],
   "source": [
    "data1 = {'Name':['Jai', 'Princi', 'Gaurav', 'Anuj'], \n",
    "        'Age':[27, 24, 22, 32], \n",
    "        'Address':['Nagpur', 'Kanpur', 'Allahabad', 'Kannuaj'], \n",
    "        'Qualification':['Msc', 'MA', 'MCA', 'Phd']} \n",
    "   \n",
    "# Convert the dictionary into DataFrame  \n",
    "df = pd.DataFrame(data1,index=[0, 1, 2, 3])\n",
    " \n",
    "# creating a series\n",
    "s1 = pd.Series([1000, 2000, 3000, 4000], name='Salary')\n",
    " \n",
    "print(df, \"\\n\\n\", s1) \n",
    "\n",
    "# combining series and dataframe\n",
    "res = pd.concat([df, s1], axis=1)\n",
    " \n",
    "res"
   ]
  },
  {
   "cell_type": "markdown",
   "metadata": {},
   "source": [
    "# Merge/Join Dataframes"
   ]
  },
  {
   "cell_type": "code",
   "execution_count": 31,
   "metadata": {},
   "outputs": [
    {
     "data": {
      "text/html": [
       "<div>\n",
       "<style scoped>\n",
       "    .dataframe tbody tr th:only-of-type {\n",
       "        vertical-align: middle;\n",
       "    }\n",
       "\n",
       "    .dataframe tbody tr th {\n",
       "        vertical-align: top;\n",
       "    }\n",
       "\n",
       "    .dataframe thead th {\n",
       "        text-align: right;\n",
       "    }\n",
       "</style>\n",
       "<table border=\"1\" class=\"dataframe\">\n",
       "  <thead>\n",
       "    <tr style=\"text-align: right;\">\n",
       "      <th></th>\n",
       "      <th>animal</th>\n",
       "      <th>food</th>\n",
       "    </tr>\n",
       "  </thead>\n",
       "  <tbody>\n",
       "    <tr>\n",
       "      <th>0</th>\n",
       "      <td>elephant</td>\n",
       "      <td>vegetables</td>\n",
       "    </tr>\n",
       "    <tr>\n",
       "      <th>1</th>\n",
       "      <td>tiger</td>\n",
       "      <td>meat</td>\n",
       "    </tr>\n",
       "    <tr>\n",
       "      <th>2</th>\n",
       "      <td>kangaroo</td>\n",
       "      <td>vegetables</td>\n",
       "    </tr>\n",
       "    <tr>\n",
       "      <th>3</th>\n",
       "      <td>zebra</td>\n",
       "      <td>vegetables</td>\n",
       "    </tr>\n",
       "    <tr>\n",
       "      <th>4</th>\n",
       "      <td>giraffe</td>\n",
       "      <td>vegetables</td>\n",
       "    </tr>\n",
       "  </tbody>\n",
       "</table>\n",
       "</div>"
      ],
      "text/plain": [
       "     animal        food\n",
       "0  elephant  vegetables\n",
       "1     tiger        meat\n",
       "2  kangaroo  vegetables\n",
       "3     zebra  vegetables\n",
       "4   giraffe  vegetables"
      ]
     },
     "execution_count": 31,
     "metadata": {},
     "output_type": "execute_result"
    }
   ],
   "source": [
    "zoo_eats = pd.DataFrame([['elephant','vegetables'], ['tiger','meat'], ['kangaroo','vegetables'], ['zebra','vegetables'], ['giraffe','vegetables']], columns=['animal', 'food'])\n",
    "zoo_eats"
   ]
  },
  {
   "cell_type": "code",
   "execution_count": 32,
   "metadata": {},
   "outputs": [
    {
     "data": {
      "text/html": [
       "<div>\n",
       "<style scoped>\n",
       "    .dataframe tbody tr th:only-of-type {\n",
       "        vertical-align: middle;\n",
       "    }\n",
       "\n",
       "    .dataframe tbody tr th {\n",
       "        vertical-align: top;\n",
       "    }\n",
       "\n",
       "    .dataframe thead th {\n",
       "        text-align: right;\n",
       "    }\n",
       "</style>\n",
       "<table border=\"1\" class=\"dataframe\">\n",
       "  <thead>\n",
       "    <tr style=\"text-align: right;\">\n",
       "      <th></th>\n",
       "      <th>animal</th>\n",
       "      <th>uniq_id</th>\n",
       "      <th>water_need</th>\n",
       "    </tr>\n",
       "  </thead>\n",
       "  <tbody>\n",
       "    <tr>\n",
       "      <th>0</th>\n",
       "      <td>elephant</td>\n",
       "      <td>1001</td>\n",
       "      <td>500</td>\n",
       "    </tr>\n",
       "    <tr>\n",
       "      <th>1</th>\n",
       "      <td>elephant</td>\n",
       "      <td>1002</td>\n",
       "      <td>600</td>\n",
       "    </tr>\n",
       "    <tr>\n",
       "      <th>2</th>\n",
       "      <td>elephant</td>\n",
       "      <td>1003</td>\n",
       "      <td>550</td>\n",
       "    </tr>\n",
       "    <tr>\n",
       "      <th>3</th>\n",
       "      <td>tiger</td>\n",
       "      <td>1004</td>\n",
       "      <td>300</td>\n",
       "    </tr>\n",
       "    <tr>\n",
       "      <th>4</th>\n",
       "      <td>tiger</td>\n",
       "      <td>1005</td>\n",
       "      <td>350</td>\n",
       "    </tr>\n",
       "    <tr>\n",
       "      <th>5</th>\n",
       "      <td>tiger</td>\n",
       "      <td>1006</td>\n",
       "      <td>400</td>\n",
       "    </tr>\n",
       "    <tr>\n",
       "      <th>6</th>\n",
       "      <td>tiger</td>\n",
       "      <td>1007</td>\n",
       "      <td>450</td>\n",
       "    </tr>\n",
       "    <tr>\n",
       "      <th>7</th>\n",
       "      <td>kangaroo</td>\n",
       "      <td>1008</td>\n",
       "      <td>200</td>\n",
       "    </tr>\n",
       "    <tr>\n",
       "      <th>8</th>\n",
       "      <td>kangaroo</td>\n",
       "      <td>1009</td>\n",
       "      <td>250</td>\n",
       "    </tr>\n",
       "    <tr>\n",
       "      <th>9</th>\n",
       "      <td>zebra</td>\n",
       "      <td>1010</td>\n",
       "      <td>300</td>\n",
       "    </tr>\n",
       "    <tr>\n",
       "      <th>10</th>\n",
       "      <td>zebra</td>\n",
       "      <td>1011</td>\n",
       "      <td>350</td>\n",
       "    </tr>\n",
       "    <tr>\n",
       "      <th>11</th>\n",
       "      <td>giraffe</td>\n",
       "      <td>1012</td>\n",
       "      <td>550</td>\n",
       "    </tr>\n",
       "    <tr>\n",
       "      <th>12</th>\n",
       "      <td>giraffe</td>\n",
       "      <td>1013</td>\n",
       "      <td>600</td>\n",
       "    </tr>\n",
       "    <tr>\n",
       "      <th>13</th>\n",
       "      <td>giraffe</td>\n",
       "      <td>1014</td>\n",
       "      <td>700</td>\n",
       "    </tr>\n",
       "    <tr>\n",
       "      <th>14</th>\n",
       "      <td>giraffe</td>\n",
       "      <td>1015</td>\n",
       "      <td>810</td>\n",
       "    </tr>\n",
       "    <tr>\n",
       "      <th>15</th>\n",
       "      <td>giraffe</td>\n",
       "      <td>1016</td>\n",
       "      <td>870</td>\n",
       "    </tr>\n",
       "  </tbody>\n",
       "</table>\n",
       "</div>"
      ],
      "text/plain": [
       "      animal  uniq_id  water_need\n",
       "0   elephant     1001         500\n",
       "1   elephant     1002         600\n",
       "2   elephant     1003         550\n",
       "3      tiger     1004         300\n",
       "4      tiger     1005         350\n",
       "5      tiger     1006         400\n",
       "6      tiger     1007         450\n",
       "7   kangaroo     1008         200\n",
       "8   kangaroo     1009         250\n",
       "9      zebra     1010         300\n",
       "10     zebra     1011         350\n",
       "11   giraffe     1012         550\n",
       "12   giraffe     1013         600\n",
       "13   giraffe     1014         700\n",
       "14   giraffe     1015         810\n",
       "15   giraffe     1016         870"
      ]
     },
     "execution_count": 32,
     "metadata": {},
     "output_type": "execute_result"
    }
   ],
   "source": [
    "zoo = pd.DataFrame([['elephant',1001,500], ['elephant',1002,600], ['elephant',1003,550], \n",
    "                    ['tiger',1004,300], ['tiger',1005,350], ['tiger',1006,400], ['tiger',1007,450],\n",
    "                    ['kangaroo',1008, 200], ['kangaroo',1009,250], \n",
    "                    ['zebra',1010,300], ['zebra',1011,350],\n",
    "                    ['giraffe',1012,550], ['giraffe',1013,600], ['giraffe',1014,700], ['giraffe',1015,810], ['giraffe',1016,870],\n",
    "                   ], columns=['animal', 'uniq_id', 'water_need'])\n",
    "zoo"
   ]
  },
  {
   "cell_type": "code",
   "execution_count": 33,
   "metadata": {},
   "outputs": [
    {
     "data": {
      "text/html": [
       "<div>\n",
       "<style scoped>\n",
       "    .dataframe tbody tr th:only-of-type {\n",
       "        vertical-align: middle;\n",
       "    }\n",
       "\n",
       "    .dataframe tbody tr th {\n",
       "        vertical-align: top;\n",
       "    }\n",
       "\n",
       "    .dataframe thead th {\n",
       "        text-align: right;\n",
       "    }\n",
       "</style>\n",
       "<table border=\"1\" class=\"dataframe\">\n",
       "  <thead>\n",
       "    <tr style=\"text-align: right;\">\n",
       "      <th></th>\n",
       "      <th>animal</th>\n",
       "      <th>uniq_id</th>\n",
       "      <th>water_need</th>\n",
       "      <th>food</th>\n",
       "    </tr>\n",
       "  </thead>\n",
       "  <tbody>\n",
       "    <tr>\n",
       "      <th>0</th>\n",
       "      <td>elephant</td>\n",
       "      <td>1001</td>\n",
       "      <td>500</td>\n",
       "      <td>vegetables</td>\n",
       "    </tr>\n",
       "    <tr>\n",
       "      <th>1</th>\n",
       "      <td>elephant</td>\n",
       "      <td>1002</td>\n",
       "      <td>600</td>\n",
       "      <td>vegetables</td>\n",
       "    </tr>\n",
       "    <tr>\n",
       "      <th>2</th>\n",
       "      <td>elephant</td>\n",
       "      <td>1003</td>\n",
       "      <td>550</td>\n",
       "      <td>vegetables</td>\n",
       "    </tr>\n",
       "    <tr>\n",
       "      <th>3</th>\n",
       "      <td>tiger</td>\n",
       "      <td>1004</td>\n",
       "      <td>300</td>\n",
       "      <td>meat</td>\n",
       "    </tr>\n",
       "    <tr>\n",
       "      <th>4</th>\n",
       "      <td>tiger</td>\n",
       "      <td>1005</td>\n",
       "      <td>350</td>\n",
       "      <td>meat</td>\n",
       "    </tr>\n",
       "    <tr>\n",
       "      <th>5</th>\n",
       "      <td>tiger</td>\n",
       "      <td>1006</td>\n",
       "      <td>400</td>\n",
       "      <td>meat</td>\n",
       "    </tr>\n",
       "    <tr>\n",
       "      <th>6</th>\n",
       "      <td>tiger</td>\n",
       "      <td>1007</td>\n",
       "      <td>450</td>\n",
       "      <td>meat</td>\n",
       "    </tr>\n",
       "    <tr>\n",
       "      <th>7</th>\n",
       "      <td>kangaroo</td>\n",
       "      <td>1008</td>\n",
       "      <td>200</td>\n",
       "      <td>vegetables</td>\n",
       "    </tr>\n",
       "    <tr>\n",
       "      <th>8</th>\n",
       "      <td>kangaroo</td>\n",
       "      <td>1009</td>\n",
       "      <td>250</td>\n",
       "      <td>vegetables</td>\n",
       "    </tr>\n",
       "    <tr>\n",
       "      <th>9</th>\n",
       "      <td>zebra</td>\n",
       "      <td>1010</td>\n",
       "      <td>300</td>\n",
       "      <td>vegetables</td>\n",
       "    </tr>\n",
       "    <tr>\n",
       "      <th>10</th>\n",
       "      <td>zebra</td>\n",
       "      <td>1011</td>\n",
       "      <td>350</td>\n",
       "      <td>vegetables</td>\n",
       "    </tr>\n",
       "    <tr>\n",
       "      <th>11</th>\n",
       "      <td>giraffe</td>\n",
       "      <td>1012</td>\n",
       "      <td>550</td>\n",
       "      <td>vegetables</td>\n",
       "    </tr>\n",
       "    <tr>\n",
       "      <th>12</th>\n",
       "      <td>giraffe</td>\n",
       "      <td>1013</td>\n",
       "      <td>600</td>\n",
       "      <td>vegetables</td>\n",
       "    </tr>\n",
       "    <tr>\n",
       "      <th>13</th>\n",
       "      <td>giraffe</td>\n",
       "      <td>1014</td>\n",
       "      <td>700</td>\n",
       "      <td>vegetables</td>\n",
       "    </tr>\n",
       "    <tr>\n",
       "      <th>14</th>\n",
       "      <td>giraffe</td>\n",
       "      <td>1015</td>\n",
       "      <td>810</td>\n",
       "      <td>vegetables</td>\n",
       "    </tr>\n",
       "    <tr>\n",
       "      <th>15</th>\n",
       "      <td>giraffe</td>\n",
       "      <td>1016</td>\n",
       "      <td>870</td>\n",
       "      <td>vegetables</td>\n",
       "    </tr>\n",
       "  </tbody>\n",
       "</table>\n",
       "</div>"
      ],
      "text/plain": [
       "      animal  uniq_id  water_need        food\n",
       "0   elephant     1001         500  vegetables\n",
       "1   elephant     1002         600  vegetables\n",
       "2   elephant     1003         550  vegetables\n",
       "3      tiger     1004         300        meat\n",
       "4      tiger     1005         350        meat\n",
       "5      tiger     1006         400        meat\n",
       "6      tiger     1007         450        meat\n",
       "7   kangaroo     1008         200  vegetables\n",
       "8   kangaroo     1009         250  vegetables\n",
       "9      zebra     1010         300  vegetables\n",
       "10     zebra     1011         350  vegetables\n",
       "11   giraffe     1012         550  vegetables\n",
       "12   giraffe     1013         600  vegetables\n",
       "13   giraffe     1014         700  vegetables\n",
       "14   giraffe     1015         810  vegetables\n",
       "15   giraffe     1016         870  vegetables"
      ]
     },
     "execution_count": 33,
     "metadata": {},
     "output_type": "execute_result"
    }
   ],
   "source": [
    "zoo.merge(zoo_eats)"
   ]
  },
  {
   "cell_type": "code",
   "execution_count": 34,
   "metadata": {},
   "outputs": [
    {
     "data": {
      "text/html": [
       "<div>\n",
       "<style scoped>\n",
       "    .dataframe tbody tr th:only-of-type {\n",
       "        vertical-align: middle;\n",
       "    }\n",
       "\n",
       "    .dataframe tbody tr th {\n",
       "        vertical-align: top;\n",
       "    }\n",
       "\n",
       "    .dataframe thead th {\n",
       "        text-align: right;\n",
       "    }\n",
       "</style>\n",
       "<table border=\"1\" class=\"dataframe\">\n",
       "  <thead>\n",
       "    <tr style=\"text-align: right;\">\n",
       "      <th></th>\n",
       "      <th>animal</th>\n",
       "      <th>uniq_id</th>\n",
       "      <th>water_need</th>\n",
       "      <th>food</th>\n",
       "    </tr>\n",
       "  </thead>\n",
       "  <tbody>\n",
       "    <tr>\n",
       "      <th>0</th>\n",
       "      <td>elephant</td>\n",
       "      <td>1001</td>\n",
       "      <td>500</td>\n",
       "      <td>vegetables</td>\n",
       "    </tr>\n",
       "    <tr>\n",
       "      <th>1</th>\n",
       "      <td>elephant</td>\n",
       "      <td>1002</td>\n",
       "      <td>600</td>\n",
       "      <td>vegetables</td>\n",
       "    </tr>\n",
       "    <tr>\n",
       "      <th>2</th>\n",
       "      <td>elephant</td>\n",
       "      <td>1003</td>\n",
       "      <td>550</td>\n",
       "      <td>vegetables</td>\n",
       "    </tr>\n",
       "    <tr>\n",
       "      <th>3</th>\n",
       "      <td>tiger</td>\n",
       "      <td>1004</td>\n",
       "      <td>300</td>\n",
       "      <td>meat</td>\n",
       "    </tr>\n",
       "    <tr>\n",
       "      <th>4</th>\n",
       "      <td>tiger</td>\n",
       "      <td>1005</td>\n",
       "      <td>350</td>\n",
       "      <td>meat</td>\n",
       "    </tr>\n",
       "    <tr>\n",
       "      <th>5</th>\n",
       "      <td>tiger</td>\n",
       "      <td>1006</td>\n",
       "      <td>400</td>\n",
       "      <td>meat</td>\n",
       "    </tr>\n",
       "    <tr>\n",
       "      <th>6</th>\n",
       "      <td>tiger</td>\n",
       "      <td>1007</td>\n",
       "      <td>450</td>\n",
       "      <td>meat</td>\n",
       "    </tr>\n",
       "    <tr>\n",
       "      <th>7</th>\n",
       "      <td>kangaroo</td>\n",
       "      <td>1008</td>\n",
       "      <td>200</td>\n",
       "      <td>vegetables</td>\n",
       "    </tr>\n",
       "    <tr>\n",
       "      <th>8</th>\n",
       "      <td>kangaroo</td>\n",
       "      <td>1009</td>\n",
       "      <td>250</td>\n",
       "      <td>vegetables</td>\n",
       "    </tr>\n",
       "    <tr>\n",
       "      <th>9</th>\n",
       "      <td>zebra</td>\n",
       "      <td>1010</td>\n",
       "      <td>300</td>\n",
       "      <td>vegetables</td>\n",
       "    </tr>\n",
       "    <tr>\n",
       "      <th>10</th>\n",
       "      <td>zebra</td>\n",
       "      <td>1011</td>\n",
       "      <td>350</td>\n",
       "      <td>vegetables</td>\n",
       "    </tr>\n",
       "    <tr>\n",
       "      <th>11</th>\n",
       "      <td>giraffe</td>\n",
       "      <td>1012</td>\n",
       "      <td>550</td>\n",
       "      <td>vegetables</td>\n",
       "    </tr>\n",
       "    <tr>\n",
       "      <th>12</th>\n",
       "      <td>giraffe</td>\n",
       "      <td>1013</td>\n",
       "      <td>600</td>\n",
       "      <td>vegetables</td>\n",
       "    </tr>\n",
       "    <tr>\n",
       "      <th>13</th>\n",
       "      <td>giraffe</td>\n",
       "      <td>1014</td>\n",
       "      <td>700</td>\n",
       "      <td>vegetables</td>\n",
       "    </tr>\n",
       "    <tr>\n",
       "      <th>14</th>\n",
       "      <td>giraffe</td>\n",
       "      <td>1015</td>\n",
       "      <td>810</td>\n",
       "      <td>vegetables</td>\n",
       "    </tr>\n",
       "    <tr>\n",
       "      <th>15</th>\n",
       "      <td>giraffe</td>\n",
       "      <td>1016</td>\n",
       "      <td>870</td>\n",
       "      <td>vegetables</td>\n",
       "    </tr>\n",
       "  </tbody>\n",
       "</table>\n",
       "</div>"
      ],
      "text/plain": [
       "      animal  uniq_id  water_need        food\n",
       "0   elephant     1001         500  vegetables\n",
       "1   elephant     1002         600  vegetables\n",
       "2   elephant     1003         550  vegetables\n",
       "3      tiger     1004         300        meat\n",
       "4      tiger     1005         350        meat\n",
       "5      tiger     1006         400        meat\n",
       "6      tiger     1007         450        meat\n",
       "7   kangaroo     1008         200  vegetables\n",
       "8   kangaroo     1009         250  vegetables\n",
       "9      zebra     1010         300  vegetables\n",
       "10     zebra     1011         350  vegetables\n",
       "11   giraffe     1012         550  vegetables\n",
       "12   giraffe     1013         600  vegetables\n",
       "13   giraffe     1014         700  vegetables\n",
       "14   giraffe     1015         810  vegetables\n",
       "15   giraffe     1016         870  vegetables"
      ]
     },
     "execution_count": 34,
     "metadata": {},
     "output_type": "execute_result"
    }
   ],
   "source": [
    "zoo.merge(zoo_eats, how=\"outer\")"
   ]
  },
  {
   "cell_type": "code",
   "execution_count": 35,
   "metadata": {},
   "outputs": [
    {
     "data": {
      "text/html": [
       "<div>\n",
       "<style scoped>\n",
       "    .dataframe tbody tr th:only-of-type {\n",
       "        vertical-align: middle;\n",
       "    }\n",
       "\n",
       "    .dataframe tbody tr th {\n",
       "        vertical-align: top;\n",
       "    }\n",
       "\n",
       "    .dataframe thead th {\n",
       "        text-align: right;\n",
       "    }\n",
       "</style>\n",
       "<table border=\"1\" class=\"dataframe\">\n",
       "  <thead>\n",
       "    <tr style=\"text-align: right;\">\n",
       "      <th></th>\n",
       "      <th>animal</th>\n",
       "      <th>uniq_id</th>\n",
       "      <th>water_need</th>\n",
       "      <th>food</th>\n",
       "    </tr>\n",
       "  </thead>\n",
       "  <tbody>\n",
       "    <tr>\n",
       "      <th>0</th>\n",
       "      <td>elephant</td>\n",
       "      <td>1001</td>\n",
       "      <td>500</td>\n",
       "      <td>vegetables</td>\n",
       "    </tr>\n",
       "    <tr>\n",
       "      <th>1</th>\n",
       "      <td>elephant</td>\n",
       "      <td>1002</td>\n",
       "      <td>600</td>\n",
       "      <td>vegetables</td>\n",
       "    </tr>\n",
       "    <tr>\n",
       "      <th>2</th>\n",
       "      <td>elephant</td>\n",
       "      <td>1003</td>\n",
       "      <td>550</td>\n",
       "      <td>vegetables</td>\n",
       "    </tr>\n",
       "    <tr>\n",
       "      <th>3</th>\n",
       "      <td>tiger</td>\n",
       "      <td>1004</td>\n",
       "      <td>300</td>\n",
       "      <td>meat</td>\n",
       "    </tr>\n",
       "    <tr>\n",
       "      <th>4</th>\n",
       "      <td>tiger</td>\n",
       "      <td>1005</td>\n",
       "      <td>350</td>\n",
       "      <td>meat</td>\n",
       "    </tr>\n",
       "    <tr>\n",
       "      <th>5</th>\n",
       "      <td>tiger</td>\n",
       "      <td>1006</td>\n",
       "      <td>400</td>\n",
       "      <td>meat</td>\n",
       "    </tr>\n",
       "    <tr>\n",
       "      <th>6</th>\n",
       "      <td>tiger</td>\n",
       "      <td>1007</td>\n",
       "      <td>450</td>\n",
       "      <td>meat</td>\n",
       "    </tr>\n",
       "    <tr>\n",
       "      <th>7</th>\n",
       "      <td>kangaroo</td>\n",
       "      <td>1008</td>\n",
       "      <td>200</td>\n",
       "      <td>vegetables</td>\n",
       "    </tr>\n",
       "    <tr>\n",
       "      <th>8</th>\n",
       "      <td>kangaroo</td>\n",
       "      <td>1009</td>\n",
       "      <td>250</td>\n",
       "      <td>vegetables</td>\n",
       "    </tr>\n",
       "    <tr>\n",
       "      <th>9</th>\n",
       "      <td>zebra</td>\n",
       "      <td>1010</td>\n",
       "      <td>300</td>\n",
       "      <td>vegetables</td>\n",
       "    </tr>\n",
       "    <tr>\n",
       "      <th>10</th>\n",
       "      <td>zebra</td>\n",
       "      <td>1011</td>\n",
       "      <td>350</td>\n",
       "      <td>vegetables</td>\n",
       "    </tr>\n",
       "    <tr>\n",
       "      <th>11</th>\n",
       "      <td>giraffe</td>\n",
       "      <td>1012</td>\n",
       "      <td>550</td>\n",
       "      <td>vegetables</td>\n",
       "    </tr>\n",
       "    <tr>\n",
       "      <th>12</th>\n",
       "      <td>giraffe</td>\n",
       "      <td>1013</td>\n",
       "      <td>600</td>\n",
       "      <td>vegetables</td>\n",
       "    </tr>\n",
       "    <tr>\n",
       "      <th>13</th>\n",
       "      <td>giraffe</td>\n",
       "      <td>1014</td>\n",
       "      <td>700</td>\n",
       "      <td>vegetables</td>\n",
       "    </tr>\n",
       "    <tr>\n",
       "      <th>14</th>\n",
       "      <td>giraffe</td>\n",
       "      <td>1015</td>\n",
       "      <td>810</td>\n",
       "      <td>vegetables</td>\n",
       "    </tr>\n",
       "    <tr>\n",
       "      <th>15</th>\n",
       "      <td>giraffe</td>\n",
       "      <td>1016</td>\n",
       "      <td>870</td>\n",
       "      <td>vegetables</td>\n",
       "    </tr>\n",
       "  </tbody>\n",
       "</table>\n",
       "</div>"
      ],
      "text/plain": [
       "      animal  uniq_id  water_need        food\n",
       "0   elephant     1001         500  vegetables\n",
       "1   elephant     1002         600  vegetables\n",
       "2   elephant     1003         550  vegetables\n",
       "3      tiger     1004         300        meat\n",
       "4      tiger     1005         350        meat\n",
       "5      tiger     1006         400        meat\n",
       "6      tiger     1007         450        meat\n",
       "7   kangaroo     1008         200  vegetables\n",
       "8   kangaroo     1009         250  vegetables\n",
       "9      zebra     1010         300  vegetables\n",
       "10     zebra     1011         350  vegetables\n",
       "11   giraffe     1012         550  vegetables\n",
       "12   giraffe     1013         600  vegetables\n",
       "13   giraffe     1014         700  vegetables\n",
       "14   giraffe     1015         810  vegetables\n",
       "15   giraffe     1016         870  vegetables"
      ]
     },
     "execution_count": 35,
     "metadata": {},
     "output_type": "execute_result"
    }
   ],
   "source": [
    "zoo.merge(zoo_eats, how=\"left\")"
   ]
  },
  {
   "cell_type": "code",
   "execution_count": 36,
   "metadata": {},
   "outputs": [
    {
     "name": "stdout",
     "output_type": "stream",
     "text": [
      "   x\n",
      "0  0\n",
      "1  1\n",
      "2  2\n",
      "3  3\n",
      "4  4\n",
      "   x\n",
      "0  3\n",
      "1  4\n",
      "2  5\n",
      "3  6\n",
      "4  7\n"
     ]
    }
   ],
   "source": [
    "A = pd.DataFrame({'x':np.arange(5)})\n",
    "B = pd.DataFrame({'x':np.arange(3,8)})\n",
    "print(A)\n",
    "print(B)"
   ]
  },
  {
   "cell_type": "code",
   "execution_count": 37,
   "metadata": {},
   "outputs": [
    {
     "data": {
      "text/html": [
       "<div>\n",
       "<style scoped>\n",
       "    .dataframe tbody tr th:only-of-type {\n",
       "        vertical-align: middle;\n",
       "    }\n",
       "\n",
       "    .dataframe tbody tr th {\n",
       "        vertical-align: top;\n",
       "    }\n",
       "\n",
       "    .dataframe thead th {\n",
       "        text-align: right;\n",
       "    }\n",
       "</style>\n",
       "<table border=\"1\" class=\"dataframe\">\n",
       "  <thead>\n",
       "    <tr style=\"text-align: right;\">\n",
       "      <th></th>\n",
       "      <th>x</th>\n",
       "      <th>_merge</th>\n",
       "    </tr>\n",
       "  </thead>\n",
       "  <tbody>\n",
       "    <tr>\n",
       "      <th>0</th>\n",
       "      <td>0</td>\n",
       "      <td>left_only</td>\n",
       "    </tr>\n",
       "    <tr>\n",
       "      <th>1</th>\n",
       "      <td>1</td>\n",
       "      <td>left_only</td>\n",
       "    </tr>\n",
       "    <tr>\n",
       "      <th>2</th>\n",
       "      <td>2</td>\n",
       "      <td>left_only</td>\n",
       "    </tr>\n",
       "    <tr>\n",
       "      <th>3</th>\n",
       "      <td>3</td>\n",
       "      <td>both</td>\n",
       "    </tr>\n",
       "    <tr>\n",
       "      <th>4</th>\n",
       "      <td>4</td>\n",
       "      <td>both</td>\n",
       "    </tr>\n",
       "    <tr>\n",
       "      <th>5</th>\n",
       "      <td>5</td>\n",
       "      <td>right_only</td>\n",
       "    </tr>\n",
       "    <tr>\n",
       "      <th>6</th>\n",
       "      <td>6</td>\n",
       "      <td>right_only</td>\n",
       "    </tr>\n",
       "    <tr>\n",
       "      <th>7</th>\n",
       "      <td>7</td>\n",
       "      <td>right_only</td>\n",
       "    </tr>\n",
       "  </tbody>\n",
       "</table>\n",
       "</div>"
      ],
      "text/plain": [
       "   x      _merge\n",
       "0  0   left_only\n",
       "1  1   left_only\n",
       "2  2   left_only\n",
       "3  3        both\n",
       "4  4        both\n",
       "5  5  right_only\n",
       "6  6  right_only\n",
       "7  7  right_only"
      ]
     },
     "execution_count": 37,
     "metadata": {},
     "output_type": "execute_result"
    }
   ],
   "source": [
    "pd.merge(A,B, how='outer', indicator=True)"
   ]
  },
  {
   "cell_type": "code",
   "execution_count": 166,
   "metadata": {},
   "outputs": [
    {
     "name": "stdout",
     "output_type": "stream",
     "text": [
      "   Age    Name key key1\n",
      "0   27     Jai  K0   K0\n",
      "1   24  Princi  K1   K1\n",
      "2   22  Gaurav  K2   K0\n",
      "3   32    Anuj  K3   K1 \n",
      "\n",
      "      Address Qualification key key1\n",
      "0     Nagpur         Btech  K0   K0\n",
      "1     Kanpur           B.A  K1   K0\n",
      "2  Allahabad          Bcom  K2   K0\n",
      "3    Kannuaj        B.hons  K3   K0\n"
     ]
    },
    {
     "data": {
      "text/html": [
       "<div>\n",
       "<style scoped>\n",
       "    .dataframe tbody tr th:only-of-type {\n",
       "        vertical-align: middle;\n",
       "    }\n",
       "\n",
       "    .dataframe tbody tr th {\n",
       "        vertical-align: top;\n",
       "    }\n",
       "\n",
       "    .dataframe thead th {\n",
       "        text-align: right;\n",
       "    }\n",
       "</style>\n",
       "<table border=\"1\" class=\"dataframe\">\n",
       "  <thead>\n",
       "    <tr style=\"text-align: right;\">\n",
       "      <th></th>\n",
       "      <th>Age</th>\n",
       "      <th>Name</th>\n",
       "      <th>key</th>\n",
       "      <th>key1</th>\n",
       "      <th>Address</th>\n",
       "      <th>Qualification</th>\n",
       "    </tr>\n",
       "  </thead>\n",
       "  <tbody>\n",
       "    <tr>\n",
       "      <th>0</th>\n",
       "      <td>27</td>\n",
       "      <td>Jai</td>\n",
       "      <td>K0</td>\n",
       "      <td>K0</td>\n",
       "      <td>Nagpur</td>\n",
       "      <td>Btech</td>\n",
       "    </tr>\n",
       "    <tr>\n",
       "      <th>1</th>\n",
       "      <td>22</td>\n",
       "      <td>Gaurav</td>\n",
       "      <td>K2</td>\n",
       "      <td>K0</td>\n",
       "      <td>Allahabad</td>\n",
       "      <td>Bcom</td>\n",
       "    </tr>\n",
       "  </tbody>\n",
       "</table>\n",
       "</div>"
      ],
      "text/plain": [
       "   Age    Name key key1    Address Qualification\n",
       "0   27     Jai  K0   K0     Nagpur         Btech\n",
       "1   22  Gaurav  K2   K0  Allahabad          Bcom"
      ]
     },
     "execution_count": 166,
     "metadata": {},
     "output_type": "execute_result"
    }
   ],
   "source": [
    "data1 = {'key': ['K0', 'K1', 'K2', 'K3'],\n",
    "         'key1': ['K0', 'K1', 'K0', 'K1'],\n",
    "         'Name':['Jai', 'Princi', 'Gaurav', 'Anuj'], \n",
    "        'Age':[27, 24, 22, 32],} \n",
    "data2 = {'key': ['K0', 'K1', 'K2', 'K3'],\n",
    "         'key1': ['K0', 'K0', 'K0', 'K0'],\n",
    "         'Address':['Nagpur', 'Kanpur', 'Allahabad', 'Kannuaj'], \n",
    "        'Qualification':['Btech', 'B.A', 'Bcom', 'B.hons']} \n",
    "df = pd.DataFrame(data1)\n",
    "df1 = pd.DataFrame(data2) \n",
    "print(df, \"\\n\\n\", df1) \n",
    "\n",
    "# merging dataframe using multiple keys\n",
    "res1 = pd.merge(df, df1, on=['key', 'key1'])\n",
    "res1"
   ]
  },
  {
   "cell_type": "markdown",
   "metadata": {},
   "source": [
    "### Left Anti and Right Ani Joins"
   ]
  },
  {
   "cell_type": "code",
   "execution_count": 38,
   "metadata": {},
   "outputs": [
    {
     "name": "stdout",
     "output_type": "stream",
     "text": [
      "Left Anti\n"
     ]
    },
    {
     "data": {
      "text/html": [
       "<div>\n",
       "<style scoped>\n",
       "    .dataframe tbody tr th:only-of-type {\n",
       "        vertical-align: middle;\n",
       "    }\n",
       "\n",
       "    .dataframe tbody tr th {\n",
       "        vertical-align: top;\n",
       "    }\n",
       "\n",
       "    .dataframe thead th {\n",
       "        text-align: right;\n",
       "    }\n",
       "</style>\n",
       "<table border=\"1\" class=\"dataframe\">\n",
       "  <thead>\n",
       "    <tr style=\"text-align: right;\">\n",
       "      <th></th>\n",
       "      <th>x</th>\n",
       "      <th>_merge</th>\n",
       "    </tr>\n",
       "  </thead>\n",
       "  <tbody>\n",
       "    <tr>\n",
       "      <th>0</th>\n",
       "      <td>0</td>\n",
       "      <td>left_only</td>\n",
       "    </tr>\n",
       "    <tr>\n",
       "      <th>1</th>\n",
       "      <td>1</td>\n",
       "      <td>left_only</td>\n",
       "    </tr>\n",
       "    <tr>\n",
       "      <th>2</th>\n",
       "      <td>2</td>\n",
       "      <td>left_only</td>\n",
       "    </tr>\n",
       "  </tbody>\n",
       "</table>\n",
       "</div>"
      ],
      "text/plain": [
       "   x     _merge\n",
       "0  0  left_only\n",
       "1  1  left_only\n",
       "2  2  left_only"
      ]
     },
     "execution_count": 38,
     "metadata": {},
     "output_type": "execute_result"
    }
   ],
   "source": [
    "merged = pd.merge(A,B, how='outer', indicator=True)\n",
    "print(\"Left Anti\")\n",
    "merged[merged['_merge'] =='left_only']"
   ]
  },
  {
   "cell_type": "code",
   "execution_count": 39,
   "metadata": {},
   "outputs": [
    {
     "name": "stdout",
     "output_type": "stream",
     "text": [
      "Right Anti\n"
     ]
    },
    {
     "data": {
      "text/html": [
       "<div>\n",
       "<style scoped>\n",
       "    .dataframe tbody tr th:only-of-type {\n",
       "        vertical-align: middle;\n",
       "    }\n",
       "\n",
       "    .dataframe tbody tr th {\n",
       "        vertical-align: top;\n",
       "    }\n",
       "\n",
       "    .dataframe thead th {\n",
       "        text-align: right;\n",
       "    }\n",
       "</style>\n",
       "<table border=\"1\" class=\"dataframe\">\n",
       "  <thead>\n",
       "    <tr style=\"text-align: right;\">\n",
       "      <th></th>\n",
       "      <th>x</th>\n",
       "      <th>_merge</th>\n",
       "    </tr>\n",
       "  </thead>\n",
       "  <tbody>\n",
       "    <tr>\n",
       "      <th>5</th>\n",
       "      <td>5</td>\n",
       "      <td>right_only</td>\n",
       "    </tr>\n",
       "    <tr>\n",
       "      <th>6</th>\n",
       "      <td>6</td>\n",
       "      <td>right_only</td>\n",
       "    </tr>\n",
       "    <tr>\n",
       "      <th>7</th>\n",
       "      <td>7</td>\n",
       "      <td>right_only</td>\n",
       "    </tr>\n",
       "  </tbody>\n",
       "</table>\n",
       "</div>"
      ],
      "text/plain": [
       "   x      _merge\n",
       "5  5  right_only\n",
       "6  6  right_only\n",
       "7  7  right_only"
      ]
     },
     "execution_count": 39,
     "metadata": {},
     "output_type": "execute_result"
    }
   ],
   "source": [
    "print(\"Right Anti\")\n",
    "merged[merged['_merge'] =='right_only']"
   ]
  },
  {
   "cell_type": "code",
   "execution_count": 40,
   "metadata": {},
   "outputs": [
    {
     "data": {
      "text/html": [
       "<div>\n",
       "<style scoped>\n",
       "    .dataframe tbody tr th:only-of-type {\n",
       "        vertical-align: middle;\n",
       "    }\n",
       "\n",
       "    .dataframe tbody tr th {\n",
       "        vertical-align: top;\n",
       "    }\n",
       "\n",
       "    .dataframe thead th {\n",
       "        text-align: right;\n",
       "    }\n",
       "</style>\n",
       "<table border=\"1\" class=\"dataframe\">\n",
       "  <thead>\n",
       "    <tr style=\"text-align: right;\">\n",
       "      <th></th>\n",
       "      <th>x</th>\n",
       "    </tr>\n",
       "  </thead>\n",
       "  <tbody>\n",
       "    <tr>\n",
       "      <th>0</th>\n",
       "      <td>0</td>\n",
       "    </tr>\n",
       "    <tr>\n",
       "      <th>1</th>\n",
       "      <td>1</td>\n",
       "    </tr>\n",
       "    <tr>\n",
       "      <th>2</th>\n",
       "      <td>2</td>\n",
       "    </tr>\n",
       "  </tbody>\n",
       "</table>\n",
       "</div>"
      ],
      "text/plain": [
       "   x\n",
       "0  0\n",
       "1  1\n",
       "2  2"
      ]
     },
     "execution_count": 40,
     "metadata": {},
     "output_type": "execute_result"
    }
   ],
   "source": [
    "# Also like this\n",
    "A[~A['x'].isin(B['x'])] # left Anti"
   ]
  },
  {
   "cell_type": "code",
   "execution_count": 41,
   "metadata": {},
   "outputs": [
    {
     "data": {
      "text/html": [
       "<div>\n",
       "<style scoped>\n",
       "    .dataframe tbody tr th:only-of-type {\n",
       "        vertical-align: middle;\n",
       "    }\n",
       "\n",
       "    .dataframe tbody tr th {\n",
       "        vertical-align: top;\n",
       "    }\n",
       "\n",
       "    .dataframe thead th {\n",
       "        text-align: right;\n",
       "    }\n",
       "</style>\n",
       "<table border=\"1\" class=\"dataframe\">\n",
       "  <thead>\n",
       "    <tr style=\"text-align: right;\">\n",
       "      <th></th>\n",
       "      <th>x</th>\n",
       "    </tr>\n",
       "  </thead>\n",
       "  <tbody>\n",
       "    <tr>\n",
       "      <th>2</th>\n",
       "      <td>5</td>\n",
       "    </tr>\n",
       "    <tr>\n",
       "      <th>3</th>\n",
       "      <td>6</td>\n",
       "    </tr>\n",
       "    <tr>\n",
       "      <th>4</th>\n",
       "      <td>7</td>\n",
       "    </tr>\n",
       "  </tbody>\n",
       "</table>\n",
       "</div>"
      ],
      "text/plain": [
       "   x\n",
       "2  5\n",
       "3  6\n",
       "4  7"
      ]
     },
     "execution_count": 41,
     "metadata": {},
     "output_type": "execute_result"
    }
   ],
   "source": [
    "# Also like this\n",
    "B[~B['x'].isin(A['x'])] # RIght Anti"
   ]
  },
  {
   "cell_type": "markdown",
   "metadata": {},
   "source": [
    "# Join"
   ]
  },
  {
   "cell_type": "code",
   "execution_count": 167,
   "metadata": {},
   "outputs": [
    {
     "name": "stdout",
     "output_type": "stream",
     "text": [
      "    Age    Name\n",
      "K0   27     Jai\n",
      "K1   24  Princi\n",
      "K2   22  Gaurav\n",
      "K3   32    Anuj \n",
      "\n",
      "       Address Qualification\n",
      "K0  Allahabad           MCA\n",
      "K2    Kannuaj           Phd\n",
      "K3  Allahabad          Bcom\n",
      "K4    Kannuaj        B.hons\n"
     ]
    },
    {
     "data": {
      "text/html": [
       "<div>\n",
       "<style scoped>\n",
       "    .dataframe tbody tr th:only-of-type {\n",
       "        vertical-align: middle;\n",
       "    }\n",
       "\n",
       "    .dataframe tbody tr th {\n",
       "        vertical-align: top;\n",
       "    }\n",
       "\n",
       "    .dataframe thead th {\n",
       "        text-align: right;\n",
       "    }\n",
       "</style>\n",
       "<table border=\"1\" class=\"dataframe\">\n",
       "  <thead>\n",
       "    <tr style=\"text-align: right;\">\n",
       "      <th></th>\n",
       "      <th>Age</th>\n",
       "      <th>Name</th>\n",
       "      <th>Address</th>\n",
       "      <th>Qualification</th>\n",
       "    </tr>\n",
       "  </thead>\n",
       "  <tbody>\n",
       "    <tr>\n",
       "      <th>K0</th>\n",
       "      <td>27</td>\n",
       "      <td>Jai</td>\n",
       "      <td>Allahabad</td>\n",
       "      <td>MCA</td>\n",
       "    </tr>\n",
       "    <tr>\n",
       "      <th>K1</th>\n",
       "      <td>24</td>\n",
       "      <td>Princi</td>\n",
       "      <td>NaN</td>\n",
       "      <td>NaN</td>\n",
       "    </tr>\n",
       "    <tr>\n",
       "      <th>K2</th>\n",
       "      <td>22</td>\n",
       "      <td>Gaurav</td>\n",
       "      <td>Kannuaj</td>\n",
       "      <td>Phd</td>\n",
       "    </tr>\n",
       "    <tr>\n",
       "      <th>K3</th>\n",
       "      <td>32</td>\n",
       "      <td>Anuj</td>\n",
       "      <td>Allahabad</td>\n",
       "      <td>Bcom</td>\n",
       "    </tr>\n",
       "  </tbody>\n",
       "</table>\n",
       "</div>"
      ],
      "text/plain": [
       "    Age    Name    Address Qualification\n",
       "K0   27     Jai  Allahabad           MCA\n",
       "K1   24  Princi        NaN           NaN\n",
       "K2   22  Gaurav    Kannuaj           Phd\n",
       "K3   32    Anuj  Allahabad          Bcom"
      ]
     },
     "execution_count": 167,
     "metadata": {},
     "output_type": "execute_result"
    }
   ],
   "source": [
    "data1 = {'Name':['Jai', 'Princi', 'Gaurav', 'Anuj'], \n",
    "        'Age':[27, 24, 22, 32]} \n",
    "data2 = {'Address':['Allahabad', 'Kannuaj', 'Allahabad', 'Kannuaj'], \n",
    "        'Qualification':['MCA', 'Phd', 'Bcom', 'B.hons']} \n",
    "df = pd.DataFrame(data1,index=['K0', 'K1', 'K2', 'K3'])\n",
    "df1 = pd.DataFrame(data2, index=['K0', 'K2', 'K3', 'K4'])\n",
    "print(df, \"\\n\\n\", df1)  \n",
    "res = df.join(df1) \n",
    "res"
   ]
  },
  {
   "cell_type": "code",
   "execution_count": 168,
   "metadata": {},
   "outputs": [
    {
     "data": {
      "text/html": [
       "<div>\n",
       "<style scoped>\n",
       "    .dataframe tbody tr th:only-of-type {\n",
       "        vertical-align: middle;\n",
       "    }\n",
       "\n",
       "    .dataframe tbody tr th {\n",
       "        vertical-align: top;\n",
       "    }\n",
       "\n",
       "    .dataframe thead th {\n",
       "        text-align: right;\n",
       "    }\n",
       "</style>\n",
       "<table border=\"1\" class=\"dataframe\">\n",
       "  <thead>\n",
       "    <tr style=\"text-align: right;\">\n",
       "      <th></th>\n",
       "      <th>Age</th>\n",
       "      <th>Name</th>\n",
       "      <th>Address</th>\n",
       "      <th>Qualification</th>\n",
       "    </tr>\n",
       "  </thead>\n",
       "  <tbody>\n",
       "    <tr>\n",
       "      <th>K0</th>\n",
       "      <td>27.0</td>\n",
       "      <td>Jai</td>\n",
       "      <td>Allahabad</td>\n",
       "      <td>MCA</td>\n",
       "    </tr>\n",
       "    <tr>\n",
       "      <th>K1</th>\n",
       "      <td>24.0</td>\n",
       "      <td>Princi</td>\n",
       "      <td>NaN</td>\n",
       "      <td>NaN</td>\n",
       "    </tr>\n",
       "    <tr>\n",
       "      <th>K2</th>\n",
       "      <td>22.0</td>\n",
       "      <td>Gaurav</td>\n",
       "      <td>Kannuaj</td>\n",
       "      <td>Phd</td>\n",
       "    </tr>\n",
       "    <tr>\n",
       "      <th>K3</th>\n",
       "      <td>32.0</td>\n",
       "      <td>Anuj</td>\n",
       "      <td>Allahabad</td>\n",
       "      <td>Bcom</td>\n",
       "    </tr>\n",
       "    <tr>\n",
       "      <th>K4</th>\n",
       "      <td>NaN</td>\n",
       "      <td>NaN</td>\n",
       "      <td>Kannuaj</td>\n",
       "      <td>B.hons</td>\n",
       "    </tr>\n",
       "  </tbody>\n",
       "</table>\n",
       "</div>"
      ],
      "text/plain": [
       "     Age    Name    Address Qualification\n",
       "K0  27.0     Jai  Allahabad           MCA\n",
       "K1  24.0  Princi        NaN           NaN\n",
       "K2  22.0  Gaurav    Kannuaj           Phd\n",
       "K3  32.0    Anuj  Allahabad          Bcom\n",
       "K4   NaN     NaN    Kannuaj        B.hons"
      ]
     },
     "execution_count": 168,
     "metadata": {},
     "output_type": "execute_result"
    }
   ],
   "source": [
    "res1 = df.join(df1, how='outer')\n",
    "res1"
   ]
  },
  {
   "cell_type": "code",
   "execution_count": 169,
   "metadata": {},
   "outputs": [
    {
     "data": {
      "text/html": [
       "<div>\n",
       "<style scoped>\n",
       "    .dataframe tbody tr th:only-of-type {\n",
       "        vertical-align: middle;\n",
       "    }\n",
       "\n",
       "    .dataframe tbody tr th {\n",
       "        vertical-align: top;\n",
       "    }\n",
       "\n",
       "    .dataframe thead th {\n",
       "        text-align: right;\n",
       "    }\n",
       "</style>\n",
       "<table border=\"1\" class=\"dataframe\">\n",
       "  <thead>\n",
       "    <tr style=\"text-align: right;\">\n",
       "      <th></th>\n",
       "      <th>Age</th>\n",
       "      <th>Name</th>\n",
       "      <th>Address</th>\n",
       "      <th>Qualification</th>\n",
       "    </tr>\n",
       "  </thead>\n",
       "  <tbody>\n",
       "    <tr>\n",
       "      <th>K0</th>\n",
       "      <td>27</td>\n",
       "      <td>Jai</td>\n",
       "      <td>Allahabad</td>\n",
       "      <td>MCA</td>\n",
       "    </tr>\n",
       "    <tr>\n",
       "      <th>K2</th>\n",
       "      <td>22</td>\n",
       "      <td>Gaurav</td>\n",
       "      <td>Kannuaj</td>\n",
       "      <td>Phd</td>\n",
       "    </tr>\n",
       "    <tr>\n",
       "      <th>K3</th>\n",
       "      <td>32</td>\n",
       "      <td>Anuj</td>\n",
       "      <td>Allahabad</td>\n",
       "      <td>Bcom</td>\n",
       "    </tr>\n",
       "  </tbody>\n",
       "</table>\n",
       "</div>"
      ],
      "text/plain": [
       "    Age    Name    Address Qualification\n",
       "K0   27     Jai  Allahabad           MCA\n",
       "K2   22  Gaurav    Kannuaj           Phd\n",
       "K3   32    Anuj  Allahabad          Bcom"
      ]
     },
     "execution_count": 169,
     "metadata": {},
     "output_type": "execute_result"
    }
   ],
   "source": [
    "res1 = df.join(df1, how='inner')\n",
    "res1"
   ]
  },
  {
   "cell_type": "markdown",
   "metadata": {},
   "source": [
    "# Join multi-indexed dataframes"
   ]
  },
  {
   "cell_type": "code",
   "execution_count": 170,
   "metadata": {},
   "outputs": [
    {
     "name": "stdout",
     "output_type": "stream",
     "text": [
      "     Age    Name\n",
      "key             \n",
      "K0    27     Jai\n",
      "K1    24  Princi\n",
      "K2    22  Gaurav \n",
      "\n",
      "           Address Qualification\n",
      "key Y                          \n",
      "K0  Y0  Allahabad           MCA\n",
      "K1  Y1    Kannuaj           Phd\n",
      "K2  Y2  Allahabad          Bcom\n",
      "    Y3     Kanpur        B.hons\n"
     ]
    },
    {
     "data": {
      "text/html": [
       "<div>\n",
       "<style scoped>\n",
       "    .dataframe tbody tr th:only-of-type {\n",
       "        vertical-align: middle;\n",
       "    }\n",
       "\n",
       "    .dataframe tbody tr th {\n",
       "        vertical-align: top;\n",
       "    }\n",
       "\n",
       "    .dataframe thead th {\n",
       "        text-align: right;\n",
       "    }\n",
       "</style>\n",
       "<table border=\"1\" class=\"dataframe\">\n",
       "  <thead>\n",
       "    <tr style=\"text-align: right;\">\n",
       "      <th></th>\n",
       "      <th></th>\n",
       "      <th>Age</th>\n",
       "      <th>Name</th>\n",
       "      <th>Address</th>\n",
       "      <th>Qualification</th>\n",
       "    </tr>\n",
       "    <tr>\n",
       "      <th>key</th>\n",
       "      <th>Y</th>\n",
       "      <th></th>\n",
       "      <th></th>\n",
       "      <th></th>\n",
       "      <th></th>\n",
       "    </tr>\n",
       "  </thead>\n",
       "  <tbody>\n",
       "    <tr>\n",
       "      <th>K0</th>\n",
       "      <th>Y0</th>\n",
       "      <td>27</td>\n",
       "      <td>Jai</td>\n",
       "      <td>Allahabad</td>\n",
       "      <td>MCA</td>\n",
       "    </tr>\n",
       "    <tr>\n",
       "      <th>K1</th>\n",
       "      <th>Y1</th>\n",
       "      <td>24</td>\n",
       "      <td>Princi</td>\n",
       "      <td>Kannuaj</td>\n",
       "      <td>Phd</td>\n",
       "    </tr>\n",
       "    <tr>\n",
       "      <th rowspan=\"2\" valign=\"top\">K2</th>\n",
       "      <th>Y2</th>\n",
       "      <td>22</td>\n",
       "      <td>Gaurav</td>\n",
       "      <td>Allahabad</td>\n",
       "      <td>Bcom</td>\n",
       "    </tr>\n",
       "    <tr>\n",
       "      <th>Y3</th>\n",
       "      <td>22</td>\n",
       "      <td>Gaurav</td>\n",
       "      <td>Kanpur</td>\n",
       "      <td>B.hons</td>\n",
       "    </tr>\n",
       "  </tbody>\n",
       "</table>\n",
       "</div>"
      ],
      "text/plain": [
       "        Age    Name    Address Qualification\n",
       "key Y                                       \n",
       "K0  Y0   27     Jai  Allahabad           MCA\n",
       "K1  Y1   24  Princi    Kannuaj           Phd\n",
       "K2  Y2   22  Gaurav  Allahabad          Bcom\n",
       "    Y3   22  Gaurav     Kanpur        B.hons"
      ]
     },
     "execution_count": 170,
     "metadata": {},
     "output_type": "execute_result"
    }
   ],
   "source": [
    "data1 = {'Name':['Jai', 'Princi', 'Gaurav'], \n",
    "        'Age':[27, 24, 22]} \n",
    "data2 = {'Address':['Allahabad', 'Kannuaj', 'Allahabad', 'Kanpur'], \n",
    "        'Qualification':['MCA', 'Phd', 'Bcom', 'B.hons']} \n",
    "df = pd.DataFrame(data1, index=pd.Index(['K0', 'K1', 'K2'], name='key')) \n",
    "index = pd.MultiIndex.from_tuples([('K0', 'Y0'), ('K1', 'Y1'),\n",
    "                                   ('K2', 'Y2'), ('K2', 'Y3')],\n",
    "                                   names=['key', 'Y'])\n",
    "df1 = pd.DataFrame(data2, index= index)\n",
    "print(df, \"\\n\\n\", df1)\n",
    "# joining singly indexed with multi indexed\n",
    "result = df.join(df1, how='inner')\n",
    "result"
   ]
  },
  {
   "cell_type": "markdown",
   "metadata": {},
   "source": [
    "# Sorting"
   ]
  },
  {
   "cell_type": "code",
   "execution_count": 42,
   "metadata": {},
   "outputs": [
    {
     "data": {
      "text/html": [
       "<div>\n",
       "<style scoped>\n",
       "    .dataframe tbody tr th:only-of-type {\n",
       "        vertical-align: middle;\n",
       "    }\n",
       "\n",
       "    .dataframe tbody tr th {\n",
       "        vertical-align: top;\n",
       "    }\n",
       "\n",
       "    .dataframe thead th {\n",
       "        text-align: right;\n",
       "    }\n",
       "</style>\n",
       "<table border=\"1\" class=\"dataframe\">\n",
       "  <thead>\n",
       "    <tr style=\"text-align: right;\">\n",
       "      <th></th>\n",
       "      <th>animal</th>\n",
       "      <th>uniq_id</th>\n",
       "      <th>water_need</th>\n",
       "    </tr>\n",
       "  </thead>\n",
       "  <tbody>\n",
       "    <tr>\n",
       "      <th>7</th>\n",
       "      <td>kangaroo</td>\n",
       "      <td>1008</td>\n",
       "      <td>200</td>\n",
       "    </tr>\n",
       "    <tr>\n",
       "      <th>8</th>\n",
       "      <td>kangaroo</td>\n",
       "      <td>1009</td>\n",
       "      <td>250</td>\n",
       "    </tr>\n",
       "    <tr>\n",
       "      <th>3</th>\n",
       "      <td>tiger</td>\n",
       "      <td>1004</td>\n",
       "      <td>300</td>\n",
       "    </tr>\n",
       "    <tr>\n",
       "      <th>9</th>\n",
       "      <td>zebra</td>\n",
       "      <td>1010</td>\n",
       "      <td>300</td>\n",
       "    </tr>\n",
       "    <tr>\n",
       "      <th>4</th>\n",
       "      <td>tiger</td>\n",
       "      <td>1005</td>\n",
       "      <td>350</td>\n",
       "    </tr>\n",
       "    <tr>\n",
       "      <th>10</th>\n",
       "      <td>zebra</td>\n",
       "      <td>1011</td>\n",
       "      <td>350</td>\n",
       "    </tr>\n",
       "    <tr>\n",
       "      <th>5</th>\n",
       "      <td>tiger</td>\n",
       "      <td>1006</td>\n",
       "      <td>400</td>\n",
       "    </tr>\n",
       "    <tr>\n",
       "      <th>6</th>\n",
       "      <td>tiger</td>\n",
       "      <td>1007</td>\n",
       "      <td>450</td>\n",
       "    </tr>\n",
       "    <tr>\n",
       "      <th>0</th>\n",
       "      <td>elephant</td>\n",
       "      <td>1001</td>\n",
       "      <td>500</td>\n",
       "    </tr>\n",
       "    <tr>\n",
       "      <th>2</th>\n",
       "      <td>elephant</td>\n",
       "      <td>1003</td>\n",
       "      <td>550</td>\n",
       "    </tr>\n",
       "    <tr>\n",
       "      <th>11</th>\n",
       "      <td>giraffe</td>\n",
       "      <td>1012</td>\n",
       "      <td>550</td>\n",
       "    </tr>\n",
       "    <tr>\n",
       "      <th>1</th>\n",
       "      <td>elephant</td>\n",
       "      <td>1002</td>\n",
       "      <td>600</td>\n",
       "    </tr>\n",
       "    <tr>\n",
       "      <th>12</th>\n",
       "      <td>giraffe</td>\n",
       "      <td>1013</td>\n",
       "      <td>600</td>\n",
       "    </tr>\n",
       "    <tr>\n",
       "      <th>13</th>\n",
       "      <td>giraffe</td>\n",
       "      <td>1014</td>\n",
       "      <td>700</td>\n",
       "    </tr>\n",
       "    <tr>\n",
       "      <th>14</th>\n",
       "      <td>giraffe</td>\n",
       "      <td>1015</td>\n",
       "      <td>810</td>\n",
       "    </tr>\n",
       "    <tr>\n",
       "      <th>15</th>\n",
       "      <td>giraffe</td>\n",
       "      <td>1016</td>\n",
       "      <td>870</td>\n",
       "    </tr>\n",
       "  </tbody>\n",
       "</table>\n",
       "</div>"
      ],
      "text/plain": [
       "      animal  uniq_id  water_need\n",
       "7   kangaroo     1008         200\n",
       "8   kangaroo     1009         250\n",
       "3      tiger     1004         300\n",
       "9      zebra     1010         300\n",
       "4      tiger     1005         350\n",
       "10     zebra     1011         350\n",
       "5      tiger     1006         400\n",
       "6      tiger     1007         450\n",
       "0   elephant     1001         500\n",
       "2   elephant     1003         550\n",
       "11   giraffe     1012         550\n",
       "1   elephant     1002         600\n",
       "12   giraffe     1013         600\n",
       "13   giraffe     1014         700\n",
       "14   giraffe     1015         810\n",
       "15   giraffe     1016         870"
      ]
     },
     "execution_count": 42,
     "metadata": {},
     "output_type": "execute_result"
    }
   ],
   "source": [
    "zoo.sort_values('water_need')"
   ]
  },
  {
   "cell_type": "code",
   "execution_count": 43,
   "metadata": {},
   "outputs": [
    {
     "data": {
      "text/html": [
       "<div>\n",
       "<style scoped>\n",
       "    .dataframe tbody tr th:only-of-type {\n",
       "        vertical-align: middle;\n",
       "    }\n",
       "\n",
       "    .dataframe tbody tr th {\n",
       "        vertical-align: top;\n",
       "    }\n",
       "\n",
       "    .dataframe thead th {\n",
       "        text-align: right;\n",
       "    }\n",
       "</style>\n",
       "<table border=\"1\" class=\"dataframe\">\n",
       "  <thead>\n",
       "    <tr style=\"text-align: right;\">\n",
       "      <th></th>\n",
       "      <th>animal</th>\n",
       "      <th>uniq_id</th>\n",
       "      <th>water_need</th>\n",
       "    </tr>\n",
       "  </thead>\n",
       "  <tbody>\n",
       "    <tr>\n",
       "      <th>0</th>\n",
       "      <td>elephant</td>\n",
       "      <td>1001</td>\n",
       "      <td>500</td>\n",
       "    </tr>\n",
       "    <tr>\n",
       "      <th>2</th>\n",
       "      <td>elephant</td>\n",
       "      <td>1003</td>\n",
       "      <td>550</td>\n",
       "    </tr>\n",
       "    <tr>\n",
       "      <th>1</th>\n",
       "      <td>elephant</td>\n",
       "      <td>1002</td>\n",
       "      <td>600</td>\n",
       "    </tr>\n",
       "    <tr>\n",
       "      <th>11</th>\n",
       "      <td>giraffe</td>\n",
       "      <td>1012</td>\n",
       "      <td>550</td>\n",
       "    </tr>\n",
       "    <tr>\n",
       "      <th>12</th>\n",
       "      <td>giraffe</td>\n",
       "      <td>1013</td>\n",
       "      <td>600</td>\n",
       "    </tr>\n",
       "    <tr>\n",
       "      <th>13</th>\n",
       "      <td>giraffe</td>\n",
       "      <td>1014</td>\n",
       "      <td>700</td>\n",
       "    </tr>\n",
       "    <tr>\n",
       "      <th>14</th>\n",
       "      <td>giraffe</td>\n",
       "      <td>1015</td>\n",
       "      <td>810</td>\n",
       "    </tr>\n",
       "    <tr>\n",
       "      <th>15</th>\n",
       "      <td>giraffe</td>\n",
       "      <td>1016</td>\n",
       "      <td>870</td>\n",
       "    </tr>\n",
       "    <tr>\n",
       "      <th>7</th>\n",
       "      <td>kangaroo</td>\n",
       "      <td>1008</td>\n",
       "      <td>200</td>\n",
       "    </tr>\n",
       "    <tr>\n",
       "      <th>8</th>\n",
       "      <td>kangaroo</td>\n",
       "      <td>1009</td>\n",
       "      <td>250</td>\n",
       "    </tr>\n",
       "    <tr>\n",
       "      <th>3</th>\n",
       "      <td>tiger</td>\n",
       "      <td>1004</td>\n",
       "      <td>300</td>\n",
       "    </tr>\n",
       "    <tr>\n",
       "      <th>4</th>\n",
       "      <td>tiger</td>\n",
       "      <td>1005</td>\n",
       "      <td>350</td>\n",
       "    </tr>\n",
       "    <tr>\n",
       "      <th>5</th>\n",
       "      <td>tiger</td>\n",
       "      <td>1006</td>\n",
       "      <td>400</td>\n",
       "    </tr>\n",
       "    <tr>\n",
       "      <th>6</th>\n",
       "      <td>tiger</td>\n",
       "      <td>1007</td>\n",
       "      <td>450</td>\n",
       "    </tr>\n",
       "    <tr>\n",
       "      <th>9</th>\n",
       "      <td>zebra</td>\n",
       "      <td>1010</td>\n",
       "      <td>300</td>\n",
       "    </tr>\n",
       "    <tr>\n",
       "      <th>10</th>\n",
       "      <td>zebra</td>\n",
       "      <td>1011</td>\n",
       "      <td>350</td>\n",
       "    </tr>\n",
       "  </tbody>\n",
       "</table>\n",
       "</div>"
      ],
      "text/plain": [
       "      animal  uniq_id  water_need\n",
       "0   elephant     1001         500\n",
       "2   elephant     1003         550\n",
       "1   elephant     1002         600\n",
       "11   giraffe     1012         550\n",
       "12   giraffe     1013         600\n",
       "13   giraffe     1014         700\n",
       "14   giraffe     1015         810\n",
       "15   giraffe     1016         870\n",
       "7   kangaroo     1008         200\n",
       "8   kangaroo     1009         250\n",
       "3      tiger     1004         300\n",
       "4      tiger     1005         350\n",
       "5      tiger     1006         400\n",
       "6      tiger     1007         450\n",
       "9      zebra     1010         300\n",
       "10     zebra     1011         350"
      ]
     },
     "execution_count": 43,
     "metadata": {},
     "output_type": "execute_result"
    }
   ],
   "source": [
    "zoo.sort_values(by=['animal','water_need'])"
   ]
  },
  {
   "cell_type": "code",
   "execution_count": 44,
   "metadata": {},
   "outputs": [
    {
     "data": {
      "text/html": [
       "<div>\n",
       "<style scoped>\n",
       "    .dataframe tbody tr th:only-of-type {\n",
       "        vertical-align: middle;\n",
       "    }\n",
       "\n",
       "    .dataframe tbody tr th {\n",
       "        vertical-align: top;\n",
       "    }\n",
       "\n",
       "    .dataframe thead th {\n",
       "        text-align: right;\n",
       "    }\n",
       "</style>\n",
       "<table border=\"1\" class=\"dataframe\">\n",
       "  <thead>\n",
       "    <tr style=\"text-align: right;\">\n",
       "      <th></th>\n",
       "      <th>animal</th>\n",
       "      <th>uniq_id</th>\n",
       "      <th>water_need</th>\n",
       "    </tr>\n",
       "  </thead>\n",
       "  <tbody>\n",
       "    <tr>\n",
       "      <th>10</th>\n",
       "      <td>zebra</td>\n",
       "      <td>1011</td>\n",
       "      <td>350</td>\n",
       "    </tr>\n",
       "    <tr>\n",
       "      <th>9</th>\n",
       "      <td>zebra</td>\n",
       "      <td>1010</td>\n",
       "      <td>300</td>\n",
       "    </tr>\n",
       "    <tr>\n",
       "      <th>6</th>\n",
       "      <td>tiger</td>\n",
       "      <td>1007</td>\n",
       "      <td>450</td>\n",
       "    </tr>\n",
       "    <tr>\n",
       "      <th>5</th>\n",
       "      <td>tiger</td>\n",
       "      <td>1006</td>\n",
       "      <td>400</td>\n",
       "    </tr>\n",
       "    <tr>\n",
       "      <th>4</th>\n",
       "      <td>tiger</td>\n",
       "      <td>1005</td>\n",
       "      <td>350</td>\n",
       "    </tr>\n",
       "    <tr>\n",
       "      <th>3</th>\n",
       "      <td>tiger</td>\n",
       "      <td>1004</td>\n",
       "      <td>300</td>\n",
       "    </tr>\n",
       "    <tr>\n",
       "      <th>8</th>\n",
       "      <td>kangaroo</td>\n",
       "      <td>1009</td>\n",
       "      <td>250</td>\n",
       "    </tr>\n",
       "    <tr>\n",
       "      <th>7</th>\n",
       "      <td>kangaroo</td>\n",
       "      <td>1008</td>\n",
       "      <td>200</td>\n",
       "    </tr>\n",
       "    <tr>\n",
       "      <th>15</th>\n",
       "      <td>giraffe</td>\n",
       "      <td>1016</td>\n",
       "      <td>870</td>\n",
       "    </tr>\n",
       "    <tr>\n",
       "      <th>14</th>\n",
       "      <td>giraffe</td>\n",
       "      <td>1015</td>\n",
       "      <td>810</td>\n",
       "    </tr>\n",
       "    <tr>\n",
       "      <th>13</th>\n",
       "      <td>giraffe</td>\n",
       "      <td>1014</td>\n",
       "      <td>700</td>\n",
       "    </tr>\n",
       "    <tr>\n",
       "      <th>12</th>\n",
       "      <td>giraffe</td>\n",
       "      <td>1013</td>\n",
       "      <td>600</td>\n",
       "    </tr>\n",
       "    <tr>\n",
       "      <th>11</th>\n",
       "      <td>giraffe</td>\n",
       "      <td>1012</td>\n",
       "      <td>550</td>\n",
       "    </tr>\n",
       "    <tr>\n",
       "      <th>1</th>\n",
       "      <td>elephant</td>\n",
       "      <td>1002</td>\n",
       "      <td>600</td>\n",
       "    </tr>\n",
       "    <tr>\n",
       "      <th>2</th>\n",
       "      <td>elephant</td>\n",
       "      <td>1003</td>\n",
       "      <td>550</td>\n",
       "    </tr>\n",
       "    <tr>\n",
       "      <th>0</th>\n",
       "      <td>elephant</td>\n",
       "      <td>1001</td>\n",
       "      <td>500</td>\n",
       "    </tr>\n",
       "  </tbody>\n",
       "</table>\n",
       "</div>"
      ],
      "text/plain": [
       "      animal  uniq_id  water_need\n",
       "10     zebra     1011         350\n",
       "9      zebra     1010         300\n",
       "6      tiger     1007         450\n",
       "5      tiger     1006         400\n",
       "4      tiger     1005         350\n",
       "3      tiger     1004         300\n",
       "8   kangaroo     1009         250\n",
       "7   kangaroo     1008         200\n",
       "15   giraffe     1016         870\n",
       "14   giraffe     1015         810\n",
       "13   giraffe     1014         700\n",
       "12   giraffe     1013         600\n",
       "11   giraffe     1012         550\n",
       "1   elephant     1002         600\n",
       "2   elephant     1003         550\n",
       "0   elephant     1001         500"
      ]
     },
     "execution_count": 44,
     "metadata": {},
     "output_type": "execute_result"
    }
   ],
   "source": [
    "zoo.sort_values(by=['animal','water_need'], ascending=False)"
   ]
  },
  {
   "cell_type": "markdown",
   "metadata": {},
   "source": [
    "# Reset Index"
   ]
  },
  {
   "cell_type": "code",
   "execution_count": 45,
   "metadata": {},
   "outputs": [
    {
     "data": {
      "text/html": [
       "<div>\n",
       "<style scoped>\n",
       "    .dataframe tbody tr th:only-of-type {\n",
       "        vertical-align: middle;\n",
       "    }\n",
       "\n",
       "    .dataframe tbody tr th {\n",
       "        vertical-align: top;\n",
       "    }\n",
       "\n",
       "    .dataframe thead th {\n",
       "        text-align: right;\n",
       "    }\n",
       "</style>\n",
       "<table border=\"1\" class=\"dataframe\">\n",
       "  <thead>\n",
       "    <tr style=\"text-align: right;\">\n",
       "      <th></th>\n",
       "      <th>index</th>\n",
       "      <th>animal</th>\n",
       "      <th>uniq_id</th>\n",
       "      <th>water_need</th>\n",
       "    </tr>\n",
       "  </thead>\n",
       "  <tbody>\n",
       "    <tr>\n",
       "      <th>0</th>\n",
       "      <td>10</td>\n",
       "      <td>zebra</td>\n",
       "      <td>1011</td>\n",
       "      <td>350</td>\n",
       "    </tr>\n",
       "    <tr>\n",
       "      <th>1</th>\n",
       "      <td>9</td>\n",
       "      <td>zebra</td>\n",
       "      <td>1010</td>\n",
       "      <td>300</td>\n",
       "    </tr>\n",
       "    <tr>\n",
       "      <th>2</th>\n",
       "      <td>6</td>\n",
       "      <td>tiger</td>\n",
       "      <td>1007</td>\n",
       "      <td>450</td>\n",
       "    </tr>\n",
       "    <tr>\n",
       "      <th>3</th>\n",
       "      <td>5</td>\n",
       "      <td>tiger</td>\n",
       "      <td>1006</td>\n",
       "      <td>400</td>\n",
       "    </tr>\n",
       "    <tr>\n",
       "      <th>4</th>\n",
       "      <td>4</td>\n",
       "      <td>tiger</td>\n",
       "      <td>1005</td>\n",
       "      <td>350</td>\n",
       "    </tr>\n",
       "    <tr>\n",
       "      <th>5</th>\n",
       "      <td>3</td>\n",
       "      <td>tiger</td>\n",
       "      <td>1004</td>\n",
       "      <td>300</td>\n",
       "    </tr>\n",
       "    <tr>\n",
       "      <th>6</th>\n",
       "      <td>8</td>\n",
       "      <td>kangaroo</td>\n",
       "      <td>1009</td>\n",
       "      <td>250</td>\n",
       "    </tr>\n",
       "    <tr>\n",
       "      <th>7</th>\n",
       "      <td>7</td>\n",
       "      <td>kangaroo</td>\n",
       "      <td>1008</td>\n",
       "      <td>200</td>\n",
       "    </tr>\n",
       "    <tr>\n",
       "      <th>8</th>\n",
       "      <td>15</td>\n",
       "      <td>giraffe</td>\n",
       "      <td>1016</td>\n",
       "      <td>870</td>\n",
       "    </tr>\n",
       "    <tr>\n",
       "      <th>9</th>\n",
       "      <td>14</td>\n",
       "      <td>giraffe</td>\n",
       "      <td>1015</td>\n",
       "      <td>810</td>\n",
       "    </tr>\n",
       "    <tr>\n",
       "      <th>10</th>\n",
       "      <td>13</td>\n",
       "      <td>giraffe</td>\n",
       "      <td>1014</td>\n",
       "      <td>700</td>\n",
       "    </tr>\n",
       "    <tr>\n",
       "      <th>11</th>\n",
       "      <td>12</td>\n",
       "      <td>giraffe</td>\n",
       "      <td>1013</td>\n",
       "      <td>600</td>\n",
       "    </tr>\n",
       "    <tr>\n",
       "      <th>12</th>\n",
       "      <td>11</td>\n",
       "      <td>giraffe</td>\n",
       "      <td>1012</td>\n",
       "      <td>550</td>\n",
       "    </tr>\n",
       "    <tr>\n",
       "      <th>13</th>\n",
       "      <td>1</td>\n",
       "      <td>elephant</td>\n",
       "      <td>1002</td>\n",
       "      <td>600</td>\n",
       "    </tr>\n",
       "    <tr>\n",
       "      <th>14</th>\n",
       "      <td>2</td>\n",
       "      <td>elephant</td>\n",
       "      <td>1003</td>\n",
       "      <td>550</td>\n",
       "    </tr>\n",
       "    <tr>\n",
       "      <th>15</th>\n",
       "      <td>0</td>\n",
       "      <td>elephant</td>\n",
       "      <td>1001</td>\n",
       "      <td>500</td>\n",
       "    </tr>\n",
       "  </tbody>\n",
       "</table>\n",
       "</div>"
      ],
      "text/plain": [
       "    index    animal  uniq_id  water_need\n",
       "0      10     zebra     1011         350\n",
       "1       9     zebra     1010         300\n",
       "2       6     tiger     1007         450\n",
       "3       5     tiger     1006         400\n",
       "4       4     tiger     1005         350\n",
       "5       3     tiger     1004         300\n",
       "6       8  kangaroo     1009         250\n",
       "7       7  kangaroo     1008         200\n",
       "8      15   giraffe     1016         870\n",
       "9      14   giraffe     1015         810\n",
       "10     13   giraffe     1014         700\n",
       "11     12   giraffe     1013         600\n",
       "12     11   giraffe     1012         550\n",
       "13      1  elephant     1002         600\n",
       "14      2  elephant     1003         550\n",
       "15      0  elephant     1001         500"
      ]
     },
     "execution_count": 45,
     "metadata": {},
     "output_type": "execute_result"
    }
   ],
   "source": [
    "zoo.sort_values(by=['animal','water_need'], ascending=False).reset_index()"
   ]
  },
  {
   "cell_type": "code",
   "execution_count": 46,
   "metadata": {},
   "outputs": [
    {
     "data": {
      "text/html": [
       "<div>\n",
       "<style scoped>\n",
       "    .dataframe tbody tr th:only-of-type {\n",
       "        vertical-align: middle;\n",
       "    }\n",
       "\n",
       "    .dataframe tbody tr th {\n",
       "        vertical-align: top;\n",
       "    }\n",
       "\n",
       "    .dataframe thead th {\n",
       "        text-align: right;\n",
       "    }\n",
       "</style>\n",
       "<table border=\"1\" class=\"dataframe\">\n",
       "  <thead>\n",
       "    <tr style=\"text-align: right;\">\n",
       "      <th></th>\n",
       "      <th>animal</th>\n",
       "      <th>uniq_id</th>\n",
       "      <th>water_need</th>\n",
       "    </tr>\n",
       "  </thead>\n",
       "  <tbody>\n",
       "    <tr>\n",
       "      <th>0</th>\n",
       "      <td>zebra</td>\n",
       "      <td>1011</td>\n",
       "      <td>350</td>\n",
       "    </tr>\n",
       "    <tr>\n",
       "      <th>1</th>\n",
       "      <td>zebra</td>\n",
       "      <td>1010</td>\n",
       "      <td>300</td>\n",
       "    </tr>\n",
       "    <tr>\n",
       "      <th>2</th>\n",
       "      <td>tiger</td>\n",
       "      <td>1007</td>\n",
       "      <td>450</td>\n",
       "    </tr>\n",
       "    <tr>\n",
       "      <th>3</th>\n",
       "      <td>tiger</td>\n",
       "      <td>1006</td>\n",
       "      <td>400</td>\n",
       "    </tr>\n",
       "    <tr>\n",
       "      <th>4</th>\n",
       "      <td>tiger</td>\n",
       "      <td>1005</td>\n",
       "      <td>350</td>\n",
       "    </tr>\n",
       "    <tr>\n",
       "      <th>5</th>\n",
       "      <td>tiger</td>\n",
       "      <td>1004</td>\n",
       "      <td>300</td>\n",
       "    </tr>\n",
       "    <tr>\n",
       "      <th>6</th>\n",
       "      <td>kangaroo</td>\n",
       "      <td>1009</td>\n",
       "      <td>250</td>\n",
       "    </tr>\n",
       "    <tr>\n",
       "      <th>7</th>\n",
       "      <td>kangaroo</td>\n",
       "      <td>1008</td>\n",
       "      <td>200</td>\n",
       "    </tr>\n",
       "    <tr>\n",
       "      <th>8</th>\n",
       "      <td>giraffe</td>\n",
       "      <td>1016</td>\n",
       "      <td>870</td>\n",
       "    </tr>\n",
       "    <tr>\n",
       "      <th>9</th>\n",
       "      <td>giraffe</td>\n",
       "      <td>1015</td>\n",
       "      <td>810</td>\n",
       "    </tr>\n",
       "    <tr>\n",
       "      <th>10</th>\n",
       "      <td>giraffe</td>\n",
       "      <td>1014</td>\n",
       "      <td>700</td>\n",
       "    </tr>\n",
       "    <tr>\n",
       "      <th>11</th>\n",
       "      <td>giraffe</td>\n",
       "      <td>1013</td>\n",
       "      <td>600</td>\n",
       "    </tr>\n",
       "    <tr>\n",
       "      <th>12</th>\n",
       "      <td>giraffe</td>\n",
       "      <td>1012</td>\n",
       "      <td>550</td>\n",
       "    </tr>\n",
       "    <tr>\n",
       "      <th>13</th>\n",
       "      <td>elephant</td>\n",
       "      <td>1002</td>\n",
       "      <td>600</td>\n",
       "    </tr>\n",
       "    <tr>\n",
       "      <th>14</th>\n",
       "      <td>elephant</td>\n",
       "      <td>1003</td>\n",
       "      <td>550</td>\n",
       "    </tr>\n",
       "    <tr>\n",
       "      <th>15</th>\n",
       "      <td>elephant</td>\n",
       "      <td>1001</td>\n",
       "      <td>500</td>\n",
       "    </tr>\n",
       "  </tbody>\n",
       "</table>\n",
       "</div>"
      ],
      "text/plain": [
       "      animal  uniq_id  water_need\n",
       "0      zebra     1011         350\n",
       "1      zebra     1010         300\n",
       "2      tiger     1007         450\n",
       "3      tiger     1006         400\n",
       "4      tiger     1005         350\n",
       "5      tiger     1004         300\n",
       "6   kangaroo     1009         250\n",
       "7   kangaroo     1008         200\n",
       "8    giraffe     1016         870\n",
       "9    giraffe     1015         810\n",
       "10   giraffe     1014         700\n",
       "11   giraffe     1013         600\n",
       "12   giraffe     1012         550\n",
       "13  elephant     1002         600\n",
       "14  elephant     1003         550\n",
       "15  elephant     1001         500"
      ]
     },
     "execution_count": 46,
     "metadata": {},
     "output_type": "execute_result"
    }
   ],
   "source": [
    "zoo.sort_values(by=['animal','water_need'], ascending=False).reset_index(drop=True) # drop previous indexes"
   ]
  },
  {
   "cell_type": "code",
   "execution_count": 47,
   "metadata": {},
   "outputs": [
    {
     "data": {
      "text/html": [
       "<div>\n",
       "<style scoped>\n",
       "    .dataframe tbody tr th:only-of-type {\n",
       "        vertical-align: middle;\n",
       "    }\n",
       "\n",
       "    .dataframe tbody tr th {\n",
       "        vertical-align: top;\n",
       "    }\n",
       "\n",
       "    .dataframe thead th {\n",
       "        text-align: right;\n",
       "    }\n",
       "</style>\n",
       "<table border=\"1\" class=\"dataframe\">\n",
       "  <thead>\n",
       "    <tr style=\"text-align: right;\">\n",
       "      <th></th>\n",
       "      <th>animal</th>\n",
       "      <th>water_need</th>\n",
       "    </tr>\n",
       "  </thead>\n",
       "  <tbody>\n",
       "    <tr>\n",
       "      <th>0</th>\n",
       "      <td>elephant</td>\n",
       "      <td>500</td>\n",
       "    </tr>\n",
       "    <tr>\n",
       "      <th>1</th>\n",
       "      <td>elephant</td>\n",
       "      <td>600</td>\n",
       "    </tr>\n",
       "    <tr>\n",
       "      <th>2</th>\n",
       "      <td>elephant</td>\n",
       "      <td>550</td>\n",
       "    </tr>\n",
       "    <tr>\n",
       "      <th>3</th>\n",
       "      <td>tiger</td>\n",
       "      <td>300</td>\n",
       "    </tr>\n",
       "    <tr>\n",
       "      <th>4</th>\n",
       "      <td>tiger</td>\n",
       "      <td>350</td>\n",
       "    </tr>\n",
       "    <tr>\n",
       "      <th>5</th>\n",
       "      <td>tiger</td>\n",
       "      <td>400</td>\n",
       "    </tr>\n",
       "    <tr>\n",
       "      <th>6</th>\n",
       "      <td>tiger</td>\n",
       "      <td>450</td>\n",
       "    </tr>\n",
       "    <tr>\n",
       "      <th>7</th>\n",
       "      <td>kangaroo</td>\n",
       "      <td>200</td>\n",
       "    </tr>\n",
       "    <tr>\n",
       "      <th>8</th>\n",
       "      <td>kangaroo</td>\n",
       "      <td>250</td>\n",
       "    </tr>\n",
       "    <tr>\n",
       "      <th>9</th>\n",
       "      <td>zebra</td>\n",
       "      <td>300</td>\n",
       "    </tr>\n",
       "    <tr>\n",
       "      <th>10</th>\n",
       "      <td>zebra</td>\n",
       "      <td>350</td>\n",
       "    </tr>\n",
       "    <tr>\n",
       "      <th>11</th>\n",
       "      <td>giraffe</td>\n",
       "      <td>550</td>\n",
       "    </tr>\n",
       "    <tr>\n",
       "      <th>12</th>\n",
       "      <td>giraffe</td>\n",
       "      <td>600</td>\n",
       "    </tr>\n",
       "    <tr>\n",
       "      <th>13</th>\n",
       "      <td>giraffe</td>\n",
       "      <td>700</td>\n",
       "    </tr>\n",
       "    <tr>\n",
       "      <th>14</th>\n",
       "      <td>giraffe</td>\n",
       "      <td>810</td>\n",
       "    </tr>\n",
       "    <tr>\n",
       "      <th>15</th>\n",
       "      <td>giraffe</td>\n",
       "      <td>870</td>\n",
       "    </tr>\n",
       "  </tbody>\n",
       "</table>\n",
       "</div>"
      ],
      "text/plain": [
       "      animal  water_need\n",
       "0   elephant         500\n",
       "1   elephant         600\n",
       "2   elephant         550\n",
       "3      tiger         300\n",
       "4      tiger         350\n",
       "5      tiger         400\n",
       "6      tiger         450\n",
       "7   kangaroo         200\n",
       "8   kangaroo         250\n",
       "9      zebra         300\n",
       "10     zebra         350\n",
       "11   giraffe         550\n",
       "12   giraffe         600\n",
       "13   giraffe         700\n",
       "14   giraffe         810\n",
       "15   giraffe         870"
      ]
     },
     "execution_count": 47,
     "metadata": {},
     "output_type": "execute_result"
    }
   ],
   "source": [
    "zoo.drop(['uniq_id'], axis =1)"
   ]
  },
  {
   "cell_type": "code",
   "execution_count": 48,
   "metadata": {},
   "outputs": [
    {
     "data": {
      "text/html": [
       "<div>\n",
       "<style scoped>\n",
       "    .dataframe tbody tr th:only-of-type {\n",
       "        vertical-align: middle;\n",
       "    }\n",
       "\n",
       "    .dataframe tbody tr th {\n",
       "        vertical-align: top;\n",
       "    }\n",
       "\n",
       "    .dataframe thead th {\n",
       "        text-align: right;\n",
       "    }\n",
       "</style>\n",
       "<table border=\"1\" class=\"dataframe\">\n",
       "  <thead>\n",
       "    <tr style=\"text-align: right;\">\n",
       "      <th></th>\n",
       "      <th>animal</th>\n",
       "      <th>uniq_id</th>\n",
       "      <th>water_need</th>\n",
       "    </tr>\n",
       "  </thead>\n",
       "  <tbody>\n",
       "    <tr>\n",
       "      <th>0</th>\n",
       "      <td>elephant</td>\n",
       "      <td>1001</td>\n",
       "      <td>500</td>\n",
       "    </tr>\n",
       "    <tr>\n",
       "      <th>1</th>\n",
       "      <td>elephant</td>\n",
       "      <td>1002</td>\n",
       "      <td>600</td>\n",
       "    </tr>\n",
       "    <tr>\n",
       "      <th>2</th>\n",
       "      <td>elephant</td>\n",
       "      <td>1003</td>\n",
       "      <td>550</td>\n",
       "    </tr>\n",
       "    <tr>\n",
       "      <th>3</th>\n",
       "      <td>tiger</td>\n",
       "      <td>1004</td>\n",
       "      <td>300</td>\n",
       "    </tr>\n",
       "    <tr>\n",
       "      <th>4</th>\n",
       "      <td>tiger</td>\n",
       "      <td>1005</td>\n",
       "      <td>350</td>\n",
       "    </tr>\n",
       "    <tr>\n",
       "      <th>5</th>\n",
       "      <td>tiger</td>\n",
       "      <td>1006</td>\n",
       "      <td>400</td>\n",
       "    </tr>\n",
       "    <tr>\n",
       "      <th>6</th>\n",
       "      <td>tiger</td>\n",
       "      <td>1007</td>\n",
       "      <td>450</td>\n",
       "    </tr>\n",
       "    <tr>\n",
       "      <th>7</th>\n",
       "      <td>kangaroo</td>\n",
       "      <td>1008</td>\n",
       "      <td>200</td>\n",
       "    </tr>\n",
       "    <tr>\n",
       "      <th>8</th>\n",
       "      <td>kangaroo</td>\n",
       "      <td>1009</td>\n",
       "      <td>250</td>\n",
       "    </tr>\n",
       "    <tr>\n",
       "      <th>9</th>\n",
       "      <td>zebra</td>\n",
       "      <td>1010</td>\n",
       "      <td>300</td>\n",
       "    </tr>\n",
       "    <tr>\n",
       "      <th>10</th>\n",
       "      <td>zebra</td>\n",
       "      <td>1011</td>\n",
       "      <td>350</td>\n",
       "    </tr>\n",
       "    <tr>\n",
       "      <th>11</th>\n",
       "      <td>giraffe</td>\n",
       "      <td>1012</td>\n",
       "      <td>550</td>\n",
       "    </tr>\n",
       "    <tr>\n",
       "      <th>12</th>\n",
       "      <td>giraffe</td>\n",
       "      <td>1013</td>\n",
       "      <td>600</td>\n",
       "    </tr>\n",
       "    <tr>\n",
       "      <th>13</th>\n",
       "      <td>giraffe</td>\n",
       "      <td>1014</td>\n",
       "      <td>700</td>\n",
       "    </tr>\n",
       "    <tr>\n",
       "      <th>14</th>\n",
       "      <td>giraffe</td>\n",
       "      <td>1015</td>\n",
       "      <td>810</td>\n",
       "    </tr>\n",
       "    <tr>\n",
       "      <th>15</th>\n",
       "      <td>giraffe</td>\n",
       "      <td>1016</td>\n",
       "      <td>870</td>\n",
       "    </tr>\n",
       "  </tbody>\n",
       "</table>\n",
       "</div>"
      ],
      "text/plain": [
       "      animal  uniq_id  water_need\n",
       "0   elephant     1001         500\n",
       "1   elephant     1002         600\n",
       "2   elephant     1003         550\n",
       "3      tiger     1004         300\n",
       "4      tiger     1005         350\n",
       "5      tiger     1006         400\n",
       "6      tiger     1007         450\n",
       "7   kangaroo     1008         200\n",
       "8   kangaroo     1009         250\n",
       "9      zebra     1010         300\n",
       "10     zebra     1011         350\n",
       "11   giraffe     1012         550\n",
       "12   giraffe     1013         600\n",
       "13   giraffe     1014         700\n",
       "14   giraffe     1015         810\n",
       "15   giraffe     1016         870"
      ]
     },
     "execution_count": 48,
     "metadata": {},
     "output_type": "execute_result"
    }
   ],
   "source": [
    "zoo"
   ]
  },
  {
   "cell_type": "code",
   "execution_count": 49,
   "metadata": {},
   "outputs": [],
   "source": [
    "zoo.drop(['uniq_id'], axis =1, inplace=True)"
   ]
  },
  {
   "cell_type": "code",
   "execution_count": 50,
   "metadata": {},
   "outputs": [
    {
     "data": {
      "text/html": [
       "<div>\n",
       "<style scoped>\n",
       "    .dataframe tbody tr th:only-of-type {\n",
       "        vertical-align: middle;\n",
       "    }\n",
       "\n",
       "    .dataframe tbody tr th {\n",
       "        vertical-align: top;\n",
       "    }\n",
       "\n",
       "    .dataframe thead th {\n",
       "        text-align: right;\n",
       "    }\n",
       "</style>\n",
       "<table border=\"1\" class=\"dataframe\">\n",
       "  <thead>\n",
       "    <tr style=\"text-align: right;\">\n",
       "      <th></th>\n",
       "      <th>animal</th>\n",
       "      <th>water_need</th>\n",
       "    </tr>\n",
       "  </thead>\n",
       "  <tbody>\n",
       "    <tr>\n",
       "      <th>0</th>\n",
       "      <td>elephant</td>\n",
       "      <td>500</td>\n",
       "    </tr>\n",
       "    <tr>\n",
       "      <th>1</th>\n",
       "      <td>elephant</td>\n",
       "      <td>600</td>\n",
       "    </tr>\n",
       "    <tr>\n",
       "      <th>2</th>\n",
       "      <td>elephant</td>\n",
       "      <td>550</td>\n",
       "    </tr>\n",
       "    <tr>\n",
       "      <th>3</th>\n",
       "      <td>tiger</td>\n",
       "      <td>300</td>\n",
       "    </tr>\n",
       "    <tr>\n",
       "      <th>4</th>\n",
       "      <td>tiger</td>\n",
       "      <td>350</td>\n",
       "    </tr>\n",
       "    <tr>\n",
       "      <th>5</th>\n",
       "      <td>tiger</td>\n",
       "      <td>400</td>\n",
       "    </tr>\n",
       "    <tr>\n",
       "      <th>6</th>\n",
       "      <td>tiger</td>\n",
       "      <td>450</td>\n",
       "    </tr>\n",
       "    <tr>\n",
       "      <th>7</th>\n",
       "      <td>kangaroo</td>\n",
       "      <td>200</td>\n",
       "    </tr>\n",
       "    <tr>\n",
       "      <th>8</th>\n",
       "      <td>kangaroo</td>\n",
       "      <td>250</td>\n",
       "    </tr>\n",
       "    <tr>\n",
       "      <th>9</th>\n",
       "      <td>zebra</td>\n",
       "      <td>300</td>\n",
       "    </tr>\n",
       "    <tr>\n",
       "      <th>10</th>\n",
       "      <td>zebra</td>\n",
       "      <td>350</td>\n",
       "    </tr>\n",
       "    <tr>\n",
       "      <th>11</th>\n",
       "      <td>giraffe</td>\n",
       "      <td>550</td>\n",
       "    </tr>\n",
       "    <tr>\n",
       "      <th>12</th>\n",
       "      <td>giraffe</td>\n",
       "      <td>600</td>\n",
       "    </tr>\n",
       "    <tr>\n",
       "      <th>13</th>\n",
       "      <td>giraffe</td>\n",
       "      <td>700</td>\n",
       "    </tr>\n",
       "    <tr>\n",
       "      <th>14</th>\n",
       "      <td>giraffe</td>\n",
       "      <td>810</td>\n",
       "    </tr>\n",
       "    <tr>\n",
       "      <th>15</th>\n",
       "      <td>giraffe</td>\n",
       "      <td>870</td>\n",
       "    </tr>\n",
       "  </tbody>\n",
       "</table>\n",
       "</div>"
      ],
      "text/plain": [
       "      animal  water_need\n",
       "0   elephant         500\n",
       "1   elephant         600\n",
       "2   elephant         550\n",
       "3      tiger         300\n",
       "4      tiger         350\n",
       "5      tiger         400\n",
       "6      tiger         450\n",
       "7   kangaroo         200\n",
       "8   kangaroo         250\n",
       "9      zebra         300\n",
       "10     zebra         350\n",
       "11   giraffe         550\n",
       "12   giraffe         600\n",
       "13   giraffe         700\n",
       "14   giraffe         810\n",
       "15   giraffe         870"
      ]
     },
     "execution_count": 50,
     "metadata": {},
     "output_type": "execute_result"
    }
   ],
   "source": [
    "zoo"
   ]
  },
  {
   "cell_type": "code",
   "execution_count": 51,
   "metadata": {},
   "outputs": [],
   "source": [
    "zoo.drop(7, axis=0, inplace=True)"
   ]
  },
  {
   "cell_type": "code",
   "execution_count": 52,
   "metadata": {},
   "outputs": [
    {
     "data": {
      "text/html": [
       "<div>\n",
       "<style scoped>\n",
       "    .dataframe tbody tr th:only-of-type {\n",
       "        vertical-align: middle;\n",
       "    }\n",
       "\n",
       "    .dataframe tbody tr th {\n",
       "        vertical-align: top;\n",
       "    }\n",
       "\n",
       "    .dataframe thead th {\n",
       "        text-align: right;\n",
       "    }\n",
       "</style>\n",
       "<table border=\"1\" class=\"dataframe\">\n",
       "  <thead>\n",
       "    <tr style=\"text-align: right;\">\n",
       "      <th></th>\n",
       "      <th>animal</th>\n",
       "      <th>water_need</th>\n",
       "    </tr>\n",
       "  </thead>\n",
       "  <tbody>\n",
       "    <tr>\n",
       "      <th>0</th>\n",
       "      <td>elephant</td>\n",
       "      <td>500</td>\n",
       "    </tr>\n",
       "    <tr>\n",
       "      <th>1</th>\n",
       "      <td>elephant</td>\n",
       "      <td>600</td>\n",
       "    </tr>\n",
       "    <tr>\n",
       "      <th>2</th>\n",
       "      <td>elephant</td>\n",
       "      <td>550</td>\n",
       "    </tr>\n",
       "    <tr>\n",
       "      <th>3</th>\n",
       "      <td>tiger</td>\n",
       "      <td>300</td>\n",
       "    </tr>\n",
       "    <tr>\n",
       "      <th>4</th>\n",
       "      <td>tiger</td>\n",
       "      <td>350</td>\n",
       "    </tr>\n",
       "    <tr>\n",
       "      <th>5</th>\n",
       "      <td>tiger</td>\n",
       "      <td>400</td>\n",
       "    </tr>\n",
       "    <tr>\n",
       "      <th>6</th>\n",
       "      <td>tiger</td>\n",
       "      <td>450</td>\n",
       "    </tr>\n",
       "    <tr>\n",
       "      <th>8</th>\n",
       "      <td>kangaroo</td>\n",
       "      <td>250</td>\n",
       "    </tr>\n",
       "    <tr>\n",
       "      <th>9</th>\n",
       "      <td>zebra</td>\n",
       "      <td>300</td>\n",
       "    </tr>\n",
       "    <tr>\n",
       "      <th>10</th>\n",
       "      <td>zebra</td>\n",
       "      <td>350</td>\n",
       "    </tr>\n",
       "    <tr>\n",
       "      <th>11</th>\n",
       "      <td>giraffe</td>\n",
       "      <td>550</td>\n",
       "    </tr>\n",
       "    <tr>\n",
       "      <th>12</th>\n",
       "      <td>giraffe</td>\n",
       "      <td>600</td>\n",
       "    </tr>\n",
       "    <tr>\n",
       "      <th>13</th>\n",
       "      <td>giraffe</td>\n",
       "      <td>700</td>\n",
       "    </tr>\n",
       "    <tr>\n",
       "      <th>14</th>\n",
       "      <td>giraffe</td>\n",
       "      <td>810</td>\n",
       "    </tr>\n",
       "    <tr>\n",
       "      <th>15</th>\n",
       "      <td>giraffe</td>\n",
       "      <td>870</td>\n",
       "    </tr>\n",
       "  </tbody>\n",
       "</table>\n",
       "</div>"
      ],
      "text/plain": [
       "      animal  water_need\n",
       "0   elephant         500\n",
       "1   elephant         600\n",
       "2   elephant         550\n",
       "3      tiger         300\n",
       "4      tiger         350\n",
       "5      tiger         400\n",
       "6      tiger         450\n",
       "8   kangaroo         250\n",
       "9      zebra         300\n",
       "10     zebra         350\n",
       "11   giraffe         550\n",
       "12   giraffe         600\n",
       "13   giraffe         700\n",
       "14   giraffe         810\n",
       "15   giraffe         870"
      ]
     },
     "execution_count": 52,
     "metadata": {},
     "output_type": "execute_result"
    }
   ],
   "source": [
    "zoo"
   ]
  },
  {
   "cell_type": "code",
   "execution_count": 97,
   "metadata": {},
   "outputs": [
    {
     "data": {
      "text/html": [
       "<div>\n",
       "<style scoped>\n",
       "    .dataframe tbody tr th:only-of-type {\n",
       "        vertical-align: middle;\n",
       "    }\n",
       "\n",
       "    .dataframe tbody tr th {\n",
       "        vertical-align: top;\n",
       "    }\n",
       "\n",
       "    .dataframe thead th {\n",
       "        text-align: right;\n",
       "    }\n",
       "</style>\n",
       "<table border=\"1\" class=\"dataframe\">\n",
       "  <thead>\n",
       "    <tr style=\"text-align: right;\">\n",
       "      <th></th>\n",
       "      <th>animal</th>\n",
       "      <th>water_need</th>\n",
       "      <th>type</th>\n",
       "    </tr>\n",
       "  </thead>\n",
       "  <tbody>\n",
       "    <tr>\n",
       "      <th>0</th>\n",
       "      <td>elephant</td>\n",
       "      <td>500</td>\n",
       "      <td>animal</td>\n",
       "    </tr>\n",
       "    <tr>\n",
       "      <th>2</th>\n",
       "      <td>elephant</td>\n",
       "      <td>550</td>\n",
       "      <td>animal</td>\n",
       "    </tr>\n",
       "    <tr>\n",
       "      <th>4</th>\n",
       "      <td>tiger</td>\n",
       "      <td>350</td>\n",
       "      <td>animal</td>\n",
       "    </tr>\n",
       "    <tr>\n",
       "      <th>6</th>\n",
       "      <td>tiger</td>\n",
       "      <td>450</td>\n",
       "      <td>animal</td>\n",
       "    </tr>\n",
       "    <tr>\n",
       "      <th>9</th>\n",
       "      <td>zebra</td>\n",
       "      <td>300</td>\n",
       "      <td>animal</td>\n",
       "    </tr>\n",
       "    <tr>\n",
       "      <th>11</th>\n",
       "      <td>giraffe</td>\n",
       "      <td>550</td>\n",
       "      <td>animal</td>\n",
       "    </tr>\n",
       "    <tr>\n",
       "      <th>13</th>\n",
       "      <td>giraffe</td>\n",
       "      <td>700</td>\n",
       "      <td>animal</td>\n",
       "    </tr>\n",
       "    <tr>\n",
       "      <th>15</th>\n",
       "      <td>giraffe</td>\n",
       "      <td>870</td>\n",
       "      <td>animal</td>\n",
       "    </tr>\n",
       "  </tbody>\n",
       "</table>\n",
       "</div>"
      ],
      "text/plain": [
       "      animal  water_need    type\n",
       "0   elephant         500  animal\n",
       "2   elephant         550  animal\n",
       "4      tiger         350  animal\n",
       "6      tiger         450  animal\n",
       "9      zebra         300  animal\n",
       "11   giraffe         550  animal\n",
       "13   giraffe         700  animal\n",
       "15   giraffe         870  animal"
      ]
     },
     "execution_count": 97,
     "metadata": {},
     "output_type": "execute_result"
    }
   ],
   "source": [
    "zoo[[True,False,True,False,True,False,True,False,True,False,True,False,True,False,True]]"
   ]
  },
  {
   "cell_type": "markdown",
   "metadata": {},
   "source": [
    "# Functions"
   ]
  },
  {
   "cell_type": "markdown",
   "metadata": {},
   "source": [
    "### Query"
   ]
  },
  {
   "cell_type": "code",
   "execution_count": 54,
   "metadata": {},
   "outputs": [
    {
     "data": {
      "text/html": [
       "<div>\n",
       "<style scoped>\n",
       "    .dataframe tbody tr th:only-of-type {\n",
       "        vertical-align: middle;\n",
       "    }\n",
       "\n",
       "    .dataframe tbody tr th {\n",
       "        vertical-align: top;\n",
       "    }\n",
       "\n",
       "    .dataframe thead th {\n",
       "        text-align: right;\n",
       "    }\n",
       "</style>\n",
       "<table border=\"1\" class=\"dataframe\">\n",
       "  <thead>\n",
       "    <tr style=\"text-align: right;\">\n",
       "      <th></th>\n",
       "      <th>animal</th>\n",
       "      <th>water_need</th>\n",
       "    </tr>\n",
       "  </thead>\n",
       "  <tbody>\n",
       "    <tr>\n",
       "      <th>0</th>\n",
       "      <td>elephant</td>\n",
       "      <td>500</td>\n",
       "    </tr>\n",
       "    <tr>\n",
       "      <th>1</th>\n",
       "      <td>elephant</td>\n",
       "      <td>600</td>\n",
       "    </tr>\n",
       "    <tr>\n",
       "      <th>2</th>\n",
       "      <td>elephant</td>\n",
       "      <td>550</td>\n",
       "    </tr>\n",
       "  </tbody>\n",
       "</table>\n",
       "</div>"
      ],
      "text/plain": [
       "     animal  water_need\n",
       "0  elephant         500\n",
       "1  elephant         600\n",
       "2  elephant         550"
      ]
     },
     "execution_count": 54,
     "metadata": {},
     "output_type": "execute_result"
    }
   ],
   "source": [
    "zoo.query('animal == \"elephant\"')"
   ]
  },
  {
   "cell_type": "markdown",
   "metadata": {},
   "source": [
    "### Where"
   ]
  },
  {
   "cell_type": "code",
   "execution_count": 55,
   "metadata": {},
   "outputs": [
    {
     "data": {
      "text/html": [
       "<div>\n",
       "<style scoped>\n",
       "    .dataframe tbody tr th:only-of-type {\n",
       "        vertical-align: middle;\n",
       "    }\n",
       "\n",
       "    .dataframe tbody tr th {\n",
       "        vertical-align: top;\n",
       "    }\n",
       "\n",
       "    .dataframe thead th {\n",
       "        text-align: right;\n",
       "    }\n",
       "</style>\n",
       "<table border=\"1\" class=\"dataframe\">\n",
       "  <thead>\n",
       "    <tr style=\"text-align: right;\">\n",
       "      <th></th>\n",
       "      <th>animal</th>\n",
       "      <th>water_need</th>\n",
       "    </tr>\n",
       "  </thead>\n",
       "  <tbody>\n",
       "    <tr>\n",
       "      <th>0</th>\n",
       "      <td>NaN</td>\n",
       "      <td>NaN</td>\n",
       "    </tr>\n",
       "    <tr>\n",
       "      <th>1</th>\n",
       "      <td>NaN</td>\n",
       "      <td>NaN</td>\n",
       "    </tr>\n",
       "    <tr>\n",
       "      <th>2</th>\n",
       "      <td>NaN</td>\n",
       "      <td>NaN</td>\n",
       "    </tr>\n",
       "    <tr>\n",
       "      <th>3</th>\n",
       "      <td>NaN</td>\n",
       "      <td>NaN</td>\n",
       "    </tr>\n",
       "    <tr>\n",
       "      <th>4</th>\n",
       "      <td>NaN</td>\n",
       "      <td>NaN</td>\n",
       "    </tr>\n",
       "    <tr>\n",
       "      <th>5</th>\n",
       "      <td>NaN</td>\n",
       "      <td>NaN</td>\n",
       "    </tr>\n",
       "    <tr>\n",
       "      <th>6</th>\n",
       "      <td>NaN</td>\n",
       "      <td>NaN</td>\n",
       "    </tr>\n",
       "    <tr>\n",
       "      <th>8</th>\n",
       "      <td>NaN</td>\n",
       "      <td>NaN</td>\n",
       "    </tr>\n",
       "    <tr>\n",
       "      <th>9</th>\n",
       "      <td>NaN</td>\n",
       "      <td>NaN</td>\n",
       "    </tr>\n",
       "    <tr>\n",
       "      <th>10</th>\n",
       "      <td>NaN</td>\n",
       "      <td>NaN</td>\n",
       "    </tr>\n",
       "    <tr>\n",
       "      <th>11</th>\n",
       "      <td>NaN</td>\n",
       "      <td>NaN</td>\n",
       "    </tr>\n",
       "    <tr>\n",
       "      <th>12</th>\n",
       "      <td>giraffe</td>\n",
       "      <td>600.0</td>\n",
       "    </tr>\n",
       "    <tr>\n",
       "      <th>13</th>\n",
       "      <td>giraffe</td>\n",
       "      <td>700.0</td>\n",
       "    </tr>\n",
       "    <tr>\n",
       "      <th>14</th>\n",
       "      <td>giraffe</td>\n",
       "      <td>810.0</td>\n",
       "    </tr>\n",
       "    <tr>\n",
       "      <th>15</th>\n",
       "      <td>giraffe</td>\n",
       "      <td>870.0</td>\n",
       "    </tr>\n",
       "  </tbody>\n",
       "</table>\n",
       "</div>"
      ],
      "text/plain": [
       "     animal  water_need\n",
       "0       NaN         NaN\n",
       "1       NaN         NaN\n",
       "2       NaN         NaN\n",
       "3       NaN         NaN\n",
       "4       NaN         NaN\n",
       "5       NaN         NaN\n",
       "6       NaN         NaN\n",
       "8       NaN         NaN\n",
       "9       NaN         NaN\n",
       "10      NaN         NaN\n",
       "11      NaN         NaN\n",
       "12  giraffe       600.0\n",
       "13  giraffe       700.0\n",
       "14  giraffe       810.0\n",
       "15  giraffe       870.0"
      ]
     },
     "execution_count": 55,
     "metadata": {},
     "output_type": "execute_result"
    }
   ],
   "source": [
    "zoo.where((zoo[\"animal\"] == 'giraffe') & (zoo[\"water_need\"] >=600))"
   ]
  },
  {
   "cell_type": "markdown",
   "metadata": {},
   "source": [
    "### Insert"
   ]
  },
  {
   "cell_type": "code",
   "execution_count": 59,
   "metadata": {},
   "outputs": [
    {
     "data": {
      "text/html": [
       "<div>\n",
       "<style scoped>\n",
       "    .dataframe tbody tr th:only-of-type {\n",
       "        vertical-align: middle;\n",
       "    }\n",
       "\n",
       "    .dataframe tbody tr th {\n",
       "        vertical-align: top;\n",
       "    }\n",
       "\n",
       "    .dataframe thead th {\n",
       "        text-align: right;\n",
       "    }\n",
       "</style>\n",
       "<table border=\"1\" class=\"dataframe\">\n",
       "  <thead>\n",
       "    <tr style=\"text-align: right;\">\n",
       "      <th></th>\n",
       "      <th>animal</th>\n",
       "      <th>water_need</th>\n",
       "      <th>type</th>\n",
       "    </tr>\n",
       "  </thead>\n",
       "  <tbody>\n",
       "    <tr>\n",
       "      <th>0</th>\n",
       "      <td>elephant</td>\n",
       "      <td>500</td>\n",
       "      <td>animal</td>\n",
       "    </tr>\n",
       "    <tr>\n",
       "      <th>1</th>\n",
       "      <td>elephant</td>\n",
       "      <td>600</td>\n",
       "      <td>animal</td>\n",
       "    </tr>\n",
       "    <tr>\n",
       "      <th>2</th>\n",
       "      <td>elephant</td>\n",
       "      <td>550</td>\n",
       "      <td>animal</td>\n",
       "    </tr>\n",
       "    <tr>\n",
       "      <th>3</th>\n",
       "      <td>tiger</td>\n",
       "      <td>300</td>\n",
       "      <td>animal</td>\n",
       "    </tr>\n",
       "    <tr>\n",
       "      <th>4</th>\n",
       "      <td>tiger</td>\n",
       "      <td>350</td>\n",
       "      <td>animal</td>\n",
       "    </tr>\n",
       "    <tr>\n",
       "      <th>5</th>\n",
       "      <td>tiger</td>\n",
       "      <td>400</td>\n",
       "      <td>animal</td>\n",
       "    </tr>\n",
       "    <tr>\n",
       "      <th>6</th>\n",
       "      <td>tiger</td>\n",
       "      <td>450</td>\n",
       "      <td>animal</td>\n",
       "    </tr>\n",
       "    <tr>\n",
       "      <th>8</th>\n",
       "      <td>kangaroo</td>\n",
       "      <td>250</td>\n",
       "      <td>animal</td>\n",
       "    </tr>\n",
       "    <tr>\n",
       "      <th>9</th>\n",
       "      <td>zebra</td>\n",
       "      <td>300</td>\n",
       "      <td>animal</td>\n",
       "    </tr>\n",
       "    <tr>\n",
       "      <th>10</th>\n",
       "      <td>zebra</td>\n",
       "      <td>350</td>\n",
       "      <td>animal</td>\n",
       "    </tr>\n",
       "    <tr>\n",
       "      <th>11</th>\n",
       "      <td>giraffe</td>\n",
       "      <td>550</td>\n",
       "      <td>animal</td>\n",
       "    </tr>\n",
       "    <tr>\n",
       "      <th>12</th>\n",
       "      <td>giraffe</td>\n",
       "      <td>600</td>\n",
       "      <td>animal</td>\n",
       "    </tr>\n",
       "    <tr>\n",
       "      <th>13</th>\n",
       "      <td>giraffe</td>\n",
       "      <td>700</td>\n",
       "      <td>animal</td>\n",
       "    </tr>\n",
       "    <tr>\n",
       "      <th>14</th>\n",
       "      <td>giraffe</td>\n",
       "      <td>810</td>\n",
       "      <td>animal</td>\n",
       "    </tr>\n",
       "    <tr>\n",
       "      <th>15</th>\n",
       "      <td>giraffe</td>\n",
       "      <td>870</td>\n",
       "      <td>animal</td>\n",
       "    </tr>\n",
       "  </tbody>\n",
       "</table>\n",
       "</div>"
      ],
      "text/plain": [
       "      animal  water_need    type\n",
       "0   elephant         500  animal\n",
       "1   elephant         600  animal\n",
       "2   elephant         550  animal\n",
       "3      tiger         300  animal\n",
       "4      tiger         350  animal\n",
       "5      tiger         400  animal\n",
       "6      tiger         450  animal\n",
       "8   kangaroo         250  animal\n",
       "9      zebra         300  animal\n",
       "10     zebra         350  animal\n",
       "11   giraffe         550  animal\n",
       "12   giraffe         600  animal\n",
       "13   giraffe         700  animal\n",
       "14   giraffe         810  animal\n",
       "15   giraffe         870  animal"
      ]
     },
     "execution_count": 59,
     "metadata": {},
     "output_type": "execute_result"
    }
   ],
   "source": [
    "zoo.insert(2, \"type\", \"animal\")\n",
    "zoo"
   ]
  },
  {
   "cell_type": "markdown",
   "metadata": {},
   "source": [
    "# Change Datatype"
   ]
  },
  {
   "cell_type": "code",
   "execution_count": 60,
   "metadata": {},
   "outputs": [
    {
     "data": {
      "text/plain": [
       "numpy.int64"
      ]
     },
     "execution_count": 60,
     "metadata": {},
     "output_type": "execute_result"
    }
   ],
   "source": [
    "type(zoo[\"water_need\"][0])"
   ]
  },
  {
   "cell_type": "code",
   "execution_count": 61,
   "metadata": {},
   "outputs": [
    {
     "data": {
      "text/plain": [
       "numpy.int64"
      ]
     },
     "execution_count": 61,
     "metadata": {},
     "output_type": "execute_result"
    }
   ],
   "source": [
    "type(zoo.water_need[0])"
   ]
  },
  {
   "cell_type": "code",
   "execution_count": 62,
   "metadata": {},
   "outputs": [
    {
     "data": {
      "text/plain": [
       "numpy.float64"
      ]
     },
     "execution_count": 62,
     "metadata": {},
     "output_type": "execute_result"
    }
   ],
   "source": [
    "type(zoo.water_need.astype('float64')[0])"
   ]
  },
  {
   "cell_type": "markdown",
   "metadata": {},
   "source": [
    "# Iterate through Dataframe rows and columns"
   ]
  },
  {
   "cell_type": "code",
   "execution_count": 63,
   "metadata": {},
   "outputs": [
    {
     "name": "stdout",
     "output_type": "stream",
     "text": [
      "0     elephant\n",
      "1     elephant\n",
      "2     elephant\n",
      "3        tiger\n",
      "4        tiger\n",
      "5        tiger\n",
      "6        tiger\n",
      "8     kangaroo\n",
      "9        zebra\n",
      "10       zebra\n",
      "11     giraffe\n",
      "12     giraffe\n",
      "13     giraffe\n",
      "14     giraffe\n",
      "15     giraffe\n",
      "Name: animal, dtype: object\n",
      "0     500\n",
      "1     600\n",
      "2     550\n",
      "3     300\n",
      "4     350\n",
      "5     400\n",
      "6     450\n",
      "8     250\n",
      "9     300\n",
      "10    350\n",
      "11    550\n",
      "12    600\n",
      "13    700\n",
      "14    810\n",
      "15    870\n",
      "Name: water_need, dtype: int64\n",
      "0     animal\n",
      "1     animal\n",
      "2     animal\n",
      "3     animal\n",
      "4     animal\n",
      "5     animal\n",
      "6     animal\n",
      "8     animal\n",
      "9     animal\n",
      "10    animal\n",
      "11    animal\n",
      "12    animal\n",
      "13    animal\n",
      "14    animal\n",
      "15    animal\n",
      "Name: type, dtype: object\n"
     ]
    }
   ],
   "source": [
    "for i, j in zoo.iteritems():\n",
    "    print(j) # Returns Series Object"
   ]
  },
  {
   "cell_type": "code",
   "execution_count": 64,
   "metadata": {},
   "outputs": [
    {
     "name": "stdout",
     "output_type": "stream",
     "text": [
      "Pandas(Index=0, animal='elephant', water_need=500, type='animal')\n",
      "Pandas(Index=1, animal='elephant', water_need=600, type='animal')\n",
      "Pandas(Index=2, animal='elephant', water_need=550, type='animal')\n",
      "Pandas(Index=3, animal='tiger', water_need=300, type='animal')\n",
      "Pandas(Index=4, animal='tiger', water_need=350, type='animal')\n",
      "Pandas(Index=5, animal='tiger', water_need=400, type='animal')\n",
      "Pandas(Index=6, animal='tiger', water_need=450, type='animal')\n",
      "Pandas(Index=8, animal='kangaroo', water_need=250, type='animal')\n",
      "Pandas(Index=9, animal='zebra', water_need=300, type='animal')\n",
      "Pandas(Index=10, animal='zebra', water_need=350, type='animal')\n",
      "Pandas(Index=11, animal='giraffe', water_need=550, type='animal')\n",
      "Pandas(Index=12, animal='giraffe', water_need=600, type='animal')\n",
      "Pandas(Index=13, animal='giraffe', water_need=700, type='animal')\n",
      "Pandas(Index=14, animal='giraffe', water_need=810, type='animal')\n",
      "Pandas(Index=15, animal='giraffe', water_need=870, type='animal')\n"
     ]
    }
   ],
   "source": [
    "for i in zoo.itertuples():\n",
    "    print(i)"
   ]
  },
  {
   "cell_type": "code",
   "execution_count": 65,
   "metadata": {},
   "outputs": [
    {
     "name": "stdout",
     "output_type": "stream",
     "text": [
      "animal\n",
      "water_need\n",
      "type\n"
     ]
    }
   ],
   "source": [
    "for i in zoo.columns:\n",
    "    print(i)"
   ]
  },
  {
   "cell_type": "code",
   "execution_count": 66,
   "metadata": {},
   "outputs": [
    {
     "name": "stdout",
     "output_type": "stream",
     "text": [
      "0     elephant\n",
      "1     elephant\n",
      "2     elephant\n",
      "3        tiger\n",
      "4        tiger\n",
      "5        tiger\n",
      "6        tiger\n",
      "8     kangaroo\n",
      "9        zebra\n",
      "10       zebra\n",
      "11     giraffe\n",
      "12     giraffe\n",
      "13     giraffe\n",
      "14     giraffe\n",
      "15     giraffe\n",
      "Name: animal, dtype: object\n",
      "0     500\n",
      "1     600\n",
      "2     550\n",
      "3     300\n",
      "4     350\n",
      "5     400\n",
      "6     450\n",
      "8     250\n",
      "9     300\n",
      "10    350\n",
      "11    550\n",
      "12    600\n",
      "13    700\n",
      "14    810\n",
      "15    870\n",
      "Name: water_need, dtype: int64\n",
      "0     animal\n",
      "1     animal\n",
      "2     animal\n",
      "3     animal\n",
      "4     animal\n",
      "5     animal\n",
      "6     animal\n",
      "8     animal\n",
      "9     animal\n",
      "10    animal\n",
      "11    animal\n",
      "12    animal\n",
      "13    animal\n",
      "14    animal\n",
      "15    animal\n",
      "Name: type, dtype: object\n"
     ]
    }
   ],
   "source": [
    "for i in list(zoo):\n",
    "    print(zoo[i])"
   ]
  },
  {
   "cell_type": "code",
   "execution_count": 67,
   "metadata": {},
   "outputs": [
    {
     "name": "stdout",
     "output_type": "stream",
     "text": [
      "elephant\n",
      "550\n",
      "animal\n"
     ]
    }
   ],
   "source": [
    "for i in list(zoo):\n",
    "    print(zoo[i][2])"
   ]
  },
  {
   "cell_type": "markdown",
   "metadata": {},
   "source": [
    "# Working with text data"
   ]
  },
  {
   "cell_type": "code",
   "execution_count": 136,
   "metadata": {},
   "outputs": [
    {
     "data": {
      "text/html": [
       "<div>\n",
       "<style scoped>\n",
       "    .dataframe tbody tr th:only-of-type {\n",
       "        vertical-align: middle;\n",
       "    }\n",
       "\n",
       "    .dataframe tbody tr th {\n",
       "        vertical-align: top;\n",
       "    }\n",
       "\n",
       "    .dataframe thead th {\n",
       "        text-align: right;\n",
       "    }\n",
       "</style>\n",
       "<table border=\"1\" class=\"dataframe\">\n",
       "  <thead>\n",
       "    <tr style=\"text-align: right;\">\n",
       "      <th></th>\n",
       "      <th>Address</th>\n",
       "      <th>Age</th>\n",
       "      <th>Name</th>\n",
       "      <th>Qualification</th>\n",
       "    </tr>\n",
       "  </thead>\n",
       "  <tbody>\n",
       "    <tr>\n",
       "      <th>0</th>\n",
       "      <td>Delhi</td>\n",
       "      <td>27</td>\n",
       "      <td>jai</td>\n",
       "      <td>Msc</td>\n",
       "    </tr>\n",
       "    <tr>\n",
       "      <th>1</th>\n",
       "      <td>Kanpur</td>\n",
       "      <td>24</td>\n",
       "      <td>princi</td>\n",
       "      <td>MA</td>\n",
       "    </tr>\n",
       "    <tr>\n",
       "      <th>2</th>\n",
       "      <td>Allahabad</td>\n",
       "      <td>22</td>\n",
       "      <td>gaurav</td>\n",
       "      <td>MCA</td>\n",
       "    </tr>\n",
       "    <tr>\n",
       "      <th>3</th>\n",
       "      <td>Kannauj</td>\n",
       "      <td>32</td>\n",
       "      <td>anuj</td>\n",
       "      <td>Phd</td>\n",
       "    </tr>\n",
       "  </tbody>\n",
       "</table>\n",
       "</div>"
      ],
      "text/plain": [
       "     Address  Age    Name Qualification\n",
       "0      Delhi   27     jai           Msc\n",
       "1     Kanpur   24  princi            MA\n",
       "2  Allahabad   22  gaurav           MCA\n",
       "3    Kannauj   32    anuj           Phd"
      ]
     },
     "execution_count": 136,
     "metadata": {},
     "output_type": "execute_result"
    }
   ],
   "source": [
    "data = {'Name':['Jai', 'Princi', 'Gaurav', 'Anuj'], \n",
    "        'Age':[27, 24, 22, 32], \n",
    "        'Address':['Delhi', 'Kanpur', 'Allahabad', 'Kannauj'], \n",
    "        'Qualification':['Msc', 'MA', 'MCA', 'Phd']} \n",
    "df = pd.DataFrame(data) \n",
    "df[\"Name\"]= df[\"Name\"].str.lower() \n",
    "df"
   ]
  },
  {
   "cell_type": "code",
   "execution_count": 137,
   "metadata": {},
   "outputs": [
    {
     "data": {
      "text/html": [
       "<div>\n",
       "<style scoped>\n",
       "    .dataframe tbody tr th:only-of-type {\n",
       "        vertical-align: middle;\n",
       "    }\n",
       "\n",
       "    .dataframe tbody tr th {\n",
       "        vertical-align: top;\n",
       "    }\n",
       "\n",
       "    .dataframe thead th {\n",
       "        text-align: right;\n",
       "    }\n",
       "</style>\n",
       "<table border=\"1\" class=\"dataframe\">\n",
       "  <thead>\n",
       "    <tr style=\"text-align: right;\">\n",
       "      <th></th>\n",
       "      <th>Address</th>\n",
       "      <th>Age</th>\n",
       "      <th>Name</th>\n",
       "      <th>Qualification</th>\n",
       "    </tr>\n",
       "  </thead>\n",
       "  <tbody>\n",
       "    <tr>\n",
       "      <th>0</th>\n",
       "      <td>Delhi</td>\n",
       "      <td>27</td>\n",
       "      <td>JAI</td>\n",
       "      <td>Msc</td>\n",
       "    </tr>\n",
       "    <tr>\n",
       "      <th>1</th>\n",
       "      <td>Kanpur</td>\n",
       "      <td>24</td>\n",
       "      <td>PRINCI</td>\n",
       "      <td>MA</td>\n",
       "    </tr>\n",
       "    <tr>\n",
       "      <th>2</th>\n",
       "      <td>Allahabad</td>\n",
       "      <td>22</td>\n",
       "      <td>GAURAV</td>\n",
       "      <td>MCA</td>\n",
       "    </tr>\n",
       "    <tr>\n",
       "      <th>3</th>\n",
       "      <td>Kannauj</td>\n",
       "      <td>32</td>\n",
       "      <td>ANUJ</td>\n",
       "      <td>Phd</td>\n",
       "    </tr>\n",
       "  </tbody>\n",
       "</table>\n",
       "</div>"
      ],
      "text/plain": [
       "     Address  Age    Name Qualification\n",
       "0      Delhi   27     JAI           Msc\n",
       "1     Kanpur   24  PRINCI            MA\n",
       "2  Allahabad   22  GAURAV           MCA\n",
       "3    Kannauj   32    ANUJ           Phd"
      ]
     },
     "execution_count": 137,
     "metadata": {},
     "output_type": "execute_result"
    }
   ],
   "source": [
    "df[\"Name\"]= df[\"Name\"].str.upper() \n",
    "df"
   ]
  },
  {
   "cell_type": "markdown",
   "metadata": {},
   "source": [
    "### Split and replace data"
   ]
  },
  {
   "cell_type": "code",
   "execution_count": 140,
   "metadata": {},
   "outputs": [
    {
     "data": {
      "text/html": [
       "<div>\n",
       "<style scoped>\n",
       "    .dataframe tbody tr th:only-of-type {\n",
       "        vertical-align: middle;\n",
       "    }\n",
       "\n",
       "    .dataframe tbody tr th {\n",
       "        vertical-align: top;\n",
       "    }\n",
       "\n",
       "    .dataframe thead th {\n",
       "        text-align: right;\n",
       "    }\n",
       "</style>\n",
       "<table border=\"1\" class=\"dataframe\">\n",
       "  <thead>\n",
       "    <tr style=\"text-align: right;\">\n",
       "      <th></th>\n",
       "      <th>Address</th>\n",
       "      <th>Age</th>\n",
       "      <th>Name</th>\n",
       "      <th>Qualification</th>\n",
       "    </tr>\n",
       "  </thead>\n",
       "  <tbody>\n",
       "    <tr>\n",
       "      <th>0</th>\n",
       "      <td>Nagpur</td>\n",
       "      <td>27</td>\n",
       "      <td>Jai</td>\n",
       "      <td>Msc</td>\n",
       "    </tr>\n",
       "    <tr>\n",
       "      <th>1</th>\n",
       "      <td>Kanpur</td>\n",
       "      <td>24</td>\n",
       "      <td>Princi</td>\n",
       "      <td>MA</td>\n",
       "    </tr>\n",
       "    <tr>\n",
       "      <th>2</th>\n",
       "      <td>Allahabad</td>\n",
       "      <td>22</td>\n",
       "      <td>Gaurav</td>\n",
       "      <td>MCA</td>\n",
       "    </tr>\n",
       "    <tr>\n",
       "      <th>3</th>\n",
       "      <td>Knnuaj</td>\n",
       "      <td>32</td>\n",
       "      <td>Anuj</td>\n",
       "      <td>Phd</td>\n",
       "    </tr>\n",
       "  </tbody>\n",
       "</table>\n",
       "</div>"
      ],
      "text/plain": [
       "     Address  Age    Name Qualification\n",
       "0     Nagpur   27     Jai           Msc\n",
       "1     Kanpur   24  Princi            MA\n",
       "2  Allahabad   22  Gaurav           MCA\n",
       "3     Knnuaj   32    Anuj           Phd"
      ]
     },
     "execution_count": 140,
     "metadata": {},
     "output_type": "execute_result"
    }
   ],
   "source": [
    "data = {'Name':['Jai', 'Princi', 'Gaurav', 'Anuj'], \n",
    "        'Age':[27, 24, 22, 32], \n",
    "        'Address':['Nagpur', 'Kanpur', 'Allahabad', 'Knnuaj'], \n",
    "        'Qualification':['Msc', 'MA', 'MCA', 'Phd']} \n",
    "df = pd.DataFrame(data) \n",
    "df"
   ]
  },
  {
   "cell_type": "code",
   "execution_count": 141,
   "metadata": {},
   "outputs": [
    {
     "data": {
      "text/html": [
       "<div>\n",
       "<style scoped>\n",
       "    .dataframe tbody tr th:only-of-type {\n",
       "        vertical-align: middle;\n",
       "    }\n",
       "\n",
       "    .dataframe tbody tr th {\n",
       "        vertical-align: top;\n",
       "    }\n",
       "\n",
       "    .dataframe thead th {\n",
       "        text-align: right;\n",
       "    }\n",
       "</style>\n",
       "<table border=\"1\" class=\"dataframe\">\n",
       "  <thead>\n",
       "    <tr style=\"text-align: right;\">\n",
       "      <th></th>\n",
       "      <th>Address</th>\n",
       "      <th>Age</th>\n",
       "      <th>Name</th>\n",
       "      <th>Qualification</th>\n",
       "    </tr>\n",
       "  </thead>\n",
       "  <tbody>\n",
       "    <tr>\n",
       "      <th>0</th>\n",
       "      <td>N</td>\n",
       "      <td>27</td>\n",
       "      <td>Jai</td>\n",
       "      <td>Msc</td>\n",
       "    </tr>\n",
       "    <tr>\n",
       "      <th>1</th>\n",
       "      <td>K</td>\n",
       "      <td>24</td>\n",
       "      <td>Princi</td>\n",
       "      <td>MA</td>\n",
       "    </tr>\n",
       "    <tr>\n",
       "      <th>2</th>\n",
       "      <td>All</td>\n",
       "      <td>22</td>\n",
       "      <td>Gaurav</td>\n",
       "      <td>MCA</td>\n",
       "    </tr>\n",
       "    <tr>\n",
       "      <th>3</th>\n",
       "      <td>Knnu</td>\n",
       "      <td>32</td>\n",
       "      <td>Anuj</td>\n",
       "      <td>Phd</td>\n",
       "    </tr>\n",
       "  </tbody>\n",
       "</table>\n",
       "</div>"
      ],
      "text/plain": [
       "  Address  Age    Name Qualification\n",
       "0       N   27     Jai           Msc\n",
       "1       K   24  Princi            MA\n",
       "2     All   22  Gaurav           MCA\n",
       "3    Knnu   32    Anuj           Phd"
      ]
     },
     "execution_count": 141,
     "metadata": {},
     "output_type": "execute_result"
    }
   ],
   "source": [
    "df.dropna(inplace = True) \n",
    "df[\"Address\"]= df[\"Address\"].str.split(\"a\", n = 1, expand = True) \n",
    "df"
   ]
  },
  {
   "cell_type": "markdown",
   "metadata": {},
   "source": [
    "### Concat Data"
   ]
  },
  {
   "cell_type": "code",
   "execution_count": 142,
   "metadata": {},
   "outputs": [
    {
     "data": {
      "text/html": [
       "<div>\n",
       "<style scoped>\n",
       "    .dataframe tbody tr th:only-of-type {\n",
       "        vertical-align: middle;\n",
       "    }\n",
       "\n",
       "    .dataframe tbody tr th {\n",
       "        vertical-align: top;\n",
       "    }\n",
       "\n",
       "    .dataframe thead th {\n",
       "        text-align: right;\n",
       "    }\n",
       "</style>\n",
       "<table border=\"1\" class=\"dataframe\">\n",
       "  <thead>\n",
       "    <tr style=\"text-align: right;\">\n",
       "      <th></th>\n",
       "      <th>Address</th>\n",
       "      <th>Age</th>\n",
       "      <th>Name</th>\n",
       "      <th>Qualification</th>\n",
       "    </tr>\n",
       "  </thead>\n",
       "  <tbody>\n",
       "    <tr>\n",
       "      <th>0</th>\n",
       "      <td>Nagpur</td>\n",
       "      <td>27</td>\n",
       "      <td>Jai</td>\n",
       "      <td>Msc</td>\n",
       "    </tr>\n",
       "    <tr>\n",
       "      <th>1</th>\n",
       "      <td>Kanpur</td>\n",
       "      <td>24</td>\n",
       "      <td>Princi</td>\n",
       "      <td>MA</td>\n",
       "    </tr>\n",
       "    <tr>\n",
       "      <th>2</th>\n",
       "      <td>Allahabad</td>\n",
       "      <td>22</td>\n",
       "      <td>Gaurav</td>\n",
       "      <td>MCA</td>\n",
       "    </tr>\n",
       "    <tr>\n",
       "      <th>3</th>\n",
       "      <td>Kannuaj</td>\n",
       "      <td>32</td>\n",
       "      <td>Anuj</td>\n",
       "      <td>Phd</td>\n",
       "    </tr>\n",
       "  </tbody>\n",
       "</table>\n",
       "</div>"
      ],
      "text/plain": [
       "     Address  Age    Name Qualification\n",
       "0     Nagpur   27     Jai           Msc\n",
       "1     Kanpur   24  Princi            MA\n",
       "2  Allahabad   22  Gaurav           MCA\n",
       "3    Kannuaj   32    Anuj           Phd"
      ]
     },
     "execution_count": 142,
     "metadata": {},
     "output_type": "execute_result"
    }
   ],
   "source": [
    "data = {'Name':['Jai', 'Princi', 'Gaurav', 'Anuj'], \n",
    "        'Age':[27, 24, 22, 32], \n",
    "        'Address':['Nagpur', 'Kanpur', 'Allahabad', 'Kannuaj'], \n",
    "        'Qualification':['Msc', 'MA', 'MCA', 'Phd']} \n",
    "df = pd.DataFrame(data) \n",
    "df"
   ]
  },
  {
   "cell_type": "code",
   "execution_count": 143,
   "metadata": {},
   "outputs": [
    {
     "data": {
      "text/html": [
       "<div>\n",
       "<style scoped>\n",
       "    .dataframe tbody tr th:only-of-type {\n",
       "        vertical-align: middle;\n",
       "    }\n",
       "\n",
       "    .dataframe tbody tr th {\n",
       "        vertical-align: top;\n",
       "    }\n",
       "\n",
       "    .dataframe thead th {\n",
       "        text-align: right;\n",
       "    }\n",
       "</style>\n",
       "<table border=\"1\" class=\"dataframe\">\n",
       "  <thead>\n",
       "    <tr style=\"text-align: right;\">\n",
       "      <th></th>\n",
       "      <th>Address</th>\n",
       "      <th>Age</th>\n",
       "      <th>Name</th>\n",
       "      <th>Qualification</th>\n",
       "    </tr>\n",
       "  </thead>\n",
       "  <tbody>\n",
       "    <tr>\n",
       "      <th>0</th>\n",
       "      <td>Nagpur</td>\n",
       "      <td>27</td>\n",
       "      <td>Jai, Nagpur</td>\n",
       "      <td>Msc</td>\n",
       "    </tr>\n",
       "    <tr>\n",
       "      <th>1</th>\n",
       "      <td>Kanpur</td>\n",
       "      <td>24</td>\n",
       "      <td>Princi, Kanpur</td>\n",
       "      <td>MA</td>\n",
       "    </tr>\n",
       "    <tr>\n",
       "      <th>2</th>\n",
       "      <td>Allahabad</td>\n",
       "      <td>22</td>\n",
       "      <td>Gaurav, Allahabad</td>\n",
       "      <td>MCA</td>\n",
       "    </tr>\n",
       "    <tr>\n",
       "      <th>3</th>\n",
       "      <td>Kannuaj</td>\n",
       "      <td>32</td>\n",
       "      <td>Anuj, Kannuaj</td>\n",
       "      <td>Phd</td>\n",
       "    </tr>\n",
       "  </tbody>\n",
       "</table>\n",
       "</div>"
      ],
      "text/plain": [
       "     Address  Age               Name Qualification\n",
       "0     Nagpur   27        Jai, Nagpur           Msc\n",
       "1     Kanpur   24     Princi, Kanpur            MA\n",
       "2  Allahabad   22  Gaurav, Allahabad           MCA\n",
       "3    Kannuaj   32      Anuj, Kannuaj           Phd"
      ]
     },
     "execution_count": 143,
     "metadata": {},
     "output_type": "execute_result"
    }
   ],
   "source": [
    "# making copy of address column \n",
    "new = df[\"Address\"].copy()   \n",
    "# concatenating address with name column \n",
    "# overwriting name column \n",
    "df[\"Name\"]= df[\"Name\"].str.cat(new, sep =\", \") \n",
    "df"
   ]
  },
  {
   "cell_type": "markdown",
   "metadata": {},
   "source": [
    "# Remove Whitespaces"
   ]
  },
  {
   "cell_type": "code",
   "execution_count": 144,
   "metadata": {},
   "outputs": [
    {
     "data": {
      "text/html": [
       "<div>\n",
       "<style scoped>\n",
       "    .dataframe tbody tr th:only-of-type {\n",
       "        vertical-align: middle;\n",
       "    }\n",
       "\n",
       "    .dataframe tbody tr th {\n",
       "        vertical-align: top;\n",
       "    }\n",
       "\n",
       "    .dataframe thead th {\n",
       "        text-align: right;\n",
       "    }\n",
       "</style>\n",
       "<table border=\"1\" class=\"dataframe\">\n",
       "  <thead>\n",
       "    <tr style=\"text-align: right;\">\n",
       "      <th></th>\n",
       "      <th>Address</th>\n",
       "      <th>Age</th>\n",
       "      <th>Name</th>\n",
       "      <th>Qualification</th>\n",
       "    </tr>\n",
       "  </thead>\n",
       "  <tbody>\n",
       "    <tr>\n",
       "      <th>0</th>\n",
       "      <td>Nagpur junction</td>\n",
       "      <td>27</td>\n",
       "      <td>Jai</td>\n",
       "      <td>Msc</td>\n",
       "    </tr>\n",
       "    <tr>\n",
       "      <th>1</th>\n",
       "      <td>Kanpur junction</td>\n",
       "      <td>24</td>\n",
       "      <td>Princi</td>\n",
       "      <td>MA</td>\n",
       "    </tr>\n",
       "    <tr>\n",
       "      <th>2</th>\n",
       "      <td>Nagpur junction</td>\n",
       "      <td>22</td>\n",
       "      <td>Gaurav</td>\n",
       "      <td>MCA</td>\n",
       "    </tr>\n",
       "    <tr>\n",
       "      <th>3</th>\n",
       "      <td>Kannuaj junction</td>\n",
       "      <td>32</td>\n",
       "      <td>Anuj</td>\n",
       "      <td>Phd</td>\n",
       "    </tr>\n",
       "  </tbody>\n",
       "</table>\n",
       "</div>"
      ],
      "text/plain": [
       "            Address  Age    Name Qualification\n",
       "0   Nagpur junction   27     Jai           Msc\n",
       "1   Kanpur junction   24  Princi            MA\n",
       "2   Nagpur junction   22  Gaurav           MCA\n",
       "3  Kannuaj junction   32    Anuj           Phd"
      ]
     },
     "execution_count": 144,
     "metadata": {},
     "output_type": "execute_result"
    }
   ],
   "source": [
    "data = {'Name':['Jai', 'Princi', 'Gaurav', 'Anuj'], \n",
    "        'Age':[27, 24, 22, 32], \n",
    "        'Address':['Nagpur junction', 'Kanpur junction', \n",
    "                   'Nagpur junction', 'Kannuaj junction'], \n",
    "        'Qualification':['Msc', 'MA', 'MCA', 'Phd']} \n",
    "df = pd.DataFrame(data)\n",
    "df   "
   ]
  },
  {
   "cell_type": "code",
   "execution_count": 145,
   "metadata": {},
   "outputs": [
    {
     "name": "stdout",
     "output_type": "stream",
     "text": [
      "0    False\n",
      "1    False\n",
      "2    False\n",
      "3    False\n",
      "Name: Address, dtype: bool\n",
      "0    False\n",
      "1    False\n",
      "2    False\n",
      "3    False\n",
      "Name: Address, dtype: bool\n",
      "0    False\n",
      "1    False\n",
      "2    False\n",
      "3    False\n",
      "Name: Address, dtype: bool\n"
     ]
    }
   ],
   "source": [
    "# replacing address name and adding spaces in start and end \n",
    "new = df[\"Address\"].replace(\"Nagpur junction\", \"  Nagpur junction  \").copy() \n",
    "# checking with custom string \n",
    "print(new.str.strip()==\" Nagpur junction\")\n",
    "print(new.str.strip()==\"Nagpur junction \")\n",
    "print(new.str.strip()==\" Nagpur junction \")"
   ]
  },
  {
   "cell_type": "markdown",
   "metadata": {},
   "source": [
    "# Extract Data"
   ]
  },
  {
   "cell_type": "code",
   "execution_count": 147,
   "metadata": {},
   "outputs": [
    {
     "data": {
      "text/html": [
       "<div>\n",
       "<style scoped>\n",
       "    .dataframe tbody tr th:only-of-type {\n",
       "        vertical-align: middle;\n",
       "    }\n",
       "\n",
       "    .dataframe tbody tr th {\n",
       "        vertical-align: top;\n",
       "    }\n",
       "\n",
       "    .dataframe thead th {\n",
       "        text-align: right;\n",
       "    }\n",
       "</style>\n",
       "<table border=\"1\" class=\"dataframe\">\n",
       "  <thead>\n",
       "    <tr style=\"text-align: right;\">\n",
       "      <th></th>\n",
       "      <th>0</th>\n",
       "      <th>1</th>\n",
       "    </tr>\n",
       "  </thead>\n",
       "  <tbody>\n",
       "    <tr>\n",
       "      <th>0</th>\n",
       "      <td>a</td>\n",
       "      <td>1</td>\n",
       "    </tr>\n",
       "    <tr>\n",
       "      <th>1</th>\n",
       "      <td>b</td>\n",
       "      <td>2</td>\n",
       "    </tr>\n",
       "    <tr>\n",
       "      <th>2</th>\n",
       "      <td>NaN</td>\n",
       "      <td>NaN</td>\n",
       "    </tr>\n",
       "  </tbody>\n",
       "</table>\n",
       "</div>"
      ],
      "text/plain": [
       "     0    1\n",
       "0    a    1\n",
       "1    b    2\n",
       "2  NaN  NaN"
      ]
     },
     "execution_count": 147,
     "metadata": {},
     "output_type": "execute_result"
    }
   ],
   "source": [
    "s = pd.Series(['a1', 'b2', 'c3'])\n",
    "# Extracting a data\n",
    "n= s.str.extract(r'([ab])(\\d)')\n",
    " \n",
    "n"
   ]
  },
  {
   "cell_type": "code",
   "execution_count": 148,
   "metadata": {},
   "outputs": [
    {
     "data": {
      "text/html": [
       "<div>\n",
       "<style scoped>\n",
       "    .dataframe tbody tr th:only-of-type {\n",
       "        vertical-align: middle;\n",
       "    }\n",
       "\n",
       "    .dataframe tbody tr th {\n",
       "        vertical-align: top;\n",
       "    }\n",
       "\n",
       "    .dataframe thead th {\n",
       "        text-align: right;\n",
       "    }\n",
       "</style>\n",
       "<table border=\"1\" class=\"dataframe\">\n",
       "  <thead>\n",
       "    <tr style=\"text-align: right;\">\n",
       "      <th></th>\n",
       "      <th>Geeks</th>\n",
       "      <th>For</th>\n",
       "    </tr>\n",
       "  </thead>\n",
       "  <tbody>\n",
       "    <tr>\n",
       "      <th>0</th>\n",
       "      <td>a</td>\n",
       "      <td>1</td>\n",
       "    </tr>\n",
       "    <tr>\n",
       "      <th>1</th>\n",
       "      <td>b</td>\n",
       "      <td>2</td>\n",
       "    </tr>\n",
       "    <tr>\n",
       "      <th>2</th>\n",
       "      <td>NaN</td>\n",
       "      <td>NaN</td>\n",
       "    </tr>\n",
       "  </tbody>\n",
       "</table>\n",
       "</div>"
      ],
      "text/plain": [
       "  Geeks  For\n",
       "0     a    1\n",
       "1     b    2\n",
       "2   NaN  NaN"
      ]
     },
     "execution_count": 148,
     "metadata": {},
     "output_type": "execute_result"
    }
   ],
   "source": [
    "s = pd.Series(['a1', 'b2', 'c3'])\n",
    " \n",
    "# Extracting a data\n",
    "n = s.str.extract(r'(?P<Geeks>[ab])(?P<For>\\d)')\n",
    "n"
   ]
  },
  {
   "cell_type": "markdown",
   "metadata": {},
   "source": [
    "# Date and Time"
   ]
  },
  {
   "cell_type": "code",
   "execution_count": 150,
   "metadata": {},
   "outputs": [
    {
     "data": {
      "text/plain": [
       "DatetimeIndex(['2011-01-01 00:00:00', '2011-01-01 01:00:00',\n",
       "               '2011-01-01 02:00:00', '2011-01-01 03:00:00',\n",
       "               '2011-01-01 04:00:00', '2011-01-01 05:00:00',\n",
       "               '2011-01-01 06:00:00', '2011-01-01 07:00:00',\n",
       "               '2011-01-01 08:00:00', '2011-01-01 09:00:00'],\n",
       "              dtype='datetime64[ns]', freq='H')"
      ]
     },
     "execution_count": 150,
     "metadata": {},
     "output_type": "execute_result"
    }
   ],
   "source": [
    "data = pd.date_range('1/1/2011', periods = 10, freq ='H')\n",
    "data"
   ]
  },
  {
   "cell_type": "code",
   "execution_count": 152,
   "metadata": {},
   "outputs": [
    {
     "data": {
      "text/plain": [
       "(2, 2020)"
      ]
     },
     "execution_count": 152,
     "metadata": {},
     "output_type": "execute_result"
    }
   ],
   "source": [
    "from datetime import datetime\n",
    "x = datetime.now()\n",
    "x.month, x.year"
   ]
  },
  {
   "cell_type": "code",
   "execution_count": 153,
   "metadata": {},
   "outputs": [
    {
     "data": {
      "text/html": [
       "<div>\n",
       "<style scoped>\n",
       "    .dataframe tbody tr th:only-of-type {\n",
       "        vertical-align: middle;\n",
       "    }\n",
       "\n",
       "    .dataframe tbody tr th {\n",
       "        vertical-align: top;\n",
       "    }\n",
       "\n",
       "    .dataframe thead th {\n",
       "        text-align: right;\n",
       "    }\n",
       "</style>\n",
       "<table border=\"1\" class=\"dataframe\">\n",
       "  <thead>\n",
       "    <tr style=\"text-align: right;\">\n",
       "      <th></th>\n",
       "      <th>date</th>\n",
       "      <th>year</th>\n",
       "      <th>month</th>\n",
       "      <th>day</th>\n",
       "      <th>hour</th>\n",
       "      <th>minute</th>\n",
       "    </tr>\n",
       "  </thead>\n",
       "  <tbody>\n",
       "    <tr>\n",
       "      <th>0</th>\n",
       "      <td>2011-01-01 00:00:00</td>\n",
       "      <td>2011</td>\n",
       "      <td>1</td>\n",
       "      <td>1</td>\n",
       "      <td>0</td>\n",
       "      <td>0</td>\n",
       "    </tr>\n",
       "    <tr>\n",
       "      <th>1</th>\n",
       "      <td>2011-01-01 01:00:00</td>\n",
       "      <td>2011</td>\n",
       "      <td>1</td>\n",
       "      <td>1</td>\n",
       "      <td>1</td>\n",
       "      <td>0</td>\n",
       "    </tr>\n",
       "    <tr>\n",
       "      <th>2</th>\n",
       "      <td>2011-01-01 02:00:00</td>\n",
       "      <td>2011</td>\n",
       "      <td>1</td>\n",
       "      <td>1</td>\n",
       "      <td>2</td>\n",
       "      <td>0</td>\n",
       "    </tr>\n",
       "  </tbody>\n",
       "</table>\n",
       "</div>"
      ],
      "text/plain": [
       "                 date  year  month  day  hour  minute\n",
       "0 2011-01-01 00:00:00  2011      1    1     0       0\n",
       "1 2011-01-01 01:00:00  2011      1    1     1       0\n",
       "2 2011-01-01 02:00:00  2011      1    1     2       0"
      ]
     },
     "execution_count": 153,
     "metadata": {},
     "output_type": "execute_result"
    }
   ],
   "source": [
    "rng = pd.DataFrame()\n",
    "rng['date'] = pd.date_range('1/1/2011', periods = 72, freq ='H')\n",
    " \n",
    "# Print the dates in dd-mm-yy format\n",
    "rng[:5]\n",
    " \n",
    "# Create features for year, month, day, hour, and minute\n",
    "rng['year'] = rng['date'].dt.year\n",
    "rng['month'] = rng['date'].dt.month\n",
    "rng['day'] = rng['date'].dt.day\n",
    "rng['hour'] = rng['date'].dt.hour\n",
    "rng['minute'] = rng['date'].dt.minute\n",
    " \n",
    "# Print the dates divided into features\n",
    "rng.head(3)"
   ]
  },
  {
   "cell_type": "markdown",
   "metadata": {},
   "source": [
    "# CSV"
   ]
  },
  {
   "cell_type": "code",
   "execution_count": 213,
   "metadata": {},
   "outputs": [],
   "source": [
    "from io import StringIO, BytesIO"
   ]
  },
  {
   "cell_type": "code",
   "execution_count": 214,
   "metadata": {},
   "outputs": [],
   "source": [
    "data=('col1,col2,col3\\n'\n",
    "     'x,y.,1\\n'\n",
    "     'a,b,2\\n'\n",
    "     'c,d,3\\n')"
   ]
  },
  {
   "cell_type": "code",
   "execution_count": 215,
   "metadata": {},
   "outputs": [
    {
     "data": {
      "text/plain": [
       "str"
      ]
     },
     "execution_count": 215,
     "metadata": {},
     "output_type": "execute_result"
    }
   ],
   "source": [
    "type(data)"
   ]
  },
  {
   "cell_type": "code",
   "execution_count": 216,
   "metadata": {},
   "outputs": [
    {
     "data": {
      "text/plain": [
       "<_io.StringIO at 0x7f7a9f79a048>"
      ]
     },
     "execution_count": 216,
     "metadata": {},
     "output_type": "execute_result"
    }
   ],
   "source": [
    "StringIO()"
   ]
  },
  {
   "cell_type": "code",
   "execution_count": 217,
   "metadata": {},
   "outputs": [
    {
     "data": {
      "text/html": [
       "<div>\n",
       "<style scoped>\n",
       "    .dataframe tbody tr th:only-of-type {\n",
       "        vertical-align: middle;\n",
       "    }\n",
       "\n",
       "    .dataframe tbody tr th {\n",
       "        vertical-align: top;\n",
       "    }\n",
       "\n",
       "    .dataframe thead th {\n",
       "        text-align: right;\n",
       "    }\n",
       "</style>\n",
       "<table border=\"1\" class=\"dataframe\">\n",
       "  <thead>\n",
       "    <tr style=\"text-align: right;\">\n",
       "      <th></th>\n",
       "      <th>col1</th>\n",
       "      <th>col2</th>\n",
       "      <th>col3</th>\n",
       "    </tr>\n",
       "  </thead>\n",
       "  <tbody>\n",
       "    <tr>\n",
       "      <th>0</th>\n",
       "      <td>x</td>\n",
       "      <td>y.</td>\n",
       "      <td>1</td>\n",
       "    </tr>\n",
       "    <tr>\n",
       "      <th>1</th>\n",
       "      <td>a</td>\n",
       "      <td>b</td>\n",
       "      <td>2</td>\n",
       "    </tr>\n",
       "    <tr>\n",
       "      <th>2</th>\n",
       "      <td>c</td>\n",
       "      <td>d</td>\n",
       "      <td>3</td>\n",
       "    </tr>\n",
       "  </tbody>\n",
       "</table>\n",
       "</div>"
      ],
      "text/plain": [
       "  col1 col2  col3\n",
       "0    x   y.     1\n",
       "1    a    b     2\n",
       "2    c    d     3"
      ]
     },
     "execution_count": 217,
     "metadata": {},
     "output_type": "execute_result"
    }
   ],
   "source": [
    "pd.read_csv(StringIO(data))"
   ]
  },
  {
   "cell_type": "code",
   "execution_count": 218,
   "metadata": {},
   "outputs": [],
   "source": [
    "df = pd.read_csv(StringIO(data), usecols=['col1','col3'])"
   ]
  },
  {
   "cell_type": "code",
   "execution_count": 219,
   "metadata": {},
   "outputs": [
    {
     "data": {
      "text/html": [
       "<div>\n",
       "<style scoped>\n",
       "    .dataframe tbody tr th:only-of-type {\n",
       "        vertical-align: middle;\n",
       "    }\n",
       "\n",
       "    .dataframe tbody tr th {\n",
       "        vertical-align: top;\n",
       "    }\n",
       "\n",
       "    .dataframe thead th {\n",
       "        text-align: right;\n",
       "    }\n",
       "</style>\n",
       "<table border=\"1\" class=\"dataframe\">\n",
       "  <thead>\n",
       "    <tr style=\"text-align: right;\">\n",
       "      <th></th>\n",
       "      <th>col1</th>\n",
       "      <th>col3</th>\n",
       "    </tr>\n",
       "  </thead>\n",
       "  <tbody>\n",
       "    <tr>\n",
       "      <th>0</th>\n",
       "      <td>x</td>\n",
       "      <td>1</td>\n",
       "    </tr>\n",
       "    <tr>\n",
       "      <th>1</th>\n",
       "      <td>a</td>\n",
       "      <td>2</td>\n",
       "    </tr>\n",
       "    <tr>\n",
       "      <th>2</th>\n",
       "      <td>c</td>\n",
       "      <td>3</td>\n",
       "    </tr>\n",
       "  </tbody>\n",
       "</table>\n",
       "</div>"
      ],
      "text/plain": [
       "  col1  col3\n",
       "0    x     1\n",
       "1    a     2\n",
       "2    c     3"
      ]
     },
     "execution_count": 219,
     "metadata": {},
     "output_type": "execute_result"
    }
   ],
   "source": [
    "df"
   ]
  },
  {
   "cell_type": "code",
   "execution_count": 220,
   "metadata": {},
   "outputs": [],
   "source": [
    "data=('a,b,c,d\\n'\n",
    "     '1,2,3,4\\n'\n",
    "     '5,6,7,8\\n'\n",
    "     '9,10,11\\n')"
   ]
  },
  {
   "cell_type": "code",
   "execution_count": 221,
   "metadata": {},
   "outputs": [
    {
     "name": "stdout",
     "output_type": "stream",
     "text": [
      "a,b,c,d\n",
      "1,2,3,4\n",
      "5,6,7,8\n",
      "9,10,11\n",
      "\n"
     ]
    }
   ],
   "source": [
    "print(data)"
   ]
  },
  {
   "cell_type": "code",
   "execution_count": 222,
   "metadata": {},
   "outputs": [],
   "source": [
    "df=pd.read_csv(StringIO(data), dtype=object)"
   ]
  },
  {
   "cell_type": "code",
   "execution_count": 223,
   "metadata": {},
   "outputs": [
    {
     "data": {
      "text/plain": [
       "0    1\n",
       "1    5\n",
       "2    9\n",
       "Name: a, dtype: object"
      ]
     },
     "execution_count": 223,
     "metadata": {},
     "output_type": "execute_result"
    }
   ],
   "source": [
    "df['a']"
   ]
  },
  {
   "cell_type": "code",
   "execution_count": 224,
   "metadata": {},
   "outputs": [
    {
     "data": {
      "text/plain": [
       "'5'"
      ]
     },
     "execution_count": 224,
     "metadata": {},
     "output_type": "execute_result"
    }
   ],
   "source": [
    "df['a'][1]"
   ]
  },
  {
   "cell_type": "code",
   "execution_count": 225,
   "metadata": {},
   "outputs": [],
   "source": [
    "data=('a,b,c,d\\n'\n",
    "     '1,2,3,4\\n'\n",
    "     '5,6,7,8\\n'\n",
    "     '9,10,11,12\\n')"
   ]
  },
  {
   "cell_type": "code",
   "execution_count": 226,
   "metadata": {},
   "outputs": [],
   "source": [
    "df=pd.read_csv(StringIO(data), dtype=float)"
   ]
  },
  {
   "cell_type": "code",
   "execution_count": 227,
   "metadata": {},
   "outputs": [
    {
     "data": {
      "text/html": [
       "<div>\n",
       "<style scoped>\n",
       "    .dataframe tbody tr th:only-of-type {\n",
       "        vertical-align: middle;\n",
       "    }\n",
       "\n",
       "    .dataframe tbody tr th {\n",
       "        vertical-align: top;\n",
       "    }\n",
       "\n",
       "    .dataframe thead th {\n",
       "        text-align: right;\n",
       "    }\n",
       "</style>\n",
       "<table border=\"1\" class=\"dataframe\">\n",
       "  <thead>\n",
       "    <tr style=\"text-align: right;\">\n",
       "      <th></th>\n",
       "      <th>a</th>\n",
       "      <th>b</th>\n",
       "      <th>c</th>\n",
       "      <th>d</th>\n",
       "    </tr>\n",
       "  </thead>\n",
       "  <tbody>\n",
       "    <tr>\n",
       "      <th>0</th>\n",
       "      <td>1.0</td>\n",
       "      <td>2.0</td>\n",
       "      <td>3.0</td>\n",
       "      <td>4.0</td>\n",
       "    </tr>\n",
       "    <tr>\n",
       "      <th>1</th>\n",
       "      <td>5.0</td>\n",
       "      <td>6.0</td>\n",
       "      <td>7.0</td>\n",
       "      <td>8.0</td>\n",
       "    </tr>\n",
       "    <tr>\n",
       "      <th>2</th>\n",
       "      <td>9.0</td>\n",
       "      <td>10.0</td>\n",
       "      <td>11.0</td>\n",
       "      <td>12.0</td>\n",
       "    </tr>\n",
       "  </tbody>\n",
       "</table>\n",
       "</div>"
      ],
      "text/plain": [
       "     a     b     c     d\n",
       "0  1.0   2.0   3.0   4.0\n",
       "1  5.0   6.0   7.0   8.0\n",
       "2  9.0  10.0  11.0  12.0"
      ]
     },
     "execution_count": 227,
     "metadata": {},
     "output_type": "execute_result"
    }
   ],
   "source": [
    "df"
   ]
  },
  {
   "cell_type": "code",
   "execution_count": 228,
   "metadata": {},
   "outputs": [
    {
     "data": {
      "text/plain": [
       "0    1.0\n",
       "1    5.0\n",
       "2    9.0\n",
       "Name: a, dtype: float64"
      ]
     },
     "execution_count": 228,
     "metadata": {},
     "output_type": "execute_result"
    }
   ],
   "source": [
    "df['a']"
   ]
  },
  {
   "cell_type": "code",
   "execution_count": 229,
   "metadata": {},
   "outputs": [],
   "source": [
    "df=pd.read_csv(StringIO(data), dtype={'a': object, 'b':float, 'c':int})"
   ]
  },
  {
   "cell_type": "code",
   "execution_count": 230,
   "metadata": {},
   "outputs": [
    {
     "data": {
      "text/html": [
       "<div>\n",
       "<style scoped>\n",
       "    .dataframe tbody tr th:only-of-type {\n",
       "        vertical-align: middle;\n",
       "    }\n",
       "\n",
       "    .dataframe tbody tr th {\n",
       "        vertical-align: top;\n",
       "    }\n",
       "\n",
       "    .dataframe thead th {\n",
       "        text-align: right;\n",
       "    }\n",
       "</style>\n",
       "<table border=\"1\" class=\"dataframe\">\n",
       "  <thead>\n",
       "    <tr style=\"text-align: right;\">\n",
       "      <th></th>\n",
       "      <th>a</th>\n",
       "      <th>b</th>\n",
       "      <th>c</th>\n",
       "      <th>d</th>\n",
       "    </tr>\n",
       "  </thead>\n",
       "  <tbody>\n",
       "    <tr>\n",
       "      <th>0</th>\n",
       "      <td>1</td>\n",
       "      <td>2.0</td>\n",
       "      <td>3</td>\n",
       "      <td>4</td>\n",
       "    </tr>\n",
       "    <tr>\n",
       "      <th>1</th>\n",
       "      <td>5</td>\n",
       "      <td>6.0</td>\n",
       "      <td>7</td>\n",
       "      <td>8</td>\n",
       "    </tr>\n",
       "    <tr>\n",
       "      <th>2</th>\n",
       "      <td>9</td>\n",
       "      <td>10.0</td>\n",
       "      <td>11</td>\n",
       "      <td>12</td>\n",
       "    </tr>\n",
       "  </tbody>\n",
       "</table>\n",
       "</div>"
      ],
      "text/plain": [
       "   a     b   c   d\n",
       "0  1   2.0   3   4\n",
       "1  5   6.0   7   8\n",
       "2  9  10.0  11  12"
      ]
     },
     "execution_count": 230,
     "metadata": {},
     "output_type": "execute_result"
    }
   ],
   "source": [
    "df"
   ]
  },
  {
   "cell_type": "code",
   "execution_count": 231,
   "metadata": {},
   "outputs": [
    {
     "data": {
      "text/plain": [
       "0    1\n",
       "1    5\n",
       "2    9\n",
       "Name: a, dtype: object"
      ]
     },
     "execution_count": 231,
     "metadata": {},
     "output_type": "execute_result"
    }
   ],
   "source": [
    "df['a']"
   ]
  },
  {
   "cell_type": "code",
   "execution_count": 232,
   "metadata": {},
   "outputs": [
    {
     "data": {
      "text/plain": [
       "0     2.0\n",
       "1     6.0\n",
       "2    10.0\n",
       "Name: b, dtype: float64"
      ]
     },
     "execution_count": 232,
     "metadata": {},
     "output_type": "execute_result"
    }
   ],
   "source": [
    "df['b']"
   ]
  },
  {
   "cell_type": "code",
   "execution_count": 233,
   "metadata": {},
   "outputs": [
    {
     "data": {
      "text/plain": [
       "0     3\n",
       "1     7\n",
       "2    11\n",
       "Name: c, dtype: int64"
      ]
     },
     "execution_count": 233,
     "metadata": {},
     "output_type": "execute_result"
    }
   ],
   "source": [
    "df['c']"
   ]
  },
  {
   "cell_type": "code",
   "execution_count": 234,
   "metadata": {},
   "outputs": [
    {
     "data": {
      "text/plain": [
       "a     object\n",
       "b    float64\n",
       "c      int64\n",
       "d      int64\n",
       "dtype: object"
      ]
     },
     "execution_count": 234,
     "metadata": {},
     "output_type": "execute_result"
    }
   ],
   "source": [
    "df.dtypes"
   ]
  },
  {
   "cell_type": "code",
   "execution_count": 235,
   "metadata": {},
   "outputs": [],
   "source": [
    "data=('index,a,b,c\\n'\n",
    "     '4,apple,bat,5.7\\n'\n",
    "     '8,orange,cat,10\\n')"
   ]
  },
  {
   "cell_type": "code",
   "execution_count": 236,
   "metadata": {},
   "outputs": [
    {
     "data": {
      "text/html": [
       "<div>\n",
       "<style scoped>\n",
       "    .dataframe tbody tr th:only-of-type {\n",
       "        vertical-align: middle;\n",
       "    }\n",
       "\n",
       "    .dataframe tbody tr th {\n",
       "        vertical-align: top;\n",
       "    }\n",
       "\n",
       "    .dataframe thead th {\n",
       "        text-align: right;\n",
       "    }\n",
       "</style>\n",
       "<table border=\"1\" class=\"dataframe\">\n",
       "  <thead>\n",
       "    <tr style=\"text-align: right;\">\n",
       "      <th></th>\n",
       "      <th>a</th>\n",
       "      <th>b</th>\n",
       "      <th>c</th>\n",
       "    </tr>\n",
       "    <tr>\n",
       "      <th>index</th>\n",
       "      <th></th>\n",
       "      <th></th>\n",
       "      <th></th>\n",
       "    </tr>\n",
       "  </thead>\n",
       "  <tbody>\n",
       "    <tr>\n",
       "      <th>4</th>\n",
       "      <td>apple</td>\n",
       "      <td>bat</td>\n",
       "      <td>5.7</td>\n",
       "    </tr>\n",
       "    <tr>\n",
       "      <th>8</th>\n",
       "      <td>orange</td>\n",
       "      <td>cat</td>\n",
       "      <td>10.0</td>\n",
       "    </tr>\n",
       "  </tbody>\n",
       "</table>\n",
       "</div>"
      ],
      "text/plain": [
       "            a    b     c\n",
       "index                   \n",
       "4       apple  bat   5.7\n",
       "8      orange  cat  10.0"
      ]
     },
     "execution_count": 236,
     "metadata": {},
     "output_type": "execute_result"
    }
   ],
   "source": [
    "pd.read_csv(StringIO(data), index_col = 0)"
   ]
  },
  {
   "cell_type": "code",
   "execution_count": 237,
   "metadata": {},
   "outputs": [],
   "source": [
    "data=('a,b,c\\n'\n",
    "     '4,apple,bat,\\n'\n",
    "     '8,orange,cat,\\n')"
   ]
  },
  {
   "cell_type": "code",
   "execution_count": 238,
   "metadata": {},
   "outputs": [
    {
     "data": {
      "text/html": [
       "<div>\n",
       "<style scoped>\n",
       "    .dataframe tbody tr th:only-of-type {\n",
       "        vertical-align: middle;\n",
       "    }\n",
       "\n",
       "    .dataframe tbody tr th {\n",
       "        vertical-align: top;\n",
       "    }\n",
       "\n",
       "    .dataframe thead th {\n",
       "        text-align: right;\n",
       "    }\n",
       "</style>\n",
       "<table border=\"1\" class=\"dataframe\">\n",
       "  <thead>\n",
       "    <tr style=\"text-align: right;\">\n",
       "      <th></th>\n",
       "      <th>a</th>\n",
       "      <th>b</th>\n",
       "      <th>c</th>\n",
       "    </tr>\n",
       "  </thead>\n",
       "  <tbody>\n",
       "    <tr>\n",
       "      <th>4</th>\n",
       "      <td>apple</td>\n",
       "      <td>bat</td>\n",
       "      <td>NaN</td>\n",
       "    </tr>\n",
       "    <tr>\n",
       "      <th>8</th>\n",
       "      <td>orange</td>\n",
       "      <td>cat</td>\n",
       "      <td>NaN</td>\n",
       "    </tr>\n",
       "  </tbody>\n",
       "</table>\n",
       "</div>"
      ],
      "text/plain": [
       "        a    b   c\n",
       "4   apple  bat NaN\n",
       "8  orange  cat NaN"
      ]
     },
     "execution_count": 238,
     "metadata": {},
     "output_type": "execute_result"
    }
   ],
   "source": [
    "pd.read_csv(StringIO(data))"
   ]
  },
  {
   "cell_type": "code",
   "execution_count": 239,
   "metadata": {},
   "outputs": [],
   "source": [
    "data=('a,b,c\\n'\n",
    "     '4,apple,bat,\\n'\n",
    "     '8,orange,cat,\\n')"
   ]
  },
  {
   "cell_type": "code",
   "execution_count": 240,
   "metadata": {},
   "outputs": [
    {
     "data": {
      "text/html": [
       "<div>\n",
       "<style scoped>\n",
       "    .dataframe tbody tr th:only-of-type {\n",
       "        vertical-align: middle;\n",
       "    }\n",
       "\n",
       "    .dataframe tbody tr th {\n",
       "        vertical-align: top;\n",
       "    }\n",
       "\n",
       "    .dataframe thead th {\n",
       "        text-align: right;\n",
       "    }\n",
       "</style>\n",
       "<table border=\"1\" class=\"dataframe\">\n",
       "  <thead>\n",
       "    <tr style=\"text-align: right;\">\n",
       "      <th></th>\n",
       "      <th>a</th>\n",
       "      <th>b</th>\n",
       "      <th>c</th>\n",
       "    </tr>\n",
       "  </thead>\n",
       "  <tbody>\n",
       "    <tr>\n",
       "      <th>0</th>\n",
       "      <td>4</td>\n",
       "      <td>apple</td>\n",
       "      <td>bat</td>\n",
       "    </tr>\n",
       "    <tr>\n",
       "      <th>1</th>\n",
       "      <td>8</td>\n",
       "      <td>orange</td>\n",
       "      <td>cat</td>\n",
       "    </tr>\n",
       "  </tbody>\n",
       "</table>\n",
       "</div>"
      ],
      "text/plain": [
       "   a       b    c\n",
       "0  4   apple  bat\n",
       "1  8  orange  cat"
      ]
     },
     "execution_count": 240,
     "metadata": {},
     "output_type": "execute_result"
    }
   ],
   "source": [
    "pd.read_csv(StringIO(data), index_col=False)"
   ]
  },
  {
   "cell_type": "code",
   "execution_count": 241,
   "metadata": {},
   "outputs": [],
   "source": [
    "data=('a,b,c\\n'\n",
    "     '4,apple,bat,\\n'\n",
    "     '8,orange,cat,\\n')"
   ]
  },
  {
   "cell_type": "code",
   "execution_count": 242,
   "metadata": {},
   "outputs": [
    {
     "data": {
      "text/html": [
       "<div>\n",
       "<style scoped>\n",
       "    .dataframe tbody tr th:only-of-type {\n",
       "        vertical-align: middle;\n",
       "    }\n",
       "\n",
       "    .dataframe tbody tr th {\n",
       "        vertical-align: top;\n",
       "    }\n",
       "\n",
       "    .dataframe thead th {\n",
       "        text-align: right;\n",
       "    }\n",
       "</style>\n",
       "<table border=\"1\" class=\"dataframe\">\n",
       "  <thead>\n",
       "    <tr style=\"text-align: right;\">\n",
       "      <th></th>\n",
       "      <th>b</th>\n",
       "      <th>c</th>\n",
       "    </tr>\n",
       "  </thead>\n",
       "  <tbody>\n",
       "    <tr>\n",
       "      <th>0</th>\n",
       "      <td>apple</td>\n",
       "      <td>bat</td>\n",
       "    </tr>\n",
       "    <tr>\n",
       "      <th>1</th>\n",
       "      <td>orange</td>\n",
       "      <td>cat</td>\n",
       "    </tr>\n",
       "  </tbody>\n",
       "</table>\n",
       "</div>"
      ],
      "text/plain": [
       "        b    c\n",
       "0   apple  bat\n",
       "1  orange  cat"
      ]
     },
     "execution_count": 242,
     "metadata": {},
     "output_type": "execute_result"
    }
   ],
   "source": [
    "pd.read_csv(StringIO(data), usecols=['b','c'], index_col=False)"
   ]
  },
  {
   "cell_type": "code",
   "execution_count": 243,
   "metadata": {},
   "outputs": [],
   "source": [
    "data='a,b\\n\"hello , \\\\\"Bob\\\\\", nice to see you\",5'"
   ]
  },
  {
   "cell_type": "code",
   "execution_count": 244,
   "metadata": {},
   "outputs": [
    {
     "data": {
      "text/html": [
       "<div>\n",
       "<style scoped>\n",
       "    .dataframe tbody tr th:only-of-type {\n",
       "        vertical-align: middle;\n",
       "    }\n",
       "\n",
       "    .dataframe tbody tr th {\n",
       "        vertical-align: top;\n",
       "    }\n",
       "\n",
       "    .dataframe thead th {\n",
       "        text-align: right;\n",
       "    }\n",
       "</style>\n",
       "<table border=\"1\" class=\"dataframe\">\n",
       "  <thead>\n",
       "    <tr style=\"text-align: right;\">\n",
       "      <th></th>\n",
       "      <th>a</th>\n",
       "      <th>b</th>\n",
       "    </tr>\n",
       "  </thead>\n",
       "  <tbody>\n",
       "    <tr>\n",
       "      <th>0</th>\n",
       "      <td>hello , \"Bob\", nice to see you</td>\n",
       "      <td>5</td>\n",
       "    </tr>\n",
       "  </tbody>\n",
       "</table>\n",
       "</div>"
      ],
      "text/plain": [
       "                                a  b\n",
       "0  hello , \"Bob\", nice to see you  5"
      ]
     },
     "execution_count": 244,
     "metadata": {},
     "output_type": "execute_result"
    }
   ],
   "source": [
    "pd.read_csv(StringIO(data), escapechar=\"\\\\\")"
   ]
  },
  {
   "cell_type": "code",
   "execution_count": 245,
   "metadata": {},
   "outputs": [],
   "source": [
    "# df = pd.read_csv('https://download.bls.gov/pub/time.series/cu/cu.item', \n",
    "#                  sep='\\t')\n",
    "# df.head()"
   ]
  },
  {
   "cell_type": "markdown",
   "metadata": {},
   "source": [
    "# Read JSON to CSV"
   ]
  },
  {
   "cell_type": "code",
   "execution_count": 246,
   "metadata": {},
   "outputs": [],
   "source": [
    "Data = '{\"employee_name\": \"James\", \"email\": \"james@gmail.com\", \"job_profile\": [{\"title1\": \"Team Lead\", \"title2\": \"Sr. Developer\"}]}'"
   ]
  },
  {
   "cell_type": "code",
   "execution_count": 247,
   "metadata": {},
   "outputs": [],
   "source": [
    "df1 = pd.read_json(Data) # header=None"
   ]
  },
  {
   "cell_type": "code",
   "execution_count": 248,
   "metadata": {},
   "outputs": [
    {
     "data": {
      "text/html": [
       "<div>\n",
       "<style scoped>\n",
       "    .dataframe tbody tr th:only-of-type {\n",
       "        vertical-align: middle;\n",
       "    }\n",
       "\n",
       "    .dataframe tbody tr th {\n",
       "        vertical-align: top;\n",
       "    }\n",
       "\n",
       "    .dataframe thead th {\n",
       "        text-align: right;\n",
       "    }\n",
       "</style>\n",
       "<table border=\"1\" class=\"dataframe\">\n",
       "  <thead>\n",
       "    <tr style=\"text-align: right;\">\n",
       "      <th></th>\n",
       "      <th>email</th>\n",
       "      <th>employee_name</th>\n",
       "      <th>job_profile</th>\n",
       "    </tr>\n",
       "  </thead>\n",
       "  <tbody>\n",
       "    <tr>\n",
       "      <th>0</th>\n",
       "      <td>james@gmail.com</td>\n",
       "      <td>James</td>\n",
       "      <td>{'title1': 'Team Lead', 'title2': 'Sr. Develop...</td>\n",
       "    </tr>\n",
       "  </tbody>\n",
       "</table>\n",
       "</div>"
      ],
      "text/plain": [
       "             email employee_name  \\\n",
       "0  james@gmail.com         James   \n",
       "\n",
       "                                         job_profile  \n",
       "0  {'title1': 'Team Lead', 'title2': 'Sr. Develop...  "
      ]
     },
     "execution_count": 248,
     "metadata": {},
     "output_type": "execute_result"
    }
   ],
   "source": [
    "df1"
   ]
  },
  {
   "cell_type": "code",
   "execution_count": 249,
   "metadata": {},
   "outputs": [
    {
     "data": {
      "text/html": [
       "<div>\n",
       "<style scoped>\n",
       "    .dataframe tbody tr th:only-of-type {\n",
       "        vertical-align: middle;\n",
       "    }\n",
       "\n",
       "    .dataframe tbody tr th {\n",
       "        vertical-align: top;\n",
       "    }\n",
       "\n",
       "    .dataframe thead th {\n",
       "        text-align: right;\n",
       "    }\n",
       "</style>\n",
       "<table border=\"1\" class=\"dataframe\">\n",
       "  <thead>\n",
       "    <tr style=\"text-align: right;\">\n",
       "      <th></th>\n",
       "      <th>0</th>\n",
       "      <th>1</th>\n",
       "      <th>2</th>\n",
       "      <th>3</th>\n",
       "      <th>4</th>\n",
       "      <th>5</th>\n",
       "      <th>6</th>\n",
       "      <th>7</th>\n",
       "      <th>8</th>\n",
       "      <th>9</th>\n",
       "      <th>10</th>\n",
       "      <th>11</th>\n",
       "      <th>12</th>\n",
       "      <th>13</th>\n",
       "      <th>14</th>\n",
       "    </tr>\n",
       "  </thead>\n",
       "  <tbody>\n",
       "    <tr>\n",
       "      <th>0</th>\n",
       "      <td>NaN</td>\n",
       "      <td>0</td>\n",
       "      <td>1.00</td>\n",
       "      <td>2.00</td>\n",
       "      <td>3.00</td>\n",
       "      <td>4.0</td>\n",
       "      <td>5</td>\n",
       "      <td>6.00</td>\n",
       "      <td>7.00</td>\n",
       "      <td>8.00</td>\n",
       "      <td>9.00</td>\n",
       "      <td>10.00</td>\n",
       "      <td>11.00</td>\n",
       "      <td>12.00</td>\n",
       "      <td>13</td>\n",
       "    </tr>\n",
       "    <tr>\n",
       "      <th>1</th>\n",
       "      <td>0.0</td>\n",
       "      <td>1</td>\n",
       "      <td>14.23</td>\n",
       "      <td>1.71</td>\n",
       "      <td>2.43</td>\n",
       "      <td>15.6</td>\n",
       "      <td>127</td>\n",
       "      <td>2.80</td>\n",
       "      <td>3.06</td>\n",
       "      <td>0.28</td>\n",
       "      <td>2.29</td>\n",
       "      <td>5.64</td>\n",
       "      <td>1.04</td>\n",
       "      <td>3.92</td>\n",
       "      <td>1065</td>\n",
       "    </tr>\n",
       "    <tr>\n",
       "      <th>2</th>\n",
       "      <td>1.0</td>\n",
       "      <td>1</td>\n",
       "      <td>13.20</td>\n",
       "      <td>1.78</td>\n",
       "      <td>2.14</td>\n",
       "      <td>11.2</td>\n",
       "      <td>100</td>\n",
       "      <td>2.65</td>\n",
       "      <td>2.76</td>\n",
       "      <td>0.26</td>\n",
       "      <td>1.28</td>\n",
       "      <td>4.38</td>\n",
       "      <td>1.05</td>\n",
       "      <td>3.40</td>\n",
       "      <td>1050</td>\n",
       "    </tr>\n",
       "    <tr>\n",
       "      <th>3</th>\n",
       "      <td>2.0</td>\n",
       "      <td>1</td>\n",
       "      <td>13.16</td>\n",
       "      <td>2.36</td>\n",
       "      <td>2.67</td>\n",
       "      <td>18.6</td>\n",
       "      <td>101</td>\n",
       "      <td>2.80</td>\n",
       "      <td>3.24</td>\n",
       "      <td>0.30</td>\n",
       "      <td>2.81</td>\n",
       "      <td>5.68</td>\n",
       "      <td>1.03</td>\n",
       "      <td>3.17</td>\n",
       "      <td>1185</td>\n",
       "    </tr>\n",
       "    <tr>\n",
       "      <th>4</th>\n",
       "      <td>3.0</td>\n",
       "      <td>1</td>\n",
       "      <td>14.37</td>\n",
       "      <td>1.95</td>\n",
       "      <td>2.50</td>\n",
       "      <td>16.8</td>\n",
       "      <td>113</td>\n",
       "      <td>3.85</td>\n",
       "      <td>3.49</td>\n",
       "      <td>0.24</td>\n",
       "      <td>2.18</td>\n",
       "      <td>7.80</td>\n",
       "      <td>0.86</td>\n",
       "      <td>3.45</td>\n",
       "      <td>1480</td>\n",
       "    </tr>\n",
       "  </tbody>\n",
       "</table>\n",
       "</div>"
      ],
      "text/plain": [
       "    0   1      2     3     4     5    6     7     8     9     10     11  \\\n",
       "0  NaN   0   1.00  2.00  3.00   4.0    5  6.00  7.00  8.00  9.00  10.00   \n",
       "1  0.0   1  14.23  1.71  2.43  15.6  127  2.80  3.06  0.28  2.29   5.64   \n",
       "2  1.0   1  13.20  1.78  2.14  11.2  100  2.65  2.76  0.26  1.28   4.38   \n",
       "3  2.0   1  13.16  2.36  2.67  18.6  101  2.80  3.24  0.30  2.81   5.68   \n",
       "4  3.0   1  14.37  1.95  2.50  16.8  113  3.85  3.49  0.24  2.18   7.80   \n",
       "\n",
       "      12     13    14  \n",
       "0  11.00  12.00    13  \n",
       "1   1.04   3.92  1065  \n",
       "2   1.05   3.40  1050  \n",
       "3   1.03   3.17  1185  \n",
       "4   0.86   3.45  1480  "
      ]
     },
     "execution_count": 249,
     "metadata": {},
     "output_type": "execute_result"
    }
   ],
   "source": [
    "df = pd.read_csv('wine.csv', header=None)\n",
    "df.head()"
   ]
  },
  {
   "cell_type": "code",
   "execution_count": 250,
   "metadata": {},
   "outputs": [
    {
     "data": {
      "text/plain": [
       "'{\"email\":{\"0\":\"james@gmail.com\"},\"employee_name\":{\"0\":\"James\"},\"job_profile\":{\"0\":{\"title1\":\"Team Lead\",\"title2\":\"Sr. Developer\"}}}'"
      ]
     },
     "execution_count": 250,
     "metadata": {},
     "output_type": "execute_result"
    }
   ],
   "source": [
    "df1.to_json()"
   ]
  },
  {
   "cell_type": "code",
   "execution_count": 251,
   "metadata": {},
   "outputs": [
    {
     "data": {
      "text/plain": [
       "'[{\"email\":\"james@gmail.com\",\"employee_name\":\"James\",\"job_profile\":{\"title1\":\"Team Lead\",\"title2\":\"Sr. Developer\"}}]'"
      ]
     },
     "execution_count": 251,
     "metadata": {},
     "output_type": "execute_result"
    }
   ],
   "source": [
    "df1.to_json(orient=\"records\")"
   ]
  },
  {
   "cell_type": "code",
   "execution_count": 252,
   "metadata": {},
   "outputs": [
    {
     "data": {
      "text/plain": [
       "'[{\"0\":null,\"1\":0,\"2\":1.0,\"3\":2.0,\"4\":3.0,\"5\":4.0,\"6\":5,\"7\":6.0,\"8\":7.0,\"9\":8.0,\"10\":9.0,\"11\":10.0,\"12\":11.0,\"13\":12.0,\"14\":13},{\"0\":0.0,\"1\":1,\"2\":14.23,\"3\":1.71,\"4\":2.43,\"5\":15.6,\"6\":127,\"7\":2.8,\"8\":3.06,\"9\":0.28,\"10\":2.29,\"11\":5.64,\"12\":1.04,\"13\":3.92,\"14\":1065},{\"0\":1.0,\"1\":1,\"2\":13.2,\"3\":1.78,\"4\":2.14,\"5\":11.2,\"6\":100,\"7\":2.65,\"8\":2.76,\"9\":0.26,\"10\":1.28,\"11\":4.38,\"12\":1.05,\"13\":3.4,\"14\":1050},{\"0\":2.0,\"1\":1,\"2\":13.16,\"3\":2.36,\"4\":2.67,\"5\":18.6,\"6\":101,\"7\":2.8,\"8\":3.24,\"9\":0.3,\"10\":2.81,\"11\":5.68,\"12\":1.03,\"13\":3.17,\"14\":1185},{\"0\":3.0,\"1\":1,\"2\":14.37,\"3\":1.95,\"4\":2.5,\"5\":16.8,\"6\":113,\"7\":3.85,\"8\":3.49,\"9\":0.24,\"10\":2.18,\"11\":7.8,\"12\":0.86,\"13\":3.45,\"14\":1480},{\"0\":4.0,\"1\":1,\"2\":13.24,\"3\":2.59,\"4\":2.87,\"5\":21.0,\"6\":118,\"7\":2.8,\"8\":2.69,\"9\":0.39,\"10\":1.82,\"11\":4.32,\"12\":1.04,\"13\":2.93,\"14\":735},{\"0\":5.0,\"1\":1,\"2\":14.2,\"3\":1.76,\"4\":2.45,\"5\":15.2,\"6\":112,\"7\":3.27,\"8\":3.39,\"9\":0.34,\"10\":1.97,\"11\":6.75,\"12\":1.05,\"13\":2.85,\"14\":1450},{\"0\":6.0,\"1\":1,\"2\":14.39,\"3\":1.87,\"4\":2.45,\"5\":14.6,\"6\":96,\"7\":2.5,\"8\":2.52,\"9\":0.3,\"10\":1.98,\"11\":5.25,\"12\":1.02,\"13\":3.58,\"14\":1290},{\"0\":7.0,\"1\":1,\"2\":14.06,\"3\":2.15,\"4\":2.61,\"5\":17.6,\"6\":121,\"7\":2.6,\"8\":2.51,\"9\":0.31,\"10\":1.25,\"11\":5.05,\"12\":1.06,\"13\":3.58,\"14\":1295},{\"0\":8.0,\"1\":1,\"2\":14.83,\"3\":1.64,\"4\":2.17,\"5\":14.0,\"6\":97,\"7\":2.8,\"8\":2.98,\"9\":0.29,\"10\":1.98,\"11\":5.2,\"12\":1.08,\"13\":2.85,\"14\":1045},{\"0\":9.0,\"1\":1,\"2\":13.86,\"3\":1.35,\"4\":2.27,\"5\":16.0,\"6\":98,\"7\":2.98,\"8\":3.15,\"9\":0.22,\"10\":1.85,\"11\":7.22,\"12\":1.01,\"13\":3.55,\"14\":1045},{\"0\":10.0,\"1\":1,\"2\":14.1,\"3\":2.16,\"4\":2.3,\"5\":18.0,\"6\":105,\"7\":2.95,\"8\":3.32,\"9\":0.22,\"10\":2.38,\"11\":5.75,\"12\":1.25,\"13\":3.17,\"14\":1510},{\"0\":11.0,\"1\":1,\"2\":14.12,\"3\":1.48,\"4\":2.32,\"5\":16.8,\"6\":95,\"7\":2.2,\"8\":2.43,\"9\":0.26,\"10\":1.57,\"11\":5.0,\"12\":1.17,\"13\":2.82,\"14\":1280},{\"0\":12.0,\"1\":1,\"2\":13.75,\"3\":1.73,\"4\":2.41,\"5\":16.0,\"6\":89,\"7\":2.6,\"8\":2.76,\"9\":0.29,\"10\":1.81,\"11\":5.6,\"12\":1.15,\"13\":2.9,\"14\":1320},{\"0\":13.0,\"1\":1,\"2\":14.75,\"3\":1.73,\"4\":2.39,\"5\":11.4,\"6\":91,\"7\":3.1,\"8\":3.69,\"9\":0.43,\"10\":2.81,\"11\":5.4,\"12\":1.25,\"13\":2.73,\"14\":1150},{\"0\":14.0,\"1\":1,\"2\":14.38,\"3\":1.87,\"4\":2.38,\"5\":12.0,\"6\":102,\"7\":3.3,\"8\":3.64,\"9\":0.29,\"10\":2.96,\"11\":7.5,\"12\":1.2,\"13\":3.0,\"14\":1547},{\"0\":15.0,\"1\":1,\"2\":13.63,\"3\":1.81,\"4\":2.7,\"5\":17.2,\"6\":112,\"7\":2.85,\"8\":2.91,\"9\":0.3,\"10\":1.46,\"11\":7.3,\"12\":1.28,\"13\":2.88,\"14\":1310},{\"0\":16.0,\"1\":1,\"2\":14.3,\"3\":1.92,\"4\":2.72,\"5\":20.0,\"6\":120,\"7\":2.8,\"8\":3.14,\"9\":0.33,\"10\":1.97,\"11\":6.2,\"12\":1.07,\"13\":2.65,\"14\":1280},{\"0\":17.0,\"1\":1,\"2\":13.83,\"3\":1.57,\"4\":2.62,\"5\":20.0,\"6\":115,\"7\":2.95,\"8\":3.4,\"9\":0.4,\"10\":1.72,\"11\":6.6,\"12\":1.13,\"13\":2.57,\"14\":1130},{\"0\":18.0,\"1\":1,\"2\":14.19,\"3\":1.59,\"4\":2.48,\"5\":16.5,\"6\":108,\"7\":3.3,\"8\":3.93,\"9\":0.32,\"10\":1.86,\"11\":8.7,\"12\":1.23,\"13\":2.82,\"14\":1680},{\"0\":19.0,\"1\":1,\"2\":13.64,\"3\":3.1,\"4\":2.56,\"5\":15.2,\"6\":116,\"7\":2.7,\"8\":3.03,\"9\":0.17,\"10\":1.66,\"11\":5.1,\"12\":0.96,\"13\":3.36,\"14\":845},{\"0\":20.0,\"1\":1,\"2\":14.06,\"3\":1.63,\"4\":2.28,\"5\":16.0,\"6\":126,\"7\":3.0,\"8\":3.17,\"9\":0.24,\"10\":2.1,\"11\":5.65,\"12\":1.09,\"13\":3.71,\"14\":780},{\"0\":21.0,\"1\":1,\"2\":12.93,\"3\":3.8,\"4\":2.65,\"5\":18.6,\"6\":102,\"7\":2.41,\"8\":2.41,\"9\":0.25,\"10\":1.98,\"11\":4.5,\"12\":1.03,\"13\":3.52,\"14\":770},{\"0\":22.0,\"1\":1,\"2\":13.71,\"3\":1.86,\"4\":2.36,\"5\":16.6,\"6\":101,\"7\":2.61,\"8\":2.88,\"9\":0.27,\"10\":1.69,\"11\":3.8,\"12\":1.11,\"13\":4.0,\"14\":1035},{\"0\":23.0,\"1\":1,\"2\":12.85,\"3\":1.6,\"4\":2.52,\"5\":17.8,\"6\":95,\"7\":2.48,\"8\":2.37,\"9\":0.26,\"10\":1.46,\"11\":3.93,\"12\":1.09,\"13\":3.63,\"14\":1015},{\"0\":24.0,\"1\":1,\"2\":13.5,\"3\":1.81,\"4\":2.61,\"5\":20.0,\"6\":96,\"7\":2.53,\"8\":2.61,\"9\":0.28,\"10\":1.66,\"11\":3.52,\"12\":1.12,\"13\":3.82,\"14\":845},{\"0\":25.0,\"1\":1,\"2\":13.05,\"3\":2.05,\"4\":3.22,\"5\":25.0,\"6\":124,\"7\":2.63,\"8\":2.68,\"9\":0.47,\"10\":1.92,\"11\":3.58,\"12\":1.13,\"13\":3.2,\"14\":830},{\"0\":26.0,\"1\":1,\"2\":13.39,\"3\":1.77,\"4\":2.62,\"5\":16.1,\"6\":93,\"7\":2.85,\"8\":2.94,\"9\":0.34,\"10\":1.45,\"11\":4.8,\"12\":0.92,\"13\":3.22,\"14\":1195},{\"0\":27.0,\"1\":1,\"2\":13.3,\"3\":1.72,\"4\":2.14,\"5\":17.0,\"6\":94,\"7\":2.4,\"8\":2.19,\"9\":0.27,\"10\":1.35,\"11\":3.95,\"12\":1.02,\"13\":2.77,\"14\":1285},{\"0\":28.0,\"1\":1,\"2\":13.87,\"3\":1.9,\"4\":2.8,\"5\":19.4,\"6\":107,\"7\":2.95,\"8\":2.97,\"9\":0.37,\"10\":1.76,\"11\":4.5,\"12\":1.25,\"13\":3.4,\"14\":915},{\"0\":29.0,\"1\":1,\"2\":14.02,\"3\":1.68,\"4\":2.21,\"5\":16.0,\"6\":96,\"7\":2.65,\"8\":2.33,\"9\":0.26,\"10\":1.98,\"11\":4.7,\"12\":1.04,\"13\":3.59,\"14\":1035},{\"0\":30.0,\"1\":1,\"2\":13.73,\"3\":1.5,\"4\":2.7,\"5\":22.5,\"6\":101,\"7\":3.0,\"8\":3.25,\"9\":0.29,\"10\":2.38,\"11\":5.7,\"12\":1.19,\"13\":2.71,\"14\":1285},{\"0\":31.0,\"1\":1,\"2\":13.58,\"3\":1.66,\"4\":2.36,\"5\":19.1,\"6\":106,\"7\":2.86,\"8\":3.19,\"9\":0.22,\"10\":1.95,\"11\":6.9,\"12\":1.09,\"13\":2.88,\"14\":1515},{\"0\":32.0,\"1\":1,\"2\":13.68,\"3\":1.83,\"4\":2.36,\"5\":17.2,\"6\":104,\"7\":2.42,\"8\":2.69,\"9\":0.42,\"10\":1.97,\"11\":3.84,\"12\":1.23,\"13\":2.87,\"14\":990},{\"0\":33.0,\"1\":1,\"2\":13.76,\"3\":1.53,\"4\":2.7,\"5\":19.5,\"6\":132,\"7\":2.95,\"8\":2.74,\"9\":0.5,\"10\":1.35,\"11\":5.4,\"12\":1.25,\"13\":3.0,\"14\":1235},{\"0\":34.0,\"1\":1,\"2\":13.51,\"3\":1.8,\"4\":2.65,\"5\":19.0,\"6\":110,\"7\":2.35,\"8\":2.53,\"9\":0.29,\"10\":1.54,\"11\":4.2,\"12\":1.1,\"13\":2.87,\"14\":1095},{\"0\":35.0,\"1\":1,\"2\":13.48,\"3\":1.81,\"4\":2.41,\"5\":20.5,\"6\":100,\"7\":2.7,\"8\":2.98,\"9\":0.26,\"10\":1.86,\"11\":5.1,\"12\":1.04,\"13\":3.47,\"14\":920},{\"0\":36.0,\"1\":1,\"2\":13.28,\"3\":1.64,\"4\":2.84,\"5\":15.5,\"6\":110,\"7\":2.6,\"8\":2.68,\"9\":0.34,\"10\":1.36,\"11\":4.6,\"12\":1.09,\"13\":2.78,\"14\":880},{\"0\":37.0,\"1\":1,\"2\":13.05,\"3\":1.65,\"4\":2.55,\"5\":18.0,\"6\":98,\"7\":2.45,\"8\":2.43,\"9\":0.29,\"10\":1.44,\"11\":4.25,\"12\":1.12,\"13\":2.51,\"14\":1105},{\"0\":38.0,\"1\":1,\"2\":13.07,\"3\":1.5,\"4\":2.1,\"5\":15.5,\"6\":98,\"7\":2.4,\"8\":2.64,\"9\":0.28,\"10\":1.37,\"11\":3.7,\"12\":1.18,\"13\":2.69,\"14\":1020},{\"0\":39.0,\"1\":1,\"2\":14.22,\"3\":3.99,\"4\":2.51,\"5\":13.2,\"6\":128,\"7\":3.0,\"8\":3.04,\"9\":0.2,\"10\":2.08,\"11\":5.1,\"12\":0.89,\"13\":3.53,\"14\":760},{\"0\":40.0,\"1\":1,\"2\":13.56,\"3\":1.71,\"4\":2.31,\"5\":16.2,\"6\":117,\"7\":3.15,\"8\":3.29,\"9\":0.34,\"10\":2.34,\"11\":6.13,\"12\":0.95,\"13\":3.38,\"14\":795},{\"0\":41.0,\"1\":1,\"2\":13.41,\"3\":3.84,\"4\":2.12,\"5\":18.8,\"6\":90,\"7\":2.45,\"8\":2.68,\"9\":0.27,\"10\":1.48,\"11\":4.28,\"12\":0.91,\"13\":3.0,\"14\":1035},{\"0\":42.0,\"1\":1,\"2\":13.88,\"3\":1.89,\"4\":2.59,\"5\":15.0,\"6\":101,\"7\":3.25,\"8\":3.56,\"9\":0.17,\"10\":1.7,\"11\":5.43,\"12\":0.88,\"13\":3.56,\"14\":1095},{\"0\":43.0,\"1\":1,\"2\":13.24,\"3\":3.98,\"4\":2.29,\"5\":17.5,\"6\":103,\"7\":2.64,\"8\":2.63,\"9\":0.32,\"10\":1.66,\"11\":4.36,\"12\":0.82,\"13\":3.0,\"14\":680},{\"0\":44.0,\"1\":1,\"2\":13.05,\"3\":1.77,\"4\":2.1,\"5\":17.0,\"6\":107,\"7\":3.0,\"8\":3.0,\"9\":0.28,\"10\":2.03,\"11\":5.04,\"12\":0.88,\"13\":3.35,\"14\":885},{\"0\":45.0,\"1\":1,\"2\":14.21,\"3\":4.04,\"4\":2.44,\"5\":18.9,\"6\":111,\"7\":2.85,\"8\":2.65,\"9\":0.3,\"10\":1.25,\"11\":5.24,\"12\":0.87,\"13\":3.33,\"14\":1080},{\"0\":46.0,\"1\":1,\"2\":14.38,\"3\":3.59,\"4\":2.28,\"5\":16.0,\"6\":102,\"7\":3.25,\"8\":3.17,\"9\":0.27,\"10\":2.19,\"11\":4.9,\"12\":1.04,\"13\":3.44,\"14\":1065},{\"0\":47.0,\"1\":1,\"2\":13.9,\"3\":1.68,\"4\":2.12,\"5\":16.0,\"6\":101,\"7\":3.1,\"8\":3.39,\"9\":0.21,\"10\":2.14,\"11\":6.1,\"12\":0.91,\"13\":3.33,\"14\":985},{\"0\":48.0,\"1\":1,\"2\":14.1,\"3\":2.02,\"4\":2.4,\"5\":18.8,\"6\":103,\"7\":2.75,\"8\":2.92,\"9\":0.32,\"10\":2.38,\"11\":6.2,\"12\":1.07,\"13\":2.75,\"14\":1060},{\"0\":49.0,\"1\":1,\"2\":13.94,\"3\":1.73,\"4\":2.27,\"5\":17.4,\"6\":108,\"7\":2.88,\"8\":3.54,\"9\":0.32,\"10\":2.08,\"11\":8.9,\"12\":1.12,\"13\":3.1,\"14\":1260},{\"0\":50.0,\"1\":1,\"2\":13.05,\"3\":1.73,\"4\":2.04,\"5\":12.4,\"6\":92,\"7\":2.72,\"8\":3.27,\"9\":0.17,\"10\":2.91,\"11\":7.2,\"12\":1.12,\"13\":2.91,\"14\":1150},{\"0\":51.0,\"1\":1,\"2\":13.83,\"3\":1.65,\"4\":2.6,\"5\":17.2,\"6\":94,\"7\":2.45,\"8\":2.99,\"9\":0.22,\"10\":2.29,\"11\":5.6,\"12\":1.24,\"13\":3.37,\"14\":1265},{\"0\":52.0,\"1\":1,\"2\":13.82,\"3\":1.75,\"4\":2.42,\"5\":14.0,\"6\":111,\"7\":3.88,\"8\":3.74,\"9\":0.32,\"10\":1.87,\"11\":7.05,\"12\":1.01,\"13\":3.26,\"14\":1190},{\"0\":53.0,\"1\":1,\"2\":13.77,\"3\":1.9,\"4\":2.68,\"5\":17.1,\"6\":115,\"7\":3.0,\"8\":2.79,\"9\":0.39,\"10\":1.68,\"11\":6.3,\"12\":1.13,\"13\":2.93,\"14\":1375},{\"0\":54.0,\"1\":1,\"2\":13.74,\"3\":1.67,\"4\":2.25,\"5\":16.4,\"6\":118,\"7\":2.6,\"8\":2.9,\"9\":0.21,\"10\":1.62,\"11\":5.85,\"12\":0.92,\"13\":3.2,\"14\":1060},{\"0\":55.0,\"1\":1,\"2\":13.56,\"3\":1.73,\"4\":2.46,\"5\":20.5,\"6\":116,\"7\":2.96,\"8\":2.78,\"9\":0.2,\"10\":2.45,\"11\":6.25,\"12\":0.98,\"13\":3.03,\"14\":1120},{\"0\":56.0,\"1\":1,\"2\":14.22,\"3\":1.7,\"4\":2.3,\"5\":16.3,\"6\":118,\"7\":3.2,\"8\":3.0,\"9\":0.26,\"10\":2.03,\"11\":6.38,\"12\":0.94,\"13\":3.31,\"14\":970},{\"0\":57.0,\"1\":1,\"2\":13.29,\"3\":1.97,\"4\":2.68,\"5\":16.8,\"6\":102,\"7\":3.0,\"8\":3.23,\"9\":0.31,\"10\":1.66,\"11\":6.0,\"12\":1.07,\"13\":2.84,\"14\":1270},{\"0\":58.0,\"1\":1,\"2\":13.72,\"3\":1.43,\"4\":2.5,\"5\":16.7,\"6\":108,\"7\":3.4,\"8\":3.67,\"9\":0.19,\"10\":2.04,\"11\":6.8,\"12\":0.89,\"13\":2.87,\"14\":1285},{\"0\":59.0,\"1\":2,\"2\":12.37,\"3\":0.94,\"4\":1.36,\"5\":10.6,\"6\":88,\"7\":1.98,\"8\":0.57,\"9\":0.28,\"10\":0.42,\"11\":1.95,\"12\":1.05,\"13\":1.82,\"14\":520},{\"0\":60.0,\"1\":2,\"2\":12.33,\"3\":1.1,\"4\":2.28,\"5\":16.0,\"6\":101,\"7\":2.05,\"8\":1.09,\"9\":0.63,\"10\":0.41,\"11\":3.27,\"12\":1.25,\"13\":1.67,\"14\":680},{\"0\":61.0,\"1\":2,\"2\":12.64,\"3\":1.36,\"4\":2.02,\"5\":16.8,\"6\":100,\"7\":2.02,\"8\":1.41,\"9\":0.53,\"10\":0.62,\"11\":5.75,\"12\":0.98,\"13\":1.59,\"14\":450},{\"0\":62.0,\"1\":2,\"2\":13.67,\"3\":1.25,\"4\":1.92,\"5\":18.0,\"6\":94,\"7\":2.1,\"8\":1.79,\"9\":0.32,\"10\":0.73,\"11\":3.8,\"12\":1.23,\"13\":2.46,\"14\":630},{\"0\":63.0,\"1\":2,\"2\":12.37,\"3\":1.13,\"4\":2.16,\"5\":19.0,\"6\":87,\"7\":3.5,\"8\":3.1,\"9\":0.19,\"10\":1.87,\"11\":4.45,\"12\":1.22,\"13\":2.87,\"14\":420},{\"0\":64.0,\"1\":2,\"2\":12.17,\"3\":1.45,\"4\":2.53,\"5\":19.0,\"6\":104,\"7\":1.89,\"8\":1.75,\"9\":0.45,\"10\":1.03,\"11\":2.95,\"12\":1.45,\"13\":2.23,\"14\":355},{\"0\":65.0,\"1\":2,\"2\":12.37,\"3\":1.21,\"4\":2.56,\"5\":18.1,\"6\":98,\"7\":2.42,\"8\":2.65,\"9\":0.37,\"10\":2.08,\"11\":4.6,\"12\":1.19,\"13\":2.3,\"14\":678},{\"0\":66.0,\"1\":2,\"2\":13.11,\"3\":1.01,\"4\":1.7,\"5\":15.0,\"6\":78,\"7\":2.98,\"8\":3.18,\"9\":0.26,\"10\":2.28,\"11\":5.3,\"12\":1.12,\"13\":3.18,\"14\":502},{\"0\":67.0,\"1\":2,\"2\":12.37,\"3\":1.17,\"4\":1.92,\"5\":19.6,\"6\":78,\"7\":2.11,\"8\":2.0,\"9\":0.27,\"10\":1.04,\"11\":4.68,\"12\":1.12,\"13\":3.48,\"14\":510},{\"0\":68.0,\"1\":2,\"2\":13.34,\"3\":0.94,\"4\":2.36,\"5\":17.0,\"6\":110,\"7\":2.53,\"8\":1.3,\"9\":0.55,\"10\":0.42,\"11\":3.17,\"12\":1.02,\"13\":1.93,\"14\":750},{\"0\":69.0,\"1\":2,\"2\":12.21,\"3\":1.19,\"4\":1.75,\"5\":16.8,\"6\":151,\"7\":1.85,\"8\":1.28,\"9\":0.14,\"10\":2.5,\"11\":2.85,\"12\":1.28,\"13\":3.07,\"14\":718},{\"0\":70.0,\"1\":2,\"2\":12.29,\"3\":1.61,\"4\":2.21,\"5\":20.4,\"6\":103,\"7\":1.1,\"8\":1.02,\"9\":0.37,\"10\":1.46,\"11\":3.05,\"12\":0.906,\"13\":1.82,\"14\":870},{\"0\":71.0,\"1\":2,\"2\":13.86,\"3\":1.51,\"4\":2.67,\"5\":25.0,\"6\":86,\"7\":2.95,\"8\":2.86,\"9\":0.21,\"10\":1.87,\"11\":3.38,\"12\":1.36,\"13\":3.16,\"14\":410},{\"0\":72.0,\"1\":2,\"2\":13.49,\"3\":1.66,\"4\":2.24,\"5\":24.0,\"6\":87,\"7\":1.88,\"8\":1.84,\"9\":0.27,\"10\":1.03,\"11\":3.74,\"12\":0.98,\"13\":2.78,\"14\":472},{\"0\":73.0,\"1\":2,\"2\":12.99,\"3\":1.67,\"4\":2.6,\"5\":30.0,\"6\":139,\"7\":3.3,\"8\":2.89,\"9\":0.21,\"10\":1.96,\"11\":3.35,\"12\":1.31,\"13\":3.5,\"14\":985},{\"0\":74.0,\"1\":2,\"2\":11.96,\"3\":1.09,\"4\":2.3,\"5\":21.0,\"6\":101,\"7\":3.38,\"8\":2.14,\"9\":0.13,\"10\":1.65,\"11\":3.21,\"12\":0.99,\"13\":3.13,\"14\":886},{\"0\":75.0,\"1\":2,\"2\":11.66,\"3\":1.88,\"4\":1.92,\"5\":16.0,\"6\":97,\"7\":1.61,\"8\":1.57,\"9\":0.34,\"10\":1.15,\"11\":3.8,\"12\":1.23,\"13\":2.14,\"14\":428},{\"0\":76.0,\"1\":2,\"2\":13.03,\"3\":0.9,\"4\":1.71,\"5\":16.0,\"6\":86,\"7\":1.95,\"8\":2.03,\"9\":0.24,\"10\":1.46,\"11\":4.6,\"12\":1.19,\"13\":2.48,\"14\":392},{\"0\":77.0,\"1\":2,\"2\":11.84,\"3\":2.89,\"4\":2.23,\"5\":18.0,\"6\":112,\"7\":1.72,\"8\":1.32,\"9\":0.43,\"10\":0.95,\"11\":2.65,\"12\":0.96,\"13\":2.52,\"14\":500},{\"0\":78.0,\"1\":2,\"2\":12.33,\"3\":0.99,\"4\":1.95,\"5\":14.8,\"6\":136,\"7\":1.9,\"8\":1.85,\"9\":0.35,\"10\":2.76,\"11\":3.4,\"12\":1.06,\"13\":2.31,\"14\":750},{\"0\":79.0,\"1\":2,\"2\":12.7,\"3\":3.87,\"4\":2.4,\"5\":23.0,\"6\":101,\"7\":2.83,\"8\":2.55,\"9\":0.43,\"10\":1.95,\"11\":2.57,\"12\":1.19,\"13\":3.13,\"14\":463},{\"0\":80.0,\"1\":2,\"2\":12.0,\"3\":0.92,\"4\":2.0,\"5\":19.0,\"6\":86,\"7\":2.42,\"8\":2.26,\"9\":0.3,\"10\":1.43,\"11\":2.5,\"12\":1.38,\"13\":3.12,\"14\":278},{\"0\":81.0,\"1\":2,\"2\":12.72,\"3\":1.81,\"4\":2.2,\"5\":18.8,\"6\":86,\"7\":2.2,\"8\":2.53,\"9\":0.26,\"10\":1.77,\"11\":3.9,\"12\":1.16,\"13\":3.14,\"14\":714},{\"0\":82.0,\"1\":2,\"2\":12.08,\"3\":1.13,\"4\":2.51,\"5\":24.0,\"6\":78,\"7\":2.0,\"8\":1.58,\"9\":0.4,\"10\":1.4,\"11\":2.2,\"12\":1.31,\"13\":2.72,\"14\":630},{\"0\":83.0,\"1\":2,\"2\":13.05,\"3\":3.86,\"4\":2.32,\"5\":22.5,\"6\":85,\"7\":1.65,\"8\":1.59,\"9\":0.61,\"10\":1.62,\"11\":4.8,\"12\":0.84,\"13\":2.01,\"14\":515},{\"0\":84.0,\"1\":2,\"2\":11.84,\"3\":0.89,\"4\":2.58,\"5\":18.0,\"6\":94,\"7\":2.2,\"8\":2.21,\"9\":0.22,\"10\":2.35,\"11\":3.05,\"12\":0.79,\"13\":3.08,\"14\":520},{\"0\":85.0,\"1\":2,\"2\":12.67,\"3\":0.98,\"4\":2.24,\"5\":18.0,\"6\":99,\"7\":2.2,\"8\":1.94,\"9\":0.3,\"10\":1.46,\"11\":2.62,\"12\":1.23,\"13\":3.16,\"14\":450},{\"0\":86.0,\"1\":2,\"2\":12.16,\"3\":1.61,\"4\":2.31,\"5\":22.8,\"6\":90,\"7\":1.78,\"8\":1.69,\"9\":0.43,\"10\":1.56,\"11\":2.45,\"12\":1.33,\"13\":2.26,\"14\":495},{\"0\":87.0,\"1\":2,\"2\":11.65,\"3\":1.67,\"4\":2.62,\"5\":26.0,\"6\":88,\"7\":1.92,\"8\":1.61,\"9\":0.4,\"10\":1.34,\"11\":2.6,\"12\":1.36,\"13\":3.21,\"14\":562},{\"0\":88.0,\"1\":2,\"2\":11.64,\"3\":2.06,\"4\":2.46,\"5\":21.6,\"6\":84,\"7\":1.95,\"8\":1.69,\"9\":0.48,\"10\":1.35,\"11\":2.8,\"12\":1.0,\"13\":2.75,\"14\":680},{\"0\":89.0,\"1\":2,\"2\":12.08,\"3\":1.33,\"4\":2.3,\"5\":23.6,\"6\":70,\"7\":2.2,\"8\":1.59,\"9\":0.42,\"10\":1.38,\"11\":1.74,\"12\":1.07,\"13\":3.21,\"14\":625},{\"0\":90.0,\"1\":2,\"2\":12.08,\"3\":1.83,\"4\":2.32,\"5\":18.5,\"6\":81,\"7\":1.6,\"8\":1.5,\"9\":0.52,\"10\":1.64,\"11\":2.4,\"12\":1.08,\"13\":2.27,\"14\":480},{\"0\":91.0,\"1\":2,\"2\":12.0,\"3\":1.51,\"4\":2.42,\"5\":22.0,\"6\":86,\"7\":1.45,\"8\":1.25,\"9\":0.5,\"10\":1.63,\"11\":3.6,\"12\":1.05,\"13\":2.65,\"14\":450},{\"0\":92.0,\"1\":2,\"2\":12.69,\"3\":1.53,\"4\":2.26,\"5\":20.7,\"6\":80,\"7\":1.38,\"8\":1.46,\"9\":0.58,\"10\":1.62,\"11\":3.05,\"12\":0.96,\"13\":2.06,\"14\":495},{\"0\":93.0,\"1\":2,\"2\":12.29,\"3\":2.83,\"4\":2.22,\"5\":18.0,\"6\":88,\"7\":2.45,\"8\":2.25,\"9\":0.25,\"10\":1.99,\"11\":2.15,\"12\":1.15,\"13\":3.3,\"14\":290},{\"0\":94.0,\"1\":2,\"2\":11.62,\"3\":1.99,\"4\":2.28,\"5\":18.0,\"6\":98,\"7\":3.02,\"8\":2.26,\"9\":0.17,\"10\":1.35,\"11\":3.25,\"12\":1.16,\"13\":2.96,\"14\":345},{\"0\":95.0,\"1\":2,\"2\":12.47,\"3\":1.52,\"4\":2.2,\"5\":19.0,\"6\":162,\"7\":2.5,\"8\":2.27,\"9\":0.32,\"10\":3.28,\"11\":2.6,\"12\":1.16,\"13\":2.63,\"14\":937},{\"0\":96.0,\"1\":2,\"2\":11.81,\"3\":2.12,\"4\":2.74,\"5\":21.5,\"6\":134,\"7\":1.6,\"8\":0.99,\"9\":0.14,\"10\":1.56,\"11\":2.5,\"12\":0.95,\"13\":2.26,\"14\":625},{\"0\":97.0,\"1\":2,\"2\":12.29,\"3\":1.41,\"4\":1.98,\"5\":16.0,\"6\":85,\"7\":2.55,\"8\":2.5,\"9\":0.29,\"10\":1.77,\"11\":2.9,\"12\":1.23,\"13\":2.74,\"14\":428},{\"0\":98.0,\"1\":2,\"2\":12.37,\"3\":1.07,\"4\":2.1,\"5\":18.5,\"6\":88,\"7\":3.52,\"8\":3.75,\"9\":0.24,\"10\":1.95,\"11\":4.5,\"12\":1.04,\"13\":2.77,\"14\":660},{\"0\":99.0,\"1\":2,\"2\":12.29,\"3\":3.17,\"4\":2.21,\"5\":18.0,\"6\":88,\"7\":2.85,\"8\":2.99,\"9\":0.45,\"10\":2.81,\"11\":2.3,\"12\":1.42,\"13\":2.83,\"14\":406},{\"0\":100.0,\"1\":2,\"2\":12.08,\"3\":2.08,\"4\":1.7,\"5\":17.5,\"6\":97,\"7\":2.23,\"8\":2.17,\"9\":0.26,\"10\":1.4,\"11\":3.3,\"12\":1.27,\"13\":2.96,\"14\":710},{\"0\":101.0,\"1\":2,\"2\":12.6,\"3\":1.34,\"4\":1.9,\"5\":18.5,\"6\":88,\"7\":1.45,\"8\":1.36,\"9\":0.29,\"10\":1.35,\"11\":2.45,\"12\":1.04,\"13\":2.77,\"14\":562},{\"0\":102.0,\"1\":2,\"2\":12.34,\"3\":2.45,\"4\":2.46,\"5\":21.0,\"6\":98,\"7\":2.56,\"8\":2.11,\"9\":0.34,\"10\":1.31,\"11\":2.8,\"12\":0.8,\"13\":3.38,\"14\":438},{\"0\":103.0,\"1\":2,\"2\":11.82,\"3\":1.72,\"4\":1.88,\"5\":19.5,\"6\":86,\"7\":2.5,\"8\":1.64,\"9\":0.37,\"10\":1.42,\"11\":2.06,\"12\":0.94,\"13\":2.44,\"14\":415},{\"0\":104.0,\"1\":2,\"2\":12.51,\"3\":1.73,\"4\":1.98,\"5\":20.5,\"6\":85,\"7\":2.2,\"8\":1.92,\"9\":0.32,\"10\":1.48,\"11\":2.94,\"12\":1.04,\"13\":3.57,\"14\":672},{\"0\":105.0,\"1\":2,\"2\":12.42,\"3\":2.55,\"4\":2.27,\"5\":22.0,\"6\":90,\"7\":1.68,\"8\":1.84,\"9\":0.66,\"10\":1.42,\"11\":2.7,\"12\":0.86,\"13\":3.3,\"14\":315},{\"0\":106.0,\"1\":2,\"2\":12.25,\"3\":1.73,\"4\":2.12,\"5\":19.0,\"6\":80,\"7\":1.65,\"8\":2.03,\"9\":0.37,\"10\":1.63,\"11\":3.4,\"12\":1.0,\"13\":3.17,\"14\":510},{\"0\":107.0,\"1\":2,\"2\":12.72,\"3\":1.75,\"4\":2.28,\"5\":22.5,\"6\":84,\"7\":1.38,\"8\":1.76,\"9\":0.48,\"10\":1.63,\"11\":3.3,\"12\":0.88,\"13\":2.42,\"14\":488},{\"0\":108.0,\"1\":2,\"2\":12.22,\"3\":1.29,\"4\":1.94,\"5\":19.0,\"6\":92,\"7\":2.36,\"8\":2.04,\"9\":0.39,\"10\":2.08,\"11\":2.7,\"12\":0.86,\"13\":3.02,\"14\":312},{\"0\":109.0,\"1\":2,\"2\":11.61,\"3\":1.35,\"4\":2.7,\"5\":20.0,\"6\":94,\"7\":2.74,\"8\":2.92,\"9\":0.29,\"10\":2.49,\"11\":2.65,\"12\":0.96,\"13\":3.26,\"14\":680},{\"0\":110.0,\"1\":2,\"2\":11.46,\"3\":3.74,\"4\":1.82,\"5\":19.5,\"6\":107,\"7\":3.18,\"8\":2.58,\"9\":0.24,\"10\":3.58,\"11\":2.9,\"12\":0.75,\"13\":2.81,\"14\":562},{\"0\":111.0,\"1\":2,\"2\":12.52,\"3\":2.43,\"4\":2.17,\"5\":21.0,\"6\":88,\"7\":2.55,\"8\":2.27,\"9\":0.26,\"10\":1.22,\"11\":2.0,\"12\":0.9,\"13\":2.78,\"14\":325},{\"0\":112.0,\"1\":2,\"2\":11.76,\"3\":2.68,\"4\":2.92,\"5\":20.0,\"6\":103,\"7\":1.75,\"8\":2.03,\"9\":0.6,\"10\":1.05,\"11\":3.8,\"12\":1.23,\"13\":2.5,\"14\":607},{\"0\":113.0,\"1\":2,\"2\":11.41,\"3\":0.74,\"4\":2.5,\"5\":21.0,\"6\":88,\"7\":2.48,\"8\":2.01,\"9\":0.42,\"10\":1.44,\"11\":3.08,\"12\":1.1,\"13\":2.31,\"14\":434},{\"0\":114.0,\"1\":2,\"2\":12.08,\"3\":1.39,\"4\":2.5,\"5\":22.5,\"6\":84,\"7\":2.56,\"8\":2.29,\"9\":0.43,\"10\":1.04,\"11\":2.9,\"12\":0.93,\"13\":3.19,\"14\":385},{\"0\":115.0,\"1\":2,\"2\":11.03,\"3\":1.51,\"4\":2.2,\"5\":21.5,\"6\":85,\"7\":2.46,\"8\":2.17,\"9\":0.52,\"10\":2.01,\"11\":1.9,\"12\":1.71,\"13\":2.87,\"14\":407},{\"0\":116.0,\"1\":2,\"2\":11.82,\"3\":1.47,\"4\":1.99,\"5\":20.8,\"6\":86,\"7\":1.98,\"8\":1.6,\"9\":0.3,\"10\":1.53,\"11\":1.95,\"12\":0.95,\"13\":3.33,\"14\":495},{\"0\":117.0,\"1\":2,\"2\":12.42,\"3\":1.61,\"4\":2.19,\"5\":22.5,\"6\":108,\"7\":2.0,\"8\":2.09,\"9\":0.34,\"10\":1.61,\"11\":2.06,\"12\":1.06,\"13\":2.96,\"14\":345},{\"0\":118.0,\"1\":2,\"2\":12.77,\"3\":3.43,\"4\":1.98,\"5\":16.0,\"6\":80,\"7\":1.63,\"8\":1.25,\"9\":0.43,\"10\":0.83,\"11\":3.4,\"12\":0.7,\"13\":2.12,\"14\":372},{\"0\":119.0,\"1\":2,\"2\":12.0,\"3\":3.43,\"4\":2.0,\"5\":19.0,\"6\":87,\"7\":2.0,\"8\":1.64,\"9\":0.37,\"10\":1.87,\"11\":1.28,\"12\":0.93,\"13\":3.05,\"14\":564},{\"0\":120.0,\"1\":2,\"2\":11.45,\"3\":2.4,\"4\":2.42,\"5\":20.0,\"6\":96,\"7\":2.9,\"8\":2.79,\"9\":0.32,\"10\":1.83,\"11\":3.25,\"12\":0.8,\"13\":3.39,\"14\":625},{\"0\":121.0,\"1\":2,\"2\":11.56,\"3\":2.05,\"4\":3.23,\"5\":28.5,\"6\":119,\"7\":3.18,\"8\":5.08,\"9\":0.47,\"10\":1.87,\"11\":6.0,\"12\":0.93,\"13\":3.69,\"14\":465},{\"0\":122.0,\"1\":2,\"2\":12.42,\"3\":4.43,\"4\":2.73,\"5\":26.5,\"6\":102,\"7\":2.2,\"8\":2.13,\"9\":0.43,\"10\":1.71,\"11\":2.08,\"12\":0.92,\"13\":3.12,\"14\":365},{\"0\":123.0,\"1\":2,\"2\":13.05,\"3\":5.8,\"4\":2.13,\"5\":21.5,\"6\":86,\"7\":2.62,\"8\":2.65,\"9\":0.3,\"10\":2.01,\"11\":2.6,\"12\":0.73,\"13\":3.1,\"14\":380},{\"0\":124.0,\"1\":2,\"2\":11.87,\"3\":4.31,\"4\":2.39,\"5\":21.0,\"6\":82,\"7\":2.86,\"8\":3.03,\"9\":0.21,\"10\":2.91,\"11\":2.8,\"12\":0.75,\"13\":3.64,\"14\":380},{\"0\":125.0,\"1\":2,\"2\":12.07,\"3\":2.16,\"4\":2.17,\"5\":21.0,\"6\":85,\"7\":2.6,\"8\":2.65,\"9\":0.37,\"10\":1.35,\"11\":2.76,\"12\":0.86,\"13\":3.28,\"14\":378},{\"0\":126.0,\"1\":2,\"2\":12.43,\"3\":1.53,\"4\":2.29,\"5\":21.5,\"6\":86,\"7\":2.74,\"8\":3.15,\"9\":0.39,\"10\":1.77,\"11\":3.94,\"12\":0.69,\"13\":2.84,\"14\":352},{\"0\":127.0,\"1\":2,\"2\":11.79,\"3\":2.13,\"4\":2.78,\"5\":28.5,\"6\":92,\"7\":2.13,\"8\":2.24,\"9\":0.58,\"10\":1.76,\"11\":3.0,\"12\":0.97,\"13\":2.44,\"14\":466},{\"0\":128.0,\"1\":2,\"2\":12.37,\"3\":1.63,\"4\":2.3,\"5\":24.5,\"6\":88,\"7\":2.22,\"8\":2.45,\"9\":0.4,\"10\":1.9,\"11\":2.12,\"12\":0.89,\"13\":2.78,\"14\":342},{\"0\":129.0,\"1\":2,\"2\":12.04,\"3\":4.3,\"4\":2.38,\"5\":22.0,\"6\":80,\"7\":2.1,\"8\":1.75,\"9\":0.42,\"10\":1.35,\"11\":2.6,\"12\":0.79,\"13\":2.57,\"14\":580},{\"0\":130.0,\"1\":3,\"2\":12.86,\"3\":1.35,\"4\":2.32,\"5\":18.0,\"6\":122,\"7\":1.51,\"8\":1.25,\"9\":0.21,\"10\":0.94,\"11\":4.1,\"12\":0.76,\"13\":1.29,\"14\":630},{\"0\":131.0,\"1\":3,\"2\":12.88,\"3\":2.99,\"4\":2.4,\"5\":20.0,\"6\":104,\"7\":1.3,\"8\":1.22,\"9\":0.24,\"10\":0.83,\"11\":5.4,\"12\":0.74,\"13\":1.42,\"14\":530},{\"0\":132.0,\"1\":3,\"2\":12.81,\"3\":2.31,\"4\":2.4,\"5\":24.0,\"6\":98,\"7\":1.15,\"8\":1.09,\"9\":0.27,\"10\":0.83,\"11\":5.7,\"12\":0.66,\"13\":1.36,\"14\":560},{\"0\":133.0,\"1\":3,\"2\":12.7,\"3\":3.55,\"4\":2.36,\"5\":21.5,\"6\":106,\"7\":1.7,\"8\":1.2,\"9\":0.17,\"10\":0.84,\"11\":5.0,\"12\":0.78,\"13\":1.29,\"14\":600},{\"0\":134.0,\"1\":3,\"2\":12.51,\"3\":1.24,\"4\":2.25,\"5\":17.5,\"6\":85,\"7\":2.0,\"8\":0.58,\"9\":0.6,\"10\":1.25,\"11\":5.45,\"12\":0.75,\"13\":1.51,\"14\":650},{\"0\":135.0,\"1\":3,\"2\":12.6,\"3\":2.46,\"4\":2.2,\"5\":18.5,\"6\":94,\"7\":1.62,\"8\":0.66,\"9\":0.63,\"10\":0.94,\"11\":7.1,\"12\":0.73,\"13\":1.58,\"14\":695},{\"0\":136.0,\"1\":3,\"2\":12.25,\"3\":4.72,\"4\":2.54,\"5\":21.0,\"6\":89,\"7\":1.38,\"8\":0.47,\"9\":0.53,\"10\":0.8,\"11\":3.85,\"12\":0.75,\"13\":1.27,\"14\":720},{\"0\":137.0,\"1\":3,\"2\":12.53,\"3\":5.51,\"4\":2.64,\"5\":25.0,\"6\":96,\"7\":1.79,\"8\":0.6,\"9\":0.63,\"10\":1.1,\"11\":5.0,\"12\":0.82,\"13\":1.69,\"14\":515},{\"0\":138.0,\"1\":3,\"2\":13.49,\"3\":3.59,\"4\":2.19,\"5\":19.5,\"6\":88,\"7\":1.62,\"8\":0.48,\"9\":0.58,\"10\":0.88,\"11\":5.7,\"12\":0.81,\"13\":1.82,\"14\":580},{\"0\":139.0,\"1\":3,\"2\":12.84,\"3\":2.96,\"4\":2.61,\"5\":24.0,\"6\":101,\"7\":2.32,\"8\":0.6,\"9\":0.53,\"10\":0.81,\"11\":4.92,\"12\":0.89,\"13\":2.15,\"14\":590},{\"0\":140.0,\"1\":3,\"2\":12.93,\"3\":2.81,\"4\":2.7,\"5\":21.0,\"6\":96,\"7\":1.54,\"8\":0.5,\"9\":0.53,\"10\":0.75,\"11\":4.6,\"12\":0.77,\"13\":2.31,\"14\":600},{\"0\":141.0,\"1\":3,\"2\":13.36,\"3\":2.56,\"4\":2.35,\"5\":20.0,\"6\":89,\"7\":1.4,\"8\":0.5,\"9\":0.37,\"10\":0.64,\"11\":5.6,\"12\":0.7,\"13\":2.47,\"14\":780},{\"0\":142.0,\"1\":3,\"2\":13.52,\"3\":3.17,\"4\":2.72,\"5\":23.5,\"6\":97,\"7\":1.55,\"8\":0.52,\"9\":0.5,\"10\":0.55,\"11\":4.35,\"12\":0.89,\"13\":2.06,\"14\":520},{\"0\":143.0,\"1\":3,\"2\":13.62,\"3\":4.95,\"4\":2.35,\"5\":20.0,\"6\":92,\"7\":2.0,\"8\":0.8,\"9\":0.47,\"10\":1.02,\"11\":4.4,\"12\":0.91,\"13\":2.05,\"14\":550},{\"0\":144.0,\"1\":3,\"2\":12.25,\"3\":3.88,\"4\":2.2,\"5\":18.5,\"6\":112,\"7\":1.38,\"8\":0.78,\"9\":0.29,\"10\":1.14,\"11\":8.21,\"12\":0.65,\"13\":2.0,\"14\":855},{\"0\":145.0,\"1\":3,\"2\":13.16,\"3\":3.57,\"4\":2.15,\"5\":21.0,\"6\":102,\"7\":1.5,\"8\":0.55,\"9\":0.43,\"10\":1.3,\"11\":4.0,\"12\":0.6,\"13\":1.68,\"14\":830},{\"0\":146.0,\"1\":3,\"2\":13.88,\"3\":5.04,\"4\":2.23,\"5\":20.0,\"6\":80,\"7\":0.98,\"8\":0.34,\"9\":0.4,\"10\":0.68,\"11\":4.9,\"12\":0.58,\"13\":1.33,\"14\":415},{\"0\":147.0,\"1\":3,\"2\":12.87,\"3\":4.61,\"4\":2.48,\"5\":21.5,\"6\":86,\"7\":1.7,\"8\":0.65,\"9\":0.47,\"10\":0.86,\"11\":7.65,\"12\":0.54,\"13\":1.86,\"14\":625},{\"0\":148.0,\"1\":3,\"2\":13.32,\"3\":3.24,\"4\":2.38,\"5\":21.5,\"6\":92,\"7\":1.93,\"8\":0.76,\"9\":0.45,\"10\":1.25,\"11\":8.42,\"12\":0.55,\"13\":1.62,\"14\":650},{\"0\":149.0,\"1\":3,\"2\":13.08,\"3\":3.9,\"4\":2.36,\"5\":21.5,\"6\":113,\"7\":1.41,\"8\":1.39,\"9\":0.34,\"10\":1.14,\"11\":9.4,\"12\":0.57,\"13\":1.33,\"14\":550},{\"0\":150.0,\"1\":3,\"2\":13.5,\"3\":3.12,\"4\":2.62,\"5\":24.0,\"6\":123,\"7\":1.4,\"8\":1.57,\"9\":0.22,\"10\":1.25,\"11\":8.6,\"12\":0.59,\"13\":1.3,\"14\":500},{\"0\":151.0,\"1\":3,\"2\":12.79,\"3\":2.67,\"4\":2.48,\"5\":22.0,\"6\":112,\"7\":1.48,\"8\":1.36,\"9\":0.24,\"10\":1.26,\"11\":10.8,\"12\":0.48,\"13\":1.47,\"14\":480},{\"0\":152.0,\"1\":3,\"2\":13.11,\"3\":1.9,\"4\":2.75,\"5\":25.5,\"6\":116,\"7\":2.2,\"8\":1.28,\"9\":0.26,\"10\":1.56,\"11\":7.1,\"12\":0.61,\"13\":1.33,\"14\":425},{\"0\":153.0,\"1\":3,\"2\":13.23,\"3\":3.3,\"4\":2.28,\"5\":18.5,\"6\":98,\"7\":1.8,\"8\":0.83,\"9\":0.61,\"10\":1.87,\"11\":10.52,\"12\":0.56,\"13\":1.51,\"14\":675},{\"0\":154.0,\"1\":3,\"2\":12.58,\"3\":1.29,\"4\":2.1,\"5\":20.0,\"6\":103,\"7\":1.48,\"8\":0.58,\"9\":0.53,\"10\":1.4,\"11\":7.6,\"12\":0.58,\"13\":1.55,\"14\":640},{\"0\":155.0,\"1\":3,\"2\":13.17,\"3\":5.19,\"4\":2.32,\"5\":22.0,\"6\":93,\"7\":1.74,\"8\":0.63,\"9\":0.61,\"10\":1.55,\"11\":7.9,\"12\":0.6,\"13\":1.48,\"14\":725},{\"0\":156.0,\"1\":3,\"2\":13.84,\"3\":4.12,\"4\":2.38,\"5\":19.5,\"6\":89,\"7\":1.8,\"8\":0.83,\"9\":0.48,\"10\":1.56,\"11\":9.01,\"12\":0.57,\"13\":1.64,\"14\":480},{\"0\":157.0,\"1\":3,\"2\":12.45,\"3\":3.03,\"4\":2.64,\"5\":27.0,\"6\":97,\"7\":1.9,\"8\":0.58,\"9\":0.63,\"10\":1.14,\"11\":7.5,\"12\":0.67,\"13\":1.73,\"14\":880},{\"0\":158.0,\"1\":3,\"2\":14.34,\"3\":1.68,\"4\":2.7,\"5\":25.0,\"6\":98,\"7\":2.8,\"8\":1.31,\"9\":0.53,\"10\":2.7,\"11\":13.0,\"12\":0.57,\"13\":1.96,\"14\":660},{\"0\":159.0,\"1\":3,\"2\":13.48,\"3\":1.67,\"4\":2.64,\"5\":22.5,\"6\":89,\"7\":2.6,\"8\":1.1,\"9\":0.52,\"10\":2.29,\"11\":11.75,\"12\":0.57,\"13\":1.78,\"14\":620},{\"0\":160.0,\"1\":3,\"2\":12.36,\"3\":3.83,\"4\":2.38,\"5\":21.0,\"6\":88,\"7\":2.3,\"8\":0.92,\"9\":0.5,\"10\":1.04,\"11\":7.65,\"12\":0.56,\"13\":1.58,\"14\":520},{\"0\":161.0,\"1\":3,\"2\":13.69,\"3\":3.26,\"4\":2.54,\"5\":20.0,\"6\":107,\"7\":1.83,\"8\":0.56,\"9\":0.5,\"10\":0.8,\"11\":5.88,\"12\":0.96,\"13\":1.82,\"14\":680},{\"0\":162.0,\"1\":3,\"2\":12.85,\"3\":3.27,\"4\":2.58,\"5\":22.0,\"6\":106,\"7\":1.65,\"8\":0.6,\"9\":0.6,\"10\":0.96,\"11\":5.58,\"12\":0.87,\"13\":2.11,\"14\":570},{\"0\":163.0,\"1\":3,\"2\":12.96,\"3\":3.45,\"4\":2.35,\"5\":18.5,\"6\":106,\"7\":1.39,\"8\":0.7,\"9\":0.4,\"10\":0.94,\"11\":5.28,\"12\":0.68,\"13\":1.75,\"14\":675},{\"0\":164.0,\"1\":3,\"2\":13.78,\"3\":2.76,\"4\":2.3,\"5\":22.0,\"6\":90,\"7\":1.35,\"8\":0.68,\"9\":0.41,\"10\":1.03,\"11\":9.58,\"12\":0.7,\"13\":1.68,\"14\":615},{\"0\":165.0,\"1\":3,\"2\":13.73,\"3\":4.36,\"4\":2.26,\"5\":22.5,\"6\":88,\"7\":1.28,\"8\":0.47,\"9\":0.52,\"10\":1.15,\"11\":6.62,\"12\":0.78,\"13\":1.75,\"14\":520},{\"0\":166.0,\"1\":3,\"2\":13.45,\"3\":3.7,\"4\":2.6,\"5\":23.0,\"6\":111,\"7\":1.7,\"8\":0.92,\"9\":0.43,\"10\":1.46,\"11\":10.68,\"12\":0.85,\"13\":1.56,\"14\":695},{\"0\":167.0,\"1\":3,\"2\":12.82,\"3\":3.37,\"4\":2.3,\"5\":19.5,\"6\":88,\"7\":1.48,\"8\":0.66,\"9\":0.4,\"10\":0.97,\"11\":10.26,\"12\":0.72,\"13\":1.75,\"14\":685},{\"0\":168.0,\"1\":3,\"2\":13.58,\"3\":2.58,\"4\":2.69,\"5\":24.5,\"6\":105,\"7\":1.55,\"8\":0.84,\"9\":0.39,\"10\":1.54,\"11\":8.66,\"12\":0.74,\"13\":1.8,\"14\":750},{\"0\":169.0,\"1\":3,\"2\":13.4,\"3\":4.6,\"4\":2.86,\"5\":25.0,\"6\":112,\"7\":1.98,\"8\":0.96,\"9\":0.27,\"10\":1.11,\"11\":8.5,\"12\":0.67,\"13\":1.92,\"14\":630},{\"0\":170.0,\"1\":3,\"2\":12.2,\"3\":3.03,\"4\":2.32,\"5\":19.0,\"6\":96,\"7\":1.25,\"8\":0.49,\"9\":0.4,\"10\":0.73,\"11\":5.5,\"12\":0.66,\"13\":1.83,\"14\":510},{\"0\":171.0,\"1\":3,\"2\":12.77,\"3\":2.39,\"4\":2.28,\"5\":19.5,\"6\":86,\"7\":1.39,\"8\":0.51,\"9\":0.48,\"10\":0.64,\"11\":9.899999,\"12\":0.57,\"13\":1.63,\"14\":470},{\"0\":172.0,\"1\":3,\"2\":14.16,\"3\":2.51,\"4\":2.48,\"5\":20.0,\"6\":91,\"7\":1.68,\"8\":0.7,\"9\":0.44,\"10\":1.24,\"11\":9.7,\"12\":0.62,\"13\":1.71,\"14\":660},{\"0\":173.0,\"1\":3,\"2\":13.71,\"3\":5.65,\"4\":2.45,\"5\":20.5,\"6\":95,\"7\":1.68,\"8\":0.61,\"9\":0.52,\"10\":1.06,\"11\":7.7,\"12\":0.64,\"13\":1.74,\"14\":740},{\"0\":174.0,\"1\":3,\"2\":13.4,\"3\":3.91,\"4\":2.48,\"5\":23.0,\"6\":102,\"7\":1.8,\"8\":0.75,\"9\":0.43,\"10\":1.41,\"11\":7.3,\"12\":0.7,\"13\":1.56,\"14\":750},{\"0\":175.0,\"1\":3,\"2\":13.27,\"3\":4.28,\"4\":2.26,\"5\":20.0,\"6\":120,\"7\":1.59,\"8\":0.69,\"9\":0.43,\"10\":1.35,\"11\":10.2,\"12\":0.59,\"13\":1.56,\"14\":835},{\"0\":176.0,\"1\":3,\"2\":13.17,\"3\":2.59,\"4\":2.37,\"5\":20.0,\"6\":120,\"7\":1.65,\"8\":0.68,\"9\":0.53,\"10\":1.46,\"11\":9.3,\"12\":0.6,\"13\":1.62,\"14\":840},{\"0\":177.0,\"1\":3,\"2\":14.13,\"3\":4.1,\"4\":2.74,\"5\":24.5,\"6\":96,\"7\":2.05,\"8\":0.76,\"9\":0.56,\"10\":1.35,\"11\":9.2,\"12\":0.61,\"13\":1.6,\"14\":560}]'"
      ]
     },
     "execution_count": 252,
     "metadata": {},
     "output_type": "execute_result"
    }
   ],
   "source": [
    "df.to_json(orient=\"records\")"
   ]
  },
  {
   "cell_type": "markdown",
   "metadata": {},
   "source": [
    "# Reading HTML Content"
   ]
  },
  {
   "cell_type": "code",
   "execution_count": 253,
   "metadata": {},
   "outputs": [],
   "source": [
    "# url = 'https://www.fdic.gov/bank/individual/failed/banklist.html'\n",
    "\n",
    "# dfs = pd.read_html(url)"
   ]
  },
  {
   "cell_type": "markdown",
   "metadata": {},
   "source": [
    "# Reading Excel Files"
   ]
  },
  {
   "cell_type": "code",
   "execution_count": 255,
   "metadata": {},
   "outputs": [],
   "source": [
    "df_excel = pd.read_excel(\"Excel_Sample.xlsx\")"
   ]
  },
  {
   "cell_type": "code",
   "execution_count": 256,
   "metadata": {},
   "outputs": [
    {
     "data": {
      "text/html": [
       "<div>\n",
       "<style scoped>\n",
       "    .dataframe tbody tr th:only-of-type {\n",
       "        vertical-align: middle;\n",
       "    }\n",
       "\n",
       "    .dataframe tbody tr th {\n",
       "        vertical-align: top;\n",
       "    }\n",
       "\n",
       "    .dataframe thead th {\n",
       "        text-align: right;\n",
       "    }\n",
       "</style>\n",
       "<table border=\"1\" class=\"dataframe\">\n",
       "  <thead>\n",
       "    <tr style=\"text-align: right;\">\n",
       "      <th></th>\n",
       "      <th>a</th>\n",
       "      <th>b</th>\n",
       "      <th>c</th>\n",
       "      <th>d</th>\n",
       "    </tr>\n",
       "  </thead>\n",
       "  <tbody>\n",
       "    <tr>\n",
       "      <th>0</th>\n",
       "      <td>0</td>\n",
       "      <td>1</td>\n",
       "      <td>2</td>\n",
       "      <td>3</td>\n",
       "    </tr>\n",
       "    <tr>\n",
       "      <th>1</th>\n",
       "      <td>4</td>\n",
       "      <td>5</td>\n",
       "      <td>6</td>\n",
       "      <td>7</td>\n",
       "    </tr>\n",
       "    <tr>\n",
       "      <th>2</th>\n",
       "      <td>8</td>\n",
       "      <td>9</td>\n",
       "      <td>10</td>\n",
       "      <td>11</td>\n",
       "    </tr>\n",
       "    <tr>\n",
       "      <th>3</th>\n",
       "      <td>12</td>\n",
       "      <td>13</td>\n",
       "      <td>14</td>\n",
       "      <td>15</td>\n",
       "    </tr>\n",
       "  </tbody>\n",
       "</table>\n",
       "</div>"
      ],
      "text/plain": [
       "    a   b   c   d\n",
       "0   0   1   2   3\n",
       "1   4   5   6   7\n",
       "2   8   9  10  11\n",
       "3  12  13  14  15"
      ]
     },
     "execution_count": 256,
     "metadata": {},
     "output_type": "execute_result"
    }
   ],
   "source": [
    "df_excel.head()"
   ]
  },
  {
   "cell_type": "markdown",
   "metadata": {},
   "source": [
    "# Pickling"
   ]
  },
  {
   "cell_type": "code",
   "execution_count": 257,
   "metadata": {},
   "outputs": [],
   "source": [
    "df_excel.to_pickle('df_excel')"
   ]
  },
  {
   "cell_type": "code",
   "execution_count": 258,
   "metadata": {},
   "outputs": [],
   "source": [
    "df = pd.read_pickle('df_excel')"
   ]
  },
  {
   "cell_type": "code",
   "execution_count": 259,
   "metadata": {},
   "outputs": [
    {
     "data": {
      "text/html": [
       "<div>\n",
       "<style scoped>\n",
       "    .dataframe tbody tr th:only-of-type {\n",
       "        vertical-align: middle;\n",
       "    }\n",
       "\n",
       "    .dataframe tbody tr th {\n",
       "        vertical-align: top;\n",
       "    }\n",
       "\n",
       "    .dataframe thead th {\n",
       "        text-align: right;\n",
       "    }\n",
       "</style>\n",
       "<table border=\"1\" class=\"dataframe\">\n",
       "  <thead>\n",
       "    <tr style=\"text-align: right;\">\n",
       "      <th></th>\n",
       "      <th>a</th>\n",
       "      <th>b</th>\n",
       "      <th>c</th>\n",
       "      <th>d</th>\n",
       "    </tr>\n",
       "  </thead>\n",
       "  <tbody>\n",
       "    <tr>\n",
       "      <th>0</th>\n",
       "      <td>0</td>\n",
       "      <td>1</td>\n",
       "      <td>2</td>\n",
       "      <td>3</td>\n",
       "    </tr>\n",
       "    <tr>\n",
       "      <th>1</th>\n",
       "      <td>4</td>\n",
       "      <td>5</td>\n",
       "      <td>6</td>\n",
       "      <td>7</td>\n",
       "    </tr>\n",
       "    <tr>\n",
       "      <th>2</th>\n",
       "      <td>8</td>\n",
       "      <td>9</td>\n",
       "      <td>10</td>\n",
       "      <td>11</td>\n",
       "    </tr>\n",
       "    <tr>\n",
       "      <th>3</th>\n",
       "      <td>12</td>\n",
       "      <td>13</td>\n",
       "      <td>14</td>\n",
       "      <td>15</td>\n",
       "    </tr>\n",
       "  </tbody>\n",
       "</table>\n",
       "</div>"
      ],
      "text/plain": [
       "    a   b   c   d\n",
       "0   0   1   2   3\n",
       "1   4   5   6   7\n",
       "2   8   9  10  11\n",
       "3  12  13  14  15"
      ]
     },
     "execution_count": 259,
     "metadata": {},
     "output_type": "execute_result"
    }
   ],
   "source": [
    "df.head()"
   ]
  },
  {
   "cell_type": "code",
   "execution_count": null,
   "metadata": {},
   "outputs": [],
   "source": []
  }
 ],
 "metadata": {
  "kernelspec": {
   "display_name": "Python 3.5",
   "language": "python",
   "name": "python3"
  },
  "language_info": {
   "codemirror_mode": {
    "name": "ipython",
    "version": 3
   },
   "file_extension": ".py",
   "mimetype": "text/x-python",
   "name": "python",
   "nbconvert_exporter": "python",
   "pygments_lexer": "ipython3",
   "version": "3.5.5"
  }
 },
 "nbformat": 4,
 "nbformat_minor": 2
}
